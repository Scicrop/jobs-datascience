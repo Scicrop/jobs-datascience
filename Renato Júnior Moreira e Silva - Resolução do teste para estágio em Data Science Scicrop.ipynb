{
 "cells": [
  {
   "cell_type": "markdown",
   "metadata": {},
   "source": [
    "# Previsões para colheitas de 2020 via Regressão Logística One-vs-Rest e SMOTE\n",
    "### Renato Júnior Moreira e Silva\n",
    "\n",
    "Neste pequeno projeto*, utilizei os datasets disponibilizados pela empresa Scicrop para realizar a previsão de saúde/qualidade de colheitas em safras de 2020 utilizando uma classificação em 3 classes:\n",
    "\n",
    "0 - Colheita Saudável\n",
    "\n",
    "1 - Colheita sofreu danos por motivos diversos\n",
    "\n",
    "2 - Colheita sofreu dano por pesticidas\n",
    "\n",
    "A estratégia utilizada foi a de tomar uma regressão logística multiclasse via one-vs-rest e o principal obstáculo foi a de exemplos desbalanceados e utilizei o algoritmo SMOTE para sintetizar novos exemplos de classes minoritarias.\n",
    "\n",
    "\\* Projeto realizado como parte de um processo seletivo da Scicrop"
   ]
  },
  {
   "cell_type": "markdown",
   "metadata": {},
   "source": [
    "## Lendo e limpando as Tabelas das Safras de 2018-2019, 2020\n"
   ]
  },
  {
   "cell_type": "code",
   "execution_count": 355,
   "metadata": {},
   "outputs": [],
   "source": [
    "import pandas as pd\n",
    "import numpy as np\n",
    "from sklearn import preprocessing\n",
    "import matplotlib.pyplot as plt \n",
    "plt.rc(\"font\", size=14)\n",
    "from sklearn.model_selection import train_test_split\n",
    "import seaborn as sns\n",
    "sns.set(style=\"white\")\n",
    "sns.set(style=\"whitegrid\", color_codes=True)\n",
    "\n",
    "#Primeiramente, vamos ler a Safra de Treino e retirar os missing values da tabela\n",
    "safra_treino=pd.read_csv(\"Safra_2018-2019.csv\")\n",
    "safra_treino=safra_treino.dropna()\n",
    "\n",
    "#Agora, vamos ler a Safra para previsão:\n",
    "safra_prev=pd.read_csv(\"Safra_2020.csv\")\n",
    "safra_prev=safra_prev.dropna()"
   ]
  },
  {
   "cell_type": "code",
   "execution_count": 356,
   "metadata": {},
   "outputs": [
    {
     "name": "stdout",
     "output_type": "stream",
     "text": [
      "(71945, 11)\n"
     ]
    },
    {
     "data": {
      "text/html": [
       "<div>\n",
       "<style scoped>\n",
       "    .dataframe tbody tr th:only-of-type {\n",
       "        vertical-align: middle;\n",
       "    }\n",
       "\n",
       "    .dataframe tbody tr th {\n",
       "        vertical-align: top;\n",
       "    }\n",
       "\n",
       "    .dataframe thead th {\n",
       "        text-align: right;\n",
       "    }\n",
       "</style>\n",
       "<table border=\"1\" class=\"dataframe\">\n",
       "  <thead>\n",
       "    <tr style=\"text-align: right;\">\n",
       "      <th></th>\n",
       "      <th>Unnamed: 0</th>\n",
       "      <th>Identificador_Agricultor</th>\n",
       "      <th>Estimativa_de_Insetos</th>\n",
       "      <th>Tipo_de_Cultivo</th>\n",
       "      <th>Tipo_de_Solo</th>\n",
       "      <th>Categoria_Pesticida</th>\n",
       "      <th>Doses_Semana</th>\n",
       "      <th>Semanas_Utilizando</th>\n",
       "      <th>Semanas_Sem_Uso</th>\n",
       "      <th>Temporada</th>\n",
       "      <th>dano_na_plantacao</th>\n",
       "    </tr>\n",
       "  </thead>\n",
       "  <tbody>\n",
       "    <tr>\n",
       "      <th>0</th>\n",
       "      <td>0</td>\n",
       "      <td>SCROP00001</td>\n",
       "      <td>188</td>\n",
       "      <td>1</td>\n",
       "      <td>0</td>\n",
       "      <td>1</td>\n",
       "      <td>0</td>\n",
       "      <td>0.0</td>\n",
       "      <td>0</td>\n",
       "      <td>1</td>\n",
       "      <td>0</td>\n",
       "    </tr>\n",
       "    <tr>\n",
       "      <th>1</th>\n",
       "      <td>1</td>\n",
       "      <td>SCROP00002</td>\n",
       "      <td>209</td>\n",
       "      <td>1</td>\n",
       "      <td>0</td>\n",
       "      <td>1</td>\n",
       "      <td>0</td>\n",
       "      <td>0.0</td>\n",
       "      <td>0</td>\n",
       "      <td>2</td>\n",
       "      <td>1</td>\n",
       "    </tr>\n",
       "    <tr>\n",
       "      <th>2</th>\n",
       "      <td>2</td>\n",
       "      <td>SCROP00003</td>\n",
       "      <td>257</td>\n",
       "      <td>1</td>\n",
       "      <td>0</td>\n",
       "      <td>1</td>\n",
       "      <td>0</td>\n",
       "      <td>0.0</td>\n",
       "      <td>0</td>\n",
       "      <td>2</td>\n",
       "      <td>1</td>\n",
       "    </tr>\n",
       "    <tr>\n",
       "      <th>3</th>\n",
       "      <td>3</td>\n",
       "      <td>SCROP00004</td>\n",
       "      <td>257</td>\n",
       "      <td>1</td>\n",
       "      <td>1</td>\n",
       "      <td>1</td>\n",
       "      <td>0</td>\n",
       "      <td>0.0</td>\n",
       "      <td>0</td>\n",
       "      <td>2</td>\n",
       "      <td>1</td>\n",
       "    </tr>\n",
       "    <tr>\n",
       "      <th>4</th>\n",
       "      <td>4</td>\n",
       "      <td>SCROP00005</td>\n",
       "      <td>342</td>\n",
       "      <td>1</td>\n",
       "      <td>0</td>\n",
       "      <td>1</td>\n",
       "      <td>0</td>\n",
       "      <td>0.0</td>\n",
       "      <td>0</td>\n",
       "      <td>2</td>\n",
       "      <td>1</td>\n",
       "    </tr>\n",
       "  </tbody>\n",
       "</table>\n",
       "</div>"
      ],
      "text/plain": [
       "   Unnamed: 0 Identificador_Agricultor  Estimativa_de_Insetos  \\\n",
       "0           0               SCROP00001                    188   \n",
       "1           1               SCROP00002                    209   \n",
       "2           2               SCROP00003                    257   \n",
       "3           3               SCROP00004                    257   \n",
       "4           4               SCROP00005                    342   \n",
       "\n",
       "   Tipo_de_Cultivo  Tipo_de_Solo  Categoria_Pesticida  Doses_Semana  \\\n",
       "0                1             0                    1             0   \n",
       "1                1             0                    1             0   \n",
       "2                1             0                    1             0   \n",
       "3                1             1                    1             0   \n",
       "4                1             0                    1             0   \n",
       "\n",
       "   Semanas_Utilizando  Semanas_Sem_Uso  Temporada  dano_na_plantacao  \n",
       "0                 0.0                0          1                  0  \n",
       "1                 0.0                0          2                  1  \n",
       "2                 0.0                0          2                  1  \n",
       "3                 0.0                0          2                  1  \n",
       "4                 0.0                0          2                  1  "
      ]
     },
     "execution_count": 356,
     "metadata": {},
     "output_type": "execute_result"
    }
   ],
   "source": [
    "#Vamos conhecer um pouco do formato e da tabela de dados:\n",
    "\n",
    "print(safra_treino.shape)\n",
    "safra_treino.head()"
   ]
  },
  {
   "cell_type": "markdown",
   "metadata": {},
   "source": [
    "## Visualizando os dados das safras e indexando os dataframes"
   ]
  },
  {
   "cell_type": "code",
   "execution_count": 357,
   "metadata": {},
   "outputs": [
    {
     "data": {
      "image/png": "[encoded data removed]",
      "text/plain": [
       "<Figure size 432x288 with 1 Axes>"
      ]
     },
     "metadata": {},
     "output_type": "display_data"
    }
   ],
   "source": [
    "#Vamos explorar um pouco dos dados. Observemos a distribuição de resultados da colheita:\n",
    "safra_treino['dano_na_plantacao'].value_counts()\n",
    "\n",
    "#Plotamos também um gráfico ilustrando esta distribuição e vemos que há um nítido desbalanço\n",
    "#na quantidade de colheitas saudáveis e colheitas não-saudáveis:\n",
    "sns.countplot(x='dano_na_plantacao',data=safra_treino,palette='hls')\n",
    "plt.show()"
   ]
  },
  {
   "cell_type": "code",
   "execution_count": 358,
   "metadata": {},
   "outputs": [],
   "source": [
    "#Vamos restringir nosso dataframe aos dados que utilizaremos na regressão:\n",
    "safra_treino=safra_treino.set_index('Identificador_Agricultor')\n",
    "safra_treino=safra_treino.drop(columns=['Unnamed: 0'])\n",
    "\n",
    "#Repetimos o feito acima para a safra de 2020:\n",
    "safra_prev=safra_prev.set_index('Identificador_Agricultor')\n",
    "safra_prev=safra_prev.drop(columns=['Unnamed: 0'])"
   ]
  },
  {
   "cell_type": "markdown",
   "metadata": {},
   "source": [
    "## Resolvendo o problema de desbalanço de exemplos com SMOTE; dividindo os sets de treino e teste"
   ]
  },
  {
   "cell_type": "code",
   "execution_count": 359,
   "metadata": {},
   "outputs": [
    {
     "name": "stdout",
     "output_type": "stream",
     "text": [
      "Quantidade de novos dados balanceados:  125934\n",
      "Quantidade de colheitas saudáveis dentre os novos dados balanceados: 41978\n",
      "Quantidade de colheitas com danos causados por outros motivos dentre os novos dados balanceados: 41978\n",
      "Quantidade de colheitas com danos causados por inseticidas dentre os novos dados balanceados: 41978\n"
     ]
    }
   ],
   "source": [
    "#Vamos dividir nosso training set. Primeiramente, definimos X e y:\n",
    "X = safra_treino.loc[:, safra_treino.columns != 'dano_na_plantacao']\n",
    "y = safra_treino.loc[:, safra_treino.columns == 'dano_na_plantacao']\n",
    "\n",
    "#Agora, utilizaremos o SMOTE para consertar o desbalanço entre os exemplos de treino.\n",
    "from imblearn import under_sampling, over_sampling\n",
    "from imblearn.over_sampling import SMOTE\n",
    "\n",
    "bal=SMOTE(random_state=2)\n",
    "X_treino, X_teste, y_treino, y_teste = train_test_split(X, y, test_size=0.3, random_state=0)\n",
    "columns = X_treino.columns\n",
    "\n",
    "bal_X,bal_y = bal.fit_sample(X_treino, y_treino)\n",
    "bal_X=pd.DataFrame(data=bal_X,columns=columns )\n",
    "bal_y=pd.DataFrame(data=bal_y,columns=['dano_na_plantacao'])\n",
    "\n",
    "#Checamos o balanço feito nos dados de teste:\n",
    "print(\"Quantidade de novos dados balanceados: \",len(bal_X))\n",
    "print(\"Quantidade de colheitas saudáveis dentre os novos dados balanceados:\",\n",
    "      len(bal_y[bal_y['dano_na_plantacao']==0]))\n",
    "print(\"Quantidade de colheitas com danos causados por outros motivos dentre os novos dados balanceados:\",\n",
    "      len(bal_y[bal_y['dano_na_plantacao']==1]))\n",
    "print(\"Quantidade de colheitas com danos causados por inseticidas dentre os novos dados balanceados:\",\n",
    "      len(bal_y[bal_y['dano_na_plantacao']==2]))"
   ]
  },
  {
   "cell_type": "markdown",
   "metadata": {},
   "source": [
    "## Aplicando o algoritmo de Regressão Logística One-vs-Rest e estudando acurácia, confusion matrix e os scores F_1 para multiclasses"
   ]
  },
  {
   "cell_type": "code",
   "execution_count": 360,
   "metadata": {},
   "outputs": [
    {
     "data": {
      "text/plain": [
       "LogisticRegression(max_iter=1000, multi_class='ovr')"
      ]
     },
     "execution_count": 360,
     "metadata": {},
     "output_type": "execute_result"
    }
   ],
   "source": [
    "#Aplicamos regressão logística usando o algoritmo One-vs-rest:\n",
    "from sklearn.linear_model import LogisticRegression\n",
    "\n",
    "modelo = LogisticRegression(max_iter=1000,multi_class='ovr')\n",
    "modelo.fit(bal_X, bal_y.values.ravel())"
   ]
  },
  {
   "cell_type": "code",
   "execution_count": 361,
   "metadata": {},
   "outputs": [
    {
     "name": "stdout",
     "output_type": "stream",
     "text": [
      "A acurácia do algoritmo de regressão logística multiclasses no set de teste é: 0.66\n"
     ]
    }
   ],
   "source": [
    "y_pred = modelo.predict(X_teste)\n",
    "print('A acurácia do algoritmo de regressão logística multiclasses no set de teste é: {:.2f}'\n",
    "      .format(modelo.score(X_teste, y_teste)))"
   ]
  },
  {
   "cell_type": "code",
   "execution_count": 362,
   "metadata": {},
   "outputs": [
    {
     "name": "stdout",
     "output_type": "stream",
     "text": [
      "[[13349  1797  2875]\n",
      " [ 1384   542  1097]\n",
      " [  219    59   262]]\n"
     ]
    }
   ],
   "source": [
    "from sklearn.metrics import confusion_matrix\n",
    "confusion_matrix = confusion_matrix(y_teste, y_pred)\n",
    "print(confusion_matrix)"
   ]
  },
  {
   "cell_type": "code",
   "execution_count": 363,
   "metadata": {},
   "outputs": [
    {
     "name": "stdout",
     "output_type": "stream",
     "text": [
      "Os F_1-Score weighted e micro são, respectivamente, 0.71 e 0.66\n"
     ]
    }
   ],
   "source": [
    "from sklearn.metrics import f1_score\n",
    "f1w=f1_score(y_teste,y_pred,average='weighted')\n",
    "f1m=f1_score(y_teste,y_pred,average='micro')\n",
    "print('Os F_1-Score weighted e micro são, respectivamente, {:.2f} e {:.2f}'.format(f1w,f1m))"
   ]
  },
  {
   "cell_type": "markdown",
   "metadata": {},
   "source": [
    "Concluímos que o algoritmo construído possui razoável efetividade para previsões."
   ]
  },
  {
   "cell_type": "markdown",
   "metadata": {},
   "source": [
    "## Realizando as previsões para a safra de 2020 e visualizando os dados"
   ]
  },
  {
   "cell_type": "code",
   "execution_count": 364,
   "metadata": {},
   "outputs": [],
   "source": [
    "#Finalmente, calculamos as previsões para a safra de 2020\n",
    "prev_2020=modelo.predict(safra_prev)\n",
    "previsoes=safra_prev\n",
    "previsoes['dano_na_plantacao']=prev_2020"
   ]
  },
  {
   "cell_type": "code",
   "execution_count": 365,
   "metadata": {},
   "outputs": [
    {
     "data": {
      "image/png": "[encoded data removed]",
      "text/plain": [
       "<Figure size 432x288 with 1 Axes>"
      ]
     },
     "metadata": {},
     "output_type": "display_data"
    }
   ],
   "source": [
    "#Podemos visualizar os dados desta previsão:\n",
    "previsoes['dano_na_plantacao'].value_counts()\n",
    "\n",
    "sns.countplot(x='dano_na_plantacao',data=previsoes,palette='hls')\n",
    "plt.show()"
   ]
  },
  {
   "cell_type": "code",
   "execution_count": 366,
   "metadata": {},
   "outputs": [
    {
     "name": "stdout",
     "output_type": "stream",
     "text": [
      "As previsões para a Safra de 2020 utilizando uma regressão logística multiclasses com correção de desbalanços via SMOTE sugerem que em 2020, 5760 colheitas estarão saudáveis,1357 colheitas sofrerão danos gerados pelos pesticidas e 796 colheitas sofrerão danos por outros motivos\n"
     ]
    }
   ],
   "source": [
    "#O resultado da previsão do algoritmo construído é:\n",
    "\n",
    "print('As previsões para a Safra de 2020 utilizando uma regressão logística multiclasses'\n",
    "      ' com correção de desbalanços via SMOTE sugerem que em 2020, {} colheitas estarão saudáveis,' \n",
    "      '{} colheitas sofrerão danos gerados pelos pesticidas e {} colheitas sofrerão danos por outros motivos'\n",
    "      .format(len(previsoes[previsoes['dano_na_plantacao']==0]),\n",
    "              len(previsoes[previsoes['dano_na_plantacao']==2]),\n",
    "              len(previsoes[previsoes['dano_na_plantacao']==1])))"
   ]
  },
  {
   "cell_type": "markdown",
   "metadata": {},
   "source": [
    "Em outras palavras, 10% das colheitas sofrerá danos por motivos diversos, cerca de 17% das colheitas sofrerá danos por uso de pesticidas e cerca de 73% das colheitas estará saudável."
   ]
  }
 ],
 "metadata": {
  "kernelspec": {
   "display_name": "Python 3",
   "language": "python",
   "name": "python3"
  },
  "language_info": {
   "codemirror_mode": {
    "name": "ipython",
    "version": 3
   },
   "file_extension": ".py",
   "mimetype": "text/x-python",
   "name": "python",
   "nbconvert_exporter": "python",
   "pygments_lexer": "ipython3",
   "version": "3.7.6"
  }
 },
 "nbformat": 4,
 "nbformat_minor": 4
}
