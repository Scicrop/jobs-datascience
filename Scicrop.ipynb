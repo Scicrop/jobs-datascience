{
  "nbformat": 4,
  "nbformat_minor": 0,
  "metadata": {
    "colab": {
      "name": "Scicrop.ipynb",
      "provenance": [],
      "collapsed_sections": [],
      "toc_visible": true,
      "authorship_tag": "ABX9TyPwvLLDgJAhiDjTlgNc1I9D"
    },
    "kernelspec": {
      "name": "python3",
      "display_name": "Python 3"
    }
  },
  "cells": [
    {
      "cell_type": "markdown",
      "metadata": {
        "id": "cejoPWdFCjGR",
        "colab_type": "text"
      },
      "source": [
        "**Importing Libraries**"
      ]
    },
    {
      "cell_type": "code",
      "metadata": {
        "id": "SASIP-caVOcW",
        "colab_type": "code",
        "colab": {}
      },
      "source": [
        "#!pip install scikit-optimize\n",
        "\n",
        "import pandas as pd\n",
        "import seaborn as sns\n",
        "from matplotlib import pyplot as plt\n",
        "from scipy import stats\n",
        "import statistics \n",
        "from sklearn import linear_model\n",
        "from sklearn.ensemble  import forest\n",
        "from sklearn import tree\n",
        "from sklearn import svm\n",
        "import xgboost as xgb\n",
        "from sklearn.model_selection import train_test_split\n",
        "from sklearn.model_selection import cross_val_score\n",
        "from skopt import BayesSearchCV\n",
        "\n"
      ],
      "execution_count": 592,
      "outputs": []
    },
    {
      "cell_type": "markdown",
      "metadata": {
        "id": "LUyzqW10-Fu7",
        "colab_type": "text"
      },
      "source": [
        "# Reading the data"
      ]
    },
    {
      "cell_type": "code",
      "metadata": {
        "id": "pBFVtxP0axT1",
        "colab_type": "code",
        "colab": {
          "base_uri": "https://localhost:8080/",
          "height": 34
        },
        "outputId": "c38f8eea-1e7a-456f-9e3b-9dd032f988e6"
      },
      "source": [
        "df = pd.read_csv(\"Safra_2018-2019.csv\")                    \n",
        "print(df.shape)                "
      ],
      "execution_count": 593,
      "outputs": [
        {
          "output_type": "stream",
          "text": [
            "(80000, 11)\n"
          ],
          "name": "stdout"
        }
      ]
    },
    {
      "cell_type": "markdown",
      "metadata": {
        "id": "_m-pERr8bXwH",
        "colab_type": "text"
      },
      "source": [
        "### **Data Preparation**"
      ]
    },
    {
      "cell_type": "markdown",
      "metadata": {
        "id": "2pGsenhDblyj",
        "colab_type": "text"
      },
      "source": [
        "**Renaming columns**"
      ]
    },
    {
      "cell_type": "code",
      "metadata": {
        "id": "nObu6uA-sH9A",
        "colab_type": "code",
        "colab": {}
      },
      "source": [
        "#coverting portuguese columns to english\n",
        "df = df.rename(columns={\"Identificador_Agricultor\":\"Identifier_Agriculturist\",\"Estimativa_de_Insetos\":\"Insect_Estimate\",\"Tipo_de_Cultivo\":\"CultivationType\",\"Tipo_de_Solo\":\"Soil_Type\",\"Categoria_Pesticida\":\"Category_Pesticide\",\"Doses_Semana\":\"Doses_Week\",\"Semanas_Utilizando\":\"Weeks_Using\",\"Semanas_Sem_Uso\":\"Weeks_Without\",\"Temporada\":\"Season\",\"dano_na_plantacao\":\"damage_in_plantation\"}) "
      ],
      "execution_count": 594,
      "outputs": []
    },
    {
      "cell_type": "markdown",
      "metadata": {
        "id": "SK6X_Gb2DU4N",
        "colab_type": "text"
      },
      "source": [
        "**Data Cleaning**"
      ]
    },
    {
      "cell_type": "markdown",
      "metadata": {
        "id": "PNa8BLoec5L0",
        "colab_type": "text"
      },
      "source": [
        "checking for missing values"
      ]
    },
    {
      "cell_type": "code",
      "metadata": {
        "id": "0vChkLR06l60",
        "colab_type": "code",
        "colab": {
          "base_uri": "https://localhost:8080/",
          "height": 208
        },
        "outputId": "df73ed81-e7be-4532-9479-f5bc6ad7008c"
      },
      "source": [
        "#Dropping column Unamed\n",
        "df = df.iloc[:,1:]  \n",
        "#Checking the percentage missing values by columns\n",
        "missing_column = (df.isna().sum()/len(df))*100\n",
        "print(missing_column)\n",
        "\n",
        "#Dropping missing\n",
        "df = df.dropna(axis=0)\n"
      ],
      "execution_count": 595,
      "outputs": [
        {
          "output_type": "stream",
          "text": [
            "Identifier_Agriculturist     0.00000\n",
            "Insect_Estimate              0.00000\n",
            "CultivationType              0.00000\n",
            "Soil_Type                    0.00000\n",
            "Category_Pesticide           0.00000\n",
            "Doses_Week                   0.00000\n",
            "Weeks_Using                 10.06875\n",
            "Weeks_Without                0.00000\n",
            "Season                       0.00000\n",
            "damage_in_plantation         0.00000\n",
            "dtype: float64\n"
          ],
          "name": "stdout"
        }
      ]
    },
    {
      "cell_type": "markdown",
      "metadata": {
        "id": "EEHVuArBhiMj",
        "colab_type": "text"
      },
      "source": [
        "Checking for duplicates"
      ]
    },
    {
      "cell_type": "code",
      "metadata": {
        "id": "PcdyZ34kdMmv",
        "colab_type": "code",
        "colab": {
          "base_uri": "https://localhost:8080/",
          "height": 34
        },
        "outputId": "72ee1aa3-955c-4177-e055-660b19f12355"
      },
      "source": [
        "duplicate = df.duplicated().sum()\n",
        "print(duplicate)#we can see that there are duplicates values"
      ],
      "execution_count": 596,
      "outputs": [
        {
          "output_type": "stream",
          "text": [
            "0\n"
          ],
          "name": "stdout"
        }
      ]
    },
    {
      "cell_type": "markdown",
      "metadata": {
        "id": "L8oJoTx3yJNC",
        "colab_type": "text"
      },
      "source": [
        "Description of the data"
      ]
    },
    {
      "cell_type": "code",
      "metadata": {
        "id": "a4udqdP4uTLQ",
        "colab_type": "code",
        "colab": {
          "base_uri": "https://localhost:8080/",
          "height": 208
        },
        "outputId": "4110abaf-8576-4d7a-dc56-a995e31a3d8e"
      },
      "source": [
        "#pd.set_option('display.max_columns', None)\n",
        "print(df.describe())"
      ],
      "execution_count": 597,
      "outputs": [
        {
          "output_type": "stream",
          "text": [
            "       Insect_Estimate  CultivationType  ...        Season  damage_in_plantation\n",
            "count     71945.000000     71945.000000  ...  71945.000000          71945.000000\n",
            "mean       1401.865230         0.282716  ...      1.896782              0.192049\n",
            "std         851.165277         0.450323  ...      0.702210              0.455172\n",
            "min         150.000000         0.000000  ...      1.000000              0.000000\n",
            "25%         731.000000         0.000000  ...      1.000000              0.000000\n",
            "50%        1212.000000         0.000000  ...      2.000000              0.000000\n",
            "75%        1898.000000         1.000000  ...      2.000000              0.000000\n",
            "max        4097.000000         1.000000  ...      3.000000              2.000000\n",
            "\n",
            "[8 rows x 9 columns]\n"
          ],
          "name": "stdout"
        }
      ]
    },
    {
      "cell_type": "markdown",
      "metadata": {
        "id": "Zh-oTKp21AYk",
        "colab_type": "text"
      },
      "source": [
        "Checking for multicollinearity"
      ]
    },
    {
      "cell_type": "code",
      "metadata": {
        "id": "W09xsBXKu6dp",
        "colab_type": "code",
        "colab": {
          "base_uri": "https://localhost:8080/",
          "height": 466
        },
        "outputId": "92193f4c-5613-488e-cdab-5c4c0247e070"
      },
      "source": [
        "cor = df[[\"Insect_Estimate\",\"Doses_Week\",\"Weeks_Using\",\"Weeks_Without\"]].corr()\n",
        "sns.heatmap(cor,annot=True)\n",
        "\"\"\"\n",
        "BY visualising the numerical variables we can \n",
        "see that there are no multicollinearity\n",
        "\"\"\""
      ],
      "execution_count": 598,
      "outputs": [
        {
          "output_type": "execute_result",
          "data": {
            "application/vnd.google.colaboratory.intrinsic+json": {
              "type": "string"
            },
            "text/plain": [
              "'\\nBY visualising the numerical variables we can \\nsee that there are no multicollinearity\\n'"
            ]
          },
          "metadata": {
            "tags": []
          },
          "execution_count": 598
        },
        {
          "output_type": "display_data",
          "data": {
            "image/png": "[encoded data removed]",
            "text/plain": [
              "<Figure size 648x504 with 2 Axes>"
            ]
          },
          "metadata": {
            "tags": []
          }
        }
      ]
    },
    {
      "cell_type": "markdown",
      "metadata": {
        "id": "eqSTKBbtB4l2",
        "colab_type": "text"
      },
      "source": [
        "**Visualsing The Data**"
      ]
    },
    {
      "cell_type": "markdown",
      "metadata": {
        "id": "tEqmuxSNxi2b",
        "colab_type": "text"
      },
      "source": [
        "Visualsing Insect_Estimate VS damage_in_plantation"
      ]
    },
    {
      "cell_type": "code",
      "metadata": {
        "id": "wJaXF-7lxkrQ",
        "colab_type": "code",
        "colab": {
          "base_uri": "https://localhost:8080/",
          "height": 533
        },
        "outputId": "b23c157e-fadd-4185-b465-32feaf45686d"
      },
      "source": [
        "Insect_Estimate  = df.groupby(\"damage_in_plantation\").Insect_Estimate.mean()\n",
        "print(Insect_Estimate)\n",
        "\n",
        "x = df[\"damage_in_plantation\"].unique()\n",
        "height = Insect_Estimate.unique()\n",
        "\n",
        "\n",
        "fig, ax = plt.subplots()\n",
        "sns.barplot(x=x,y=height).set_title(\"Insect Estimate VS Damage In Plantation\")\n",
        "sns.set(rc={'figure.figsize':(9,7)})\n",
        "ax.set_xticklabels([\"Damaged\",\"Damage caused by other reasons\",\"Damage generated by pesticides\"],size=9.5)\n",
        "plt.show()\n",
        "\n",
        "#We can see that ehen there was no Damage the insect estimate was lower..\n",
        "#And when there was Damage or Danage caused by pesticide the insect estimate was higher\n",
        "\n",
        "# We can conclude that the lower the insect estimate the lower the damage\n"
      ],
      "execution_count": 599,
      "outputs": [
        {
          "output_type": "stream",
          "text": [
            "damage_in_plantation\n",
            "0    1317.262388\n",
            "1    1842.925261\n",
            "2    1739.869588\n",
            "Name: Insect_Estimate, dtype: float64\n"
          ],
          "name": "stdout"
        },
        {
          "output_type": "display_data",
          "data": {
            "image/png": "[encoded data removed]",
            "text/plain": [
              "<Figure size 648x504 with 1 Axes>"
            ]
          },
          "metadata": {
            "tags": []
          }
        }
      ]
    },
    {
      "cell_type": "markdown",
      "metadata": {
        "id": "HrUCCAF8RJa-",
        "colab_type": "text"
      },
      "source": [
        "Visualising CultivationType VS damage_in_plantation"
      ]
    },
    {
      "cell_type": "code",
      "metadata": {
        "id": "KSMP2qrMb5b_",
        "colab_type": "code",
        "colab": {
          "base_uri": "https://localhost:8080/",
          "height": 464
        },
        "outputId": "72937040-7129-4843-fe3b-27dff526d0f5"
      },
      "source": [
        "fig, ax = plt.subplots()\n",
        "sns.countplot(y=\"damage_in_plantation\",hue=\"CultivationType\",data=df).set_title(\"CultivationType VS Damage In Plantation\")\n",
        "ax.set_yticklabels([\"Damaged\",\"Damage caused by other reasons\",\"Damage generated by pesticides\"],size=9.5)\n",
        "plt.show()\n",
        "\n",
        "\n",
        "\n",
        "#According to the visualisation we can see that majority of the\n",
        "#CultivationType that were Not Damaged are the 0 type.This trend\n",
        "#shows that if the classification type = 0 there is very little \n",
        "#probability that the crop is damaged\n",
        "\n",
        "#We can also see that majority of the cllassification type = 0 had majority of the\n",
        "#Damage caused by other reasons..This trend shows that there is more probality that the \n",
        "#classification type = 0 damage will be caused by Damage caused by other resason rather than pesticide\n",
        "\n",
        "#The visualisation shows that CultivationType 0 had\n",
        "#more Damage caused by pesticide with a little difference from classification type 1 \n",
        "\n",
        "# We can see that there is a trend in our classification type  and this will\n",
        "#be a good feature for our model"
      ],
      "execution_count": 600,
      "outputs": [
        {
          "output_type": "display_data",
          "data": {
            "image/png": "[encoded data removed]",
            "text/plain": [
              "<Figure size 648x504 with 1 Axes>"
            ]
          },
          "metadata": {
            "tags": []
          }
        }
      ]
    },
    {
      "cell_type": "markdown",
      "metadata": {
        "id": "ou8H8NG8hpUX",
        "colab_type": "text"
      },
      "source": [
        "Exploring Doses per Week vs damage_in_plantation"
      ]
    },
    {
      "cell_type": "code",
      "metadata": {
        "id": "Gn-qG1BojgRw",
        "colab_type": "code",
        "colab": {
          "base_uri": "https://localhost:8080/",
          "height": 533
        },
        "outputId": "f211e8bf-9787-4ee1-8091-e613fe482d87"
      },
      "source": [
        "Doses_Week = df.groupby(\"damage_in_plantation\").Doses_Week.mean()\n",
        "print(Doses_Week)\n",
        "\n",
        "\n",
        "x = df[\"damage_in_plantation\"].unique()\n",
        "height = Doses_Week.unique()\n",
        "\n",
        "fig, ax = plt.subplots()\n",
        "\n",
        "sns.barplot(x=x,y=height,color=\"#E25822\").set_title(\"Doses per Week vs Damage In Plantation\")\n",
        "ax.set_xticklabels([\"Damaged\",\"Damage caused by other reasons\",\"Damage generated by pesticides\"],size=9.5)\n",
        "plt.show()\n",
        "\n",
        "\n",
        "# We can see that there is Little/No trend between the Doses per week and the damage_in_plantation.\n",
        "\n"
      ],
      "execution_count": 601,
      "outputs": [
        {
          "output_type": "stream",
          "text": [
            "damage_in_plantation\n",
            "0    26.112019\n",
            "1    24.211911\n",
            "2    26.082309\n",
            "Name: Doses_Week, dtype: float64\n"
          ],
          "name": "stdout"
        },
        {
          "output_type": "display_data",
          "data": {
            "image/png": "[encoded data removed]",
            "text/plain": [
              "<Figure size 648x504 with 1 Axes>"
            ]
          },
          "metadata": {
            "tags": []
          }
        }
      ]
    },
    {
      "cell_type": "markdown",
      "metadata": {
        "id": "uHcjAj1BL2h8",
        "colab_type": "text"
      },
      "source": [
        "# Feature Selection - Two Categorical Variable\n",
        "\n",
        "## feature selection using chi-square test\n",
        "\n",
        "**Null hypothesis- There is no relationship between two categorical variable**\n",
        "\n",
        "**Alternatative hypothesis- There is a relationship between two categorical variable**\n",
        "\n",
        "* The Null hypothesis will be set by default\n",
        "\n",
        "* A p-value (typically ≤ 0.05) is statistically significant which means the Null hypothesis should be rejected.. If the p-value is (typically > 0.05) the Null hypothesis should be accepted\n",
        "\n",
        "\n",
        "**#Questions we are going to answer **\n",
        "* Is there any correlation between the Cultivation Type and Damage In Plantation\n",
        "* Is there any correlation between Soil_Type and Damage In Plantation\n",
        "* Is there any correlation between Category_Pesticide and Damage In Plantation\n",
        "* Is there any correlation between Season and Damage In Plantation"
      ]
    },
    {
      "cell_type": "markdown",
      "metadata": {
        "id": "vsISKxngyuMV",
        "colab_type": "text"
      },
      "source": [
        "** **Is there any correlation between the Cultivation Type and Damage In Plantation** **\n"
      ]
    },
    {
      "cell_type": "code",
      "metadata": {
        "id": "hkkwRPvTL2zP",
        "colab_type": "code",
        "colab": {
          "base_uri": "https://localhost:8080/",
          "height": 69
        },
        "outputId": "7e0c2d8b-98ce-4b24-c384-9533c9f23c4c"
      },
      "source": [
        "df[\"CultivationType\"].value_counts()"
      ],
      "execution_count": 602,
      "outputs": [
        {
          "output_type": "execute_result",
          "data": {
            "text/plain": [
              "0    51605\n",
              "1    20340\n",
              "Name: CultivationType, dtype: int64"
            ]
          },
          "metadata": {
            "tags": []
          },
          "execution_count": 602
        }
      ]
    },
    {
      "cell_type": "code",
      "metadata": {
        "id": "FoUbrgFAztwj",
        "colab_type": "code",
        "colab": {
          "base_uri": "https://localhost:8080/",
          "height": 86
        },
        "outputId": "b03788c2-e7d1-4972-8bde-5c4aa3892673"
      },
      "source": [
        "#In Chi Square the first thing to be done is to create a Cross Tab(Contingency Table).\n",
        "#They are used to summaries the relationship between several categorical values\n",
        "\n",
        "cultitype_Damage_ct = pd.crosstab(df[\"CultivationType\"],df[\"damage_in_plantation\"])\n",
        "print(cultitype_Damage_ct) "
      ],
      "execution_count": 603,
      "outputs": [
        {
          "output_type": "stream",
          "text": [
            "damage_in_plantation      0     1     2\n",
            "CultivationType                        \n",
            "0                     42754  7533  1318\n",
            "1                     17245  2542   553\n"
          ],
          "name": "stdout"
        }
      ]
    },
    {
      "cell_type": "code",
      "metadata": {
        "id": "P0rc9bD63nNa",
        "colab_type": "code",
        "colab": {
          "base_uri": "https://localhost:8080/",
          "height": 69
        },
        "outputId": "6495dca9-5378-499a-86bd-4abf442c9f5c"
      },
      "source": [
        "#The chi-square test for independence, also called Pearson's chi-square test\n",
        "#is used to discover if there is a relationship between two categorical variables.\n",
        "\n",
        "\n",
        "(chi2_statistic, p, dof,_) = stats.chi2_contingency(cultitype_Damage_ct.iloc[0:2,:].values)\n",
        "\n",
        "#The Chi2 statistic tells the difference exists between your observed counts and\n",
        "#the counts you would expect if there were no relationship at all in the population.\n",
        "#The higher the Chi2 statistic value the higher the probability that the observed values are correlated(statistically significant)\n",
        "print(f'chi2_statistic = {chi2_statistic}')\n",
        "\n",
        "print(f'P-Value = {p}')\n",
        "\n",
        "if p <= 0.05:\n",
        "  print(\"'Reject Null Hypothesis' The Categorical features are corellated\")\n",
        "elif p > 0.05:\n",
        "  print(\"Null Hypothesis Is True\")\n",
        "\n",
        "#We can see that the CultivationType and Damage In Plantation are corellated\n"
      ],
      "execution_count": 604,
      "outputs": [
        {
          "output_type": "stream",
          "text": [
            "chi2_statistic = 54.01364906691389\n",
            "P-Value = 1.8667455786786662e-12\n",
            "'Reject Null Hypothesis' The Categorical features are corellated\n"
          ],
          "name": "stdout"
        }
      ]
    },
    {
      "cell_type": "code",
      "metadata": {
        "id": "k3zd1Da8RGSj",
        "colab_type": "code",
        "colab": {}
      },
      "source": [
        ""
      ],
      "execution_count": 604,
      "outputs": []
    },
    {
      "cell_type": "markdown",
      "metadata": {
        "id": "i2liEVDPZ7q6",
        "colab_type": "text"
      },
      "source": [
        "** **Is there any correlation between Soil_Type and Damage In Plantation** **"
      ]
    },
    {
      "cell_type": "code",
      "metadata": {
        "id": "dtTa_TFmNLBp",
        "colab_type": "code",
        "colab": {
          "base_uri": "https://localhost:8080/",
          "height": 86
        },
        "outputId": "90508dca-80d7-419d-a96a-4e05ad31d945"
      },
      "source": [
        "#Crosstab\n",
        "soiltype_Damage_ct = pd.crosstab(df[\"Soil_Type\"],df[\"damage_in_plantation\"])\n",
        "print(soiltype_Damage_ct)\n"
      ],
      "execution_count": 605,
      "outputs": [
        {
          "output_type": "stream",
          "text": [
            "damage_in_plantation      0     1     2\n",
            "Soil_Type                              \n",
            "0                     32279  5738  1078\n",
            "1                     27720  4337   793\n"
          ],
          "name": "stdout"
        }
      ]
    },
    {
      "cell_type": "code",
      "metadata": {
        "id": "vnjWJFAuP6Jp",
        "colab_type": "code",
        "colab": {}
      },
      "source": [
        "(chi2_statistic, p, dof,_) = stats.chi2_contingency(soiltype_Damage_ct.iloc[0:2,:].values)"
      ],
      "execution_count": 606,
      "outputs": []
    },
    {
      "cell_type": "code",
      "metadata": {
        "id": "eu6XhhN2RPsX",
        "colab_type": "code",
        "colab": {
          "base_uri": "https://localhost:8080/",
          "height": 69
        },
        "outputId": "282e4782-3178-47d8-fd9c-43c84bc09cba"
      },
      "source": [
        "print(f'chi2_statistic = {chi2_statistic}')\n",
        "\n",
        "print(f'P-Value = {p}')\n",
        "\n",
        "if p <= 0.05:\n",
        "  print(\"'Reject Null Hypothesis' The Categorical features are corellated\")\n",
        "elif p > 0.05:\n",
        "  print(\"Null Hypothesis Is True\")"
      ],
      "execution_count": 607,
      "outputs": [
        {
          "output_type": "stream",
          "text": [
            "chi2_statistic = 42.88739997208629\n",
            "P-Value = 4.865409787739305e-10\n",
            "'Reject Null Hypothesis' The Categorical features are corellated\n"
          ],
          "name": "stdout"
        }
      ]
    },
    {
      "cell_type": "markdown",
      "metadata": {
        "id": "SstBpZhARgpj",
        "colab_type": "text"
      },
      "source": [
        "** **Is there any correlation between Category_Pesticide and Damage In Plantation** **"
      ]
    },
    {
      "cell_type": "code",
      "metadata": {
        "id": "7UgWc5o5Rwkv",
        "colab_type": "code",
        "colab": {
          "base_uri": "https://localhost:8080/",
          "height": 104
        },
        "outputId": "f76e0bee-51a0-4c13-820f-664627e78abc"
      },
      "source": [
        "#Crosstab\n",
        "catpes_Damage_ct = pd.crosstab(df[\"Category_Pesticide\"],df[\"damage_in_plantation\"])\n",
        "print(catpes_Damage_ct)"
      ],
      "execution_count": 608,
      "outputs": [
        {
          "output_type": "stream",
          "text": [
            "damage_in_plantation      0     1     2\n",
            "Category_Pesticide                     \n",
            "1                        94   455   126\n",
            "2                     45801  4937   553\n",
            "3                     14104  4683  1192\n"
          ],
          "name": "stdout"
        }
      ]
    },
    {
      "cell_type": "code",
      "metadata": {
        "id": "BLvW4OfnUTj9",
        "colab_type": "code",
        "colab": {}
      },
      "source": [
        "(chi2_statistic, p, dof,_) = stats.chi2_contingency(catpes_Damage_ct.iloc[0:3,:].values)"
      ],
      "execution_count": 609,
      "outputs": []
    },
    {
      "cell_type": "code",
      "metadata": {
        "id": "P9ko8oJNVRJp",
        "colab_type": "code",
        "colab": {
          "base_uri": "https://localhost:8080/",
          "height": 69
        },
        "outputId": "a6f81912-61f8-4f63-e7b4-deaf37bb315a"
      },
      "source": [
        "print(f'chi2_statistic = {chi2_statistic}')\n",
        "\n",
        "print(f'P-Value = {p}')\n",
        "\n",
        "if p <= 0.05:\n",
        "  print(\"'Reject Null Hypothesis' The Categorical features are corellated\")\n",
        "elif p > 0.05:\n",
        "  print(\"Null Hypothesis Is True\")"
      ],
      "execution_count": 610,
      "outputs": [
        {
          "output_type": "stream",
          "text": [
            "chi2_statistic = 6341.7572830388535\n",
            "P-Value = 0.0\n",
            "'Reject Null Hypothesis' The Categorical features are corellated\n"
          ],
          "name": "stdout"
        }
      ]
    },
    {
      "cell_type": "markdown",
      "metadata": {
        "id": "rxxZY9l8WLyd",
        "colab_type": "text"
      },
      "source": [
        "** **Is there any correlation between Season and Damage In Plantation** **\n",
        "\n",
        "\n"
      ]
    },
    {
      "cell_type": "code",
      "metadata": {
        "id": "Fy_3bxiBWtMW",
        "colab_type": "code",
        "colab": {
          "base_uri": "https://localhost:8080/",
          "height": 104
        },
        "outputId": "6fe4124c-3661-4fc6-d461-0363c562e5e5"
      },
      "source": [
        "#Crosstab\n",
        "sea_Damage_ct = pd.crosstab(df[\"Season\"],df[\"damage_in_plantation\"])\n",
        "print(sea_Damage_ct)"
      ],
      "execution_count": 611,
      "outputs": [
        {
          "output_type": "stream",
          "text": [
            "damage_in_plantation      0     1    2\n",
            "Season                                \n",
            "1                     18205  3091  538\n",
            "2                     29744  4982  977\n",
            "3                     12050  2002  356\n"
          ],
          "name": "stdout"
        }
      ]
    },
    {
      "cell_type": "code",
      "metadata": {
        "id": "zEDkwLpyjJqw",
        "colab_type": "code",
        "colab": {}
      },
      "source": [
        "(chi2_statistic, p, dof,_) = stats.chi2_contingency(sea_Damage_ct.iloc[0:3,:].values)"
      ],
      "execution_count": 612,
      "outputs": []
    },
    {
      "cell_type": "code",
      "metadata": {
        "id": "jSJ-bJcRj-Hm",
        "colab_type": "code",
        "colab": {
          "base_uri": "https://localhost:8080/",
          "height": 86
        },
        "outputId": "56ce1261-115f-4d55-94ba-e0e7dae39f63"
      },
      "source": [
        "print(f'chi2_statistic = {chi2_statistic}')\n",
        "\n",
        "print(f'P-Value = {p}')\n",
        "\n",
        "if p <= 0.05:\n",
        "  print(\"'Reject Null Hypothesis' The Categorical features are corellated\")\n",
        "elif p > 0.05:\n",
        "  print(\"Null Hypothesis Is True\")\n",
        "\n",
        "\"\"\"\n",
        "The Null Hypothesis Is True which means Season is not correlated with the Damage In Plantation\n",
        "which should be dropped\n",
        "\"\"\""
      ],
      "execution_count": 613,
      "outputs": [
        {
          "output_type": "stream",
          "text": [
            "chi2_statistic = 5.713111702940036\n",
            "P-Value = 0.2216221591911207\n",
            "Null Hypothesis Is True\n"
          ],
          "name": "stdout"
        },
        {
          "output_type": "execute_result",
          "data": {
            "application/vnd.google.colaboratory.intrinsic+json": {
              "type": "string"
            },
            "text/plain": [
              "'\\nThe Null Hypothesis Is True which means Season is not correlated with the Damage In Plantation\\nwhich should be dropped\\n'"
            ]
          },
          "metadata": {
            "tags": []
          },
          "execution_count": 613
        }
      ]
    },
    {
      "cell_type": "markdown",
      "metadata": {
        "id": "FJSmXMiomBUW",
        "colab_type": "text"
      },
      "source": [
        "# Dimension Reduction"
      ]
    },
    {
      "cell_type": "code",
      "metadata": {
        "id": "kPJOMXL6mPtL",
        "colab_type": "code",
        "colab": {
          "base_uri": "https://localhost:8080/",
          "height": 34
        },
        "outputId": "527710f1-897f-4172-dc65-e809ff3c0712"
      },
      "source": [
        "#Dropping Features with low relationship and irelevant Features\n",
        "# We will be dropping the Doses per week variable,Identifier_Agriculturist,Season\n",
        "\n",
        "df = df.drop([\"Season\",\"Identifier_Agriculturist\"],axis=1)\n",
        "print(df.shape)"
      ],
      "execution_count": 614,
      "outputs": [
        {
          "output_type": "stream",
          "text": [
            "(71945, 8)\n"
          ],
          "name": "stdout"
        }
      ]
    },
    {
      "cell_type": "markdown",
      "metadata": {
        "id": "Xx8Fvf5TYqJ2",
        "colab_type": "text"
      },
      "source": [
        "# **Modelling**\n"
      ]
    },
    {
      "cell_type": "markdown",
      "metadata": {
        "id": "RDdbSFaeX7nr",
        "colab_type": "text"
      },
      "source": [
        "**Declaring independent and Target Variable**"
      ]
    },
    {
      "cell_type": "code",
      "metadata": {
        "id": "EQBaLifqcytw",
        "colab_type": "code",
        "colab": {}
      },
      "source": [
        "x = df.drop(\"damage_in_plantation\",axis=1)\n",
        "y = df[\"damage_in_plantation\"]"
      ],
      "execution_count": 615,
      "outputs": []
    },
    {
      "cell_type": "markdown",
      "metadata": {
        "id": "68kzlLP1DDV-",
        "colab_type": "text"
      },
      "source": [
        "Spltting the dataframe into training and testing sample of 80% and 20% respectively.\n"
      ]
    },
    {
      "cell_type": "code",
      "metadata": {
        "id": "QekGWvnKDHnp",
        "colab_type": "code",
        "colab": {}
      },
      "source": [
        "x_train,x_test,y_train,y_test = train_test_split(x,y,test_size=0.20,random_state=0)"
      ],
      "execution_count": 616,
      "outputs": []
    },
    {
      "cell_type": "markdown",
      "metadata": {
        "id": "lWRfCa-dbF4Z",
        "colab_type": "text"
      },
      "source": [
        "\n",
        "Using Cross Validation to find the algorithm that gives the best performance"
      ]
    },
    {
      "cell_type": "code",
      "metadata": {
        "id": "jSJsyFWzYNcR",
        "colab_type": "code",
        "colab": {}
      },
      "source": [
        "log = linear_model.LogisticRegression()\n",
        "fo =  forest.RandomForestClassifier()\n",
        "tr = tree.DecisionTreeClassifier()\n",
        "sv = svm.SVC()\n",
        "xg = xgb.XGBClassifier()"
      ],
      "execution_count": 617,
      "outputs": []
    },
    {
      "cell_type": "code",
      "metadata": {
        "id": "D3UMYeZ_BpVX",
        "colab_type": "code",
        "colab": {}
      },
      "source": [
        "#fitting the models to cross validation score to find the best model\n",
        "\n",
        "import warnings\n",
        "warnings.filterwarnings('ignore')\n",
        "\n",
        "log_score = cross_val_score(log,x_train,y_train)\n",
        "\n",
        "fo_score = cross_val_score(fo,x_train,y_train)\n",
        "\n",
        "dtree_score = cross_val_score(tr,x_train,y_train)\n",
        "\n",
        "sv_score = cross_val_score(sv,x_train,y_train)\n",
        "\n",
        "xg_score = cross_val_score(xg,x_train,y_train)"
      ],
      "execution_count": 618,
      "outputs": []
    },
    {
      "cell_type": "code",
      "metadata": {
        "id": "wZwX5nwtJNq1",
        "colab_type": "code",
        "colab": {
          "base_uri": "https://localhost:8080/",
          "height": 121
        },
        "outputId": "fca30a55-b9f9-4902-e61f-916645d45015"
      },
      "source": [
        "df_score = pd.DataFrame({\"model\":[\"Logistic Regression\",\"Random Forest Classifier\",\"Decision Tree Classifier\",\"support vector machine\",\"xgboost classifier\"],\"score\":[statistics.mean(log_score),statistics.mean(fo_score),statistics.mean(dtree_score),statistics.mean(sv_score),statistics.mean(xg_score)]})\n",
        "print(df_score)\n",
        "#We can see that xgboost classifier gave the best score"
      ],
      "execution_count": 619,
      "outputs": [
        {
          "output_type": "stream",
          "text": [
            "                      model     score\n",
            "0       Logistic Regression  0.833901\n",
            "1  Random Forest Classifier  0.814963\n",
            "2  Decision Tree Classifier  0.747290\n",
            "3    support vector machine  0.834057\n",
            "4        xgboost classifier  0.842154\n"
          ],
          "name": "stdout"
        }
      ]
    },
    {
      "cell_type": "markdown",
      "metadata": {
        "id": "SYt6qBP_LyP0",
        "colab_type": "text"
      },
      "source": [
        "#Hyperparameter Tuning Using Using BayesSearchCV\n",
        "Finding the hyperparameter values of a learning algorithm that produces the best result"
      ]
    },
    {
      "cell_type": "code",
      "metadata": {
        "id": "e0E20yyPLbhh",
        "colab_type": "code",
        "colab": {
          "base_uri": "https://localhost:8080/",
          "height": 34
        },
        "outputId": "16ddffad-c3ee-40ee-9d3a-a01a76fffeef"
      },
      "source": [
        "#Checking initial model score\n",
        "model = xgb.XGBClassifier()\n",
        "model = model.fit(x_train,y_train)\n",
        "original_score = model.score(x_test,y_test)\n",
        "print(f'Original Score = {original_score}')"
      ],
      "execution_count": 620,
      "outputs": [
        {
          "output_type": "stream",
          "text": [
            "Original Score = 0.8424490930571965\n"
          ],
          "name": "stdout"
        }
      ]
    },
    {
      "cell_type": "markdown",
      "metadata": {
        "id": "C0aXuhIOO0p_",
        "colab_type": "text"
      },
      "source": [
        "Optimizing parameters"
      ]
    },
    {
      "cell_type": "code",
      "metadata": {
        "id": "T6MU14N6OSyn",
        "colab_type": "code",
        "colab": {}
      },
      "source": [
        "#Finding the best parameter\n",
        "# model = xgb.XGBClassifier()\n",
        "# param = {\"max_depth\":[3,4,5,8,9],\"subsample\":[0.6,0.7,1.0],\"colsample_bytree\":[0.6,0.9,1.0],\"min_child_weight\":[1,2,3,6,1],\"learning_rate\":[0.01,0.1,1.0,0.3,0.5]}\n",
        "# search = BayesSearchCV(model,param,scoring=\"accuracy\")\n",
        "# search = search.fit(x_train,y_train)\n",
        "# print(search.best_params_)\n",
        "\n",
        "# search.best_params_ =  OrderedDict([('colsample_bytree', 1.0), ('learning_rate', 0.5), ('max_depth', 3), ('min_child_weight', 1), ('subsample', 1.0)])"
      ],
      "execution_count": 621,
      "outputs": []
    },
    {
      "cell_type": "markdown",
      "metadata": {
        "id": "dRIZ3echZlDt",
        "colab_type": "text"
      },
      "source": [
        ""
      ]
    },
    {
      "cell_type": "code",
      "metadata": {
        "id": "vvkVPHijN5L8",
        "colab_type": "code",
        "colab": {
          "base_uri": "https://localhost:8080/",
          "height": 34
        },
        "outputId": "277a5ccc-54ff-4450-e193-9ccd8f27d25e"
      },
      "source": [
        "#Optimized model\n",
        "model = xgb.XGBClassifier(colsample_bytree=1.0,learning_rate=0.5,max_depth=3,min_child_weight=1,subsample=1.0)\n",
        "model = model.fit(x_train,y_train)\n",
        "original_score = model.score(x_test,y_test)\n",
        "print(f'New Score = {original_score}')"
      ],
      "execution_count": 622,
      "outputs": [
        {
          "output_type": "stream",
          "text": [
            "New Score = 0.8458544721662381\n"
          ],
          "name": "stdout"
        }
      ]
    },
    {
      "cell_type": "markdown",
      "metadata": {
        "id": "ahzi8glRazEL",
        "colab_type": "text"
      },
      "source": [
        "# **Predicting 2020 Harvest **\n",
        "whether the harvest will be healthy, harmed by pesticides, or harmed for other reasons.**"
      ]
    },
    {
      "cell_type": "code",
      "metadata": {
        "id": "xvNo8AQFaEmx",
        "colab_type": "code",
        "colab": {
          "base_uri": "https://localhost:8080/",
          "height": 34
        },
        "outputId": "85ac0ded-6b3c-4f01-ef1c-e3802a886ad0"
      },
      "source": [
        "pred = pd.read_csv(\"Safra_2020.csv\")\n",
        "print(pred.shape)"
      ],
      "execution_count": 623,
      "outputs": [
        {
          "output_type": "stream",
          "text": [
            "(8858, 10)\n"
          ],
          "name": "stdout"
        }
      ]
    },
    {
      "cell_type": "markdown",
      "metadata": {
        "colab_type": "text",
        "id": "lHlyWrPjeHy_"
      },
      "source": [
        "**Data Preparation**"
      ]
    },
    {
      "cell_type": "code",
      "metadata": {
        "colab_type": "code",
        "id": "5mzF7tBfeHzH",
        "colab": {}
      },
      "source": [
        "#coverting portuguese columns to english\n",
        "pred = pred.rename(columns={\"Identificador_Agricultor\":\"Identifier_Agriculturist\",\"Estimativa_de_Insetos\":\"Insect_Estimate\",\"Tipo_de_Cultivo\":\"CultivationType\",\"Tipo_de_Solo\":\"Soil_Type\",\"Categoria_Pesticida\":\"Category_Pesticide\",\"Doses_Semana\":\"Doses_Week\",\"Semanas_Utilizando\":\"Weeks_Using\",\"Semanas_Sem_Uso\":\"Weeks_Without\",\"Temporada\":\"Season\",\"dano_na_plantacao\":\"damage_in_plantation\"}) "
      ],
      "execution_count": 624,
      "outputs": []
    },
    {
      "cell_type": "code",
      "metadata": {
        "id": "fbMFi-DpeUXT",
        "colab_type": "code",
        "colab": {
          "base_uri": "https://localhost:8080/",
          "height": 190
        },
        "outputId": "fb068a66-9e11-448e-d461-8234bff4a633"
      },
      "source": [
        "#Dropping column\n",
        "pred = pred.iloc[:,1:]  \n",
        "\n",
        "#Checking the percentage missing values by columns\n",
        "missing_column = (pred.isna().sum()/len(pred))*100\n",
        "print(missing_column)\n",
        "#Dropping missing\n",
        "pred = pred.dropna(axis=0)"
      ],
      "execution_count": 625,
      "outputs": [
        {
          "output_type": "stream",
          "text": [
            "Identifier_Agriculturist     0.000000\n",
            "Insect_Estimate              0.000000\n",
            "CultivationType              0.000000\n",
            "Soil_Type                    0.000000\n",
            "Category_Pesticide           0.000000\n",
            "Doses_Week                   0.000000\n",
            "Weeks_Using                 10.668322\n",
            "Weeks_Without                0.000000\n",
            "Season                       0.000000\n",
            "dtype: float64\n"
          ],
          "name": "stdout"
        }
      ]
    },
    {
      "cell_type": "code",
      "metadata": {
        "id": "Sq2fU3YpefNT",
        "colab_type": "code",
        "colab": {
          "base_uri": "https://localhost:8080/",
          "height": 34
        },
        "outputId": "dd0fc733-704a-49ab-fb43-40ca91735fb0"
      },
      "source": [
        "pred = pred.drop([\"Season\",\"Identifier_Agriculturist\"],axis=1)\n",
        "print(pred.shape)\n"
      ],
      "execution_count": 626,
      "outputs": [
        {
          "output_type": "stream",
          "text": [
            "(7913, 7)\n"
          ],
          "name": "stdout"
        }
      ]
    },
    {
      "cell_type": "markdown",
      "metadata": {
        "id": "n8N1t3vdk3Ln",
        "colab_type": "text"
      },
      "source": [
        "predicting 2020 harvest"
      ]
    },
    {
      "cell_type": "code",
      "metadata": {
        "id": "GINdLnQQj0cv",
        "colab_type": "code",
        "colab": {
          "base_uri": "https://localhost:8080/",
          "height": 34
        },
        "outputId": "a5ae1e55-4f72-41ed-9dc9-23ec5499c161"
      },
      "source": [
        "ypred = model.predict(pred)\n",
        "pred[\"Predicted_Damage_In_Plantation\"] = ypred\n",
        "print(pred.to_csv(\"Predicted_Damage_In_Plantation.csv\"))"
      ],
      "execution_count": 627,
      "outputs": [
        {
          "output_type": "stream",
          "text": [
            "None\n"
          ],
          "name": "stdout"
        }
      ]
    },
    {
      "cell_type": "markdown",
      "metadata": {
        "id": "eEx_jU2-k0wT",
        "colab_type": "text"
      },
      "source": [
        ""
      ]
    }
  ]
}