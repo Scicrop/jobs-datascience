{
 "cells": [
  {
   "cell_type": "markdown",
   "metadata": {},
   "source": [
    "## Visualização inicial dos dados"
   ]
  },
  {
   "cell_type": "code",
   "execution_count": 230,
   "metadata": {},
   "outputs": [
    {
     "data": {
      "text/html": [
       "<div>\n",
       "<style scoped>\n",
       "    .dataframe tbody tr th:only-of-type {\n",
       "        vertical-align: middle;\n",
       "    }\n",
       "\n",
       "    .dataframe tbody tr th {\n",
       "        vertical-align: top;\n",
       "    }\n",
       "\n",
       "    .dataframe thead th {\n",
       "        text-align: right;\n",
       "    }\n",
       "</style>\n",
       "<table border=\"1\" class=\"dataframe\">\n",
       "  <thead>\n",
       "    <tr style=\"text-align: right;\">\n",
       "      <th></th>\n",
       "      <th>Identificador_Agricultor</th>\n",
       "      <th>Estimativa_de_Insetos</th>\n",
       "      <th>Tipo_de_Cultivo</th>\n",
       "      <th>Tipo_de_Solo</th>\n",
       "      <th>Categoria_Pesticida</th>\n",
       "      <th>Doses_Semana</th>\n",
       "      <th>Semanas_Utilizando</th>\n",
       "      <th>Semanas_Sem_Uso</th>\n",
       "      <th>Temporada</th>\n",
       "      <th>dano_na_plantacao</th>\n",
       "    </tr>\n",
       "  </thead>\n",
       "  <tbody>\n",
       "    <tr>\n",
       "      <th>0</th>\n",
       "      <td>SCROP00001</td>\n",
       "      <td>188</td>\n",
       "      <td>1</td>\n",
       "      <td>0</td>\n",
       "      <td>1</td>\n",
       "      <td>0</td>\n",
       "      <td>0.0</td>\n",
       "      <td>0</td>\n",
       "      <td>1</td>\n",
       "      <td>0</td>\n",
       "    </tr>\n",
       "    <tr>\n",
       "      <th>1</th>\n",
       "      <td>SCROP00002</td>\n",
       "      <td>209</td>\n",
       "      <td>1</td>\n",
       "      <td>0</td>\n",
       "      <td>1</td>\n",
       "      <td>0</td>\n",
       "      <td>0.0</td>\n",
       "      <td>0</td>\n",
       "      <td>2</td>\n",
       "      <td>1</td>\n",
       "    </tr>\n",
       "    <tr>\n",
       "      <th>2</th>\n",
       "      <td>SCROP00003</td>\n",
       "      <td>257</td>\n",
       "      <td>1</td>\n",
       "      <td>0</td>\n",
       "      <td>1</td>\n",
       "      <td>0</td>\n",
       "      <td>0.0</td>\n",
       "      <td>0</td>\n",
       "      <td>2</td>\n",
       "      <td>1</td>\n",
       "    </tr>\n",
       "    <tr>\n",
       "      <th>3</th>\n",
       "      <td>SCROP00004</td>\n",
       "      <td>257</td>\n",
       "      <td>1</td>\n",
       "      <td>1</td>\n",
       "      <td>1</td>\n",
       "      <td>0</td>\n",
       "      <td>0.0</td>\n",
       "      <td>0</td>\n",
       "      <td>2</td>\n",
       "      <td>1</td>\n",
       "    </tr>\n",
       "    <tr>\n",
       "      <th>4</th>\n",
       "      <td>SCROP00005</td>\n",
       "      <td>342</td>\n",
       "      <td>1</td>\n",
       "      <td>0</td>\n",
       "      <td>1</td>\n",
       "      <td>0</td>\n",
       "      <td>0.0</td>\n",
       "      <td>0</td>\n",
       "      <td>2</td>\n",
       "      <td>1</td>\n",
       "    </tr>\n",
       "  </tbody>\n",
       "</table>\n",
       "</div>"
      ],
      "text/plain": [
       "  Identificador_Agricultor  Estimativa_de_Insetos  Tipo_de_Cultivo  \\\n",
       "0               SCROP00001                    188                1   \n",
       "1               SCROP00002                    209                1   \n",
       "2               SCROP00003                    257                1   \n",
       "3               SCROP00004                    257                1   \n",
       "4               SCROP00005                    342                1   \n",
       "\n",
       "   Tipo_de_Solo  Categoria_Pesticida  Doses_Semana  Semanas_Utilizando  \\\n",
       "0             0                    1             0                 0.0   \n",
       "1             0                    1             0                 0.0   \n",
       "2             0                    1             0                 0.0   \n",
       "3             1                    1             0                 0.0   \n",
       "4             0                    1             0                 0.0   \n",
       "\n",
       "   Semanas_Sem_Uso  Temporada  dano_na_plantacao  \n",
       "0                0          1                  0  \n",
       "1                0          2                  1  \n",
       "2                0          2                  1  \n",
       "3                0          2                  1  \n",
       "4                0          2                  1  "
      ]
     },
     "execution_count": 230,
     "metadata": {},
     "output_type": "execute_result"
    }
   ],
   "source": [
    "import pandas as pd\n",
    "dados_19 = pd.read_csv('Safra_2018-2019.csv')\n",
    "dados_19 = dados_19.drop(columns = 'Unnamed: 0')\n",
    "dados_19.head()"
   ]
  },
  {
   "cell_type": "code",
   "execution_count": 231,
   "metadata": {},
   "outputs": [
    {
     "name": "stdout",
     "output_type": "stream",
     "text": [
      "<class 'pandas.core.frame.DataFrame'>\n",
      "RangeIndex: 80000 entries, 0 to 79999\n",
      "Data columns (total 10 columns):\n",
      " #   Column                    Non-Null Count  Dtype  \n",
      "---  ------                    --------------  -----  \n",
      " 0   Identificador_Agricultor  80000 non-null  object \n",
      " 1   Estimativa_de_Insetos     80000 non-null  int64  \n",
      " 2   Tipo_de_Cultivo           80000 non-null  int64  \n",
      " 3   Tipo_de_Solo              80000 non-null  int64  \n",
      " 4   Categoria_Pesticida       80000 non-null  int64  \n",
      " 5   Doses_Semana              80000 non-null  int64  \n",
      " 6   Semanas_Utilizando        71945 non-null  float64\n",
      " 7   Semanas_Sem_Uso           80000 non-null  int64  \n",
      " 8   Temporada                 80000 non-null  int64  \n",
      " 9   dano_na_plantacao         80000 non-null  int64  \n",
      "dtypes: float64(1), int64(8), object(1)\n",
      "memory usage: 6.1+ MB\n"
     ]
    }
   ],
   "source": [
    "dados_19.info()\n",
    "\n",
    "# 80000 linhas, 10 colunas\n",
    "# coluna 'Semanas_Utilizando' tem valores 8055 NaN"
   ]
  },
  {
   "cell_type": "code",
   "execution_count": 232,
   "metadata": {},
   "outputs": [
    {
     "data": {
      "text/html": [
       "<div>\n",
       "<style scoped>\n",
       "    .dataframe tbody tr th:only-of-type {\n",
       "        vertical-align: middle;\n",
       "    }\n",
       "\n",
       "    .dataframe tbody tr th {\n",
       "        vertical-align: top;\n",
       "    }\n",
       "\n",
       "    .dataframe thead th {\n",
       "        text-align: right;\n",
       "    }\n",
       "</style>\n",
       "<table border=\"1\" class=\"dataframe\">\n",
       "  <thead>\n",
       "    <tr style=\"text-align: right;\">\n",
       "      <th></th>\n",
       "      <th>Identificador_Agricultor</th>\n",
       "      <th>Estimativa_de_Insetos</th>\n",
       "      <th>Tipo_de_Cultivo</th>\n",
       "      <th>Tipo_de_Solo</th>\n",
       "      <th>Categoria_Pesticida</th>\n",
       "      <th>Doses_Semana</th>\n",
       "      <th>Semanas_Utilizando</th>\n",
       "      <th>Semanas_Sem_Uso</th>\n",
       "      <th>Temporada</th>\n",
       "    </tr>\n",
       "  </thead>\n",
       "  <tbody>\n",
       "    <tr>\n",
       "      <th>0</th>\n",
       "      <td>SCROP80001</td>\n",
       "      <td>256</td>\n",
       "      <td>0</td>\n",
       "      <td>1</td>\n",
       "      <td>2</td>\n",
       "      <td>35</td>\n",
       "      <td>11.0</td>\n",
       "      <td>9</td>\n",
       "      <td>1</td>\n",
       "    </tr>\n",
       "    <tr>\n",
       "      <th>1</th>\n",
       "      <td>SCROP80002</td>\n",
       "      <td>283</td>\n",
       "      <td>0</td>\n",
       "      <td>1</td>\n",
       "      <td>2</td>\n",
       "      <td>5</td>\n",
       "      <td>5.0</td>\n",
       "      <td>6</td>\n",
       "      <td>1</td>\n",
       "    </tr>\n",
       "    <tr>\n",
       "      <th>2</th>\n",
       "      <td>SCROP80003</td>\n",
       "      <td>283</td>\n",
       "      <td>0</td>\n",
       "      <td>1</td>\n",
       "      <td>2</td>\n",
       "      <td>15</td>\n",
       "      <td>15.0</td>\n",
       "      <td>5</td>\n",
       "      <td>2</td>\n",
       "    </tr>\n",
       "    <tr>\n",
       "      <th>3</th>\n",
       "      <td>SCROP80004</td>\n",
       "      <td>283</td>\n",
       "      <td>0</td>\n",
       "      <td>1</td>\n",
       "      <td>2</td>\n",
       "      <td>15</td>\n",
       "      <td>NaN</td>\n",
       "      <td>7</td>\n",
       "      <td>2</td>\n",
       "    </tr>\n",
       "    <tr>\n",
       "      <th>4</th>\n",
       "      <td>SCROP80005</td>\n",
       "      <td>283</td>\n",
       "      <td>0</td>\n",
       "      <td>1</td>\n",
       "      <td>2</td>\n",
       "      <td>15</td>\n",
       "      <td>19.0</td>\n",
       "      <td>2</td>\n",
       "      <td>1</td>\n",
       "    </tr>\n",
       "  </tbody>\n",
       "</table>\n",
       "</div>"
      ],
      "text/plain": [
       "  Identificador_Agricultor  Estimativa_de_Insetos  Tipo_de_Cultivo  \\\n",
       "0               SCROP80001                    256                0   \n",
       "1               SCROP80002                    283                0   \n",
       "2               SCROP80003                    283                0   \n",
       "3               SCROP80004                    283                0   \n",
       "4               SCROP80005                    283                0   \n",
       "\n",
       "   Tipo_de_Solo  Categoria_Pesticida  Doses_Semana  Semanas_Utilizando  \\\n",
       "0             1                    2            35                11.0   \n",
       "1             1                    2             5                 5.0   \n",
       "2             1                    2            15                15.0   \n",
       "3             1                    2            15                 NaN   \n",
       "4             1                    2            15                19.0   \n",
       "\n",
       "   Semanas_Sem_Uso  Temporada  \n",
       "0                9          1  \n",
       "1                6          1  \n",
       "2                5          2  \n",
       "3                7          2  \n",
       "4                2          1  "
      ]
     },
     "execution_count": 232,
     "metadata": {},
     "output_type": "execute_result"
    }
   ],
   "source": [
    "dados_20 = pd.read_csv('Safra_2020.csv')\n",
    "dados_20 = dados_20.drop(columns = 'Unnamed: 0')\n",
    "dados_20.head()"
   ]
  },
  {
   "cell_type": "code",
   "execution_count": 233,
   "metadata": {},
   "outputs": [
    {
     "name": "stdout",
     "output_type": "stream",
     "text": [
      "<class 'pandas.core.frame.DataFrame'>\n",
      "RangeIndex: 8858 entries, 0 to 8857\n",
      "Data columns (total 9 columns):\n",
      " #   Column                    Non-Null Count  Dtype  \n",
      "---  ------                    --------------  -----  \n",
      " 0   Identificador_Agricultor  8858 non-null   object \n",
      " 1   Estimativa_de_Insetos     8858 non-null   int64  \n",
      " 2   Tipo_de_Cultivo           8858 non-null   int64  \n",
      " 3   Tipo_de_Solo              8858 non-null   int64  \n",
      " 4   Categoria_Pesticida       8858 non-null   int64  \n",
      " 5   Doses_Semana              8858 non-null   int64  \n",
      " 6   Semanas_Utilizando        7913 non-null   float64\n",
      " 7   Semanas_Sem_Uso           8858 non-null   int64  \n",
      " 8   Temporada                 8858 non-null   int64  \n",
      "dtypes: float64(1), int64(7), object(1)\n",
      "memory usage: 623.0+ KB\n"
     ]
    }
   ],
   "source": [
    "dados_20.info()\n",
    "\n",
    "# 8858 linhas, 9 colunas (falta 'dano_na_plantacao', que deve ser prevista)\n",
    "# coluna 'Semanas_Utilizando' tem valores 945 NaN"
   ]
  },
  {
   "cell_type": "markdown",
   "metadata": {},
   "source": [
    "## Ajuste de variáveis"
   ]
  },
  {
   "cell_type": "code",
   "execution_count": 234,
   "metadata": {},
   "outputs": [],
   "source": [
    "# substituindo valores NaN com método forward fill\n",
    "\n",
    "dados_19['Semanas_Utilizando'].fillna(method = 'ffill', inplace = True)\n",
    "dados_20['Semanas_Utilizando'].fillna(method = 'ffill', inplace = True)\n",
    "\n",
    "# dados_19.info() # checando se foi corrigido"
   ]
  },
  {
   "cell_type": "code",
   "execution_count": 235,
   "metadata": {},
   "outputs": [],
   "source": [
    "# corrigindo nome 'dano_na_plantacao' para molde das demais colunas (e nome mais curto)\n",
    "\n",
    "dados_19.rename(columns={'dano_na_plantacao': 'Dano'}, inplace = True)"
   ]
  },
  {
   "cell_type": "markdown",
   "metadata": {},
   "source": [
    "## Observações gerais antes da modelagem"
   ]
  },
  {
   "cell_type": "code",
   "execution_count": 236,
   "metadata": {},
   "outputs": [
    {
     "data": {
      "text/plain": [
       "0    0.833950\n",
       "1    0.139788\n",
       "2    0.026263\n",
       "Name: Dano, dtype: float64"
      ]
     },
     "execution_count": 236,
     "metadata": {},
     "output_type": "execute_result"
    }
   ],
   "source": [
    "# verificando se temos quantidades bem distribuídas de exemplos de 1,2 e 3 para 'Dano'\n",
    "dados_19['Dano'].value_counts(normalize = True)\n",
    "\n",
    "# distribuição: 0 (83%), 1 (14%), 2 (2.6%)\n",
    "# comparativamente, temos poucos exemplos de plantações com dano -- cuidado com parâmetros de performance"
   ]
  },
  {
   "cell_type": "code",
   "execution_count": 237,
   "metadata": {},
   "outputs": [
    {
     "data": {
      "text/html": [
       "<div>\n",
       "<style scoped>\n",
       "    .dataframe tbody tr th:only-of-type {\n",
       "        vertical-align: middle;\n",
       "    }\n",
       "\n",
       "    .dataframe tbody tr th {\n",
       "        vertical-align: top;\n",
       "    }\n",
       "\n",
       "    .dataframe thead th {\n",
       "        text-align: right;\n",
       "    }\n",
       "</style>\n",
       "<table border=\"1\" class=\"dataframe\">\n",
       "  <thead>\n",
       "    <tr style=\"text-align: right;\">\n",
       "      <th></th>\n",
       "      <th>Estimativa_de_Insetos</th>\n",
       "      <th>Tipo_de_Cultivo</th>\n",
       "      <th>Tipo_de_Solo</th>\n",
       "      <th>Categoria_Pesticida</th>\n",
       "      <th>Doses_Semana</th>\n",
       "      <th>Semanas_Utilizando</th>\n",
       "      <th>Semanas_Sem_Uso</th>\n",
       "      <th>Temporada</th>\n",
       "      <th>Dano</th>\n",
       "    </tr>\n",
       "  </thead>\n",
       "  <tbody>\n",
       "    <tr>\n",
       "      <th>count</th>\n",
       "      <td>80000.000000</td>\n",
       "      <td>80000.000000</td>\n",
       "      <td>80000.000000</td>\n",
       "      <td>80000.000000</td>\n",
       "      <td>80000.000000</td>\n",
       "      <td>80000.000000</td>\n",
       "      <td>80000.000000</td>\n",
       "      <td>80000.000000</td>\n",
       "      <td>80000.000000</td>\n",
       "    </tr>\n",
       "    <tr>\n",
       "      <th>mean</th>\n",
       "      <td>1400.020875</td>\n",
       "      <td>0.283338</td>\n",
       "      <td>0.455550</td>\n",
       "      <td>2.267587</td>\n",
       "      <td>25.846750</td>\n",
       "      <td>28.636187</td>\n",
       "      <td>9.549088</td>\n",
       "      <td>1.897575</td>\n",
       "      <td>0.192312</td>\n",
       "    </tr>\n",
       "    <tr>\n",
       "      <th>std</th>\n",
       "      <td>849.792471</td>\n",
       "      <td>0.450622</td>\n",
       "      <td>0.498023</td>\n",
       "      <td>0.463748</td>\n",
       "      <td>15.557246</td>\n",
       "      <td>12.430077</td>\n",
       "      <td>9.905547</td>\n",
       "      <td>0.702079</td>\n",
       "      <td>0.455912</td>\n",
       "    </tr>\n",
       "    <tr>\n",
       "      <th>min</th>\n",
       "      <td>150.000000</td>\n",
       "      <td>0.000000</td>\n",
       "      <td>0.000000</td>\n",
       "      <td>1.000000</td>\n",
       "      <td>0.000000</td>\n",
       "      <td>0.000000</td>\n",
       "      <td>0.000000</td>\n",
       "      <td>1.000000</td>\n",
       "      <td>0.000000</td>\n",
       "    </tr>\n",
       "    <tr>\n",
       "      <th>25%</th>\n",
       "      <td>731.000000</td>\n",
       "      <td>0.000000</td>\n",
       "      <td>0.000000</td>\n",
       "      <td>2.000000</td>\n",
       "      <td>15.000000</td>\n",
       "      <td>20.000000</td>\n",
       "      <td>0.000000</td>\n",
       "      <td>1.000000</td>\n",
       "      <td>0.000000</td>\n",
       "    </tr>\n",
       "    <tr>\n",
       "      <th>50%</th>\n",
       "      <td>1212.000000</td>\n",
       "      <td>0.000000</td>\n",
       "      <td>0.000000</td>\n",
       "      <td>2.000000</td>\n",
       "      <td>20.000000</td>\n",
       "      <td>28.000000</td>\n",
       "      <td>7.000000</td>\n",
       "      <td>2.000000</td>\n",
       "      <td>0.000000</td>\n",
       "    </tr>\n",
       "    <tr>\n",
       "      <th>75%</th>\n",
       "      <td>1898.000000</td>\n",
       "      <td>1.000000</td>\n",
       "      <td>1.000000</td>\n",
       "      <td>3.000000</td>\n",
       "      <td>40.000000</td>\n",
       "      <td>37.000000</td>\n",
       "      <td>16.000000</td>\n",
       "      <td>2.000000</td>\n",
       "      <td>0.000000</td>\n",
       "    </tr>\n",
       "    <tr>\n",
       "      <th>max</th>\n",
       "      <td>4097.000000</td>\n",
       "      <td>1.000000</td>\n",
       "      <td>1.000000</td>\n",
       "      <td>3.000000</td>\n",
       "      <td>95.000000</td>\n",
       "      <td>67.000000</td>\n",
       "      <td>50.000000</td>\n",
       "      <td>3.000000</td>\n",
       "      <td>2.000000</td>\n",
       "    </tr>\n",
       "  </tbody>\n",
       "</table>\n",
       "</div>"
      ],
      "text/plain": [
       "       Estimativa_de_Insetos  Tipo_de_Cultivo  Tipo_de_Solo  \\\n",
       "count           80000.000000     80000.000000  80000.000000   \n",
       "mean             1400.020875         0.283338      0.455550   \n",
       "std               849.792471         0.450622      0.498023   \n",
       "min               150.000000         0.000000      0.000000   \n",
       "25%               731.000000         0.000000      0.000000   \n",
       "50%              1212.000000         0.000000      0.000000   \n",
       "75%              1898.000000         1.000000      1.000000   \n",
       "max              4097.000000         1.000000      1.000000   \n",
       "\n",
       "       Categoria_Pesticida  Doses_Semana  Semanas_Utilizando  Semanas_Sem_Uso  \\\n",
       "count         80000.000000  80000.000000        80000.000000     80000.000000   \n",
       "mean              2.267587     25.846750           28.636187         9.549088   \n",
       "std               0.463748     15.557246           12.430077         9.905547   \n",
       "min               1.000000      0.000000            0.000000         0.000000   \n",
       "25%               2.000000     15.000000           20.000000         0.000000   \n",
       "50%               2.000000     20.000000           28.000000         7.000000   \n",
       "75%               3.000000     40.000000           37.000000        16.000000   \n",
       "max               3.000000     95.000000           67.000000        50.000000   \n",
       "\n",
       "          Temporada          Dano  \n",
       "count  80000.000000  80000.000000  \n",
       "mean       1.897575      0.192312  \n",
       "std        0.702079      0.455912  \n",
       "min        1.000000      0.000000  \n",
       "25%        1.000000      0.000000  \n",
       "50%        2.000000      0.000000  \n",
       "75%        2.000000      0.000000  \n",
       "max        3.000000      2.000000  "
      ]
     },
     "execution_count": 237,
     "metadata": {},
     "output_type": "execute_result"
    }
   ],
   "source": [
    "dados_19.describe()\n",
    "\n",
    "# informações 'Estimativa_de_Insetos', 'Doses_Semana' e 'Semanas_Sem_Uso' têm maior ordem de grandeza que demais dados"
   ]
  },
  {
   "cell_type": "markdown",
   "metadata": {},
   "source": [
    "## Modelo de previsão: Decision Tree Classifier"
   ]
  },
  {
   "cell_type": "code",
   "execution_count": 238,
   "metadata": {},
   "outputs": [],
   "source": [
    "from sklearn.model_selection import train_test_split\n",
    "from sklearn.tree import DecisionTreeClassifier\n",
    "from sklearn.metrics import f1_score # métrica trocada\n",
    "from sklearn.metrics import plot_confusion_matrix\n",
    "import matplotlib.pyplot as plt"
   ]
  },
  {
   "cell_type": "code",
   "execution_count": 256,
   "metadata": {},
   "outputs": [],
   "source": [
    "# dividindo os exemplos em treinamento e teste com uso de estratificação (por conta da distribuição de tipos de dano)\n",
    "\n",
    "X = dados_19.drop(['Identificador_Agricultor','Dano'], axis=1)\n",
    "y = dados_19['Dano']\n",
    "\n",
    "X_train, X_test, y_train, y_test = train_test_split(X, y, test_size = 0.25, random_state = 21, stratify = y)\n",
    "\n",
    "dt = DecisionTreeClassifier(random_state = 21) "
   ]
  },
  {
   "cell_type": "code",
   "execution_count": 259,
   "metadata": {},
   "outputs": [
    {
     "name": "stdout",
     "output_type": "stream",
     "text": [
      "F1_score para treinamento: 0.9854447074621101\n",
      "F1_score para teste: 0.7565750574814807\n"
     ]
    }
   ],
   "source": [
    "dt.fit(X_train,y_train)\n",
    "\n",
    "print('F1_score para treinamento:', f1_score(y_train, dt.predict(X_train), average = 'weighted'))\n",
    "print('F1_score para teste:', f1_score(y_test, dt.predict(X_test), average = 'weighted'))\n",
    "\n",
    "# F1_score treinamento (98.5%) >> teste (75.7%) => overfitting"
   ]
  },
  {
   "cell_type": "code",
   "execution_count": 261,
   "metadata": {},
   "outputs": [
    {
     "data": {
      "image/png": "[encoded data removed]",
      "text/plain": [
       "<Figure size 432x288 with 2 Axes>"
      ]
     },
     "metadata": {
      "needs_background": "light"
     },
     "output_type": "display_data"
    }
   ],
   "source": [
    "plot_confusion_matrix(dt, X_test, y_test, normalize = 'true') \n",
    "plt.show()"
   ]
  },
  {
   "cell_type": "code",
   "execution_count": 265,
   "metadata": {},
   "outputs": [
    {
     "data": {
      "text/plain": [
       "array([0, 0, 0, ..., 0, 1, 1], dtype=int64)"
      ]
     },
     "execution_count": 265,
     "metadata": {},
     "output_type": "execute_result"
    }
   ],
   "source": [
    "y_pred = dt.predict(dados_20.drop('Identificador_Agricultor',axis=1))"
   ]
  }
 ],
 "metadata": {
  "kernelspec": {
   "display_name": "Python 3",
   "language": "python",
   "name": "python3"
  },
  "language_info": {
   "codemirror_mode": {
    "name": "ipython",
    "version": 3
   },
   "file_extension": ".py",
   "mimetype": "text/x-python",
   "name": "python",
   "nbconvert_exporter": "python",
   "pygments_lexer": "ipython3",
   "version": "3.7.6"
  }
 },
 "nbformat": 4,
 "nbformat_minor": 4
}
