{
 "cells": [
  {
   "cell_type": "markdown",
   "metadata": {},
   "source": [
    "# Previsão de danos na plantação\n",
    "\n",
    "O Objetivo desse projeto é por meio de informações de tipo de solo, pesticida e outros, classificar os danos da plantação naquela determinada safra, podendo ser classificados em:\n",
    "- 0 - Sem Danos\n",
    "- 1 - Danos causados por outros motivos\n",
    "- 2 - Danos gerados pelos pesticidas\n",
    "\n",
    "Antes de qualquer coisa, devemos estabelecer o plano de resolução\n",
    "- Entendimento do problema\n",
    "- Analise de dados\n",
    "- Processamento dos dados\n",
    "- Criação dos modelos\n",
    "- Validação do modelo\n",
    "- Predição final"
   ]
  },
  {
   "cell_type": "markdown",
   "metadata": {},
   "source": [
    "## 1. Setup"
   ]
  },
  {
   "cell_type": "code",
   "execution_count": 1,
   "metadata": {},
   "outputs": [],
   "source": [
    "import numpy as np\n",
    "import pandas as pd\n",
    "import seaborn as sns\n",
    "from matplotlib import pyplot as plt\n",
    "from sklearn.preprocessing import StandardScaler, power_transform, OneHotEncoder\n",
    "from sklearn.naive_bayes import MultinomialNB, GaussianNB\n",
    "from sklearn.model_selection import train_test_split\n",
    "from sklearn.metrics import f1_score\n",
    "from sklearn.svm import SVC\n",
    "from sklearn.linear_model import SGDClassifier\n",
    "from sklearn.ensemble import RandomForestClassifier\n",
    "from sklearn.neural_network import MLPClassifier\n",
    "from sklearn.model_selection import GridSearchCV\n",
    "import random\n",
    "import os"
   ]
  },
  {
   "cell_type": "code",
   "execution_count": 2,
   "metadata": {},
   "outputs": [],
   "source": [
    "df = pd.read_csv(\"Safra_2018-2019.csv\", index_col = 0)"
   ]
  },
  {
   "cell_type": "code",
   "execution_count": 3,
   "metadata": {},
   "outputs": [],
   "source": [
    "### reproductabilidade\n",
    "\n",
    "random.seed(42)\n",
    "np.random.seed(42)\n",
    "os.environ['PYTHONHASHSEED']=str(42)"
   ]
  },
  {
   "cell_type": "markdown",
   "metadata": {},
   "source": [
    "## 2. Analise e processamento dos dados"
   ]
  },
  {
   "cell_type": "markdown",
   "metadata": {},
   "source": [
    "Há algumas informações importantes na documentação,\n",
    "- Tipo de cultivo possui 2 tipos (0 e 1)\n",
    "- Tipo de solo possui 2 tipos (0 e 1)\n",
    "- Categoria do pesticida possui 3 informações (1, 2 e 3)\n",
    "- Temporada climatica se resume em 3 tipos (1, 2 e 3)\n",
    "\n",
    "Ou seja, tais variaveis são quantitativas discretas, pertencentes a um grupo finito de possibilidade, e que talvez a aplicação de algoritmos como One-Hot-Encoding tragam resultados melhores nos modelos, pois não sabemos se há ordinalidade entre as categorias e tipos"
   ]
  },
  {
   "cell_type": "code",
   "execution_count": 4,
   "metadata": {},
   "outputs": [
    {
     "data": {
      "text/html": [
       "<div>\n",
       "<style scoped>\n",
       "    .dataframe tbody tr th:only-of-type {\n",
       "        vertical-align: middle;\n",
       "    }\n",
       "\n",
       "    .dataframe tbody tr th {\n",
       "        vertical-align: top;\n",
       "    }\n",
       "\n",
       "    .dataframe thead th {\n",
       "        text-align: right;\n",
       "    }\n",
       "</style>\n",
       "<table border=\"1\" class=\"dataframe\">\n",
       "  <thead>\n",
       "    <tr style=\"text-align: right;\">\n",
       "      <th></th>\n",
       "      <th>Identificador_Agricultor</th>\n",
       "      <th>Estimativa_de_Insetos</th>\n",
       "      <th>Tipo_de_Cultivo</th>\n",
       "      <th>Tipo_de_Solo</th>\n",
       "      <th>Categoria_Pesticida</th>\n",
       "      <th>Doses_Semana</th>\n",
       "      <th>Semanas_Utilizando</th>\n",
       "      <th>Semanas_Sem_Uso</th>\n",
       "      <th>Temporada</th>\n",
       "      <th>dano_na_plantacao</th>\n",
       "    </tr>\n",
       "  </thead>\n",
       "  <tbody>\n",
       "    <tr>\n",
       "      <th>0</th>\n",
       "      <td>SCROP00001</td>\n",
       "      <td>188</td>\n",
       "      <td>1</td>\n",
       "      <td>0</td>\n",
       "      <td>1</td>\n",
       "      <td>0</td>\n",
       "      <td>0.0</td>\n",
       "      <td>0</td>\n",
       "      <td>1</td>\n",
       "      <td>0</td>\n",
       "    </tr>\n",
       "    <tr>\n",
       "      <th>1</th>\n",
       "      <td>SCROP00002</td>\n",
       "      <td>209</td>\n",
       "      <td>1</td>\n",
       "      <td>0</td>\n",
       "      <td>1</td>\n",
       "      <td>0</td>\n",
       "      <td>0.0</td>\n",
       "      <td>0</td>\n",
       "      <td>2</td>\n",
       "      <td>1</td>\n",
       "    </tr>\n",
       "    <tr>\n",
       "      <th>2</th>\n",
       "      <td>SCROP00003</td>\n",
       "      <td>257</td>\n",
       "      <td>1</td>\n",
       "      <td>0</td>\n",
       "      <td>1</td>\n",
       "      <td>0</td>\n",
       "      <td>0.0</td>\n",
       "      <td>0</td>\n",
       "      <td>2</td>\n",
       "      <td>1</td>\n",
       "    </tr>\n",
       "    <tr>\n",
       "      <th>3</th>\n",
       "      <td>SCROP00004</td>\n",
       "      <td>257</td>\n",
       "      <td>1</td>\n",
       "      <td>1</td>\n",
       "      <td>1</td>\n",
       "      <td>0</td>\n",
       "      <td>0.0</td>\n",
       "      <td>0</td>\n",
       "      <td>2</td>\n",
       "      <td>1</td>\n",
       "    </tr>\n",
       "    <tr>\n",
       "      <th>4</th>\n",
       "      <td>SCROP00005</td>\n",
       "      <td>342</td>\n",
       "      <td>1</td>\n",
       "      <td>0</td>\n",
       "      <td>1</td>\n",
       "      <td>0</td>\n",
       "      <td>0.0</td>\n",
       "      <td>0</td>\n",
       "      <td>2</td>\n",
       "      <td>1</td>\n",
       "    </tr>\n",
       "  </tbody>\n",
       "</table>\n",
       "</div>"
      ],
      "text/plain": [
       "  Identificador_Agricultor  Estimativa_de_Insetos  Tipo_de_Cultivo  \\\n",
       "0               SCROP00001                    188                1   \n",
       "1               SCROP00002                    209                1   \n",
       "2               SCROP00003                    257                1   \n",
       "3               SCROP00004                    257                1   \n",
       "4               SCROP00005                    342                1   \n",
       "\n",
       "   Tipo_de_Solo  Categoria_Pesticida  Doses_Semana  Semanas_Utilizando  \\\n",
       "0             0                    1             0                 0.0   \n",
       "1             0                    1             0                 0.0   \n",
       "2             0                    1             0                 0.0   \n",
       "3             1                    1             0                 0.0   \n",
       "4             0                    1             0                 0.0   \n",
       "\n",
       "   Semanas_Sem_Uso  Temporada  dano_na_plantacao  \n",
       "0                0          1                  0  \n",
       "1                0          2                  1  \n",
       "2                0          2                  1  \n",
       "3                0          2                  1  \n",
       "4                0          2                  1  "
      ]
     },
     "execution_count": 4,
     "metadata": {},
     "output_type": "execute_result"
    }
   ],
   "source": [
    "df.head()"
   ]
  },
  {
   "cell_type": "markdown",
   "metadata": {},
   "source": [
    "Ademais, excluindo a identificação e o target, todas as outras variaveis são quantitativas continuas, e portanto receberão tratamentos diferentes, como a normalização dos dados, e a possivel remoção de outliers"
   ]
  },
  {
   "cell_type": "markdown",
   "metadata": {},
   "source": [
    "Antes de tudo, devemos ter uma atenção a possibilidade de existencia de dados faltantes, para isso, podemos executar uma simples busca"
   ]
  },
  {
   "cell_type": "code",
   "execution_count": 5,
   "metadata": {},
   "outputs": [
    {
     "data": {
      "text/plain": [
       "Identificador_Agricultor       0\n",
       "Estimativa_de_Insetos          0\n",
       "Tipo_de_Cultivo                0\n",
       "Tipo_de_Solo                   0\n",
       "Categoria_Pesticida            0\n",
       "Doses_Semana                   0\n",
       "Semanas_Utilizando          8055\n",
       "Semanas_Sem_Uso                0\n",
       "Temporada                      0\n",
       "dano_na_plantacao              0\n",
       "dtype: int64"
      ]
     },
     "execution_count": 5,
     "metadata": {},
     "output_type": "execute_result"
    }
   ],
   "source": [
    "df.isna().sum()"
   ]
  },
  {
   "cell_type": "code",
   "execution_count": 6,
   "metadata": {},
   "outputs": [
    {
     "data": {
      "text/html": [
       "<div>\n",
       "<style scoped>\n",
       "    .dataframe tbody tr th:only-of-type {\n",
       "        vertical-align: middle;\n",
       "    }\n",
       "\n",
       "    .dataframe tbody tr th {\n",
       "        vertical-align: top;\n",
       "    }\n",
       "\n",
       "    .dataframe thead th {\n",
       "        text-align: right;\n",
       "    }\n",
       "</style>\n",
       "<table border=\"1\" class=\"dataframe\">\n",
       "  <thead>\n",
       "    <tr style=\"text-align: right;\">\n",
       "      <th></th>\n",
       "      <th>Identificador_Agricultor</th>\n",
       "      <th>Estimativa_de_Insetos</th>\n",
       "      <th>Tipo_de_Cultivo</th>\n",
       "      <th>Tipo_de_Solo</th>\n",
       "      <th>Categoria_Pesticida</th>\n",
       "      <th>Doses_Semana</th>\n",
       "      <th>Semanas_Utilizando</th>\n",
       "      <th>Semanas_Sem_Uso</th>\n",
       "      <th>Temporada</th>\n",
       "      <th>dano_na_plantacao</th>\n",
       "    </tr>\n",
       "  </thead>\n",
       "  <tbody>\n",
       "    <tr>\n",
       "      <th>5</th>\n",
       "      <td>SCROP00006</td>\n",
       "      <td>448</td>\n",
       "      <td>0</td>\n",
       "      <td>1</td>\n",
       "      <td>1</td>\n",
       "      <td>0</td>\n",
       "      <td>NaN</td>\n",
       "      <td>0</td>\n",
       "      <td>2</td>\n",
       "      <td>1</td>\n",
       "    </tr>\n",
       "    <tr>\n",
       "      <th>6</th>\n",
       "      <td>SCROP00007</td>\n",
       "      <td>448</td>\n",
       "      <td>0</td>\n",
       "      <td>1</td>\n",
       "      <td>1</td>\n",
       "      <td>0</td>\n",
       "      <td>NaN</td>\n",
       "      <td>0</td>\n",
       "      <td>2</td>\n",
       "      <td>1</td>\n",
       "    </tr>\n",
       "    <tr>\n",
       "      <th>10</th>\n",
       "      <td>SCROP00011</td>\n",
       "      <td>1212</td>\n",
       "      <td>1</td>\n",
       "      <td>0</td>\n",
       "      <td>1</td>\n",
       "      <td>0</td>\n",
       "      <td>NaN</td>\n",
       "      <td>0</td>\n",
       "      <td>3</td>\n",
       "      <td>0</td>\n",
       "    </tr>\n",
       "    <tr>\n",
       "      <th>17</th>\n",
       "      <td>SCROP00018</td>\n",
       "      <td>2401</td>\n",
       "      <td>0</td>\n",
       "      <td>1</td>\n",
       "      <td>1</td>\n",
       "      <td>0</td>\n",
       "      <td>NaN</td>\n",
       "      <td>0</td>\n",
       "      <td>1</td>\n",
       "      <td>1</td>\n",
       "    </tr>\n",
       "    <tr>\n",
       "      <th>35</th>\n",
       "      <td>SCROP00036</td>\n",
       "      <td>257</td>\n",
       "      <td>0</td>\n",
       "      <td>0</td>\n",
       "      <td>3</td>\n",
       "      <td>30</td>\n",
       "      <td>NaN</td>\n",
       "      <td>0</td>\n",
       "      <td>2</td>\n",
       "      <td>0</td>\n",
       "    </tr>\n",
       "  </tbody>\n",
       "</table>\n",
       "</div>"
      ],
      "text/plain": [
       "   Identificador_Agricultor  Estimativa_de_Insetos  Tipo_de_Cultivo  \\\n",
       "5                SCROP00006                    448                0   \n",
       "6                SCROP00007                    448                0   \n",
       "10               SCROP00011                   1212                1   \n",
       "17               SCROP00018                   2401                0   \n",
       "35               SCROP00036                    257                0   \n",
       "\n",
       "    Tipo_de_Solo  Categoria_Pesticida  Doses_Semana  Semanas_Utilizando  \\\n",
       "5              1                    1             0                 NaN   \n",
       "6              1                    1             0                 NaN   \n",
       "10             0                    1             0                 NaN   \n",
       "17             1                    1             0                 NaN   \n",
       "35             0                    3            30                 NaN   \n",
       "\n",
       "    Semanas_Sem_Uso  Temporada  dano_na_plantacao  \n",
       "5                 0          2                  1  \n",
       "6                 0          2                  1  \n",
       "10                0          3                  0  \n",
       "17                0          1                  1  \n",
       "35                0          2                  0  "
      ]
     },
     "execution_count": 6,
     "metadata": {},
     "output_type": "execute_result"
    }
   ],
   "source": [
    "df[df.isna()[\"Semanas_Utilizando\"]].head()"
   ]
  },
  {
   "cell_type": "markdown",
   "metadata": {},
   "source": [
    "Como podemos ver, temos 8055 dados faltantes na coluna 'Semanas_Utilizando', esse valor representa aproximadamente 10% de todos os dados, portanto, a estrategia de exclui-los não pode ser executado, pois traria um prejuizo relacionado a perca de dados bem grande.\n",
    "\n",
    "A primeira estrategia é saber que alguns desses dados possuem 0 Doses/Semana, o que quer dizer que não foi aplicado nenhum pesticida, portanto imputaremos 0 semanas_utilizando nesses casos.\n",
    "\n",
    "Em seguida, podemos agrupar pela estimativa da quantidade de insetos e imputar a media de semanas utilizando\n"
   ]
  },
  {
   "cell_type": "code",
   "execution_count": 8,
   "metadata": {},
   "outputs": [],
   "source": [
    "df[df['Doses_Semana'] == 0] = df[df['Doses_Semana'] == 0].fillna(0)"
   ]
  },
  {
   "cell_type": "code",
   "execution_count": 9,
   "metadata": {},
   "outputs": [],
   "source": [
    "df['Semanas_Utilizando'] = df.groupby(['Estimativa_de_Insetos'])['Semanas_Utilizando'].apply(lambda x: x.fillna(int(x.mean())))"
   ]
  },
  {
   "cell_type": "code",
   "execution_count": 10,
   "metadata": {},
   "outputs": [],
   "source": [
    "def fillna_Semanas_Utilizando(df):\n",
    "    df[df['Doses_Semana'] == 0] = df[df['Doses_Semana'] == 0].fillna(0)\n",
    "    df['Semanas_Utilizando'] = df.groupby(['Estimativa_de_Insetos'])['Semanas_Utilizando'].apply(lambda x: x.fillna(int(x.mean())))\n",
    "    return df"
   ]
  },
  {
   "cell_type": "code",
   "execution_count": 11,
   "metadata": {},
   "outputs": [
    {
     "data": {
      "text/plain": [
       "Identificador_Agricultor    0\n",
       "Estimativa_de_Insetos       0\n",
       "Tipo_de_Cultivo             0\n",
       "Tipo_de_Solo                0\n",
       "Categoria_Pesticida         0\n",
       "Doses_Semana                0\n",
       "Semanas_Utilizando          0\n",
       "Semanas_Sem_Uso             0\n",
       "Temporada                   0\n",
       "dano_na_plantacao           0\n",
       "dtype: int64"
      ]
     },
     "execution_count": 11,
     "metadata": {},
     "output_type": "execute_result"
    }
   ],
   "source": [
    "df.isna().sum()"
   ]
  },
  {
   "cell_type": "markdown",
   "metadata": {},
   "source": [
    "### Variavel Continua - Doses/Semana"
   ]
  },
  {
   "cell_type": "markdown",
   "metadata": {},
   "source": [
    "Como podemos ver, a variavel doses/semana tem uma distribuição assimetrica para a esquerda, o que é prejudicial para alguns modelos estatisticos, no entanto, modelos como arvores de decisão conseguem lidar melhor com outliers, porem restringe nossas opções de modelos, portanto, o melhor a se fazer é aplicar uma transformação para tentar fazer com que esses dados respeitem uma distribuição normal"
   ]
  },
  {
   "cell_type": "code",
   "execution_count": 12,
   "metadata": {},
   "outputs": [
    {
     "data": {
      "image/png": "[encoded data removed]",
      "text/plain": [
       "<Figure size 432x288 with 1 Axes>"
      ]
     },
     "metadata": {
      "needs_background": "light"
     },
     "output_type": "display_data"
    }
   ],
   "source": [
    "plt.hist(df['Doses_Semana'], rwidth = 0.8, color = \"#408253\")\n",
    "plt.show()"
   ]
  },
  {
   "cell_type": "code",
   "execution_count": 14,
   "metadata": {},
   "outputs": [
    {
     "data": {
      "text/plain": [
       "(array([  763.,  4962., 10881.,  7405., 20344., 13784., 12694.,  4135.,\n",
       "         4318.,   714.]),\n",
       " array([-2.8448877 , -2.26838853, -1.69188936, -1.11539019, -0.53889102,\n",
       "         0.03760815,  0.61410731,  1.19060648,  1.76710565,  2.34360482,\n",
       "         2.92010399]),\n",
       " <a list of 10 Patch objects>)"
      ]
     },
     "execution_count": 14,
     "metadata": {},
     "output_type": "execute_result"
    },
    {
     "data": {
      "image/png": "[encoded data removed]",
      "text/plain": [
       "<Figure size 432x288 with 1 Axes>"
      ]
     },
     "metadata": {
      "needs_background": "light"
     },
     "output_type": "display_data"
    }
   ],
   "source": [
    "sc = power_transform(np.array(df['Doses_Semana']+3).reshape(-1,1), method = 'box-cox')\n",
    "plt.hist(sc, color = \"#408253\", rwidth=0.8)"
   ]
  },
  {
   "cell_type": "markdown",
   "metadata": {},
   "source": [
    "Realizando uma aritmetica em todos os dados e aplicando o metodo de box-cox, chegamos em uma distribuição bem proxima a uma distribuição normal.\n",
    "\n",
    "Para facilitar o tratamento de diversos dados, criarei uma função responsavel pelo tratamento desse dado especifico"
   ]
  },
  {
   "cell_type": "code",
   "execution_count": 15,
   "metadata": {},
   "outputs": [],
   "source": [
    "def clean_doses_semana(df2):\n",
    "    df2['Doses_Semana'] = power_transform(np.array(df2['Doses_Semana']+3).reshape(-1,1), method = 'box-cox')\n",
    "    return df2"
   ]
  },
  {
   "cell_type": "markdown",
   "metadata": {},
   "source": [
    "### Variavel Continua - Semanas Utilizando"
   ]
  },
  {
   "cell_type": "markdown",
   "metadata": {},
   "source": [
    "Novamente temos um distribuição assimetrica, no entanto, com uma assimetria bem menor, porem, realizaremos algumas operações para diminuir ainda mais essa inclinação pra esquerda da distribuição"
   ]
  },
  {
   "cell_type": "code",
   "execution_count": 16,
   "metadata": {},
   "outputs": [
    {
     "data": {
      "image/png": "[encoded data removed]",
      "text/plain": [
       "<Figure size 432x288 with 1 Axes>"
      ]
     },
     "metadata": {
      "needs_background": "light"
     },
     "output_type": "display_data"
    }
   ],
   "source": [
    "plt.hist(df['Semanas_Utilizando'], rwidth = 0.8, color = \"#407682\")\n",
    "plt.show()"
   ]
  },
  {
   "cell_type": "code",
   "execution_count": 17,
   "metadata": {},
   "outputs": [
    {
     "data": {
      "image/png": "[encoded data removed]",
      "text/plain": [
       "<Figure size 432x288 with 1 Axes>"
      ]
     },
     "metadata": {
      "needs_background": "light"
     },
     "output_type": "display_data"
    }
   ],
   "source": [
    "sc = power_transform(np.array(df['Semanas_Utilizando']+1).reshape(-1,1), method = 'box-cox')\n",
    "plt.hist(sc, rwidth = 0.8, color = \"#407682\")\n",
    "plt.show()"
   ]
  },
  {
   "cell_type": "code",
   "execution_count": 18,
   "metadata": {},
   "outputs": [],
   "source": [
    "def clean_semanas_utilizando(df2):\n",
    "    df2['Semanas_Utilizando'] = power_transform(np.array(df2['Semanas_Utilizando']+1).reshape(-1,1), method = 'box-cox')\n",
    "    return df2"
   ]
  },
  {
   "cell_type": "markdown",
   "metadata": {},
   "source": [
    "### Variavel Continua - Semanas Sem Uso"
   ]
  },
  {
   "cell_type": "markdown",
   "metadata": {},
   "source": [
    "Essa variavel, possui uma assimetria muito grande proximo das 0 semanas, o que é inevitavel, porem podemos aplicar algumas transformações"
   ]
  },
  {
   "cell_type": "code",
   "execution_count": 19,
   "metadata": {},
   "outputs": [
    {
     "data": {
      "image/png": "[encoded data removed]",
      "text/plain": [
       "<Figure size 432x288 with 1 Axes>"
      ]
     },
     "metadata": {
      "needs_background": "light"
     },
     "output_type": "display_data"
    }
   ],
   "source": [
    "plt.hist(df['Semanas_Sem_Uso'], rwidth = 0.8, color = \"#407682\")\n",
    "plt.show()"
   ]
  },
  {
   "cell_type": "code",
   "execution_count": 20,
   "metadata": {},
   "outputs": [
    {
     "data": {
      "image/png": "[encoded data removed]",
      "text/plain": [
       "<Figure size 432x288 with 1 Axes>"
      ]
     },
     "metadata": {
      "needs_background": "light"
     },
     "output_type": "display_data"
    }
   ],
   "source": [
    "plt.hist(df['Semanas_Sem_Uso']**(1/2), rwidth = 0.8, color = \"#407682\")\n",
    "plt.show()"
   ]
  },
  {
   "cell_type": "code",
   "execution_count": 21,
   "metadata": {},
   "outputs": [],
   "source": [
    "def clean_semanas_Sem_Uso(df2):\n",
    "    df2['Semanas_Sem_Uso'] = df2['Semanas_Sem_Uso']**(1/2)\n",
    "    return df2"
   ]
  },
  {
   "cell_type": "markdown",
   "metadata": {},
   "source": [
    "### Variavel Continua - Estimativa de Insetos"
   ]
  },
  {
   "cell_type": "markdown",
   "metadata": {},
   "source": [
    "Novamente, uma distribuição assimetrica que precisa receber um tratamento"
   ]
  },
  {
   "cell_type": "code",
   "execution_count": 22,
   "metadata": {
    "scrolled": true
   },
   "outputs": [
    {
     "data": {
      "image/png": "[encoded data removed]",
      "text/plain": [
       "<Figure size 432x288 with 1 Axes>"
      ]
     },
     "metadata": {
      "needs_background": "light"
     },
     "output_type": "display_data"
    }
   ],
   "source": [
    "plt.hist(df['Estimativa_de_Insetos'], rwidth = 0.8, color = \"#824042\")\n",
    "plt.show()"
   ]
  },
  {
   "cell_type": "code",
   "execution_count": 23,
   "metadata": {},
   "outputs": [
    {
     "data": {
      "image/png": "[encoded data removed]",
      "text/plain": [
       "<Figure size 432x288 with 1 Axes>"
      ]
     },
     "metadata": {
      "needs_background": "light"
     },
     "output_type": "display_data"
    }
   ],
   "source": [
    "plt.hist(df['Estimativa_de_Insetos']**(1/3), rwidth = 0.8, color = \"#824042\")\n",
    "plt.show()"
   ]
  },
  {
   "cell_type": "markdown",
   "metadata": {},
   "source": [
    "Neste caso, batou que tirasse a raiz cubica de todos os dados para ter uma distribuição muito proxima da normal"
   ]
  },
  {
   "cell_type": "code",
   "execution_count": 24,
   "metadata": {},
   "outputs": [],
   "source": [
    "def clean_estimativa_de_Insetos(df2):\n",
    "    df2['Estimativa_de_Insetos'] = df2['Estimativa_de_Insetos']**(1/3)\n",
    "    return df2"
   ]
  },
  {
   "cell_type": "markdown",
   "metadata": {},
   "source": [
    "### Variavel Discreta - Tipo de Cultivo"
   ]
  },
  {
   "cell_type": "code",
   "execution_count": 25,
   "metadata": {},
   "outputs": [
    {
     "data": {
      "image/png": "[encoded data removed]",
      "text/plain": [
       "<Figure size 432x288 with 1 Axes>"
      ]
     },
     "metadata": {
      "needs_background": "light"
     },
     "output_type": "display_data"
    }
   ],
   "source": [
    "plt.hist(df['Tipo_de_Cultivo'], rwidth = 0.8, color = \"#828240\")\n",
    "plt.show()"
   ]
  },
  {
   "cell_type": "markdown",
   "metadata": {},
   "source": [
    "Nesse caso, não há transformações a serem feitas"
   ]
  },
  {
   "cell_type": "markdown",
   "metadata": {},
   "source": [
    "### Variavel Discreta - Tipo de Solo"
   ]
  },
  {
   "cell_type": "code",
   "execution_count": 26,
   "metadata": {},
   "outputs": [
    {
     "data": {
      "image/png": "[encoded data removed]",
      "text/plain": [
       "<Figure size 432x288 with 1 Axes>"
      ]
     },
     "metadata": {
      "needs_background": "light"
     },
     "output_type": "display_data"
    }
   ],
   "source": [
    "plt.hist(df['Tipo_de_Solo'], rwidth = 0.8, color = \"#826a40\")\n",
    "plt.show()"
   ]
  },
  {
   "cell_type": "markdown",
   "metadata": {},
   "source": [
    "### Variavel Discreta - Categoria de Pesticida"
   ]
  },
  {
   "cell_type": "code",
   "execution_count": 27,
   "metadata": {},
   "outputs": [
    {
     "data": {
      "image/png": "[encoded data removed]",
      "text/plain": [
       "<Figure size 432x288 with 1 Axes>"
      ]
     },
     "metadata": {
      "needs_background": "light"
     },
     "output_type": "display_data"
    }
   ],
   "source": [
    "plt.hist(df['Categoria_Pesticida'], rwidth = 0.8, color = \"#825240\")\n",
    "plt.show()"
   ]
  },
  {
   "cell_type": "markdown",
   "metadata": {},
   "source": [
    "Como temos 3 categorias, e não sabemos se elas são ordinais, o mais correto é aplicar o algoritmo one-hot-encoding, transformando a coluna categoria de pesticida em outras 3 colunas"
   ]
  },
  {
   "cell_type": "code",
   "execution_count": 28,
   "metadata": {},
   "outputs": [],
   "source": [
    "cpohe = OneHotEncoder().fit(np.array(df['Categoria_Pesticida']).reshape(-1,1))\n",
    "def clean_categoria_pesticida(df2):\n",
    "    encoded = cpohe.transform(np.array(df2['Categoria_Pesticida']).reshape(-1,1)).todense()\n",
    "    df2 = pd.concat([df2, pd.DataFrame(encoded)], axis=1).drop(['Categoria_Pesticida'], axis=1)\n",
    "    return df2"
   ]
  },
  {
   "cell_type": "markdown",
   "metadata": {},
   "source": [
    "### Variavel Discreta - Temporada"
   ]
  },
  {
   "cell_type": "code",
   "execution_count": 29,
   "metadata": {},
   "outputs": [
    {
     "data": {
      "image/png": "[encoded data removed]",
      "text/plain": [
       "<Figure size 432x288 with 1 Axes>"
      ]
     },
     "metadata": {
      "needs_background": "light"
     },
     "output_type": "display_data"
    }
   ],
   "source": [
    "plt.hist(df['Temporada'], rwidth = 0.8, color = \"#405182\")\n",
    "plt.show()"
   ]
  },
  {
   "cell_type": "markdown",
   "metadata": {},
   "source": [
    "Novamente, não sabemos se há ordinalidade entre temporadas, aplicaremos o algoritmo usado anteriormente"
   ]
  },
  {
   "cell_type": "code",
   "execution_count": 30,
   "metadata": {},
   "outputs": [],
   "source": [
    "tempohe = OneHotEncoder().fit(np.array(df['Temporada']).reshape(-1,1))\n",
    "def clean_temporada(df2):\n",
    "    encoded = tempohe.transform(np.array(df2['Temporada']).reshape(-1,1)).todense()\n",
    "    df2 = pd.concat([df2, pd.DataFrame(encoded)], axis=1).drop(['Temporada'], axis=1)\n",
    "    return df2"
   ]
  },
  {
   "cell_type": "markdown",
   "metadata": {},
   "source": [
    "### Variavel Discreta - Danos a Plantação"
   ]
  },
  {
   "cell_type": "markdown",
   "metadata": {},
   "source": [
    "Finalmente chegamos a variavel target, que sera a predição do modelo. Como podemos ver está extremamente desbalanceado e isso afetará alguns modelos estatisticos, portanto, precisamos pensar em alguns estrategias.\n",
    "\n",
    "Podemos usar o conceito de ensemble, o qual agregaremos alguns classificadores com o objetivo de diminuir variancia e erros."
   ]
  },
  {
   "cell_type": "code",
   "execution_count": 31,
   "metadata": {},
   "outputs": [
    {
     "data": {
      "image/png": "[encoded data removed]",
      "text/plain": [
       "<Figure size 432x288 with 1 Axes>"
      ]
     },
     "metadata": {
      "needs_background": "light"
     },
     "output_type": "display_data"
    }
   ],
   "source": [
    "plt.hist(df['dano_na_plantacao'], rwidth = 0.8, color = \"#414082\")\n",
    "plt.show()"
   ]
  },
  {
   "cell_type": "markdown",
   "metadata": {},
   "source": [
    "### Pipeline"
   ]
  },
  {
   "cell_type": "code",
   "execution_count": 32,
   "metadata": {},
   "outputs": [],
   "source": [
    "def pipeline(df2):\n",
    "    df2 = fillna_Semanas_Utilizando(df2)\n",
    "    df2 = clean_doses_semana(df2)\n",
    "    df2 = clean_semanas_utilizando(df2)\n",
    "    df2 = clean_semanas_Sem_Uso(df2)\n",
    "    df2 = clean_estimativa_de_Insetos(df2)\n",
    "    df2 = clean_categoria_pesticida(df2)\n",
    "    df2 = clean_temporada(df2)\n",
    "    return df2\n",
    "\n",
    "df_processed = pipeline(df)"
   ]
  },
  {
   "cell_type": "markdown",
   "metadata": {},
   "source": [
    "## 3. Modelo de Aprendizado de Maquina"
   ]
  },
  {
   "cell_type": "markdown",
   "metadata": {},
   "source": [
    "Após processado todos os dados, propoe-se algumas hipoteses e as testamos.\n",
    "\n",
    "Hipoteses a serem testadas:\n",
    "- Maquina de suporte de vetores\n",
    "- Naive Bayes Gaussiano\n",
    "- Perceptron\n",
    "- Random Forests"
   ]
  },
  {
   "cell_type": "code",
   "execution_count": 33,
   "metadata": {},
   "outputs": [],
   "source": [
    "y = df_processed[\"dano_na_plantacao\"]\n",
    "X = df_processed.drop(['dano_na_plantacao', 'Identificador_Agricultor'], axis=1)\n",
    "\n",
    "\n",
    "x_train, x_test, y_train, y_test = train_test_split(X, y, test_size=0.5, stratify = y, random_state=42)"
   ]
  },
  {
   "cell_type": "markdown",
   "metadata": {},
   "source": [
    "### Gaussian NB"
   ]
  },
  {
   "cell_type": "code",
   "execution_count": 34,
   "metadata": {},
   "outputs": [
    {
     "data": {
      "text/plain": [
       "0.827225"
      ]
     },
     "execution_count": 34,
     "metadata": {},
     "output_type": "execute_result"
    }
   ],
   "source": [
    "nb = GaussianNB().fit(x_train, y_train)\n",
    "f1_score(y_test, nb.predict(x_test), average=\"micro\")"
   ]
  },
  {
   "cell_type": "markdown",
   "metadata": {},
   "source": [
    "Apesar de ser um resultado satisfatorio, podemos tentar melhorá-lo, realizando um fine-tuning"
   ]
  },
  {
   "cell_type": "code",
   "execution_count": 35,
   "metadata": {},
   "outputs": [
    {
     "data": {
      "text/plain": [
       "0.83395"
      ]
     },
     "execution_count": 35,
     "metadata": {},
     "output_type": "execute_result"
    }
   ],
   "source": [
    "param = {\"var_smoothing\":[1e8, 1e6, 1e5, 1e3, 1e2, 0, 1e-2, 1e-4, 1e-6, 1e-8]}\n",
    "gs = GridSearchCV(nb, param).fit(x_train, y_train)\n",
    "f1_score(y_test, gs.predict(x_test), average=\"micro\")"
   ]
  },
  {
   "cell_type": "code",
   "execution_count": 36,
   "metadata": {},
   "outputs": [
    {
     "data": {
      "text/plain": [
       "GaussianNB(var_smoothing=100000000.0)"
      ]
     },
     "execution_count": 36,
     "metadata": {},
     "output_type": "execute_result"
    }
   ],
   "source": [
    "gs.best_estimator_"
   ]
  },
  {
   "cell_type": "markdown",
   "metadata": {},
   "source": [
    "### SVC"
   ]
  },
  {
   "cell_type": "code",
   "execution_count": 37,
   "metadata": {},
   "outputs": [
    {
     "name": "stdout",
     "output_type": "stream",
     "text": [
      "[LibSVM]"
     ]
    },
    {
     "data": {
      "text/plain": [
       "0.83915"
      ]
     },
     "execution_count": 37,
     "metadata": {},
     "output_type": "execute_result"
    }
   ],
   "source": [
    "svc = SVC(verbose = True, probability=True).fit(x_train, y_train)\n",
    "f1_score(y_test, svc.predict(x_test), average=\"micro\")"
   ]
  },
  {
   "cell_type": "markdown",
   "metadata": {},
   "source": [
    "### Random Forests"
   ]
  },
  {
   "cell_type": "code",
   "execution_count": 38,
   "metadata": {},
   "outputs": [
    {
     "data": {
      "text/plain": [
       "0.821925"
      ]
     },
     "execution_count": 38,
     "metadata": {},
     "output_type": "execute_result"
    }
   ],
   "source": [
    "rf = RandomForestClassifier().fit(x_train, y_train)\n",
    "f1_score(y_test, rf.predict(x_test), average=\"micro\")"
   ]
  },
  {
   "cell_type": "markdown",
   "metadata": {},
   "source": [
    "### Perceptron"
   ]
  },
  {
   "cell_type": "code",
   "execution_count": 39,
   "metadata": {},
   "outputs": [
    {
     "data": {
      "text/plain": [
       "0.841925"
      ]
     },
     "execution_count": 39,
     "metadata": {},
     "output_type": "execute_result"
    }
   ],
   "source": [
    "mlp = MLPClassifier(hidden_layer_sizes = (100,)).fit(x_train, y_train)\n",
    "f1_score(y_test, mlp.predict(x_test), average=\"micro\")"
   ]
  },
  {
   "cell_type": "markdown",
   "metadata": {},
   "source": [
    "### Voting Stacking"
   ]
  },
  {
   "cell_type": "markdown",
   "metadata": {},
   "source": [
    "Com o intuito de melhorar o classificador, uniremos todos em um sistema de ensemble chamado de voting stacking, que basicamente atribui pesos e realiza uma media ponderada na probabilidade de cada classe"
   ]
  },
  {
   "cell_type": "code",
   "execution_count": 40,
   "metadata": {},
   "outputs": [
    {
     "name": "stdout",
     "output_type": "stream",
     "text": [
      "nb\n",
      "svc\n",
      "rf\n",
      "perc\n"
     ]
    }
   ],
   "source": [
    "from hyperopt import fmin, tpe, hp, STATUS_OK, Trials\n",
    "\n",
    "model_dict = dict(zip(['nb', 'svc', \"rf\", \"perc\"],\n",
    "                      [gs, svc, rf, mlp]))\n",
    "\n",
    "model_weights = {   \n",
    "                    'nb' : 0.9,\n",
    "                    'svc' : 0.8,\n",
    "                    'rf': 0.5,\n",
    "    'perc': 0.5,\n",
    "     \n",
    " }\n",
    "\n",
    "preds = []\n",
    "y_pred_prob = 0\n",
    "for model_name, model in model_dict.items():\n",
    "    print(model_name)\n",
    "    preds.append(model.predict_proba((x_test)))\n",
    "\n",
    "    \n"
   ]
  },
  {
   "cell_type": "code",
   "execution_count": 41,
   "metadata": {},
   "outputs": [
    {
     "name": "stdout",
     "output_type": "stream",
     "text": [
      "100%|██████████| 2000/2000 [01:10<00:00, 28.21trial/s, best loss: -0.843425]         \n"
     ]
    }
   ],
   "source": [
    "def run_voting_clf(model_weights):    \n",
    "    y_pred_prob = 0\n",
    "    n=0\n",
    "    for model_name, model in model_dict.items():\n",
    "        y_pred_prob += (preds[n] * model_weights[model_name])\n",
    "        n+=1\n",
    "\n",
    "    y_pred_prob /= sum(model_weights.values())\n",
    "    f1 = f1_score(y_test, np.argmax(y_pred_prob,axis=1), average='micro')\n",
    "    return {'loss' : -f1, 'status' : STATUS_OK}\n",
    "\n",
    "\n",
    "from hyperopt import fmin, tpe, hp, STATUS_OK, Trials\n",
    "\n",
    "trials = Trials()\n",
    "model_weights = fmin(run_voting_clf,\n",
    "    space= {\n",
    "        \n",
    "        'nb' : hp.uniform('nb', 0, 1),\n",
    "        'svc' : hp.uniform('svc', 0, 1),\n",
    "        'rf' : hp.uniform('rf', 0, 1),\n",
    "        'perc' : hp.uniform('perc', 0, 1),\n",
    "       \n",
    "\n",
    "    },\n",
    "    algo=tpe.suggest,\n",
    "    max_evals=2000,\n",
    "    trials = trials)\n"
   ]
  },
  {
   "cell_type": "markdown",
   "metadata": {},
   "source": [
    "Como podemos ver, a cada vez que é rodado tem-se uma combinação diferente e apos varios testes, conseguimos um score de 0.84345, maior que todos os outros modelos separadamente, e abaixo, podemos ver o peso que foi atribuido a cada modelo.\n",
    "\n",
    "'nb': 0.01871953120627269,\n",
    "\n",
    "'perc': 0.7784968342738109,\n",
    "\n",
    "'rf': 0.1190089322158962,\n",
    "\n",
    "'svc': 0.03447975258835745"
   ]
  },
  {
   "cell_type": "code",
   "execution_count": 46,
   "metadata": {},
   "outputs": [],
   "source": [
    "model_weights = {'nb': 0.01871953120627269,\n",
    "\n",
    "'perc': 0.7784968342738109,\n",
    "\n",
    "'rf': 0.1190089322158962,\n",
    "\n",
    "'svc': 0.03447975258835745}"
   ]
  },
  {
   "cell_type": "markdown",
   "metadata": {},
   "source": [
    "Portanto, agora nos resta prever a proxima safra"
   ]
  },
  {
   "cell_type": "markdown",
   "metadata": {},
   "source": [
    "## 4. Predição Final"
   ]
  },
  {
   "cell_type": "markdown",
   "metadata": {},
   "source": [
    "Antes de tudo, devemos aplicar o pipeline de transformação no dataframe"
   ]
  },
  {
   "cell_type": "code",
   "execution_count": 50,
   "metadata": {},
   "outputs": [],
   "source": [
    "df_predict = pd.read_csv(\"Safra_2020.csv\", index_col = 0)\n",
    "df_predict = df_predict.reset_index(drop = True)"
   ]
  },
  {
   "cell_type": "code",
   "execution_count": 51,
   "metadata": {},
   "outputs": [],
   "source": [
    "df_predict_processed = pipeline(df_predict.copy())"
   ]
  },
  {
   "cell_type": "markdown",
   "metadata": {},
   "source": [
    "Após, calculos a probabilidade de cada classa em cada modelo e realizamos a media ponderada"
   ]
  },
  {
   "cell_type": "code",
   "execution_count": 52,
   "metadata": {},
   "outputs": [
    {
     "name": "stdout",
     "output_type": "stream",
     "text": [
      "nb\n",
      "svc\n",
      "rf\n",
      "perc\n"
     ]
    }
   ],
   "source": [
    "pred = 0\n",
    "\n",
    "for model_name, model in model_dict.items():\n",
    "    print(model_name)\n",
    "    pred += model_dict[model_name].predict_proba(df_predict_processed.drop([\"Identificador_Agricultor\"], axis=1)) * model_weights[model_name]\n",
    "    \n",
    "pred = (pred)/sum(model_weights.values())"
   ]
  },
  {
   "cell_type": "markdown",
   "metadata": {},
   "source": [
    "Pegamos o indice da maior probabilidade e inserimos no data frame"
   ]
  },
  {
   "cell_type": "code",
   "execution_count": 53,
   "metadata": {},
   "outputs": [
    {
     "data": {
      "text/html": [
       "<div>\n",
       "<style scoped>\n",
       "    .dataframe tbody tr th:only-of-type {\n",
       "        vertical-align: middle;\n",
       "    }\n",
       "\n",
       "    .dataframe tbody tr th {\n",
       "        vertical-align: top;\n",
       "    }\n",
       "\n",
       "    .dataframe thead th {\n",
       "        text-align: right;\n",
       "    }\n",
       "</style>\n",
       "<table border=\"1\" class=\"dataframe\">\n",
       "  <thead>\n",
       "    <tr style=\"text-align: right;\">\n",
       "      <th></th>\n",
       "      <th>Identificador_Agricultor</th>\n",
       "      <th>Estimativa_de_Insetos</th>\n",
       "      <th>Tipo_de_Cultivo</th>\n",
       "      <th>Tipo_de_Solo</th>\n",
       "      <th>Categoria_Pesticida</th>\n",
       "      <th>Doses_Semana</th>\n",
       "      <th>Semanas_Utilizando</th>\n",
       "      <th>Semanas_Sem_Uso</th>\n",
       "      <th>Temporada</th>\n",
       "      <th>dano_na_plantacao</th>\n",
       "    </tr>\n",
       "  </thead>\n",
       "  <tbody>\n",
       "    <tr>\n",
       "      <th>0</th>\n",
       "      <td>SCROP80001</td>\n",
       "      <td>256</td>\n",
       "      <td>0</td>\n",
       "      <td>1</td>\n",
       "      <td>2</td>\n",
       "      <td>35</td>\n",
       "      <td>11.0</td>\n",
       "      <td>9</td>\n",
       "      <td>1</td>\n",
       "      <td>0</td>\n",
       "    </tr>\n",
       "    <tr>\n",
       "      <th>1</th>\n",
       "      <td>SCROP80002</td>\n",
       "      <td>283</td>\n",
       "      <td>0</td>\n",
       "      <td>1</td>\n",
       "      <td>2</td>\n",
       "      <td>5</td>\n",
       "      <td>5.0</td>\n",
       "      <td>6</td>\n",
       "      <td>1</td>\n",
       "      <td>0</td>\n",
       "    </tr>\n",
       "    <tr>\n",
       "      <th>2</th>\n",
       "      <td>SCROP80003</td>\n",
       "      <td>283</td>\n",
       "      <td>0</td>\n",
       "      <td>1</td>\n",
       "      <td>2</td>\n",
       "      <td>15</td>\n",
       "      <td>15.0</td>\n",
       "      <td>5</td>\n",
       "      <td>2</td>\n",
       "      <td>0</td>\n",
       "    </tr>\n",
       "    <tr>\n",
       "      <th>3</th>\n",
       "      <td>SCROP80004</td>\n",
       "      <td>283</td>\n",
       "      <td>0</td>\n",
       "      <td>1</td>\n",
       "      <td>2</td>\n",
       "      <td>15</td>\n",
       "      <td>NaN</td>\n",
       "      <td>7</td>\n",
       "      <td>2</td>\n",
       "      <td>0</td>\n",
       "    </tr>\n",
       "    <tr>\n",
       "      <th>4</th>\n",
       "      <td>SCROP80005</td>\n",
       "      <td>283</td>\n",
       "      <td>0</td>\n",
       "      <td>1</td>\n",
       "      <td>2</td>\n",
       "      <td>15</td>\n",
       "      <td>19.0</td>\n",
       "      <td>2</td>\n",
       "      <td>1</td>\n",
       "      <td>0</td>\n",
       "    </tr>\n",
       "  </tbody>\n",
       "</table>\n",
       "</div>"
      ],
      "text/plain": [
       "  Identificador_Agricultor  Estimativa_de_Insetos  Tipo_de_Cultivo  \\\n",
       "0               SCROP80001                    256                0   \n",
       "1               SCROP80002                    283                0   \n",
       "2               SCROP80003                    283                0   \n",
       "3               SCROP80004                    283                0   \n",
       "4               SCROP80005                    283                0   \n",
       "\n",
       "   Tipo_de_Solo  Categoria_Pesticida  Doses_Semana  Semanas_Utilizando  \\\n",
       "0             1                    2            35                11.0   \n",
       "1             1                    2             5                 5.0   \n",
       "2             1                    2            15                15.0   \n",
       "3             1                    2            15                 NaN   \n",
       "4             1                    2            15                19.0   \n",
       "\n",
       "   Semanas_Sem_Uso  Temporada  dano_na_plantacao  \n",
       "0                9          1                  0  \n",
       "1                6          1                  0  \n",
       "2                5          2                  0  \n",
       "3                7          2                  0  \n",
       "4                2          1                  0  "
      ]
     },
     "execution_count": 53,
     "metadata": {},
     "output_type": "execute_result"
    }
   ],
   "source": [
    "df_predict['dano_na_plantacao'] = np.argmax(pred, axis=1)\n",
    "df_predict.head()"
   ]
  },
  {
   "cell_type": "markdown",
   "metadata": {},
   "source": [
    "Salvamos e está tudo pronto!"
   ]
  },
  {
   "cell_type": "code",
   "execution_count": 58,
   "metadata": {},
   "outputs": [],
   "source": [
    "df_predict.to_csv(\"out/Safra_2020.csv\", index = False)"
   ]
  },
  {
   "cell_type": "markdown",
   "metadata": {},
   "source": [
    "É possivel executar o algoritmo de maneira mais simples, por meio do seguinte comando\n",
    "\n",
    "```bash\n",
    "python classificator.py \"endereco/do/arquivo/safra_20xx.csv\"\n",
    "```\n",
    "\n",
    "Que irá salvar um arquivo com a predição final"
   ]
  },
  {
   "cell_type": "code",
   "execution_count": null,
   "metadata": {},
   "outputs": [],
   "source": []
  }
 ],
 "metadata": {
  "kernelspec": {
   "display_name": "Python 3",
   "language": "python",
   "name": "python3"
  },
  "language_info": {
   "codemirror_mode": {
    "name": "ipython",
    "version": 3
   },
   "file_extension": ".py",
   "mimetype": "text/x-python",
   "name": "python",
   "nbconvert_exporter": "python",
   "pygments_lexer": "ipython3",
   "version": "3.7.6"
  }
 },
 "nbformat": 4,
 "nbformat_minor": 4
}
