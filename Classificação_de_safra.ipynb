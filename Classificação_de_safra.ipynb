{
 "cells": [
  {
   "cell_type": "markdown",
   "metadata": {},
   "source": [
    "# Indíce\n",
    "\n",
    "#### 1) Preparação dos dados\n",
    "#### 2) Feature Engineering\n",
    "#### 3) Classificação\n",
    "#### 4) Modelo Final\n",
    "#### 5) Conclusões\n",
    "#### 6) Classificação dos dados finais"
   ]
  },
  {
   "cell_type": "markdown",
   "metadata": {
    "colab_type": "text",
    "id": "UOUTSahxHm2U"
   },
   "source": [
    "## 1) Preparação dos dados"
   ]
  },
  {
   "cell_type": "code",
   "execution_count": 1,
   "metadata": {
    "colab": {},
    "colab_type": "code",
    "id": "9lKwYB-oHm2X"
   },
   "outputs": [],
   "source": [
    "import pandas as pd\n",
    "\n",
    "import numpy as np\n",
    "\n",
    "import warnings; warnings.simplefilter('ignore')"
   ]
  },
  {
   "cell_type": "code",
   "execution_count": 2,
   "metadata": {
    "colab": {
     "base_uri": "https://localhost:8080/",
     "height": 224
    },
    "colab_type": "code",
    "id": "ufg0zMCJHm2f",
    "outputId": "9ab904c0-2a6a-4e00-e9e8-188608af70a8"
   },
   "outputs": [
    {
     "data": {
      "text/html": [
       "<div>\n",
       "<style scoped>\n",
       "    .dataframe tbody tr th:only-of-type {\n",
       "        vertical-align: middle;\n",
       "    }\n",
       "\n",
       "    .dataframe tbody tr th {\n",
       "        vertical-align: top;\n",
       "    }\n",
       "\n",
       "    .dataframe thead th {\n",
       "        text-align: right;\n",
       "    }\n",
       "</style>\n",
       "<table border=\"1\" class=\"dataframe\">\n",
       "  <thead>\n",
       "    <tr style=\"text-align: right;\">\n",
       "      <th></th>\n",
       "      <th>Identificador_Agricultor</th>\n",
       "      <th>Estimativa_de_Insetos</th>\n",
       "      <th>Tipo_de_Cultivo</th>\n",
       "      <th>Tipo_de_Solo</th>\n",
       "      <th>Categoria_Pesticida</th>\n",
       "      <th>Doses_Semana</th>\n",
       "      <th>Semanas_Utilizando</th>\n",
       "      <th>Semanas_Sem_Uso</th>\n",
       "      <th>Temporada</th>\n",
       "      <th>dano_na_plantacao</th>\n",
       "    </tr>\n",
       "  </thead>\n",
       "  <tbody>\n",
       "    <tr>\n",
       "      <td>0</td>\n",
       "      <td>SCROP00001</td>\n",
       "      <td>188</td>\n",
       "      <td>1</td>\n",
       "      <td>0</td>\n",
       "      <td>1</td>\n",
       "      <td>0</td>\n",
       "      <td>0.0</td>\n",
       "      <td>0</td>\n",
       "      <td>1</td>\n",
       "      <td>0</td>\n",
       "    </tr>\n",
       "    <tr>\n",
       "      <td>1</td>\n",
       "      <td>SCROP00002</td>\n",
       "      <td>209</td>\n",
       "      <td>1</td>\n",
       "      <td>0</td>\n",
       "      <td>1</td>\n",
       "      <td>0</td>\n",
       "      <td>0.0</td>\n",
       "      <td>0</td>\n",
       "      <td>2</td>\n",
       "      <td>1</td>\n",
       "    </tr>\n",
       "    <tr>\n",
       "      <td>2</td>\n",
       "      <td>SCROP00003</td>\n",
       "      <td>257</td>\n",
       "      <td>1</td>\n",
       "      <td>0</td>\n",
       "      <td>1</td>\n",
       "      <td>0</td>\n",
       "      <td>0.0</td>\n",
       "      <td>0</td>\n",
       "      <td>2</td>\n",
       "      <td>1</td>\n",
       "    </tr>\n",
       "    <tr>\n",
       "      <td>3</td>\n",
       "      <td>SCROP00004</td>\n",
       "      <td>257</td>\n",
       "      <td>1</td>\n",
       "      <td>1</td>\n",
       "      <td>1</td>\n",
       "      <td>0</td>\n",
       "      <td>0.0</td>\n",
       "      <td>0</td>\n",
       "      <td>2</td>\n",
       "      <td>1</td>\n",
       "    </tr>\n",
       "    <tr>\n",
       "      <td>4</td>\n",
       "      <td>SCROP00005</td>\n",
       "      <td>342</td>\n",
       "      <td>1</td>\n",
       "      <td>0</td>\n",
       "      <td>1</td>\n",
       "      <td>0</td>\n",
       "      <td>0.0</td>\n",
       "      <td>0</td>\n",
       "      <td>2</td>\n",
       "      <td>1</td>\n",
       "    </tr>\n",
       "  </tbody>\n",
       "</table>\n",
       "</div>"
      ],
      "text/plain": [
       "  Identificador_Agricultor  Estimativa_de_Insetos  Tipo_de_Cultivo  \\\n",
       "0               SCROP00001                    188                1   \n",
       "1               SCROP00002                    209                1   \n",
       "2               SCROP00003                    257                1   \n",
       "3               SCROP00004                    257                1   \n",
       "4               SCROP00005                    342                1   \n",
       "\n",
       "   Tipo_de_Solo  Categoria_Pesticida  Doses_Semana  Semanas_Utilizando  \\\n",
       "0             0                    1             0                 0.0   \n",
       "1             0                    1             0                 0.0   \n",
       "2             0                    1             0                 0.0   \n",
       "3             1                    1             0                 0.0   \n",
       "4             0                    1             0                 0.0   \n",
       "\n",
       "   Semanas_Sem_Uso  Temporada  dano_na_plantacao  \n",
       "0                0          1                  0  \n",
       "1                0          2                  1  \n",
       "2                0          2                  1  \n",
       "3                0          2                  1  \n",
       "4                0          2                  1  "
      ]
     },
     "execution_count": 2,
     "metadata": {},
     "output_type": "execute_result"
    }
   ],
   "source": [
    "df = pd.read_csv('Safra_2018-2019.csv', index_col=0)\n",
    "\n",
    "df.head()"
   ]
  },
  {
   "cell_type": "markdown",
   "metadata": {},
   "source": [
    "#### Podemos verificar que as classes não são balanceadas. Vamos ter que ver o impacto disso no modelo."
   ]
  },
  {
   "cell_type": "code",
   "execution_count": 3,
   "metadata": {
    "colab": {
     "base_uri": "https://localhost:8080/",
     "height": 85
    },
    "colab_type": "code",
    "id": "BuJ3LaAXHm2l",
    "outputId": "a99d0d58-246c-4d1b-cc06-dc464d1c22eb"
   },
   "outputs": [
    {
     "data": {
      "text/plain": [
       "0    66716\n",
       "1    11183\n",
       "2     2101\n",
       "Name: dano_na_plantacao, dtype: int64"
      ]
     },
     "execution_count": 3,
     "metadata": {},
     "output_type": "execute_result"
    }
   ],
   "source": [
    "df['dano_na_plantacao'].value_counts()"
   ]
  },
  {
   "cell_type": "code",
   "execution_count": 4,
   "metadata": {
    "colab": {
     "base_uri": "https://localhost:8080/",
     "height": 204
    },
    "colab_type": "code",
    "id": "PqV61FcMHm2q",
    "outputId": "6be342b0-0ffc-4764-d04f-deba11eee356"
   },
   "outputs": [
    {
     "data": {
      "text/plain": [
       "Identificador_Agricultor       0\n",
       "Estimativa_de_Insetos          0\n",
       "Tipo_de_Cultivo                0\n",
       "Tipo_de_Solo                   0\n",
       "Categoria_Pesticida            0\n",
       "Doses_Semana                   0\n",
       "Semanas_Utilizando          8055\n",
       "Semanas_Sem_Uso                0\n",
       "Temporada                      0\n",
       "dano_na_plantacao              0\n",
       "dtype: int64"
      ]
     },
     "execution_count": 4,
     "metadata": {},
     "output_type": "execute_result"
    }
   ],
   "source": [
    "df.isnull().sum()"
   ]
  },
  {
   "cell_type": "markdown",
   "metadata": {},
   "source": [
    "#### Há presença de valores nulos."
   ]
  },
  {
   "cell_type": "code",
   "execution_count": 5,
   "metadata": {
    "colab": {
     "base_uri": "https://localhost:8080/",
     "height": 51
    },
    "colab_type": "code",
    "id": "bqeZyH6cHm2v",
    "outputId": "a5dde61e-2ec6-4456-8870-a4ff916f9a87"
   },
   "outputs": [
    {
     "name": "stdout",
     "output_type": "stream",
     "text": [
      "Média de Semanas_Utilizando =  28.66447981096671\n",
      "Desvio padrão de Semanas_Utilizando =  12.424750638090432\n"
     ]
    }
   ],
   "source": [
    "print('Média de Semanas_Utilizando = ',df['Semanas_Utilizando'].mean())\n",
    "print('Desvio padrão de Semanas_Utilizando = ',df['Semanas_Utilizando'].std())"
   ]
  },
  {
   "cell_type": "markdown",
   "metadata": {},
   "source": [
    "#### O desvio padrão da coluna com valores nulos é muito elevado em comparação a média. Escolhe-se deletar essas amostras."
   ]
  },
  {
   "cell_type": "code",
   "execution_count": 6,
   "metadata": {
    "colab": {
     "base_uri": "https://localhost:8080/",
     "height": 85
    },
    "colab_type": "code",
    "id": "QLt4EMwzHm22",
    "outputId": "3cbe4bfa-fea4-4908-dd65-b2c49a183dc1"
   },
   "outputs": [
    {
     "data": {
      "text/plain": [
       "0    59999\n",
       "1    10075\n",
       "2     1871\n",
       "Name: dano_na_plantacao, dtype: int64"
      ]
     },
     "execution_count": 6,
     "metadata": {},
     "output_type": "execute_result"
    }
   ],
   "source": [
    "df = df.dropna()\n",
    "\n",
    "df.reset_index(drop=True, inplace=True)\n",
    "\n",
    "df['dano_na_plantacao'].value_counts()"
   ]
  },
  {
   "cell_type": "markdown",
   "metadata": {},
   "source": [
    "#### Visto a presença de features categóricas, devemos passar as mesmas para texto para aplicar one-hot-enconding"
   ]
  },
  {
   "cell_type": "code",
   "execution_count": 7,
   "metadata": {
    "colab": {
     "base_uri": "https://localhost:8080/",
     "height": 224
    },
    "colab_type": "code",
    "id": "Bbq-JpCBHm28",
    "outputId": "63abb5f3-03df-4508-e5ca-3c31f4793073"
   },
   "outputs": [
    {
     "data": {
      "text/html": [
       "<div>\n",
       "<style scoped>\n",
       "    .dataframe tbody tr th:only-of-type {\n",
       "        vertical-align: middle;\n",
       "    }\n",
       "\n",
       "    .dataframe tbody tr th {\n",
       "        vertical-align: top;\n",
       "    }\n",
       "\n",
       "    .dataframe thead th {\n",
       "        text-align: right;\n",
       "    }\n",
       "</style>\n",
       "<table border=\"1\" class=\"dataframe\">\n",
       "  <thead>\n",
       "    <tr style=\"text-align: right;\">\n",
       "      <th></th>\n",
       "      <th>Identificador_Agricultor</th>\n",
       "      <th>Estimativa_de_Insetos</th>\n",
       "      <th>Tipo_de_Cultivo</th>\n",
       "      <th>Tipo_de_Solo</th>\n",
       "      <th>Categoria_Pesticida</th>\n",
       "      <th>Doses_Semana</th>\n",
       "      <th>Semanas_Utilizando</th>\n",
       "      <th>Semanas_Sem_Uso</th>\n",
       "      <th>Temporada</th>\n",
       "      <th>dano_na_plantacao</th>\n",
       "    </tr>\n",
       "  </thead>\n",
       "  <tbody>\n",
       "    <tr>\n",
       "      <td>0</td>\n",
       "      <td>SCROP00001</td>\n",
       "      <td>188</td>\n",
       "      <td>1</td>\n",
       "      <td>0</td>\n",
       "      <td>nunca_usou</td>\n",
       "      <td>0</td>\n",
       "      <td>0.0</td>\n",
       "      <td>0</td>\n",
       "      <td>temp_1</td>\n",
       "      <td>0</td>\n",
       "    </tr>\n",
       "    <tr>\n",
       "      <td>1</td>\n",
       "      <td>SCROP00002</td>\n",
       "      <td>209</td>\n",
       "      <td>1</td>\n",
       "      <td>0</td>\n",
       "      <td>nunca_usou</td>\n",
       "      <td>0</td>\n",
       "      <td>0.0</td>\n",
       "      <td>0</td>\n",
       "      <td>temp_2</td>\n",
       "      <td>1</td>\n",
       "    </tr>\n",
       "    <tr>\n",
       "      <td>2</td>\n",
       "      <td>SCROP00003</td>\n",
       "      <td>257</td>\n",
       "      <td>1</td>\n",
       "      <td>0</td>\n",
       "      <td>nunca_usou</td>\n",
       "      <td>0</td>\n",
       "      <td>0.0</td>\n",
       "      <td>0</td>\n",
       "      <td>temp_2</td>\n",
       "      <td>1</td>\n",
       "    </tr>\n",
       "    <tr>\n",
       "      <td>3</td>\n",
       "      <td>SCROP00004</td>\n",
       "      <td>257</td>\n",
       "      <td>1</td>\n",
       "      <td>1</td>\n",
       "      <td>nunca_usou</td>\n",
       "      <td>0</td>\n",
       "      <td>0.0</td>\n",
       "      <td>0</td>\n",
       "      <td>temp_2</td>\n",
       "      <td>1</td>\n",
       "    </tr>\n",
       "    <tr>\n",
       "      <td>4</td>\n",
       "      <td>SCROP00005</td>\n",
       "      <td>342</td>\n",
       "      <td>1</td>\n",
       "      <td>0</td>\n",
       "      <td>nunca_usou</td>\n",
       "      <td>0</td>\n",
       "      <td>0.0</td>\n",
       "      <td>0</td>\n",
       "      <td>temp_2</td>\n",
       "      <td>1</td>\n",
       "    </tr>\n",
       "  </tbody>\n",
       "</table>\n",
       "</div>"
      ],
      "text/plain": [
       "  Identificador_Agricultor  Estimativa_de_Insetos  Tipo_de_Cultivo  \\\n",
       "0               SCROP00001                    188                1   \n",
       "1               SCROP00002                    209                1   \n",
       "2               SCROP00003                    257                1   \n",
       "3               SCROP00004                    257                1   \n",
       "4               SCROP00005                    342                1   \n",
       "\n",
       "   Tipo_de_Solo Categoria_Pesticida  Doses_Semana  Semanas_Utilizando  \\\n",
       "0             0          nunca_usou             0                 0.0   \n",
       "1             0          nunca_usou             0                 0.0   \n",
       "2             0          nunca_usou             0                 0.0   \n",
       "3             1          nunca_usou             0                 0.0   \n",
       "4             0          nunca_usou             0                 0.0   \n",
       "\n",
       "   Semanas_Sem_Uso Temporada  dano_na_plantacao  \n",
       "0                0    temp_1                  0  \n",
       "1                0    temp_2                  1  \n",
       "2                0    temp_2                  1  \n",
       "3                0    temp_2                  1  \n",
       "4                0    temp_2                  1  "
      ]
     },
     "execution_count": 7,
     "metadata": {},
     "output_type": "execute_result"
    }
   ],
   "source": [
    "for i in range(len(df)):\n",
    "    if df['Categoria_Pesticida'][i] == 1:\n",
    "        df['Categoria_Pesticida'][i] = 'nunca_usou'\n",
    "    elif df['Categoria_Pesticida'][i] == 2:\n",
    "        df['Categoria_Pesticida'][i] = 'ja_usou'\n",
    "    elif df['Categoria_Pesticida'][i] == 3:\n",
    "        df['Categoria_Pesticida'][i] = 'esta_usando'\n",
    "        \n",
    "    if df['Temporada'][i] == 1:\n",
    "        df['Temporada'][i] = 'temp_1'\n",
    "    elif df['Temporada'][i] == 2:\n",
    "        df['Temporada'][i] = 'temp_2'\n",
    "    elif df['Temporada'][i] == 3:\n",
    "        df['Temporada'][i] = 'temp_3'    \n",
    "    \n",
    "        \n",
    "df.head()"
   ]
  },
  {
   "cell_type": "markdown",
   "metadata": {
    "colab_type": "text",
    "id": "OBmeZLkFb-Yp"
   },
   "source": [
    "## 2) Feature Engineering\n",
    "\n",
    "#### Vamos aplicar o polinomio de segundo e terceiro grau para as features númericos, aumentando a dimensão dos dados."
   ]
  },
  {
   "cell_type": "code",
   "execution_count": 8,
   "metadata": {
    "colab": {},
    "colab_type": "code",
    "id": "5kUgPZR_XQX_"
   },
   "outputs": [],
   "source": [
    "df['Est_insento_poly2'] = df['Estimativa_de_Insetos']**2\n",
    "df['Est_insento_poly3'] = df['Estimativa_de_Insetos']**3\n",
    "\n",
    "df['Doses_semana_poly2'] = df['Doses_Semana']**2\n",
    "df['Doses_semana_poly3'] = df['Doses_Semana']**3\n",
    "\n",
    "df['Semanas_Utilizando_poly2'] = df['Semanas_Utilizando']**2\n",
    "df['Semanas_Utilizando_poly3'] = df['Semanas_Utilizando']**3\n",
    "\n",
    "df['Semanas_Sem_Uso_poly2'] = df['Semanas_Sem_Uso']**2\n",
    "df['Semanas_Sem_Uso_poly3'] = df['Semanas_Sem_Uso']**3"
   ]
  },
  {
   "cell_type": "markdown",
   "metadata": {},
   "source": [
    "#### Separa-se a coluna 'targets' e as colunas preditoras. "
   ]
  },
  {
   "cell_type": "code",
   "execution_count": 9,
   "metadata": {
    "colab": {
     "base_uri": "https://localhost:8080/",
     "height": 224
    },
    "colab_type": "code",
    "id": "L5HoQHtfHm3H",
    "outputId": "bb00a15e-e0c3-494a-a830-0db827de09d0"
   },
   "outputs": [
    {
     "data": {
      "text/html": [
       "<div>\n",
       "<style scoped>\n",
       "    .dataframe tbody tr th:only-of-type {\n",
       "        vertical-align: middle;\n",
       "    }\n",
       "\n",
       "    .dataframe tbody tr th {\n",
       "        vertical-align: top;\n",
       "    }\n",
       "\n",
       "    .dataframe thead th {\n",
       "        text-align: right;\n",
       "    }\n",
       "</style>\n",
       "<table border=\"1\" class=\"dataframe\">\n",
       "  <thead>\n",
       "    <tr style=\"text-align: right;\">\n",
       "      <th></th>\n",
       "      <th>Estimativa_de_Insetos</th>\n",
       "      <th>Tipo_de_Cultivo</th>\n",
       "      <th>Tipo_de_Solo</th>\n",
       "      <th>Categoria_Pesticida</th>\n",
       "      <th>Doses_Semana</th>\n",
       "      <th>Semanas_Utilizando</th>\n",
       "      <th>Semanas_Sem_Uso</th>\n",
       "      <th>Temporada</th>\n",
       "      <th>Est_insento_poly2</th>\n",
       "      <th>Est_insento_poly3</th>\n",
       "      <th>Doses_semana_poly2</th>\n",
       "      <th>Doses_semana_poly3</th>\n",
       "      <th>Semanas_Utilizando_poly2</th>\n",
       "      <th>Semanas_Utilizando_poly3</th>\n",
       "      <th>Semanas_Sem_Uso_poly2</th>\n",
       "      <th>Semanas_Sem_Uso_poly3</th>\n",
       "    </tr>\n",
       "  </thead>\n",
       "  <tbody>\n",
       "    <tr>\n",
       "      <td>0</td>\n",
       "      <td>188</td>\n",
       "      <td>1</td>\n",
       "      <td>0</td>\n",
       "      <td>nunca_usou</td>\n",
       "      <td>0</td>\n",
       "      <td>0.0</td>\n",
       "      <td>0</td>\n",
       "      <td>temp_1</td>\n",
       "      <td>35344</td>\n",
       "      <td>6644672</td>\n",
       "      <td>0</td>\n",
       "      <td>0</td>\n",
       "      <td>0.0</td>\n",
       "      <td>0.0</td>\n",
       "      <td>0</td>\n",
       "      <td>0</td>\n",
       "    </tr>\n",
       "    <tr>\n",
       "      <td>1</td>\n",
       "      <td>209</td>\n",
       "      <td>1</td>\n",
       "      <td>0</td>\n",
       "      <td>nunca_usou</td>\n",
       "      <td>0</td>\n",
       "      <td>0.0</td>\n",
       "      <td>0</td>\n",
       "      <td>temp_2</td>\n",
       "      <td>43681</td>\n",
       "      <td>9129329</td>\n",
       "      <td>0</td>\n",
       "      <td>0</td>\n",
       "      <td>0.0</td>\n",
       "      <td>0.0</td>\n",
       "      <td>0</td>\n",
       "      <td>0</td>\n",
       "    </tr>\n",
       "    <tr>\n",
       "      <td>2</td>\n",
       "      <td>257</td>\n",
       "      <td>1</td>\n",
       "      <td>0</td>\n",
       "      <td>nunca_usou</td>\n",
       "      <td>0</td>\n",
       "      <td>0.0</td>\n",
       "      <td>0</td>\n",
       "      <td>temp_2</td>\n",
       "      <td>66049</td>\n",
       "      <td>16974593</td>\n",
       "      <td>0</td>\n",
       "      <td>0</td>\n",
       "      <td>0.0</td>\n",
       "      <td>0.0</td>\n",
       "      <td>0</td>\n",
       "      <td>0</td>\n",
       "    </tr>\n",
       "    <tr>\n",
       "      <td>3</td>\n",
       "      <td>257</td>\n",
       "      <td>1</td>\n",
       "      <td>1</td>\n",
       "      <td>nunca_usou</td>\n",
       "      <td>0</td>\n",
       "      <td>0.0</td>\n",
       "      <td>0</td>\n",
       "      <td>temp_2</td>\n",
       "      <td>66049</td>\n",
       "      <td>16974593</td>\n",
       "      <td>0</td>\n",
       "      <td>0</td>\n",
       "      <td>0.0</td>\n",
       "      <td>0.0</td>\n",
       "      <td>0</td>\n",
       "      <td>0</td>\n",
       "    </tr>\n",
       "    <tr>\n",
       "      <td>4</td>\n",
       "      <td>342</td>\n",
       "      <td>1</td>\n",
       "      <td>0</td>\n",
       "      <td>nunca_usou</td>\n",
       "      <td>0</td>\n",
       "      <td>0.0</td>\n",
       "      <td>0</td>\n",
       "      <td>temp_2</td>\n",
       "      <td>116964</td>\n",
       "      <td>40001688</td>\n",
       "      <td>0</td>\n",
       "      <td>0</td>\n",
       "      <td>0.0</td>\n",
       "      <td>0.0</td>\n",
       "      <td>0</td>\n",
       "      <td>0</td>\n",
       "    </tr>\n",
       "  </tbody>\n",
       "</table>\n",
       "</div>"
      ],
      "text/plain": [
       "   Estimativa_de_Insetos  Tipo_de_Cultivo  Tipo_de_Solo Categoria_Pesticida  \\\n",
       "0                    188                1             0          nunca_usou   \n",
       "1                    209                1             0          nunca_usou   \n",
       "2                    257                1             0          nunca_usou   \n",
       "3                    257                1             1          nunca_usou   \n",
       "4                    342                1             0          nunca_usou   \n",
       "\n",
       "   Doses_Semana  Semanas_Utilizando  Semanas_Sem_Uso Temporada  \\\n",
       "0             0                 0.0                0    temp_1   \n",
       "1             0                 0.0                0    temp_2   \n",
       "2             0                 0.0                0    temp_2   \n",
       "3             0                 0.0                0    temp_2   \n",
       "4             0                 0.0                0    temp_2   \n",
       "\n",
       "   Est_insento_poly2  Est_insento_poly3  Doses_semana_poly2  \\\n",
       "0              35344            6644672                   0   \n",
       "1              43681            9129329                   0   \n",
       "2              66049           16974593                   0   \n",
       "3              66049           16974593                   0   \n",
       "4             116964           40001688                   0   \n",
       "\n",
       "   Doses_semana_poly3  Semanas_Utilizando_poly2  Semanas_Utilizando_poly3  \\\n",
       "0                   0                       0.0                       0.0   \n",
       "1                   0                       0.0                       0.0   \n",
       "2                   0                       0.0                       0.0   \n",
       "3                   0                       0.0                       0.0   \n",
       "4                   0                       0.0                       0.0   \n",
       "\n",
       "   Semanas_Sem_Uso_poly2  Semanas_Sem_Uso_poly3  \n",
       "0                      0                      0  \n",
       "1                      0                      0  \n",
       "2                      0                      0  \n",
       "3                      0                      0  \n",
       "4                      0                      0  "
      ]
     },
     "execution_count": 9,
     "metadata": {},
     "output_type": "execute_result"
    }
   ],
   "source": [
    "Y_total = df[['dano_na_plantacao']]\n",
    "X_total = df.drop(['Identificador_Agricultor', 'dano_na_plantacao'], axis=1)\n",
    "\n",
    "X_total.head()"
   ]
  },
  {
   "cell_type": "markdown",
   "metadata": {},
   "source": [
    "#### Aplicando one-hot-enconding nas features categóricas..."
   ]
  },
  {
   "cell_type": "code",
   "execution_count": 10,
   "metadata": {
    "colab": {
     "base_uri": "https://localhost:8080/",
     "height": 224
    },
    "colab_type": "code",
    "id": "AGmV-iEYHm3M",
    "outputId": "8536cc4a-ea6d-43a7-db20-6aac2f6117be"
   },
   "outputs": [
    {
     "data": {
      "text/html": [
       "<div>\n",
       "<style scoped>\n",
       "    .dataframe tbody tr th:only-of-type {\n",
       "        vertical-align: middle;\n",
       "    }\n",
       "\n",
       "    .dataframe tbody tr th {\n",
       "        vertical-align: top;\n",
       "    }\n",
       "\n",
       "    .dataframe thead th {\n",
       "        text-align: right;\n",
       "    }\n",
       "</style>\n",
       "<table border=\"1\" class=\"dataframe\">\n",
       "  <thead>\n",
       "    <tr style=\"text-align: right;\">\n",
       "      <th></th>\n",
       "      <th>Estimativa_de_Insetos</th>\n",
       "      <th>Tipo_de_Cultivo</th>\n",
       "      <th>Tipo_de_Solo</th>\n",
       "      <th>Doses_Semana</th>\n",
       "      <th>Semanas_Utilizando</th>\n",
       "      <th>Semanas_Sem_Uso</th>\n",
       "      <th>Est_insento_poly2</th>\n",
       "      <th>Est_insento_poly3</th>\n",
       "      <th>Doses_semana_poly2</th>\n",
       "      <th>Doses_semana_poly3</th>\n",
       "      <th>Semanas_Utilizando_poly2</th>\n",
       "      <th>Semanas_Utilizando_poly3</th>\n",
       "      <th>Semanas_Sem_Uso_poly2</th>\n",
       "      <th>Semanas_Sem_Uso_poly3</th>\n",
       "      <th>Categoria_Pesticida_esta_usando</th>\n",
       "      <th>Categoria_Pesticida_ja_usou</th>\n",
       "      <th>Categoria_Pesticida_nunca_usou</th>\n",
       "      <th>Temporada_temp_1</th>\n",
       "      <th>Temporada_temp_2</th>\n",
       "      <th>Temporada_temp_3</th>\n",
       "    </tr>\n",
       "  </thead>\n",
       "  <tbody>\n",
       "    <tr>\n",
       "      <td>0</td>\n",
       "      <td>188</td>\n",
       "      <td>1</td>\n",
       "      <td>0</td>\n",
       "      <td>0</td>\n",
       "      <td>0.0</td>\n",
       "      <td>0</td>\n",
       "      <td>35344</td>\n",
       "      <td>6644672</td>\n",
       "      <td>0</td>\n",
       "      <td>0</td>\n",
       "      <td>0.0</td>\n",
       "      <td>0.0</td>\n",
       "      <td>0</td>\n",
       "      <td>0</td>\n",
       "      <td>0</td>\n",
       "      <td>0</td>\n",
       "      <td>1</td>\n",
       "      <td>1</td>\n",
       "      <td>0</td>\n",
       "      <td>0</td>\n",
       "    </tr>\n",
       "    <tr>\n",
       "      <td>1</td>\n",
       "      <td>209</td>\n",
       "      <td>1</td>\n",
       "      <td>0</td>\n",
       "      <td>0</td>\n",
       "      <td>0.0</td>\n",
       "      <td>0</td>\n",
       "      <td>43681</td>\n",
       "      <td>9129329</td>\n",
       "      <td>0</td>\n",
       "      <td>0</td>\n",
       "      <td>0.0</td>\n",
       "      <td>0.0</td>\n",
       "      <td>0</td>\n",
       "      <td>0</td>\n",
       "      <td>0</td>\n",
       "      <td>0</td>\n",
       "      <td>1</td>\n",
       "      <td>0</td>\n",
       "      <td>1</td>\n",
       "      <td>0</td>\n",
       "    </tr>\n",
       "    <tr>\n",
       "      <td>2</td>\n",
       "      <td>257</td>\n",
       "      <td>1</td>\n",
       "      <td>0</td>\n",
       "      <td>0</td>\n",
       "      <td>0.0</td>\n",
       "      <td>0</td>\n",
       "      <td>66049</td>\n",
       "      <td>16974593</td>\n",
       "      <td>0</td>\n",
       "      <td>0</td>\n",
       "      <td>0.0</td>\n",
       "      <td>0.0</td>\n",
       "      <td>0</td>\n",
       "      <td>0</td>\n",
       "      <td>0</td>\n",
       "      <td>0</td>\n",
       "      <td>1</td>\n",
       "      <td>0</td>\n",
       "      <td>1</td>\n",
       "      <td>0</td>\n",
       "    </tr>\n",
       "    <tr>\n",
       "      <td>3</td>\n",
       "      <td>257</td>\n",
       "      <td>1</td>\n",
       "      <td>1</td>\n",
       "      <td>0</td>\n",
       "      <td>0.0</td>\n",
       "      <td>0</td>\n",
       "      <td>66049</td>\n",
       "      <td>16974593</td>\n",
       "      <td>0</td>\n",
       "      <td>0</td>\n",
       "      <td>0.0</td>\n",
       "      <td>0.0</td>\n",
       "      <td>0</td>\n",
       "      <td>0</td>\n",
       "      <td>0</td>\n",
       "      <td>0</td>\n",
       "      <td>1</td>\n",
       "      <td>0</td>\n",
       "      <td>1</td>\n",
       "      <td>0</td>\n",
       "    </tr>\n",
       "    <tr>\n",
       "      <td>4</td>\n",
       "      <td>342</td>\n",
       "      <td>1</td>\n",
       "      <td>0</td>\n",
       "      <td>0</td>\n",
       "      <td>0.0</td>\n",
       "      <td>0</td>\n",
       "      <td>116964</td>\n",
       "      <td>40001688</td>\n",
       "      <td>0</td>\n",
       "      <td>0</td>\n",
       "      <td>0.0</td>\n",
       "      <td>0.0</td>\n",
       "      <td>0</td>\n",
       "      <td>0</td>\n",
       "      <td>0</td>\n",
       "      <td>0</td>\n",
       "      <td>1</td>\n",
       "      <td>0</td>\n",
       "      <td>1</td>\n",
       "      <td>0</td>\n",
       "    </tr>\n",
       "  </tbody>\n",
       "</table>\n",
       "</div>"
      ],
      "text/plain": [
       "   Estimativa_de_Insetos  Tipo_de_Cultivo  Tipo_de_Solo  Doses_Semana  \\\n",
       "0                    188                1             0             0   \n",
       "1                    209                1             0             0   \n",
       "2                    257                1             0             0   \n",
       "3                    257                1             1             0   \n",
       "4                    342                1             0             0   \n",
       "\n",
       "   Semanas_Utilizando  Semanas_Sem_Uso  Est_insento_poly2  Est_insento_poly3  \\\n",
       "0                 0.0                0              35344            6644672   \n",
       "1                 0.0                0              43681            9129329   \n",
       "2                 0.0                0              66049           16974593   \n",
       "3                 0.0                0              66049           16974593   \n",
       "4                 0.0                0             116964           40001688   \n",
       "\n",
       "   Doses_semana_poly2  Doses_semana_poly3  Semanas_Utilizando_poly2  \\\n",
       "0                   0                   0                       0.0   \n",
       "1                   0                   0                       0.0   \n",
       "2                   0                   0                       0.0   \n",
       "3                   0                   0                       0.0   \n",
       "4                   0                   0                       0.0   \n",
       "\n",
       "   Semanas_Utilizando_poly3  Semanas_Sem_Uso_poly2  Semanas_Sem_Uso_poly3  \\\n",
       "0                       0.0                      0                      0   \n",
       "1                       0.0                      0                      0   \n",
       "2                       0.0                      0                      0   \n",
       "3                       0.0                      0                      0   \n",
       "4                       0.0                      0                      0   \n",
       "\n",
       "   Categoria_Pesticida_esta_usando  Categoria_Pesticida_ja_usou  \\\n",
       "0                                0                            0   \n",
       "1                                0                            0   \n",
       "2                                0                            0   \n",
       "3                                0                            0   \n",
       "4                                0                            0   \n",
       "\n",
       "   Categoria_Pesticida_nunca_usou  Temporada_temp_1  Temporada_temp_2  \\\n",
       "0                               1                 1                 0   \n",
       "1                               1                 0                 1   \n",
       "2                               1                 0                 1   \n",
       "3                               1                 0                 1   \n",
       "4                               1                 0                 1   \n",
       "\n",
       "   Temporada_temp_3  \n",
       "0                 0  \n",
       "1                 0  \n",
       "2                 0  \n",
       "3                 0  \n",
       "4                 0  "
      ]
     },
     "execution_count": 10,
     "metadata": {},
     "output_type": "execute_result"
    }
   ],
   "source": [
    "X_total = pd.get_dummies(X_total, columns = ['Categoria_Pesticida', 'Temporada'])\n",
    "\n",
    "X_total.head()"
   ]
  },
  {
   "cell_type": "markdown",
   "metadata": {
    "colab_type": "text",
    "id": "uEHu7bd5Hm3T"
   },
   "source": [
    "## 3) Classificação\n",
    "\n",
    "#### Escolheu-se utilizar um modelo classificador baseado em Árvores de Decisão, visto a sua maior velocidade de ajuste aos dados.\n",
    "\n",
    "#### Além disso, junto a métrica de acurácia, foi utilizado Precision, Recall, F1 e a \"confusion matrix\", pois, visto o problema de classes não balanceadas, essas métricas auxiliam a verificação de como o modelo \"enxerga\" cada classe."
   ]
  },
  {
   "cell_type": "code",
   "execution_count": 11,
   "metadata": {
    "colab": {},
    "colab_type": "code",
    "id": "DKO69tXpHm3U"
   },
   "outputs": [],
   "source": [
    "from sklearn.tree import DecisionTreeClassifier\n",
    "from sklearn.model_selection import train_test_split\n",
    "\n",
    "\n",
    "from sklearn.metrics import precision_score, recall_score\n",
    "from sklearn.metrics import f1_score, confusion_matrix\n",
    "\n",
    "import matplotlib.pyplot as plt"
   ]
  },
  {
   "cell_type": "markdown",
   "metadata": {
    "colab_type": "text",
    "id": "e27uLNm-c2T_"
   },
   "source": [
    "### 3.1) Todas as Amostras\n",
    "\n",
    "#### Nesta etapa, é verificado a performance do modelo com todos as amostras disponíveis. \n",
    "#### Foi utilizado 10% das mesmas para teste."
   ]
  },
  {
   "cell_type": "code",
   "execution_count": 12,
   "metadata": {
    "colab": {
     "base_uri": "https://localhost:8080/",
     "height": 51
    },
    "colab_type": "code",
    "id": "vytH64vHHm3a",
    "outputId": "0f6dfaf0-3f6c-4e27-96e8-981df725435e"
   },
   "outputs": [
    {
     "name": "stdout",
     "output_type": "stream",
     "text": [
      "Train set: (64750, 20) (64750, 1)\n",
      "Test set: (7195, 20) (7195, 1)\n"
     ]
    }
   ],
   "source": [
    "X_train, X_test, y_train, y_test = train_test_split(X_total, Y_total, test_size=0.1, random_state=4)\n",
    "print ('Train set:', X_train.shape,  y_train.shape)\n",
    "print ('Test set:', X_test.shape,  y_test.shape)"
   ]
  },
  {
   "cell_type": "code",
   "execution_count": 13,
   "metadata": {
    "colab": {
     "base_uri": "https://localhost:8080/",
     "height": 331
    },
    "colab_type": "code",
    "id": "BIjLM07JHm3f",
    "outputId": "94255b97-2822-4661-bb40-0f2665325e35"
   },
   "outputs": [
    {
     "data": {
      "image/png": "[encoded data removed]",
      "text/plain": [
       "<Figure size 432x288 with 1 Axes>"
      ]
     },
     "metadata": {
      "needs_background": "light"
     },
     "output_type": "display_data"
    },
    {
     "name": "stdout",
     "output_type": "stream",
     "text": [
      "The best entropy accuracy was 84.211 % with max_depth = 6\n",
      "The best gini accuracy was 84.183 % with max_depth = 7\n"
     ]
    }
   ],
   "source": [
    "accuracy_entropy = []\n",
    "for k in range(1,10):\n",
    "    DecTree = DecisionTreeClassifier(criterion=\"entropy\", max_depth = k, random_state = 2).fit(X_train,y_train)\n",
    "    accuracy_entropy.append(DecTree.score(X_test,y_test))\n",
    "    \n",
    "accuracy_gini = []\n",
    "for k in range(1,10):\n",
    "    DecTree = DecisionTreeClassifier(criterion=\"gini\", max_depth = k, random_state = 2).fit(X_train,y_train)\n",
    "    accuracy_gini.append(DecTree.score(X_test,y_test))\n",
    "\n",
    "plt.plot(range(1,10),accuracy_entropy, 'r')\n",
    "plt.plot(range(1,10),accuracy_gini, 'b')\n",
    "plt.ylabel('Accuracy ')\n",
    "plt.xlabel('Max depth (K)')\n",
    "plt.tight_layout()\n",
    "plt.legend(('Entropy','Gini'))\n",
    "plt.show()\n",
    "\n",
    "print( \"The best entropy accuracy was\", round(np.array(accuracy_entropy).max()*100,3), \"% with max_depth =\",  np.array(accuracy_entropy).argmax()+1) \n",
    "print( \"The best gini accuracy was\", round(np.array(accuracy_gini).max()*100,3), \"% with max_depth =\",  np.array(accuracy_gini).argmax()+1) "
   ]
  },
  {
   "cell_type": "markdown",
   "metadata": {},
   "source": [
    "#### Implementando o modelo com melhor acurácia..."
   ]
  },
  {
   "cell_type": "code",
   "execution_count": 14,
   "metadata": {
    "colab": {},
    "colab_type": "code",
    "id": "ThPDxfz1ao-B"
   },
   "outputs": [],
   "source": [
    "DecTree = DecisionTreeClassifier(criterion=\"entropy\", max_depth = 6, random_state = 2).fit(X_train,y_train)"
   ]
  },
  {
   "cell_type": "code",
   "execution_count": 15,
   "metadata": {
    "colab": {
     "base_uri": "https://localhost:8080/",
     "height": 119
    },
    "colab_type": "code",
    "id": "qlkXlzzQHm4Q",
    "outputId": "b72c6980-4be1-4944-c2b8-0d61f4b1b3b3"
   },
   "outputs": [
    {
     "name": "stdout",
     "output_type": "stream",
     "text": [
      "precision score = 0.7985044208846964\n",
      "recall score = 0.8421125781792912\n",
      "f1 score = 0.7952605947833904\n",
      "[[5910   85    0]\n",
      " [ 886  148    2]\n",
      " [ 129   34    1]]\n"
     ]
    }
   ],
   "source": [
    "pred = DecTree.predict(X_test)\n",
    "print('precision score =',precision_score(y_test, pred, average='weighted'))\n",
    "print('recall score =',recall_score(y_test, pred, average='weighted'))\n",
    "print('f1 score =',f1_score(y_test, pred, average='weighted'))\n",
    "print(confusion_matrix(y_test, pred))"
   ]
  },
  {
   "cell_type": "markdown",
   "metadata": {},
   "source": [
    "#### É possível verificar na \"confusion matrix\" que, mesmo apresentando precision e recall aceitáveis, o modelo não consegue distinguir bem os padrões referentes as classes 1 e 2, consequentemente, 'enxergando' apenas a classe 0."
   ]
  },
  {
   "cell_type": "markdown",
   "metadata": {
    "colab_type": "text",
    "id": "UHIhJZHFdNtP"
   },
   "source": [
    "### 3.2) Undersample para a classe 2\n",
    "\n",
    "#### Visto que a classe 2 é a que possui menos amostras, foi coletado essa quantidade de amostras das classes 0 e 1, com o objetivo de obter um equilibrio entre as classes."
   ]
  },
  {
   "cell_type": "code",
   "execution_count": 16,
   "metadata": {
    "colab": {
     "base_uri": "https://localhost:8080/",
     "height": 0
    },
    "colab_type": "code",
    "id": "MTe2vZcdHm3C",
    "outputId": "c0924ac0-0e85-47ad-85e9-a0352eb9efc0"
   },
   "outputs": [
    {
     "data": {
      "text/plain": [
       "2    1871\n",
       "1    1871\n",
       "0    1871\n",
       "Name: dano_na_plantacao, dtype: int64"
      ]
     },
     "execution_count": 16,
     "metadata": {},
     "output_type": "execute_result"
    }
   ],
   "source": [
    "quantidade_2 = len(df[df['dano_na_plantacao'] == 2]) #calcular a quantidade para undersample\n",
    "\n",
    "indices_1 = df[df['dano_na_plantacao'] == 1].index # indices da classe majoritária\n",
    "indices_0 = df[df['dano_na_plantacao'] == 0].index\n",
    "\n",
    "random_indices_1 = np.random.choice(indices_1,quantidade_2, replace=False) # coleta aleatória da classe majoritária\n",
    "random_indices_0 = np.random.choice(indices_0,quantidade_2, replace=False)\n",
    "\n",
    "indices_2 = df[df['dano_na_plantacao'] == 2].index # indices das classes minoritárias\n",
    "\n",
    "under_sample_indices = np.concatenate([random_indices_0, random_indices_1,indices_2])\n",
    "under_sample = df.loc[under_sample_indices]\n",
    "under_sample.reset_index(drop=True, inplace=True)\n",
    "\n",
    "Y_under_sample = under_sample[['dano_na_plantacao']]\n",
    "X_under_sample = under_sample.drop(['Identificador_Agricultor', 'dano_na_plantacao'], axis=1)\n",
    "X_under_sample = pd.get_dummies(X_under_sample, columns = ['Categoria_Pesticida', 'Temporada'])\n",
    "\n",
    "under_sample['dano_na_plantacao'].value_counts()"
   ]
  },
  {
   "cell_type": "code",
   "execution_count": 17,
   "metadata": {
    "colab": {
     "base_uri": "https://localhost:8080/",
     "height": 0
    },
    "colab_type": "code",
    "id": "TJj31Dx0Hm4n",
    "outputId": "740c434e-6864-47fa-e2cc-f15ee58fe7b2"
   },
   "outputs": [
    {
     "name": "stdout",
     "output_type": "stream",
     "text": [
      "Train set: (5051, 20) (5051, 1)\n",
      "Test set: (562, 20) (562, 1)\n"
     ]
    }
   ],
   "source": [
    "X_train, X_test, y_train, y_test = train_test_split(X_under_sample, Y_under_sample\n",
    "                                                    , test_size=0.1, random_state=4)\n",
    "print ('Train set:', X_train.shape,  y_train.shape)\n",
    "print ('Test set:', X_test.shape,  y_test.shape)"
   ]
  },
  {
   "cell_type": "code",
   "execution_count": 18,
   "metadata": {
    "colab": {
     "base_uri": "https://localhost:8080/",
     "height": 0
    },
    "colab_type": "code",
    "id": "ZODZzzPGHm4y",
    "outputId": "ffcf1935-c95f-44cb-caeb-4889d2327a01"
   },
   "outputs": [
    {
     "data": {
      "image/png": "[encoded data removed]",
      "text/plain": [
       "<Figure size 432x288 with 1 Axes>"
      ]
     },
     "metadata": {
      "needs_background": "light"
     },
     "output_type": "display_data"
    },
    {
     "name": "stdout",
     "output_type": "stream",
     "text": [
      "The best entropy accuracy was 52.669 % with max_depth = 5\n",
      "The best gini accuracy was 52.847 % with max_depth = 9\n"
     ]
    }
   ],
   "source": [
    "accuracy_entropy = []\n",
    "for k in range(1,10):\n",
    "    DecTree = DecisionTreeClassifier(criterion=\"entropy\", max_depth = k, random_state = 2).fit(X_train,y_train)\n",
    "    accuracy_entropy.append(DecTree.score(X_test,y_test))\n",
    "    \n",
    "accuracy_gini = []\n",
    "for k in range(1,10):\n",
    "    DecTree = DecisionTreeClassifier(criterion=\"gini\", max_depth = k, random_state = 2).fit(X_train,y_train)\n",
    "    accuracy_gini.append(DecTree.score(X_test,y_test))\n",
    "\n",
    "plt.plot(range(1,10),accuracy_entropy, 'r')\n",
    "plt.plot(range(1,10),accuracy_gini, 'b')\n",
    "plt.ylabel('Accuracy ')\n",
    "plt.xlabel('Max depth (K)')\n",
    "plt.tight_layout()\n",
    "plt.legend(('Entropy','Gini'))\n",
    "plt.show()\n",
    "\n",
    "print( \"The best entropy accuracy was\", round(np.array(accuracy_entropy).max()*100,3), \"% with max_depth =\",  np.array(accuracy_entropy).argmax()+1) \n",
    "print( \"The best gini accuracy was\", round(np.array(accuracy_gini).max()*100,3), \"% with max_depth =\",  np.array(accuracy_gini).argmax()+1) "
   ]
  },
  {
   "cell_type": "code",
   "execution_count": 19,
   "metadata": {
    "colab": {},
    "colab_type": "code",
    "id": "1NzzuWY3eQ2X"
   },
   "outputs": [],
   "source": [
    "DecTree = DecisionTreeClassifier(criterion=\"gini\", max_depth = 9, random_state = 2).fit(X_train,y_train)"
   ]
  },
  {
   "cell_type": "code",
   "execution_count": 20,
   "metadata": {
    "colab": {
     "base_uri": "https://localhost:8080/",
     "height": 0
    },
    "colab_type": "code",
    "id": "4OF7ZKFFHm46",
    "outputId": "8d7c5462-2b98-439b-f86e-de5983736f85"
   },
   "outputs": [
    {
     "name": "stdout",
     "output_type": "stream",
     "text": [
      "precision score = 0.5187116245284806\n",
      "recall score = 0.5284697508896797\n",
      "f1 score = 0.5181791001046128\n",
      "[[122  30  25]\n",
      " [ 46  61  80]\n",
      " [ 41  43 114]]\n"
     ]
    }
   ],
   "source": [
    "pred = DecTree.predict(X_test)\n",
    "print('precision score =',precision_score(y_test, pred, average='weighted'))\n",
    "print('recall score =',recall_score(y_test, pred, average='weighted'))\n",
    "print('f1 score =',f1_score(y_test, pred, average='weighted'))\n",
    "print(confusion_matrix(y_test, pred))"
   ]
  },
  {
   "cell_type": "markdown",
   "metadata": {},
   "source": [
    "#### Verificando a \"confusion matrix obtida\", verfica-se que o desempenho para classificar amostras da classe 2 melhorou. No entanto, houve uma piora significativa para a classificação de 1.\n",
    "\n",
    "#### Levanta-se a hipótese que é díficil obter uma distinção aceitável entre as classes 1 e 2."
   ]
  },
  {
   "cell_type": "markdown",
   "metadata": {
    "colab_type": "text",
    "id": "j5EAmsZ4eah1"
   },
   "source": [
    "### 3.3) Undersample para classe 1, excluindo classe 2\n",
    "\n",
    "#### Realiza-se a mesma estratégia de undersample aplicada anteriormente. No entanto, não é utilizado amostras da classe 2.\n",
    "#### Dessa forma, o problema passa a ser uma classificação binária (0 ou 1)"
   ]
  },
  {
   "cell_type": "code",
   "execution_count": 21,
   "metadata": {
    "colab": {
     "base_uri": "https://localhost:8080/",
     "height": 0
    },
    "colab_type": "code",
    "id": "Jt1o70YdeZ0G",
    "outputId": "e49528e3-3365-4c9c-c5ef-e13d4e6596be"
   },
   "outputs": [
    {
     "data": {
      "text/plain": [
       "1    10075\n",
       "0    10075\n",
       "Name: dano_na_plantacao, dtype: int64"
      ]
     },
     "execution_count": 21,
     "metadata": {},
     "output_type": "execute_result"
    }
   ],
   "source": [
    "quantidade_1 = len(df[df['dano_na_plantacao'] == 1]) #calcular a quantidade para undersample\n",
    "\n",
    "\n",
    "indices_0 = df[df['dano_na_plantacao'] == 0].index # indices da classe majoritária\n",
    "\n",
    "\n",
    "random_indices_0 = np.random.choice(indices_0,quantidade_1, replace=False) # coleta aleatória da classe majoritária\n",
    "\n",
    "indices_1 = df[df['dano_na_plantacao'] == 1].index # indices das classes minoritárias\n",
    "\n",
    "under_sample_indices = np.concatenate([random_indices_0, indices_1,])\n",
    "under_sample = df.loc[under_sample_indices]\n",
    "under_sample.reset_index(drop=True, inplace=True)\n",
    "\n",
    "Y_under_sample = under_sample[['dano_na_plantacao']]\n",
    "X_under_sample = under_sample.drop(['Identificador_Agricultor', 'dano_na_plantacao'], axis=1)\n",
    "X_under_sample = pd.get_dummies(X_under_sample, columns = ['Categoria_Pesticida', 'Temporada'])\n",
    "\n",
    "under_sample['dano_na_plantacao'].value_counts()"
   ]
  },
  {
   "cell_type": "code",
   "execution_count": 22,
   "metadata": {
    "colab": {
     "base_uri": "https://localhost:8080/",
     "height": 0
    },
    "colab_type": "code",
    "id": "ZhglX2GpHm5B",
    "outputId": "f763b40f-a695-410b-b841-80537949bf59"
   },
   "outputs": [
    {
     "name": "stdout",
     "output_type": "stream",
     "text": [
      "Train set: (18135, 20) (18135, 1)\n",
      "Test set: (2015, 20) (2015, 1)\n"
     ]
    }
   ],
   "source": [
    "X_train, X_test, y_train, y_test = train_test_split(X_under_sample, Y_under_sample\n",
    "                                                    , test_size=0.1, random_state=4)\n",
    "print ('Train set:', X_train.shape,  y_train.shape)\n",
    "print ('Test set:', X_test.shape,  y_test.shape)"
   ]
  },
  {
   "cell_type": "code",
   "execution_count": 23,
   "metadata": {
    "colab": {
     "base_uri": "https://localhost:8080/",
     "height": 0
    },
    "colab_type": "code",
    "id": "bUm7iaqZHm5J",
    "outputId": "8a2b7324-b3d0-49b9-f2fe-16a4377f57a4"
   },
   "outputs": [
    {
     "data": {
      "image/png": "[encoded data removed]",
      "text/plain": [
       "<Figure size 432x288 with 1 Axes>"
      ]
     },
     "metadata": {
      "needs_background": "light"
     },
     "output_type": "display_data"
    },
    {
     "name": "stdout",
     "output_type": "stream",
     "text": [
      "The best entropy accuracy was 70.819 % with max_depth = 8\n",
      "The best gini accuracy was 70.918 % with max_depth = 8\n"
     ]
    }
   ],
   "source": [
    "accuracy_entropy = []\n",
    "for k in range(1,10):\n",
    "    DecTree = DecisionTreeClassifier(criterion=\"entropy\", max_depth = k, random_state = 2).fit(X_train,y_train)\n",
    "    accuracy_entropy.append(DecTree.score(X_test,y_test))\n",
    "    \n",
    "accuracy_gini = []\n",
    "for k in range(1,10):\n",
    "    DecTree = DecisionTreeClassifier(criterion=\"gini\", max_depth = k, random_state = 2).fit(X_train,y_train)\n",
    "    accuracy_gini.append(DecTree.score(X_test,y_test))\n",
    "\n",
    "plt.plot(range(1,10),accuracy_entropy, 'r')\n",
    "plt.plot(range(1,10),accuracy_gini, 'b')\n",
    "plt.ylabel('Accuracy ')\n",
    "plt.xlabel('Max depth (K)')\n",
    "plt.tight_layout()\n",
    "plt.legend(('Entropy','Gini'))\n",
    "plt.show()\n",
    "\n",
    "print( \"The best entropy accuracy was\", round(np.array(accuracy_entropy).max()*100,3), \"% with max_depth =\",  np.array(accuracy_entropy).argmax()+1) \n",
    "print( \"The best gini accuracy was\", round(np.array(accuracy_gini).max()*100,3), \"% with max_depth =\",  np.array(accuracy_gini).argmax()+1) "
   ]
  },
  {
   "cell_type": "code",
   "execution_count": 24,
   "metadata": {
    "colab": {},
    "colab_type": "code",
    "id": "W8KxiNTVHm5W"
   },
   "outputs": [],
   "source": [
    "DecTree = DecisionTreeClassifier(criterion=\"gini\", max_depth = 8, random_state = 2).fit(X_train,y_train)"
   ]
  },
  {
   "cell_type": "code",
   "execution_count": 25,
   "metadata": {
    "colab": {
     "base_uri": "https://localhost:8080/",
     "height": 0
    },
    "colab_type": "code",
    "id": "MTg0oZUoHm5d",
    "outputId": "c1377a9f-0ec2-43b0-aa75-6b8d196cea83"
   },
   "outputs": [
    {
     "name": "stdout",
     "output_type": "stream",
     "text": [
      "precision score = 0.7119396077870502\n",
      "recall score = 0.709181141439206\n",
      "f1 score = 0.7084309792472726\n",
      "[[667 348]\n",
      " [238 762]]\n"
     ]
    }
   ],
   "source": [
    "pred = DecTree.predict(X_test)\n",
    "print('precision score =',precision_score(y_test, pred, average='weighted'))\n",
    "print('recall score =',recall_score(y_test, pred, average='weighted'))\n",
    "print('f1 score =',f1_score(y_test, pred, average='weighted'))\n",
    "print(confusion_matrix(y_test, pred))"
   ]
  },
  {
   "cell_type": "markdown",
   "metadata": {},
   "source": [
    "#### Por meio da \"confusion matrix\", observa-se que, dessa forma, foi obtida uma melhor distinção entre as classes 0 e 1, podendo-se abstrair melhores padrões referentes a cada uma."
   ]
  },
  {
   "cell_type": "markdown",
   "metadata": {
    "colab_type": "text",
    "id": "xToYitusfM-2"
   },
   "source": [
    "### 3.4) Undersample para classe 2, excluindo a classe 1\n",
    "\n",
    "#### Realiza-se o mesmo procedimento em 3.3, porém excluindo a classe 1, e aplicando undersample para a classe 2."
   ]
  },
  {
   "cell_type": "code",
   "execution_count": 26,
   "metadata": {
    "colab": {
     "base_uri": "https://localhost:8080/",
     "height": 0
    },
    "colab_type": "code",
    "id": "VyjiRW2QHm58",
    "outputId": "a7500619-c471-490e-961d-ee4ded20e82c"
   },
   "outputs": [
    {
     "data": {
      "text/plain": [
       "2    1871\n",
       "0    1871\n",
       "Name: dano_na_plantacao, dtype: int64"
      ]
     },
     "execution_count": 26,
     "metadata": {},
     "output_type": "execute_result"
    }
   ],
   "source": [
    "quantidade_2 = len(df[df['dano_na_plantacao'] == 2]) #calcular a quantidade para undersample\n",
    "\n",
    "\n",
    "indices_0 = df[df['dano_na_plantacao'] == 0].index # indices da classe majoritária\n",
    "\n",
    "\n",
    "random_indices_0 = np.random.choice(indices_0,quantidade_2, replace=False) # coleta aleatória da classe majoritária\n",
    "\n",
    "indices_2 = df[df['dano_na_plantacao'] == 2].index # indices das classes minoritárias\n",
    "\n",
    "under_sample_indices = np.concatenate([random_indices_0, indices_2,])\n",
    "under_sample = df.loc[under_sample_indices]\n",
    "under_sample.reset_index(drop=True, inplace=True)\n",
    "\n",
    "Y_under_sample = under_sample[['dano_na_plantacao']]\n",
    "X_under_sample = under_sample.drop(['Identificador_Agricultor', 'dano_na_plantacao'], axis=1)\n",
    "X_under_sample = pd.get_dummies(X_under_sample, columns = ['Categoria_Pesticida', 'Temporada'])\n",
    "\n",
    "under_sample['dano_na_plantacao'].value_counts()"
   ]
  },
  {
   "cell_type": "code",
   "execution_count": 27,
   "metadata": {
    "colab": {
     "base_uri": "https://localhost:8080/",
     "height": 0
    },
    "colab_type": "code",
    "id": "6zrelOJYHm6E",
    "outputId": "31279a8a-cf4f-4ab0-8145-200863fc47a7"
   },
   "outputs": [
    {
     "name": "stdout",
     "output_type": "stream",
     "text": [
      "Train set: (3367, 20) (3367, 1)\n",
      "Test set: (375, 20) (375, 1)\n"
     ]
    }
   ],
   "source": [
    "X_train, X_test, y_train, y_test = train_test_split(X_under_sample, Y_under_sample\n",
    "                                                    , test_size=0.1, random_state=4)\n",
    "print ('Train set:', X_train.shape,  y_train.shape)\n",
    "print ('Test set:', X_test.shape,  y_test.shape)"
   ]
  },
  {
   "cell_type": "code",
   "execution_count": 28,
   "metadata": {
    "colab": {
     "base_uri": "https://localhost:8080/",
     "height": 0
    },
    "colab_type": "code",
    "id": "b7IpYKWzfgih",
    "outputId": "264d2759-286c-4d51-f6eb-431ed7579f22"
   },
   "outputs": [
    {
     "data": {
      "image/png": "[encoded data removed]",
      "text/plain": [
       "<Figure size 432x288 with 1 Axes>"
      ]
     },
     "metadata": {
      "needs_background": "light"
     },
     "output_type": "display_data"
    },
    {
     "name": "stdout",
     "output_type": "stream",
     "text": [
      "The best entropy accuracy was 78.933 % with max_depth = 5\n",
      "The best gini accuracy was 78.4 % with max_depth = 5\n"
     ]
    }
   ],
   "source": [
    "accuracy_entropy = []\n",
    "for k in range(1,10):\n",
    "    DecTree = DecisionTreeClassifier(criterion=\"entropy\", max_depth = k, random_state = 2).fit(X_train,y_train)\n",
    "    accuracy_entropy.append(DecTree.score(X_test,y_test))\n",
    "    \n",
    "accuracy_gini = []\n",
    "for k in range(1,10):\n",
    "    DecTree = DecisionTreeClassifier(criterion=\"gini\", max_depth = k, random_state = 2).fit(X_train,y_train)\n",
    "    accuracy_gini.append(DecTree.score(X_test,y_test))\n",
    "\n",
    "plt.plot(range(1,10),accuracy_entropy, 'r')\n",
    "plt.plot(range(1,10),accuracy_gini, 'b')\n",
    "plt.ylabel('Accuracy ')\n",
    "plt.xlabel('Max depth (K)')\n",
    "plt.tight_layout()\n",
    "plt.legend(('Entropy','Gini'))\n",
    "plt.show()\n",
    "\n",
    "print( \"The best entropy accuracy was\", round(np.array(accuracy_entropy).max()*100,3), \"% with max_depth =\",  np.array(accuracy_entropy).argmax()+1) \n",
    "print( \"The best gini accuracy was\", round(np.array(accuracy_gini).max()*100,3), \"% with max_depth =\",  np.array(accuracy_gini).argmax()+1) "
   ]
  },
  {
   "cell_type": "code",
   "execution_count": 29,
   "metadata": {
    "colab": {},
    "colab_type": "code",
    "id": "jTb1WYq-fg3d"
   },
   "outputs": [],
   "source": [
    "DecTree = DecisionTreeClassifier(criterion=\"entropy\", max_depth = 5, random_state = 2).fit(X_train,y_train)"
   ]
  },
  {
   "cell_type": "code",
   "execution_count": 30,
   "metadata": {
    "colab": {
     "base_uri": "https://localhost:8080/",
     "height": 0
    },
    "colab_type": "code",
    "id": "eHfwDKJofhQa",
    "outputId": "202edc72-31da-4175-adb2-76fbc81bf589"
   },
   "outputs": [
    {
     "name": "stdout",
     "output_type": "stream",
     "text": [
      "precision score = 0.7938204906204906\n",
      "recall score = 0.7893333333333333\n",
      "f1 score = 0.7885726898861385\n",
      "[[159  28]\n",
      " [ 51 137]]\n"
     ]
    }
   ],
   "source": [
    "pred = DecTree.predict(X_test)\n",
    "print('precision score =',precision_score(y_test, pred, average='weighted'))\n",
    "print('recall score =',recall_score(y_test, pred, average='weighted'))\n",
    "print('f1 score =',f1_score(y_test, pred, average='weighted'))\n",
    "print(confusion_matrix(y_test, pred))"
   ]
  },
  {
   "cell_type": "markdown",
   "metadata": {},
   "source": [
    "#### Novamente observa-se o bom desempenho de distinção entre classes."
   ]
  },
  {
   "cell_type": "markdown",
   "metadata": {
    "colab_type": "text",
    "id": "lmYTGJlUgQVM"
   },
   "source": [
    "### 3.5) Classificação entre 1 e 2\n",
    "\n",
    "#### É realizada uma classificação entre as classes 1 e 2, com o objetivo de responder a hipótese levantada em 3.2.\n",
    "\n",
    "#### Aplica-se undersample para a quantidade de amostras da classe 2."
   ]
  },
  {
   "cell_type": "code",
   "execution_count": 31,
   "metadata": {
    "colab": {
     "base_uri": "https://localhost:8080/",
     "height": 68
    },
    "colab_type": "code",
    "id": "QBoM6Wngfhja",
    "outputId": "fa44284e-4d1e-442a-89a2-e7e324dfef9a"
   },
   "outputs": [
    {
     "data": {
      "text/plain": [
       "1    1871\n",
       "2    1871\n",
       "Name: dano_na_plantacao, dtype: int64"
      ]
     },
     "execution_count": 31,
     "metadata": {},
     "output_type": "execute_result"
    }
   ],
   "source": [
    "X_total_12 = X_total.copy()\n",
    "Y_total_12 = Y_total.copy()\n",
    "\n",
    "X_total_12 = X_total_12[Y_total_12['dano_na_plantacao'] != 0]\n",
    "Y_total_12 = Y_total_12[Y_total_12['dano_na_plantacao'] != 0]\n",
    "\n",
    "quantidade_2 = len(Y_total_12[Y_total_12['dano_na_plantacao'] == 2]) #calcular a quantidade para undersample\n",
    "\n",
    "\n",
    "indices_1 = Y_total_12[Y_total_12['dano_na_plantacao'] == 1].index # indices da classe majoritária\n",
    "\n",
    "\n",
    "random_indices_1 = np.random.choice(indices_1,quantidade_2, replace=False) # coleta aleatória da classe majoritária\n",
    "\n",
    "indices_2 = Y_total_12[Y_total_12['dano_na_plantacao'] == 2].index # indices das classes minoritárias\n",
    "\n",
    "under_sample_indices = np.concatenate([random_indices_1, indices_2])\n",
    "under_sample_targets = Y_total_12.loc[under_sample_indices]\n",
    "under_sample_targets.reset_index(drop=True, inplace=True)\n",
    "under_sample_samples = X_total.loc[under_sample_indices]\n",
    "under_sample_samples.reset_index(drop=True, inplace=True)\n",
    "\n",
    "under_sample_targets['dano_na_plantacao'].value_counts()"
   ]
  },
  {
   "cell_type": "code",
   "execution_count": 32,
   "metadata": {
    "colab": {
     "base_uri": "https://localhost:8080/",
     "height": 51
    },
    "colab_type": "code",
    "id": "-ibnjPmVgPtE",
    "outputId": "ef9ab235-8379-4401-b20f-dc106ca35fd4"
   },
   "outputs": [
    {
     "name": "stdout",
     "output_type": "stream",
     "text": [
      "Train set: (3367, 20) (3367, 1)\n",
      "Test set: (375, 20) (375, 1)\n"
     ]
    }
   ],
   "source": [
    "X_train, X_test, y_train, y_test = train_test_split(under_sample_samples, under_sample_targets\n",
    "                                                    , test_size=0.1, random_state=2)\n",
    "print ('Train set:', X_train.shape,  y_train.shape)\n",
    "print ('Test set:', X_test.shape,  y_test.shape)"
   ]
  },
  {
   "cell_type": "code",
   "execution_count": 33,
   "metadata": {
    "colab": {
     "base_uri": "https://localhost:8080/",
     "height": 331
    },
    "colab_type": "code",
    "id": "wU33fTp0gPnh",
    "outputId": "706bee63-2c8f-4e15-81f5-e3c1135f5df7"
   },
   "outputs": [
    {
     "data": {
      "image/png": "[encoded data removed]",
      "text/plain": [
       "<Figure size 432x288 with 1 Axes>"
      ]
     },
     "metadata": {
      "needs_background": "light"
     },
     "output_type": "display_data"
    },
    {
     "name": "stdout",
     "output_type": "stream",
     "text": [
      "The best entropy accuracy was 61.6 % with max_depth = 4\n",
      "The best gini accuracy was 61.867 % with max_depth = 4\n"
     ]
    }
   ],
   "source": [
    "accuracy_entropy = []\n",
    "for k in range(1,10):\n",
    "    DecTree = DecisionTreeClassifier(criterion=\"entropy\", max_depth = k, random_state = 2).fit(X_train,y_train)\n",
    "    accuracy_entropy.append(DecTree.score(X_test,y_test))\n",
    "    \n",
    "accuracy_gini = []\n",
    "for k in range(1,10):\n",
    "    DecTree = DecisionTreeClassifier(criterion=\"gini\", max_depth = k, random_state = 2).fit(X_train,y_train)\n",
    "    accuracy_gini.append(DecTree.score(X_test,y_test))\n",
    "\n",
    "plt.plot(range(1,10),accuracy_entropy, 'r')\n",
    "plt.plot(range(1,10),accuracy_gini, 'b')\n",
    "plt.ylabel('Accuracy ')\n",
    "plt.xlabel('Max depth (K)')\n",
    "plt.tight_layout()\n",
    "plt.legend(('Entropy','Gini'))\n",
    "plt.show()\n",
    "\n",
    "print( \"The best entropy accuracy was\", round(np.array(accuracy_entropy).max()*100,3), \"% with max_depth =\",  np.array(accuracy_entropy).argmax()+1) \n",
    "print( \"The best gini accuracy was\", round(np.array(accuracy_gini).max()*100,3), \"% with max_depth =\",  np.array(accuracy_gini).argmax()+1) "
   ]
  },
  {
   "cell_type": "code",
   "execution_count": 34,
   "metadata": {
    "colab": {},
    "colab_type": "code",
    "id": "HIVmv42YgPhK"
   },
   "outputs": [],
   "source": [
    "DecTree_12 = DecisionTreeClassifier(criterion=\"gini\", max_depth = 4, random_state = 2).fit(X_train,y_train)"
   ]
  },
  {
   "cell_type": "code",
   "execution_count": 35,
   "metadata": {
    "colab": {
     "base_uri": "https://localhost:8080/",
     "height": 102
    },
    "colab_type": "code",
    "id": "9KDVs_TJgPbD",
    "outputId": "7e6c82ef-3b8b-4e21-c54e-32999e242cb6"
   },
   "outputs": [
    {
     "name": "stdout",
     "output_type": "stream",
     "text": [
      "precision score = 0.6174520373268417\n",
      "recall score = 0.6186666666666667\n",
      "f1 score = 0.6173131869053008\n",
      "[[ 97  78]\n",
      " [ 65 135]]\n"
     ]
    }
   ],
   "source": [
    "pred = DecTree_12.predict(X_test)\n",
    "print('precision score =',precision_score(y_test, pred, average='weighted'))\n",
    "print('recall score =',recall_score(y_test, pred, average='weighted'))\n",
    "print('f1 score =',f1_score(y_test, pred, average='weighted'))\n",
    "print(confusion_matrix(y_test, pred))"
   ]
  },
  {
   "cell_type": "markdown",
   "metadata": {},
   "source": [
    "#### É confirmado que a distinção entre as classes 1 e 2 é bem complicada para o modelo baseado em Árvore de Decisão."
   ]
  },
  {
   "cell_type": "markdown",
   "metadata": {
    "colab_type": "text",
    "id": "I43nrkbVjKk3"
   },
   "source": [
    "### 3.6) Juntando classes 1 e 2, classificação entre 0 e 1*\n",
    "#### undersample para classe 1*\n",
    "\n",
    "#### Observando os resultados obtidos anteriormente, busca-se, agora, classificar as amostras entre 0 e [1-2]. \n",
    "#### Questiona-se se o modelo utilizado neste estudo apresenta melhor distinção entre as amostras de safra que não tiveram dano algum e que tiveram algum dano (independente de sua causa)."
   ]
  },
  {
   "cell_type": "code",
   "execution_count": 36,
   "metadata": {
    "colab": {
     "base_uri": "https://localhost:8080/",
     "height": 68
    },
    "colab_type": "code",
    "id": "7SVYIe_ZgPV5",
    "outputId": "688a0452-fc12-434a-f5d9-ed07ccc80b0f"
   },
   "outputs": [
    {
     "data": {
      "text/plain": [
       "0    59999\n",
       "1    11946\n",
       "Name: dano_na_plantacao, dtype: int64"
      ]
     },
     "execution_count": 36,
     "metadata": {},
     "output_type": "execute_result"
    }
   ],
   "source": [
    "Y_total_bin = Y_total.copy()\n",
    "\n",
    "for i in range(len(Y_total_bin)):\n",
    "  if Y_total_bin['dano_na_plantacao'][i] == 2:\n",
    "    Y_total_bin['dano_na_plantacao'][i] = 1\n",
    "\n",
    "Y_total_bin['dano_na_plantacao'].value_counts() "
   ]
  },
  {
   "cell_type": "code",
   "execution_count": 37,
   "metadata": {
    "colab": {
     "base_uri": "https://localhost:8080/",
     "height": 68
    },
    "colab_type": "code",
    "id": "QpgvMNBJlG_m",
    "outputId": "8193d845-177c-486c-9996-5c26201a1ee0"
   },
   "outputs": [
    {
     "data": {
      "text/plain": [
       "1    11946\n",
       "0    11946\n",
       "Name: dano_na_plantacao, dtype: int64"
      ]
     },
     "execution_count": 37,
     "metadata": {},
     "output_type": "execute_result"
    }
   ],
   "source": [
    "quantidade_1 = len(Y_total_bin[Y_total_bin['dano_na_plantacao'] == 1]) #calcular a quantidade para undersample\n",
    "\n",
    "\n",
    "indices_0 = Y_total_bin[Y_total_bin['dano_na_plantacao'] == 0].index # indices da classe majoritária\n",
    "\n",
    "\n",
    "random_indices_0 = np.random.choice(indices_0,quantidade_1, replace=False) # coleta aleatória da classe majoritária\n",
    "\n",
    "indices_1 = Y_total_bin[Y_total_bin['dano_na_plantacao'] == 1].index # indices das classes minoritárias\n",
    "\n",
    "under_sample_indices = np.concatenate([random_indices_0, indices_1])\n",
    "under_sample_targets = Y_total_bin.loc[under_sample_indices]\n",
    "under_sample_targets.reset_index(drop=True, inplace=True)\n",
    "under_sample_samples = X_total.loc[under_sample_indices]\n",
    "under_sample_samples.reset_index(drop=True, inplace=True)\n",
    "\n",
    "under_sample_targets['dano_na_plantacao'].value_counts()"
   ]
  },
  {
   "cell_type": "code",
   "execution_count": 38,
   "metadata": {
    "colab": {
     "base_uri": "https://localhost:8080/",
     "height": 51
    },
    "colab_type": "code",
    "id": "vvvSeS3MgPRH",
    "outputId": "ff161785-006d-4209-fb6b-9cbaa350245a"
   },
   "outputs": [
    {
     "name": "stdout",
     "output_type": "stream",
     "text": [
      "Train set: (21502, 20) (21502, 1)\n",
      "Test set: (2390, 20) (2390, 1)\n"
     ]
    }
   ],
   "source": [
    "X_train, X_test, y_train, y_test = train_test_split(under_sample_samples, under_sample_targets,\n",
    "                                                    test_size=0.10, random_state=4)\n",
    "print ('Train set:', X_train.shape,  y_train.shape)\n",
    "print ('Test set:', X_test.shape,  y_test.shape)"
   ]
  },
  {
   "cell_type": "code",
   "execution_count": 39,
   "metadata": {
    "colab": {
     "base_uri": "https://localhost:8080/",
     "height": 331
    },
    "colab_type": "code",
    "id": "lMW2r8IZgPLF",
    "outputId": "bbee7724-ac0a-46d4-eb1f-3de04f9f3b46"
   },
   "outputs": [
    {
     "data": {
      "image/png": "[encoded data removed]",
      "text/plain": [
       "<Figure size 432x288 with 1 Axes>"
      ]
     },
     "metadata": {
      "needs_background": "light"
     },
     "output_type": "display_data"
    },
    {
     "name": "stdout",
     "output_type": "stream",
     "text": [
      "The best entropy accuracy was 72.594 % with max_depth = 4\n",
      "The best gini accuracy was 72.803 % with max_depth = 7\n"
     ]
    }
   ],
   "source": [
    "accuracy_entropy = []\n",
    "for k in range(1,10):\n",
    "    DecTree = DecisionTreeClassifier(criterion=\"entropy\", max_depth = k, random_state = 2).fit(X_train,y_train)\n",
    "    accuracy_entropy.append(DecTree.score(X_test,y_test))\n",
    "    \n",
    "accuracy_gini = []\n",
    "for k in range(1,10):\n",
    "    DecTree = DecisionTreeClassifier(criterion=\"gini\", max_depth = k, random_state = 2).fit(X_train,y_train)\n",
    "    accuracy_gini.append(DecTree.score(X_test,y_test))\n",
    "\n",
    "plt.plot(range(1,10),accuracy_entropy, 'r')\n",
    "plt.plot(range(1,10),accuracy_gini, 'b')\n",
    "plt.ylabel('Accuracy ')\n",
    "plt.xlabel('Max depth (K)')\n",
    "plt.tight_layout()\n",
    "plt.legend(('Entropy','Gini'))\n",
    "plt.show()\n",
    "\n",
    "print( \"The best entropy accuracy was\", round(np.array(accuracy_entropy).max()*100,3), \"% with max_depth =\",  np.array(accuracy_entropy).argmax()+1) \n",
    "print( \"The best gini accuracy was\", round(np.array(accuracy_gini).max()*100,3), \"% with max_depth =\",  np.array(accuracy_gini).argmax()+1) "
   ]
  },
  {
   "cell_type": "code",
   "execution_count": 40,
   "metadata": {
    "colab": {},
    "colab_type": "code",
    "id": "tKa5Gd2bkbHh"
   },
   "outputs": [],
   "source": [
    "DecTree_bin = DecisionTreeClassifier(criterion=\"gini\", max_depth = 7, random_state = 2).fit(X_train,y_train)"
   ]
  },
  {
   "cell_type": "code",
   "execution_count": 41,
   "metadata": {
    "colab": {
     "base_uri": "https://localhost:8080/",
     "height": 102
    },
    "colab_type": "code",
    "id": "FY0YnbsogPIX",
    "outputId": "c3aedb45-b98f-4835-a30a-1d2b122ee41a"
   },
   "outputs": [
    {
     "name": "stdout",
     "output_type": "stream",
     "text": [
      "precision score = 0.728039538485368\n",
      "recall score = 0.7280334728033473\n",
      "f1 score = 0.7279747821614889\n",
      "[[898 314]\n",
      " [336 842]]\n"
     ]
    }
   ],
   "source": [
    "pred = DecTree_bin.predict(X_test)\n",
    "print('precision score =',precision_score(y_test, pred, average='weighted'))\n",
    "print('recall score =',recall_score(y_test, pred, average='weighted'))\n",
    "print('f1 score =',f1_score(y_test, pred, average='weighted'))\n",
    "print(confusion_matrix(y_test, pred))"
   ]
  },
  {
   "cell_type": "markdown",
   "metadata": {},
   "source": [
    "#### É possível observar que o modelo obtido apresenta bons resultados de precision e recall, além de apresentar uma melhor distinção entre classes."
   ]
  },
  {
   "cell_type": "markdown",
   "metadata": {
    "colab_type": "text",
    "id": "LRYQYYFNp7wf"
   },
   "source": [
    "## 4) Modelo Final, combinando DecTree_bin e DecTree_12\n",
    "\n",
    "#### Utilizando os modelos obtidos na seção 3), obtêm-se os resultados finais da seguinte maneira:\n",
    "    1) a partir do modelo que verifica se irá haver algum tipo de dano a safra (independente do motivo, DecTree_bin), é feito a predição de todas as amostras;\n",
    "    2) caso haja algum tipo de dano a safra, utiliza-se o modelo DecTree_12 para identificar qual o tipo de dano."
   ]
  },
  {
   "cell_type": "code",
   "execution_count": 42,
   "metadata": {
    "colab": {},
    "colab_type": "code",
    "id": "8ae8O-fjp6_u"
   },
   "outputs": [],
   "source": [
    "pred = DecTree_bin.predict(X_total)\n",
    "\n",
    "for i in range(len(pred)):\n",
    "  if pred[i] == 1:\n",
    "    pred[i] = DecTree_12.predict(X_total.iloc[[i]])"
   ]
  },
  {
   "cell_type": "code",
   "execution_count": 43,
   "metadata": {
    "colab": {
     "base_uri": "https://localhost:8080/",
     "height": 119
    },
    "colab_type": "code",
    "id": "RwOTxXczqoWO",
    "outputId": "2c9d69aa-597c-4388-ed22-8fec960c59e6"
   },
   "outputs": [
    {
     "name": "stdout",
     "output_type": "stream",
     "text": [
      "precision score = 0.8139604600582491\n",
      "recall score = 0.6691639446799639\n",
      "f1 score = 0.7256025553831114\n",
      "[[43706  9538  6755]\n",
      " [ 2908  3285  3882]\n",
      " [  318   401  1152]]\n"
     ]
    }
   ],
   "source": [
    "print('precision score =',precision_score(Y_total, pred, average='weighted'))\n",
    "print('recall score =',recall_score(Y_total, pred, average='weighted'))\n",
    "print('f1 score =',f1_score(Y_total, pred, average='weighted'))\n",
    "print(confusion_matrix(Y_total, pred))"
   ]
  },
  {
   "cell_type": "markdown",
   "metadata": {},
   "source": [
    "#### Verifica-se que, em comparação ao resultado obtido em 3.1, sem abordar o problema de classes não balanceadas, o modelo atual apresentou uma melhor distinção entre classes, principalmente no referente a classe 2 (danos causados por pesticidas)."
   ]
  },
  {
   "cell_type": "markdown",
   "metadata": {},
   "source": [
    "## 5) Conclusões\n",
    "\n",
    "#### O dataset de estudo apresenta um grave problema de classes não balanceadas, exigindo uma validação dos resultados mais minuciosa afim de verificar a generalização do modelo obtido.\n",
    "\n",
    "#### Utilizando o modelo DecisionTree, foi implementado uma estratégia que busca melhor o desempenho do modelo visando uma melhor distinção entre classes. Em comparação com o método original, o modelo apresentou melhor distinção entre as classes 0 e [1-2], porém ainda é insatisfatório na distinção entre as classes 1 e 2.\n",
    "\n",
    "#### Como trabalho futuro, propõe-se:\n",
    "    1) Utilizar modelos de machine learning mais robustos, tais como RandomForest, Naive Bayes, ou até mesmo Redes Neurais;\n",
    "    2) Realizar um processo de feature engineering mais amplo, de acordo com as necessidades e regras de negócio;\n",
    "    3) Estudar possíveis inferências estatísticas afim de abstrair melhores características referentes a cada classe de estudo. Sugere-se estudos de correlação (e.g pearson) e testes de hipótese, tal com a Análise de Variância."
   ]
  },
  {
   "cell_type": "markdown",
   "metadata": {},
   "source": [
    "## 6) Classificação dos dados finais\n",
    "\n",
    "#### É realizado o mesmo processo de preparo de dados feito em 1) e 2)."
   ]
  },
  {
   "cell_type": "code",
   "execution_count": 54,
   "metadata": {},
   "outputs": [
    {
     "name": "stdout",
     "output_type": "stream",
     "text": [
      "8858\n"
     ]
    },
    {
     "data": {
      "text/html": [
       "<div>\n",
       "<style scoped>\n",
       "    .dataframe tbody tr th:only-of-type {\n",
       "        vertical-align: middle;\n",
       "    }\n",
       "\n",
       "    .dataframe tbody tr th {\n",
       "        vertical-align: top;\n",
       "    }\n",
       "\n",
       "    .dataframe thead th {\n",
       "        text-align: right;\n",
       "    }\n",
       "</style>\n",
       "<table border=\"1\" class=\"dataframe\">\n",
       "  <thead>\n",
       "    <tr style=\"text-align: right;\">\n",
       "      <th></th>\n",
       "      <th>Identificador_Agricultor</th>\n",
       "      <th>Estimativa_de_Insetos</th>\n",
       "      <th>Tipo_de_Cultivo</th>\n",
       "      <th>Tipo_de_Solo</th>\n",
       "      <th>Categoria_Pesticida</th>\n",
       "      <th>Doses_Semana</th>\n",
       "      <th>Semanas_Utilizando</th>\n",
       "      <th>Semanas_Sem_Uso</th>\n",
       "      <th>Temporada</th>\n",
       "    </tr>\n",
       "  </thead>\n",
       "  <tbody>\n",
       "    <tr>\n",
       "      <td>0</td>\n",
       "      <td>SCROP80001</td>\n",
       "      <td>256</td>\n",
       "      <td>0</td>\n",
       "      <td>1</td>\n",
       "      <td>2</td>\n",
       "      <td>35</td>\n",
       "      <td>11.0</td>\n",
       "      <td>9</td>\n",
       "      <td>1</td>\n",
       "    </tr>\n",
       "    <tr>\n",
       "      <td>1</td>\n",
       "      <td>SCROP80002</td>\n",
       "      <td>283</td>\n",
       "      <td>0</td>\n",
       "      <td>1</td>\n",
       "      <td>2</td>\n",
       "      <td>5</td>\n",
       "      <td>5.0</td>\n",
       "      <td>6</td>\n",
       "      <td>1</td>\n",
       "    </tr>\n",
       "    <tr>\n",
       "      <td>2</td>\n",
       "      <td>SCROP80003</td>\n",
       "      <td>283</td>\n",
       "      <td>0</td>\n",
       "      <td>1</td>\n",
       "      <td>2</td>\n",
       "      <td>15</td>\n",
       "      <td>15.0</td>\n",
       "      <td>5</td>\n",
       "      <td>2</td>\n",
       "    </tr>\n",
       "    <tr>\n",
       "      <td>3</td>\n",
       "      <td>SCROP80004</td>\n",
       "      <td>283</td>\n",
       "      <td>0</td>\n",
       "      <td>1</td>\n",
       "      <td>2</td>\n",
       "      <td>15</td>\n",
       "      <td>NaN</td>\n",
       "      <td>7</td>\n",
       "      <td>2</td>\n",
       "    </tr>\n",
       "    <tr>\n",
       "      <td>4</td>\n",
       "      <td>SCROP80005</td>\n",
       "      <td>283</td>\n",
       "      <td>0</td>\n",
       "      <td>1</td>\n",
       "      <td>2</td>\n",
       "      <td>15</td>\n",
       "      <td>19.0</td>\n",
       "      <td>2</td>\n",
       "      <td>1</td>\n",
       "    </tr>\n",
       "  </tbody>\n",
       "</table>\n",
       "</div>"
      ],
      "text/plain": [
       "  Identificador_Agricultor  Estimativa_de_Insetos  Tipo_de_Cultivo  \\\n",
       "0               SCROP80001                    256                0   \n",
       "1               SCROP80002                    283                0   \n",
       "2               SCROP80003                    283                0   \n",
       "3               SCROP80004                    283                0   \n",
       "4               SCROP80005                    283                0   \n",
       "\n",
       "   Tipo_de_Solo  Categoria_Pesticida  Doses_Semana  Semanas_Utilizando  \\\n",
       "0             1                    2            35                11.0   \n",
       "1             1                    2             5                 5.0   \n",
       "2             1                    2            15                15.0   \n",
       "3             1                    2            15                 NaN   \n",
       "4             1                    2            15                19.0   \n",
       "\n",
       "   Semanas_Sem_Uso  Temporada  \n",
       "0                9          1  \n",
       "1                6          1  \n",
       "2                5          2  \n",
       "3                7          2  \n",
       "4                2          1  "
      ]
     },
     "execution_count": 54,
     "metadata": {},
     "output_type": "execute_result"
    }
   ],
   "source": [
    "df = pd.read_csv('Safra_2020.csv', index_col=0)\n",
    "\n",
    "df.reset_index(drop=True, inplace=True)\n",
    "\n",
    "print(len(df))\n",
    "\n",
    "df.head()"
   ]
  },
  {
   "cell_type": "code",
   "execution_count": 55,
   "metadata": {},
   "outputs": [
    {
     "data": {
      "text/plain": [
       "Identificador_Agricultor      0\n",
       "Estimativa_de_Insetos         0\n",
       "Tipo_de_Cultivo               0\n",
       "Tipo_de_Solo                  0\n",
       "Categoria_Pesticida           0\n",
       "Doses_Semana                  0\n",
       "Semanas_Utilizando          945\n",
       "Semanas_Sem_Uso               0\n",
       "Temporada                     0\n",
       "dtype: int64"
      ]
     },
     "execution_count": 55,
     "metadata": {},
     "output_type": "execute_result"
    }
   ],
   "source": [
    "df.isnull().sum()"
   ]
  },
  {
   "cell_type": "code",
   "execution_count": 56,
   "metadata": {},
   "outputs": [],
   "source": [
    "df['Semanas_Utilizando'].fillna(df['Semanas_Utilizando'].mean(), inplace=True)"
   ]
  },
  {
   "cell_type": "code",
   "execution_count": 57,
   "metadata": {},
   "outputs": [
    {
     "data": {
      "text/html": [
       "<div>\n",
       "<style scoped>\n",
       "    .dataframe tbody tr th:only-of-type {\n",
       "        vertical-align: middle;\n",
       "    }\n",
       "\n",
       "    .dataframe tbody tr th {\n",
       "        vertical-align: top;\n",
       "    }\n",
       "\n",
       "    .dataframe thead th {\n",
       "        text-align: right;\n",
       "    }\n",
       "</style>\n",
       "<table border=\"1\" class=\"dataframe\">\n",
       "  <thead>\n",
       "    <tr style=\"text-align: right;\">\n",
       "      <th></th>\n",
       "      <th>Estimativa_de_Insetos</th>\n",
       "      <th>Tipo_de_Cultivo</th>\n",
       "      <th>Tipo_de_Solo</th>\n",
       "      <th>Doses_Semana</th>\n",
       "      <th>Semanas_Utilizando</th>\n",
       "      <th>Semanas_Sem_Uso</th>\n",
       "      <th>Est_insento_poly2</th>\n",
       "      <th>Est_insento_poly3</th>\n",
       "      <th>Doses_semana_poly2</th>\n",
       "      <th>Doses_semana_poly3</th>\n",
       "      <th>Semanas_Utilizando_poly2</th>\n",
       "      <th>Semanas_Utilizando_poly3</th>\n",
       "      <th>Semanas_Sem_Uso_poly2</th>\n",
       "      <th>Semanas_Sem_Uso_poly3</th>\n",
       "      <th>Categoria_Pesticida_esta_usando</th>\n",
       "      <th>Categoria_Pesticida_ja_usou</th>\n",
       "      <th>Categoria_Pesticida_nunca_usou</th>\n",
       "      <th>Temporada_temp_1</th>\n",
       "      <th>Temporada_temp_2</th>\n",
       "      <th>Temporada_temp_3</th>\n",
       "    </tr>\n",
       "  </thead>\n",
       "  <tbody>\n",
       "    <tr>\n",
       "      <td>0</td>\n",
       "      <td>256</td>\n",
       "      <td>0</td>\n",
       "      <td>1</td>\n",
       "      <td>35</td>\n",
       "      <td>11.000000</td>\n",
       "      <td>9</td>\n",
       "      <td>65536</td>\n",
       "      <td>16777216</td>\n",
       "      <td>1225</td>\n",
       "      <td>42875</td>\n",
       "      <td>121.000000</td>\n",
       "      <td>1331.000000</td>\n",
       "      <td>81</td>\n",
       "      <td>729</td>\n",
       "      <td>0</td>\n",
       "      <td>1</td>\n",
       "      <td>0</td>\n",
       "      <td>1</td>\n",
       "      <td>0</td>\n",
       "      <td>0</td>\n",
       "    </tr>\n",
       "    <tr>\n",
       "      <td>1</td>\n",
       "      <td>283</td>\n",
       "      <td>0</td>\n",
       "      <td>1</td>\n",
       "      <td>5</td>\n",
       "      <td>5.000000</td>\n",
       "      <td>6</td>\n",
       "      <td>80089</td>\n",
       "      <td>22665187</td>\n",
       "      <td>25</td>\n",
       "      <td>125</td>\n",
       "      <td>25.000000</td>\n",
       "      <td>125.000000</td>\n",
       "      <td>36</td>\n",
       "      <td>216</td>\n",
       "      <td>0</td>\n",
       "      <td>1</td>\n",
       "      <td>0</td>\n",
       "      <td>1</td>\n",
       "      <td>0</td>\n",
       "      <td>0</td>\n",
       "    </tr>\n",
       "    <tr>\n",
       "      <td>2</td>\n",
       "      <td>283</td>\n",
       "      <td>0</td>\n",
       "      <td>1</td>\n",
       "      <td>15</td>\n",
       "      <td>15.000000</td>\n",
       "      <td>5</td>\n",
       "      <td>80089</td>\n",
       "      <td>22665187</td>\n",
       "      <td>225</td>\n",
       "      <td>3375</td>\n",
       "      <td>225.000000</td>\n",
       "      <td>3375.000000</td>\n",
       "      <td>25</td>\n",
       "      <td>125</td>\n",
       "      <td>0</td>\n",
       "      <td>1</td>\n",
       "      <td>0</td>\n",
       "      <td>0</td>\n",
       "      <td>1</td>\n",
       "      <td>0</td>\n",
       "    </tr>\n",
       "    <tr>\n",
       "      <td>3</td>\n",
       "      <td>283</td>\n",
       "      <td>0</td>\n",
       "      <td>1</td>\n",
       "      <td>15</td>\n",
       "      <td>28.255655</td>\n",
       "      <td>7</td>\n",
       "      <td>80089</td>\n",
       "      <td>22665187</td>\n",
       "      <td>225</td>\n",
       "      <td>3375</td>\n",
       "      <td>798.382054</td>\n",
       "      <td>22558.808067</td>\n",
       "      <td>49</td>\n",
       "      <td>343</td>\n",
       "      <td>0</td>\n",
       "      <td>1</td>\n",
       "      <td>0</td>\n",
       "      <td>0</td>\n",
       "      <td>1</td>\n",
       "      <td>0</td>\n",
       "    </tr>\n",
       "    <tr>\n",
       "      <td>4</td>\n",
       "      <td>283</td>\n",
       "      <td>0</td>\n",
       "      <td>1</td>\n",
       "      <td>15</td>\n",
       "      <td>19.000000</td>\n",
       "      <td>2</td>\n",
       "      <td>80089</td>\n",
       "      <td>22665187</td>\n",
       "      <td>225</td>\n",
       "      <td>3375</td>\n",
       "      <td>361.000000</td>\n",
       "      <td>6859.000000</td>\n",
       "      <td>4</td>\n",
       "      <td>8</td>\n",
       "      <td>0</td>\n",
       "      <td>1</td>\n",
       "      <td>0</td>\n",
       "      <td>1</td>\n",
       "      <td>0</td>\n",
       "      <td>0</td>\n",
       "    </tr>\n",
       "  </tbody>\n",
       "</table>\n",
       "</div>"
      ],
      "text/plain": [
       "   Estimativa_de_Insetos  Tipo_de_Cultivo  Tipo_de_Solo  Doses_Semana  \\\n",
       "0                    256                0             1            35   \n",
       "1                    283                0             1             5   \n",
       "2                    283                0             1            15   \n",
       "3                    283                0             1            15   \n",
       "4                    283                0             1            15   \n",
       "\n",
       "   Semanas_Utilizando  Semanas_Sem_Uso  Est_insento_poly2  Est_insento_poly3  \\\n",
       "0           11.000000                9              65536           16777216   \n",
       "1            5.000000                6              80089           22665187   \n",
       "2           15.000000                5              80089           22665187   \n",
       "3           28.255655                7              80089           22665187   \n",
       "4           19.000000                2              80089           22665187   \n",
       "\n",
       "   Doses_semana_poly2  Doses_semana_poly3  Semanas_Utilizando_poly2  \\\n",
       "0                1225               42875                121.000000   \n",
       "1                  25                 125                 25.000000   \n",
       "2                 225                3375                225.000000   \n",
       "3                 225                3375                798.382054   \n",
       "4                 225                3375                361.000000   \n",
       "\n",
       "   Semanas_Utilizando_poly3  Semanas_Sem_Uso_poly2  Semanas_Sem_Uso_poly3  \\\n",
       "0               1331.000000                     81                    729   \n",
       "1                125.000000                     36                    216   \n",
       "2               3375.000000                     25                    125   \n",
       "3              22558.808067                     49                    343   \n",
       "4               6859.000000                      4                      8   \n",
       "\n",
       "   Categoria_Pesticida_esta_usando  Categoria_Pesticida_ja_usou  \\\n",
       "0                                0                            1   \n",
       "1                                0                            1   \n",
       "2                                0                            1   \n",
       "3                                0                            1   \n",
       "4                                0                            1   \n",
       "\n",
       "   Categoria_Pesticida_nunca_usou  Temporada_temp_1  Temporada_temp_2  \\\n",
       "0                               0                 1                 0   \n",
       "1                               0                 1                 0   \n",
       "2                               0                 0                 1   \n",
       "3                               0                 0                 1   \n",
       "4                               0                 1                 0   \n",
       "\n",
       "   Temporada_temp_3  \n",
       "0                 0  \n",
       "1                 0  \n",
       "2                 0  \n",
       "3                 0  \n",
       "4                 0  "
      ]
     },
     "execution_count": 57,
     "metadata": {},
     "output_type": "execute_result"
    }
   ],
   "source": [
    "for i in range(len(df)):\n",
    "    if df['Categoria_Pesticida'][i] == 1:\n",
    "        df['Categoria_Pesticida'][i] = 'nunca_usou'\n",
    "    elif df['Categoria_Pesticida'][i] == 2:\n",
    "        df['Categoria_Pesticida'][i] = 'ja_usou'\n",
    "    elif df['Categoria_Pesticida'][i] == 3:\n",
    "        df['Categoria_Pesticida'][i] = 'esta_usando'\n",
    "        \n",
    "    if df['Temporada'][i] == 1:\n",
    "        df['Temporada'][i] = 'temp_1'\n",
    "    elif df['Temporada'][i] == 2:\n",
    "        df['Temporada'][i] = 'temp_2'\n",
    "    elif df['Temporada'][i] == 3:\n",
    "        df['Temporada'][i] = 'temp_3'\n",
    "        \n",
    "df['Est_insento_poly2'] = df['Estimativa_de_Insetos']**2\n",
    "df['Est_insento_poly3'] = df['Estimativa_de_Insetos']**3\n",
    "\n",
    "df['Doses_semana_poly2'] = df['Doses_Semana']**2\n",
    "df['Doses_semana_poly3'] = df['Doses_Semana']**3\n",
    "\n",
    "df['Semanas_Utilizando_poly2'] = df['Semanas_Utilizando']**2\n",
    "df['Semanas_Utilizando_poly3'] = df['Semanas_Utilizando']**3\n",
    "\n",
    "df['Semanas_Sem_Uso_poly2'] = df['Semanas_Sem_Uso']**2\n",
    "df['Semanas_Sem_Uso_poly3'] = df['Semanas_Sem_Uso']**3\n",
    "\n",
    "df.drop(['Identificador_Agricultor'], axis=1, inplace=True)\n",
    "\n",
    "df = pd.get_dummies(df, columns = ['Categoria_Pesticida', 'Temporada'])\n",
    "\n",
    "df.head()"
   ]
  },
  {
   "cell_type": "code",
   "execution_count": 59,
   "metadata": {},
   "outputs": [
    {
     "name": "stdout",
     "output_type": "stream",
     "text": [
      "8858\n"
     ]
    }
   ],
   "source": [
    "pred = DecTree_bin.predict(df)\n",
    "\n",
    "for i in range(len(pred)):\n",
    "  if pred[i] == 1:\n",
    "    pred[i] = DecTree_12.predict(df.iloc[[i]])\n",
    "    \n",
    "print(len(pred))"
   ]
  },
  {
   "cell_type": "code",
   "execution_count": 71,
   "metadata": {},
   "outputs": [
    {
     "data": {
      "text/html": [
       "<div>\n",
       "<style scoped>\n",
       "    .dataframe tbody tr th:only-of-type {\n",
       "        vertical-align: middle;\n",
       "    }\n",
       "\n",
       "    .dataframe tbody tr th {\n",
       "        vertical-align: top;\n",
       "    }\n",
       "\n",
       "    .dataframe thead th {\n",
       "        text-align: right;\n",
       "    }\n",
       "</style>\n",
       "<table border=\"1\" class=\"dataframe\">\n",
       "  <thead>\n",
       "    <tr style=\"text-align: right;\">\n",
       "      <th></th>\n",
       "      <th>dano_na_plantacao</th>\n",
       "    </tr>\n",
       "  </thead>\n",
       "  <tbody>\n",
       "    <tr>\n",
       "      <td>0</td>\n",
       "      <td>0</td>\n",
       "    </tr>\n",
       "    <tr>\n",
       "      <td>1</td>\n",
       "      <td>0</td>\n",
       "    </tr>\n",
       "    <tr>\n",
       "      <td>2</td>\n",
       "      <td>0</td>\n",
       "    </tr>\n",
       "    <tr>\n",
       "      <td>3</td>\n",
       "      <td>0</td>\n",
       "    </tr>\n",
       "    <tr>\n",
       "      <td>4</td>\n",
       "      <td>0</td>\n",
       "    </tr>\n",
       "    <tr>\n",
       "      <td>...</td>\n",
       "      <td>...</td>\n",
       "    </tr>\n",
       "    <tr>\n",
       "      <td>8853</td>\n",
       "      <td>1</td>\n",
       "    </tr>\n",
       "    <tr>\n",
       "      <td>8854</td>\n",
       "      <td>1</td>\n",
       "    </tr>\n",
       "    <tr>\n",
       "      <td>8855</td>\n",
       "      <td>1</td>\n",
       "    </tr>\n",
       "    <tr>\n",
       "      <td>8856</td>\n",
       "      <td>1</td>\n",
       "    </tr>\n",
       "    <tr>\n",
       "      <td>8857</td>\n",
       "      <td>2</td>\n",
       "    </tr>\n",
       "  </tbody>\n",
       "</table>\n",
       "<p>8858 rows × 1 columns</p>\n",
       "</div>"
      ],
      "text/plain": [
       "      dano_na_plantacao\n",
       "0                     0\n",
       "1                     0\n",
       "2                     0\n",
       "3                     0\n",
       "4                     0\n",
       "...                 ...\n",
       "8853                  1\n",
       "8854                  1\n",
       "8855                  1\n",
       "8856                  1\n",
       "8857                  2\n",
       "\n",
       "[8858 rows x 1 columns]"
      ]
     },
     "execution_count": 71,
     "metadata": {},
     "output_type": "execute_result"
    }
   ],
   "source": [
    "pred = pd.DataFrame(pred)\n",
    "pred.columns = ['dano_na_plantacao']\n",
    "\n",
    "pred.to_csv('respostas.csv', index=False)\n",
    "\n",
    "pred"
   ]
  }
 ],
 "metadata": {
  "colab": {
   "name": "Classificação de safra.ipynb",
   "provenance": [],
   "toc_visible": true
  },
  "kernelspec": {
   "display_name": "Python 3",
   "language": "python",
   "name": "python3"
  },
  "language_info": {
   "codemirror_mode": {
    "name": "ipython",
    "version": 3
   },
   "file_extension": ".py",
   "mimetype": "text/x-python",
   "name": "python",
   "nbconvert_exporter": "python",
   "pygments_lexer": "ipython3",
   "version": "3.7.4"
  }
 },
 "nbformat": 4,
 "nbformat_minor": 1
}
