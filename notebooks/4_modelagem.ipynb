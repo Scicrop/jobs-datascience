{
 "cells": [
  {
   "cell_type": "markdown",
   "metadata": {},
   "source": [
    "Modelagem  e Avaliação<br> \n",
    "Neste tópico, iremos preparar nossos dados para modelagem, criando pipeline para garatir o correto pré-processamento dos nossos dados.Utilizaremos o modelo RandomForestClassifier, um modelo que me sinto bastante confortável por conhecer seu funcionamento e nuances. É um modelo não-linear, robusto a outliers e que não possui qualquer suposição sobre as distribuições, o que é algo bastante relevante, dado que a maioria dos dados na vida real apresentam não normalidade. Evitar a normalização é uma etapa a menos se você utiliza modelos baseados em árvore. Em suma, o RandomForest cria várias árvores de decisões, as quais são construídas com diferentes dados de um mesmo dataset (Bootstrap). Dessa maneira, o resultado final é obtido por votação majoritária. Vale ressaltar também que estamos lidando com um problema de classificação múltipla. O RandomForestClassifier é por natureza um modelo que lida com esse tipo de problema, sem precisar aplicar técnicas como One vs One ou One vs Rest."
   ]
  },
  {
   "cell_type": "markdown",
   "metadata": {},
   "source": [
    "# Dependências"
   ]
  },
  {
   "cell_type": "code",
   "execution_count": 1,
   "metadata": {
    "ExecuteTime": {
     "end_time": "2020-08-08T14:29:51.489901Z",
     "start_time": "2020-08-08T14:29:50.490698Z"
    }
   },
   "outputs": [],
   "source": [
    "#Importanto bibliotecas.\n",
    "#import sys\n",
    "#!{sys.executable} -m pip install yellowbrick\n",
    "import warnings \n",
    "warnings.filterwarnings('ignore')\n",
    "import os\n",
    "import pandas as pd\n",
    "import numpy as np\n",
    "import matplotlib.pyplot as plt\n",
    "import seaborn as sns\n",
    "import cloudpickle\n",
    "from sklearn.preprocessing import OrdinalEncoder\n",
    "from sklearn.ensemble import RandomForestClassifier \n",
    "from sklearn.model_selection import train_test_split\n",
    "from sklearn.impute import SimpleImputer \n",
    "from sklearn.pipeline import Pipeline\n",
    "from sklearn.compose import ColumnTransformer\n",
    "from sklearn.metrics import classification_report, recall_score\n",
    "from sklearn.model_selection import cross_val_score, StratifiedKFold\n",
    "from yellowbrick.model_selection import LearningCurve\n",
    "from sklearn.model_selection import ShuffleSplit\n",
    "from sklearn.model_selection import learning_curve\n",
    "from src.modelagem_metricas import naive_classifiers\n",
    "from sklearn import set_config\n",
    "import optuna\n",
    "from optuna.samplers import TPESampler\n",
    "pd.set_option('display.max_rows', 500)\n",
    "pd.set_option('display.max_columns', 500)\n",
    "pd.set_option('display.width', 1000)\n",
    "%matplotlib inline"
   ]
  },
  {
   "cell_type": "code",
   "execution_count": 2,
   "metadata": {
    "ExecuteTime": {
     "end_time": "2020-08-08T14:29:51.515397Z",
     "start_time": "2020-08-08T14:29:51.511390Z"
    }
   },
   "outputs": [],
   "source": [
    "#Constantes\n",
    "DATA_RAW_PATH = os.path.join('..','data','raw')\n",
    "DATA_RAW_NAME = 'Safra_2018-2019.csv'\n",
    "DATA_INTER_PATH = os.path.join('..','data','inter')\n",
    "DATA_INTER_TEST_NAME = 'test_inter.csv'\n",
    "DATA_INTER_TRAIN_FT_SELECTION = 'train_inter_ft_selection.csv'\n",
    "DATA_SAFRA_2020_PATH = os.path.join('..','data', 'raw')\n",
    "DATA_SAFRA_2020_NAME = 'Safra_2020.csv'\n",
    "IMG_PATH = os.path.abspath(os.path.join('..','img'))\n",
    "META_DATA_PATH = os.path.join(DATA_RAW_PATH,'dicionario_tipos.pkl')\n",
    "MODEL_PATH = os.path.join('..','models')\n",
    "MODEL_NAME = 'clf_safra.pkl'\n",
    "PREDICT_2020_PATH = os.path.join('..','data','results')\n",
    "PREDICT_2020_NAME = 'previsao_safra_2020.csv'\n",
    "DATA_PROCESSED_PATH = os.path.join('..','data','processed')\n",
    "DATA_TRAIN_PROCESSED_NAME = 'train_processed.csv'\n",
    "DATA_TEST_PROCESSED_NAME = 'test_processed.csv'\n",
    "#TARGET = 'dano_na_plantacao'"
   ]
  },
  {
   "cell_type": "code",
   "execution_count": 3,
   "metadata": {
    "ExecuteTime": {
     "end_time": "2020-08-08T14:29:51.737379Z",
     "start_time": "2020-08-08T14:29:51.615966Z"
    }
   },
   "outputs": [],
   "source": [
    "with open(META_DATA_PATH,'rb') as f:\n",
    "    dicionario_tipo = cloudpickle.load(f)"
   ]
  },
  {
   "cell_type": "code",
   "execution_count": 4,
   "metadata": {
    "ExecuteTime": {
     "end_time": "2020-08-08T14:29:52.140657Z",
     "start_time": "2020-08-08T14:29:52.072278Z"
    }
   },
   "outputs": [],
   "source": [
    "# DataSet que será utilizado para modelagem, depois da seleção de features.\n",
    "df_train = pd.read_csv(os.path.join(DATA_INTER_PATH, DATA_INTER_TRAIN_FT_SELECTION), dtype=dicionario_tipo)\n",
    "#Lendo dados de teste.\n",
    "df_test = pd.read_csv(os.path.join(DATA_INTER_PATH, DATA_INTER_TEST_NAME), dtype=dicionario_tipo, index_col=0)"
   ]
  },
  {
   "cell_type": "code",
   "execution_count": 5,
   "metadata": {
    "ExecuteTime": {
     "end_time": "2020-08-08T14:29:52.504119Z",
     "start_time": "2020-08-08T14:29:52.488617Z"
    }
   },
   "outputs": [
    {
     "data": {
      "text/html": [
       "<div>\n",
       "<style scoped>\n",
       "    .dataframe tbody tr th:only-of-type {\n",
       "        vertical-align: middle;\n",
       "    }\n",
       "\n",
       "    .dataframe tbody tr th {\n",
       "        vertical-align: top;\n",
       "    }\n",
       "\n",
       "    .dataframe thead th {\n",
       "        text-align: right;\n",
       "    }\n",
       "</style>\n",
       "<table border=\"1\" class=\"dataframe\">\n",
       "  <thead>\n",
       "    <tr style=\"text-align: right;\">\n",
       "      <th></th>\n",
       "      <th>Semanas_Utilizando</th>\n",
       "      <th>Semanas_Sem_Uso</th>\n",
       "      <th>Estimativa_de_Insetos</th>\n",
       "      <th>Doses_Semana</th>\n",
       "      <th>Tipo_de_Cultivo</th>\n",
       "      <th>Categoria_Pesticida</th>\n",
       "      <th>dano_na_plantacao</th>\n",
       "    </tr>\n",
       "  </thead>\n",
       "  <tbody>\n",
       "    <tr>\n",
       "      <th>0</th>\n",
       "      <td>12.0</td>\n",
       "      <td>19</td>\n",
       "      <td>984</td>\n",
       "      <td>25</td>\n",
       "      <td>0</td>\n",
       "      <td>2</td>\n",
       "      <td>0</td>\n",
       "    </tr>\n",
       "    <tr>\n",
       "      <th>1</th>\n",
       "      <td>27.0</td>\n",
       "      <td>7</td>\n",
       "      <td>851</td>\n",
       "      <td>20</td>\n",
       "      <td>0</td>\n",
       "      <td>2</td>\n",
       "      <td>0</td>\n",
       "    </tr>\n",
       "    <tr>\n",
       "      <th>2</th>\n",
       "      <td>27.0</td>\n",
       "      <td>0</td>\n",
       "      <td>283</td>\n",
       "      <td>35</td>\n",
       "      <td>0</td>\n",
       "      <td>3</td>\n",
       "      <td>0</td>\n",
       "    </tr>\n",
       "    <tr>\n",
       "      <th>3</th>\n",
       "      <td>50.0</td>\n",
       "      <td>0</td>\n",
       "      <td>2542</td>\n",
       "      <td>15</td>\n",
       "      <td>0</td>\n",
       "      <td>3</td>\n",
       "      <td>2</td>\n",
       "    </tr>\n",
       "    <tr>\n",
       "      <th>4</th>\n",
       "      <td>14.0</td>\n",
       "      <td>24</td>\n",
       "      <td>850</td>\n",
       "      <td>30</td>\n",
       "      <td>0</td>\n",
       "      <td>2</td>\n",
       "      <td>0</td>\n",
       "    </tr>\n",
       "  </tbody>\n",
       "</table>\n",
       "</div>"
      ],
      "text/plain": [
       "   Semanas_Utilizando  Semanas_Sem_Uso  Estimativa_de_Insetos  Doses_Semana Tipo_de_Cultivo Categoria_Pesticida dano_na_plantacao\n",
       "0                12.0               19                    984            25               0                   2                 0\n",
       "1                27.0                7                    851            20               0                   2                 0\n",
       "2                27.0                0                    283            35               0                   3                 0\n",
       "3                50.0                0                   2542            15               0                   3                 2\n",
       "4                14.0               24                    850            30               0                   2                 0"
      ]
     },
     "execution_count": 5,
     "metadata": {},
     "output_type": "execute_result"
    }
   ],
   "source": [
    "df_train.head()"
   ]
  },
  {
   "cell_type": "markdown",
   "metadata": {},
   "source": [
    "# Criando Pipeline"
   ]
  },
  {
   "cell_type": "markdown",
   "metadata": {},
   "source": [
    "Aqui iremos criar um pipeline para tratar dados categóricos e outro para tratar nossos dados numéricos. Dessa maneira cada coluna é tratada da forma mais adequada. O resultado é combinado no final e passado para o classificador, último componente do pipeline."
   ]
  },
  {
   "cell_type": "code",
   "execution_count": 6,
   "metadata": {
    "ExecuteTime": {
     "end_time": "2020-08-08T14:29:53.108504Z",
     "start_time": "2020-08-08T14:29:53.099034Z"
    }
   },
   "outputs": [],
   "source": [
    "#Separando as variáveis categóricas e numéricas\n",
    "variaveis_categoricas = df_train.select_dtypes(include=['object']).columns.tolist()\n",
    "variaveis_numericas = df_train.select_dtypes(include=['int','float']).columns.tolist()"
   ]
  },
  {
   "cell_type": "code",
   "execution_count": 7,
   "metadata": {
    "ExecuteTime": {
     "end_time": "2020-08-08T14:29:53.480759Z",
     "start_time": "2020-08-08T14:29:53.476718Z"
    }
   },
   "outputs": [],
   "source": [
    "#Removendo target das variáveis categóricas. \n",
    "target = 'dano_na_plantacao'\n",
    "variaveis_categoricas.remove(target)"
   ]
  },
  {
   "cell_type": "markdown",
   "metadata": {},
   "source": [
    "Para tratamento dos dados categóricos foi utilizado o OrdinalEncoder. Porém, outras formas poderiam ter sido abordadas, tais como, OneHotEncoder, TargetEncoder, FrequencyEncoder, BinaryEncoder. \n",
    "Nesse caso, por estarmos utilizando um modelo baseado em árvores de decisão, a utilização de OneHotEncoder prejudica, quase sempre, a performance [Clique Aqui Para Saber Mais](https://towardsdatascience.com/one-hot-encoding-is-making-your-tree-based-ensembles-worse-heres-why-d64b282b5769), além de criar complexidade adicionando mais colunas. Além disso, o modelo perde em interpretabilidade, uma vez que a varíavel é divida em mais de uma coluna, e tende a ser menos importante nos splits das árvores. Estratégias como TargetEncoder e FrequencyEncoder criam correlação com o target e isso é até bom quando o target é ordinal, o que não é nosso caso, e tendem ao overfitting com mais facilidade, pois se baseiam na distribuição dos dados de treino. Ou seja, basta termos um shift populacional, para esses encoders \"quebrarem\" levando a uma má performance em produção. Só devemos utilizá-los quando temos baixas chances de shift populacional. Como estamos lidando com dados temporais (2018, 2019 e 2020), talvez não seja a melhor ideia. Por fim, O BinaryEncoder, apesar de produzir menos colunas em relação ao OneHotEncoder, mesmo assim adiciona complexidade. Dessa forma, apesar de ter a chance de criarmos um pouco de correlação com o target, decidimos utilizar o OrdinalEncoder, dados os motivos acima.\n"
   ]
  },
  {
   "cell_type": "markdown",
   "metadata": {},
   "source": [
    "Em relação ao tratamento de missing values, decidi utilizar a mediana para valores númericos e a moda para dados categóricos. Na exploração dos dados, vimos que menos de 10% dos dados estavam faltando, o que favorece o preenchimento por meio dessas estratégias. Isso, pois com uma maior volumetria de dados faltosos, poderíamos estar enviesando nosso modelo. \n",
    "Vale salientar que outras estratégias podem ser tentadadas, tais como, InterativeImputer, MICE ou até mesmo métodos baseados em árvores de decisão e KNN. Dado que isso acrescenta complexidade ao pipeline, decidimos prosseguir de uma maneira mais simples, dado que o foco não é tanto a performance."
   ]
  },
  {
   "cell_type": "code",
   "execution_count": 8,
   "metadata": {
    "ExecuteTime": {
     "end_time": "2020-08-08T14:29:54.120788Z",
     "start_time": "2020-08-08T14:29:54.115148Z"
    }
   },
   "outputs": [],
   "source": [
    "# pipe numérico será tratado imputando a mediana\n",
    "pipeline_numerico = Pipeline(steps=[('impute', SimpleImputer(strategy='median'))])\n",
    "# pipe categórico será tratado com imputação através da moda e ordinal encoder\n",
    "pipeline_categorico = Pipeline(steps=[('impute', SimpleImputer(strategy='most_frequent')),\n",
    "                         ('ordinal_encoder', OrdinalEncoder())])"
   ]
  },
  {
   "cell_type": "code",
   "execution_count": 9,
   "metadata": {
    "ExecuteTime": {
     "end_time": "2020-08-08T14:29:54.562557Z",
     "start_time": "2020-08-08T14:29:54.559938Z"
    }
   },
   "outputs": [],
   "source": [
    "# Column Transformer para unir os dois pipelines\n",
    "preprocess_pipeline = ColumnTransformer([('pipe_categorico', pipeline_categorico, variaveis_categoricas),\n",
    "                                ('pipe_numerico', pipeline_numerico, variaveis_numericas)])"
   ]
  },
  {
   "cell_type": "code",
   "execution_count": 10,
   "metadata": {
    "ExecuteTime": {
     "end_time": "2020-08-08T14:29:54.762568Z",
     "start_time": "2020-08-08T14:29:54.760237Z"
    }
   },
   "outputs": [],
   "source": [
    "# Definindo folds para a validação cruzada estratificada (dados desbalanceados).\n",
    "cv = StratifiedKFold(n_splits=5,shuffle=True, random_state=123)"
   ]
  },
  {
   "cell_type": "code",
   "execution_count": 11,
   "metadata": {
    "ExecuteTime": {
     "end_time": "2020-08-08T14:29:55.153021Z",
     "start_time": "2020-08-08T14:29:55.144439Z"
    }
   },
   "outputs": [],
   "source": [
    "# Definindo modelo com random_seed e class_weight='balanced' para dar peso às classes mais raras\n",
    "rf = RandomForestClassifier(random_state=0, class_weight='balanced')\n",
    "# defninindo pipeline final, onde o último componente é o classificador\n",
    "modelo_pipe =  Pipeline(steps =[('preprocessor',preprocess_pipeline),\n",
    "                                  ('model_rf',rf)])"
   ]
  },
  {
   "cell_type": "markdown",
   "metadata": {},
   "source": [
    "# Modelagem e Avaliação"
   ]
  },
  {
   "cell_type": "markdown",
   "metadata": {
    "ExecuteTime": {
     "end_time": "2020-08-08T03:41:21.540825Z",
     "start_time": "2020-08-08T03:41:21.533917Z"
    }
   },
   "source": [
    "A escolha da métrica de avaliação do modelo é uma das etapas mais importantes. Isso, pois a escolha errada pode levar a uma interpretação errônea do resultado, o que resulta em uma superestimação da performance. No nosso caso, a utilização da Acurácia seria um ERRO, pois as classes são desbalanceadas. Nesse sentido, a utilização do recall é mais assertiva, destancando o uso do recall médio ponderado pelo número de instâncias respectivas às classes. Nada impede, porém, de formularmos uma métrica específica de negócio que atenderá de maneira mais personalizada o problema que estamos tentando solucionar."
   ]
  },
  {
   "cell_type": "code",
   "execution_count": 12,
   "metadata": {
    "ExecuteTime": {
     "end_time": "2020-08-08T14:29:56.062036Z",
     "start_time": "2020-08-08T14:29:56.053950Z"
    }
   },
   "outputs": [],
   "source": [
    "# Obtendo X e Y \n",
    "X = df_train.drop(target,axis=1)\n",
    "y = df_train[target]"
   ]
  },
  {
   "cell_type": "markdown",
   "metadata": {},
   "source": [
    "Aqui utilizaremos otimização bayesiana para busca dos melhores hiperparâmetros para o classificador. Poderíamos ter utilizado o GridSearchCV ou o RandomizedSearchCV, porém esses seriam mais lentos. Vale salientar que a otimização está sendo feita em cima da média de validação cruzada do recall."
   ]
  },
  {
   "cell_type": "markdown",
   "metadata": {
    "ExecuteTime": {
     "end_time": "2020-08-08T03:54:06.079390Z",
     "start_time": "2020-08-08T03:54:06.077425Z"
    }
   },
   "source": [
    "## Otimização de Hiperparâmetros"
   ]
  },
  {
   "cell_type": "code",
   "execution_count": 13,
   "metadata": {
    "ExecuteTime": {
     "end_time": "2020-08-08T14:29:57.075717Z",
     "start_time": "2020-08-08T14:29:57.071196Z"
    }
   },
   "outputs": [],
   "source": [
    "def fitRF(trial):\n",
    "    \"Train RandomForest Model\"\n",
    "# Grid de parametros otimizados\n",
    "    params ={'model_rf__max_depth': trial.suggest_int('model_rf__max_depth',2,13),\n",
    "          'model_rf__min_samples_leaf': trial.suggest_int('model_rf__min_samples_leaf',2,33),\n",
    "          'model_rf__min_samples_split':trial.suggest_int('model_rf__min_samples_split',2,33),\n",
    "          'model_rf__n_estimators': trial.suggest_int('model_rf__n_estimators',50,300),\n",
    "          'model_rf__criterion':trial.suggest_categorical('model_rf__criterion',['gini','entropy'])\n",
    "      }\n",
    "    earlyStop=20\n",
    "    modelo_pipe.set_params(**params)\n",
    "\n",
    "\n",
    "    results = np.mean(cross_val_score(modelo_pipe,X,y, cv=cv, scoring = 'recall_weighted'))\n",
    "\n",
    "    #score = results.mean()  \n",
    "    #intervalo(results)\n",
    "    print(f'SCORE DE RECALL:{results}')\n",
    "    return results\n",
    "          "
   ]
  },
  {
   "cell_type": "code",
   "execution_count": 14,
   "metadata": {
    "ExecuteTime": {
     "end_time": "2020-08-08T14:35:20.823918Z",
     "start_time": "2020-08-08T14:29:57.411557Z"
    }
   },
   "outputs": [
    {
     "name": "stdout",
     "output_type": "stream",
     "text": [
      "SCORE DE RECALL:0.6811562500000001\n"
     ]
    },
    {
     "name": "stderr",
     "output_type": "stream",
     "text": [
      "[I 2020-08-08 11:30:15,954] Trial 0 finished with value: 0.6811562500000001 and parameters: {'model_rf__max_depth': 4, 'model_rf__min_samples_leaf': 30, 'model_rf__min_samples_split': 4, 'model_rf__n_estimators': 280, 'model_rf__criterion': 'entropy'}. Best is trial 0 with value: 0.6811562500000001.\n"
     ]
    },
    {
     "name": "stdout",
     "output_type": "stream",
     "text": [
      "SCORE DE RECALL:0.665125\n"
     ]
    },
    {
     "name": "stderr",
     "output_type": "stream",
     "text": [
      "[I 2020-08-08 11:30:24,814] Trial 1 finished with value: 0.665125 and parameters: {'model_rf__max_depth': 5, 'model_rf__min_samples_leaf': 12, 'model_rf__min_samples_split': 29, 'model_rf__n_estimators': 107, 'model_rf__criterion': 'gini'}. Best is trial 0 with value: 0.6811562500000001.\n"
     ]
    },
    {
     "name": "stdout",
     "output_type": "stream",
     "text": [
      "SCORE DE RECALL:0.6795\n"
     ]
    },
    {
     "name": "stderr",
     "output_type": "stream",
     "text": [
      "[I 2020-08-08 11:30:35,605] Trial 2 finished with value: 0.6795 and parameters: {'model_rf__max_depth': 3, 'model_rf__min_samples_leaf': 2, 'model_rf__min_samples_split': 19, 'model_rf__n_estimators': 176, 'model_rf__criterion': 'entropy'}. Best is trial 0 with value: 0.6811562500000001.\n"
     ]
    },
    {
     "name": "stdout",
     "output_type": "stream",
     "text": [
      "SCORE DE RECALL:0.6815312499999999\n"
     ]
    },
    {
     "name": "stderr",
     "output_type": "stream",
     "text": [
      "[I 2020-08-08 11:31:09,887] Trial 3 finished with value: 0.6815312499999999 and parameters: {'model_rf__max_depth': 11, 'model_rf__min_samples_leaf': 2, 'model_rf__min_samples_split': 16, 'model_rf__n_estimators': 274, 'model_rf__criterion': 'entropy'}. Best is trial 3 with value: 0.6815312499999999.\n"
     ]
    },
    {
     "name": "stdout",
     "output_type": "stream",
     "text": [
      "SCORE DE RECALL:0.6693281249999999\n"
     ]
    },
    {
     "name": "stderr",
     "output_type": "stream",
     "text": [
      "[I 2020-08-08 11:31:34,498] Trial 4 finished with value: 0.6693281249999999 and parameters: {'model_rf__max_depth': 11, 'model_rf__min_samples_leaf': 21, 'model_rf__min_samples_split': 16, 'model_rf__n_estimators': 214, 'model_rf__criterion': 'gini'}. Best is trial 3 with value: 0.6815312499999999.\n"
     ]
    },
    {
     "name": "stdout",
     "output_type": "stream",
     "text": [
      "SCORE DE RECALL:0.683828125\n"
     ]
    },
    {
     "name": "stderr",
     "output_type": "stream",
     "text": [
      "[I 2020-08-08 11:31:40,698] Trial 5 finished with value: 0.683828125 and parameters: {'model_rf__max_depth': 2, 'model_rf__min_samples_leaf': 6, 'model_rf__min_samples_split': 19, 'model_rf__n_estimators': 105, 'model_rf__criterion': 'entropy'}. Best is trial 5 with value: 0.683828125.\n"
     ]
    },
    {
     "name": "stdout",
     "output_type": "stream",
     "text": [
      "SCORE DE RECALL:0.677234375\n"
     ]
    },
    {
     "name": "stderr",
     "output_type": "stream",
     "text": [
      "[I 2020-08-08 11:31:49,397] Trial 6 finished with value: 0.677234375 and parameters: {'model_rf__max_depth': 4, 'model_rf__min_samples_leaf': 22, 'model_rf__min_samples_split': 9, 'model_rf__n_estimators': 116, 'model_rf__criterion': 'gini'}. Best is trial 5 with value: 0.683828125.\n"
     ]
    },
    {
     "name": "stdout",
     "output_type": "stream",
     "text": [
      "SCORE DE RECALL:0.664546875\n"
     ]
    },
    {
     "name": "stderr",
     "output_type": "stream",
     "text": [
      "[I 2020-08-08 11:32:10,486] Trial 7 finished with value: 0.664546875 and parameters: {'model_rf__max_depth': 10, 'model_rf__min_samples_leaf': 31, 'model_rf__min_samples_split': 18, 'model_rf__n_estimators': 185, 'model_rf__criterion': 'entropy'}. Best is trial 5 with value: 0.683828125.\n"
     ]
    },
    {
     "name": "stdout",
     "output_type": "stream",
     "text": [
      "SCORE DE RECALL:0.664390625\n"
     ]
    },
    {
     "name": "stderr",
     "output_type": "stream",
     "text": [
      "[I 2020-08-08 11:32:27,817] Trial 8 finished with value: 0.664390625 and parameters: {'model_rf__max_depth': 5, 'model_rf__min_samples_leaf': 30, 'model_rf__min_samples_split': 30, 'model_rf__n_estimators': 230, 'model_rf__criterion': 'gini'}. Best is trial 5 with value: 0.683828125.\n"
     ]
    },
    {
     "name": "stdout",
     "output_type": "stream",
     "text": [
      "SCORE DE RECALL:0.680859375\n"
     ]
    },
    {
     "name": "stderr",
     "output_type": "stream",
     "text": [
      "[I 2020-08-08 11:32:36,984] Trial 9 finished with value: 0.680859375 and parameters: {'model_rf__max_depth': 3, 'model_rf__min_samples_leaf': 23, 'model_rf__min_samples_split': 24, 'model_rf__n_estimators': 144, 'model_rf__criterion': 'entropy'}. Best is trial 5 with value: 0.683828125.\n"
     ]
    },
    {
     "name": "stdout",
     "output_type": "stream",
     "text": [
      "SCORE DE RECALL:0.658578125\n"
     ]
    },
    {
     "name": "stderr",
     "output_type": "stream",
     "text": [
      "[I 2020-08-08 11:32:42,958] Trial 10 finished with value: 0.658578125 and parameters: {'model_rf__max_depth': 7, 'model_rf__min_samples_leaf': 9, 'model_rf__min_samples_split': 8, 'model_rf__n_estimators': 51, 'model_rf__criterion': 'entropy'}. Best is trial 5 with value: 0.683828125.\n"
     ]
    },
    {
     "name": "stdout",
     "output_type": "stream",
     "text": [
      "SCORE DE RECALL:0.701734375\n"
     ]
    },
    {
     "name": "stderr",
     "output_type": "stream",
     "text": [
      "[I 2020-08-08 11:32:51,661] Trial 11 finished with value: 0.701734375 and parameters: {'model_rf__max_depth': 13, 'model_rf__min_samples_leaf': 2, 'model_rf__min_samples_split': 13, 'model_rf__n_estimators': 52, 'model_rf__criterion': 'entropy'}. Best is trial 11 with value: 0.701734375.\n"
     ]
    },
    {
     "name": "stdout",
     "output_type": "stream",
     "text": [
      "SCORE DE RECALL:0.695140625\n"
     ]
    },
    {
     "name": "stderr",
     "output_type": "stream",
     "text": [
      "[I 2020-08-08 11:33:00,536] Trial 12 finished with value: 0.695140625 and parameters: {'model_rf__max_depth': 13, 'model_rf__min_samples_leaf': 7, 'model_rf__min_samples_split': 12, 'model_rf__n_estimators': 55, 'model_rf__criterion': 'entropy'}. Best is trial 11 with value: 0.701734375.\n"
     ]
    },
    {
     "name": "stdout",
     "output_type": "stream",
     "text": [
      "SCORE DE RECALL:0.6829531249999999\n"
     ]
    },
    {
     "name": "stderr",
     "output_type": "stream",
     "text": [
      "[I 2020-08-08 11:33:09,182] Trial 13 finished with value: 0.6829531249999999 and parameters: {'model_rf__max_depth': 13, 'model_rf__min_samples_leaf': 13, 'model_rf__min_samples_split': 11, 'model_rf__n_estimators': 53, 'model_rf__criterion': 'entropy'}. Best is trial 11 with value: 0.701734375.\n"
     ]
    },
    {
     "name": "stdout",
     "output_type": "stream",
     "text": [
      "SCORE DE RECALL:0.699578125\n"
     ]
    },
    {
     "name": "stderr",
     "output_type": "stream",
     "text": [
      "[I 2020-08-08 11:33:20,440] Trial 14 finished with value: 0.699578125 and parameters: {'model_rf__max_depth': 13, 'model_rf__min_samples_leaf': 5, 'model_rf__min_samples_split': 3, 'model_rf__n_estimators': 71, 'model_rf__criterion': 'entropy'}. Best is trial 11 with value: 0.701734375.\n"
     ]
    },
    {
     "name": "stdout",
     "output_type": "stream",
     "text": [
      "SCORE DE RECALL:0.71271875\n"
     ]
    },
    {
     "name": "stderr",
     "output_type": "stream",
     "text": [
      "[I 2020-08-08 11:33:33,158] Trial 15 finished with value: 0.71271875 and parameters: {'model_rf__max_depth': 13, 'model_rf__min_samples_leaf': 2, 'model_rf__min_samples_split': 3, 'model_rf__n_estimators': 79, 'model_rf__criterion': 'entropy'}. Best is trial 15 with value: 0.71271875.\n"
     ]
    },
    {
     "name": "stdout",
     "output_type": "stream",
     "text": [
      "SCORE DE RECALL:0.668609375\n"
     ]
    },
    {
     "name": "stderr",
     "output_type": "stream",
     "text": [
      "[I 2020-08-08 11:33:43,223] Trial 16 finished with value: 0.668609375 and parameters: {'model_rf__max_depth': 9, 'model_rf__min_samples_leaf': 2, 'model_rf__min_samples_split': 2, 'model_rf__n_estimators': 83, 'model_rf__criterion': 'entropy'}. Best is trial 15 with value: 0.71271875.\n"
     ]
    },
    {
     "name": "stdout",
     "output_type": "stream",
     "text": [
      "SCORE DE RECALL:0.678390625\n"
     ]
    },
    {
     "name": "stderr",
     "output_type": "stream",
     "text": [
      "[I 2020-08-08 11:34:01,062] Trial 17 finished with value: 0.678390625 and parameters: {'model_rf__max_depth': 12, 'model_rf__min_samples_leaf': 15, 'model_rf__min_samples_split': 7, 'model_rf__n_estimators': 135, 'model_rf__criterion': 'entropy'}. Best is trial 15 with value: 0.71271875.\n"
     ]
    },
    {
     "name": "stdout",
     "output_type": "stream",
     "text": [
      "SCORE DE RECALL:0.660078125\n"
     ]
    },
    {
     "name": "stderr",
     "output_type": "stream",
     "text": [
      "[I 2020-08-08 11:34:10,334] Trial 18 finished with value: 0.660078125 and parameters: {'model_rf__max_depth': 8, 'model_rf__min_samples_leaf': 10, 'model_rf__min_samples_split': 23, 'model_rf__n_estimators': 83, 'model_rf__criterion': 'entropy'}. Best is trial 15 with value: 0.71271875.\n"
     ]
    },
    {
     "name": "stdout",
     "output_type": "stream",
     "text": [
      "SCORE DE RECALL:0.680875\n"
     ]
    },
    {
     "name": "stderr",
     "output_type": "stream",
     "text": [
      "[I 2020-08-08 11:34:29,191] Trial 19 finished with value: 0.680875 and parameters: {'model_rf__max_depth': 11, 'model_rf__min_samples_leaf': 4, 'model_rf__min_samples_split': 13, 'model_rf__n_estimators': 145, 'model_rf__criterion': 'entropy'}. Best is trial 15 with value: 0.71271875.\n"
     ]
    },
    {
     "name": "stdout",
     "output_type": "stream",
     "text": [
      "SCORE DE RECALL:0.675734375\n"
     ]
    },
    {
     "name": "stderr",
     "output_type": "stream",
     "text": [
      "[I 2020-08-08 11:34:40,161] Trial 20 finished with value: 0.675734375 and parameters: {'model_rf__max_depth': 12, 'model_rf__min_samples_leaf': 18, 'model_rf__min_samples_split': 5, 'model_rf__n_estimators': 79, 'model_rf__criterion': 'entropy'}. Best is trial 15 with value: 0.71271875.\n"
     ]
    },
    {
     "name": "stdout",
     "output_type": "stream",
     "text": [
      "SCORE DE RECALL:0.699796875\n"
     ]
    },
    {
     "name": "stderr",
     "output_type": "stream",
     "text": [
      "[I 2020-08-08 11:34:51,069] Trial 21 finished with value: 0.699796875 and parameters: {'model_rf__max_depth': 13, 'model_rf__min_samples_leaf': 5, 'model_rf__min_samples_split': 3, 'model_rf__n_estimators': 69, 'model_rf__criterion': 'entropy'}. Best is trial 15 with value: 0.71271875.\n"
     ]
    },
    {
     "name": "stdout",
     "output_type": "stream",
     "text": [
      "SCORE DE RECALL:0.712828125\n"
     ]
    },
    {
     "name": "stderr",
     "output_type": "stream",
     "text": [
      "[I 2020-08-08 11:34:59,921] Trial 22 finished with value: 0.712828125 and parameters: {'model_rf__max_depth': 13, 'model_rf__min_samples_leaf': 2, 'model_rf__min_samples_split': 2, 'model_rf__n_estimators': 51, 'model_rf__criterion': 'entropy'}. Best is trial 22 with value: 0.712828125.\n"
     ]
    },
    {
     "name": "stdout",
     "output_type": "stream",
     "text": [
      "SCORE DE RECALL:0.696421875\n"
     ]
    },
    {
     "name": "stderr",
     "output_type": "stream",
     "text": [
      "[I 2020-08-08 11:35:08,125] Trial 23 finished with value: 0.696421875 and parameters: {'model_rf__max_depth': 12, 'model_rf__min_samples_leaf': 2, 'model_rf__min_samples_split': 7, 'model_rf__n_estimators': 50, 'model_rf__criterion': 'entropy'}. Best is trial 22 with value: 0.712828125.\n"
     ]
    },
    {
     "name": "stdout",
     "output_type": "stream",
     "text": [
      "SCORE DE RECALL:0.67121875\n"
     ]
    },
    {
     "name": "stderr",
     "output_type": "stream",
     "text": [
      "[I 2020-08-08 11:35:20,818] Trial 24 finished with value: 0.67121875 and parameters: {'model_rf__max_depth': 10, 'model_rf__min_samples_leaf': 8, 'model_rf__min_samples_split': 5, 'model_rf__n_estimators': 98, 'model_rf__criterion': 'entropy'}. Best is trial 22 with value: 0.712828125.\n"
     ]
    },
    {
     "name": "stdout",
     "output_type": "stream",
     "text": [
      "FrozenTrial(number=22, value=0.712828125, datetime_start=datetime.datetime(2020, 8, 8, 11, 34, 51, 72060), datetime_complete=datetime.datetime(2020, 8, 8, 11, 34, 59, 921288), params={'model_rf__max_depth': 13, 'model_rf__min_samples_leaf': 2, 'model_rf__min_samples_split': 2, 'model_rf__n_estimators': 51, 'model_rf__criterion': 'entropy'}, distributions={'model_rf__max_depth': IntUniformDistribution(high=13, low=2, step=1), 'model_rf__min_samples_leaf': IntUniformDistribution(high=33, low=2, step=1), 'model_rf__min_samples_split': IntUniformDistribution(high=33, low=2, step=1), 'model_rf__n_estimators': IntUniformDistribution(high=300, low=50, step=1), 'model_rf__criterion': CategoricalDistribution(choices=('gini', 'entropy'))}, user_attrs={}, system_attrs={}, intermediate_values={}, trial_id=22, state=TrialState.COMPLETE)\n"
     ]
    }
   ],
   "source": [
    "sampler = TPESampler(seed=123)  # Make the sampler behave in a deterministic way.\n",
    "study = optuna.create_study(sampler=sampler,direction='maximize')\n",
    "study.optimize(fitRF, n_trials=25)\n",
    "print(study.best_trial)"
   ]
  },
  {
   "cell_type": "code",
   "execution_count": 16,
   "metadata": {
    "ExecuteTime": {
     "end_time": "2020-08-08T14:35:29.529641Z",
     "start_time": "2020-08-08T14:35:29.521957Z"
    }
   },
   "outputs": [
    {
     "name": "stdout",
     "output_type": "stream",
     "text": [
      "O modelo obteve um score de validação cruzada para o recall de: 0.712828125\n"
     ]
    }
   ],
   "source": [
    "print(f'O modelo obteve um score de validação cruzada para o recall de: {study.best_value}')"
   ]
  },
  {
   "cell_type": "code",
   "execution_count": 17,
   "metadata": {
    "ExecuteTime": {
     "end_time": "2020-08-08T14:35:32.527104Z",
     "start_time": "2020-08-08T14:35:32.452410Z"
    }
   },
   "outputs": [
    {
     "data": {
      "text/plain": [
       "Pipeline(steps=[('preprocessor',\n",
       "                 ColumnTransformer(transformers=[('pipe_categorico',\n",
       "                                                  Pipeline(steps=[('impute',\n",
       "                                                                   SimpleImputer(strategy='most_frequent')),\n",
       "                                                                  ('ordinal_encoder',\n",
       "                                                                   OrdinalEncoder())]),\n",
       "                                                  ['Tipo_de_Cultivo',\n",
       "                                                   'Categoria_Pesticida']),\n",
       "                                                 ('pipe_numerico',\n",
       "                                                  Pipeline(steps=[('impute',\n",
       "                                                                   SimpleImputer(strategy='median'))]),\n",
       "                                                  ['Semanas_Utilizando',\n",
       "                                                   'Semanas_Sem_Uso',\n",
       "                                                   'Estimativa_de_Insetos',\n",
       "                                                   'Doses_Semana'])])),\n",
       "                ('model_rf',\n",
       "                 RandomForestClassifier(class_weight='balanced',\n",
       "                                        criterion='entropy', max_depth=13,\n",
       "                                        min_samples_leaf=2, n_estimators=51,\n",
       "                                        random_state=0))])"
      ]
     },
     "execution_count": 17,
     "metadata": {},
     "output_type": "execute_result"
    }
   ],
   "source": [
    "# definindo os melhores hiperparâmetros, baseados na busca feita com a otimização bayesiana\n",
    "modelo_pipe.set_params(**study.best_params)"
   ]
  },
  {
   "cell_type": "code",
   "execution_count": 18,
   "metadata": {
    "ExecuteTime": {
     "end_time": "2020-08-08T14:35:37.714976Z",
     "start_time": "2020-08-08T14:35:35.397539Z"
    }
   },
   "outputs": [
    {
     "data": {
      "text/html": [
       "<style>div.sk-top-container {color: black;background-color: white;}div.sk-toggleable {background-color: white;}label.sk-toggleable__label {cursor: pointer;display: block;width: 100%;margin-bottom: 0;padding: 0.2em 0.3em;box-sizing: border-box;text-align: center;}div.sk-toggleable__content {max-height: 0;max-width: 0;overflow: hidden;text-align: left;background-color: #f0f8ff;}div.sk-toggleable__content pre {margin: 0.2em;color: black;border-radius: 0.25em;background-color: #f0f8ff;}input.sk-toggleable__control:checked~div.sk-toggleable__content {max-height: 200px;max-width: 100%;overflow: auto;}div.sk-estimator input.sk-toggleable__control:checked~label.sk-toggleable__label {background-color: #d4ebff;}div.sk-label input.sk-toggleable__control:checked~label.sk-toggleable__label {background-color: #d4ebff;}input.sk-hidden--visually {border: 0;clip: rect(1px 1px 1px 1px);clip: rect(1px, 1px, 1px, 1px);height: 1px;margin: -1px;overflow: hidden;padding: 0;position: absolute;width: 1px;}div.sk-estimator {font-family: monospace;background-color: #f0f8ff;margin: 0.25em 0.25em;border: 1px dotted black;border-radius: 0.25em;box-sizing: border-box;}div.sk-estimator:hover {background-color: #d4ebff;}div.sk-parallel-item::after {content: \"\";width: 100%;border-bottom: 1px solid gray;flex-grow: 1;}div.sk-label:hover label.sk-toggleable__label {background-color: #d4ebff;}div.sk-serial::before {content: \"\";position: absolute;border-left: 1px solid gray;box-sizing: border-box;top: 2em;bottom: 0;left: 50%;}div.sk-serial {display: flex;flex-direction: column;align-items: center;background-color: white;}div.sk-item {z-index: 1;}div.sk-parallel {display: flex;align-items: stretch;justify-content: center;background-color: white;}div.sk-parallel-item {display: flex;flex-direction: column;position: relative;background-color: white;}div.sk-parallel-item:first-child::after {align-self: flex-end;width: 50%;}div.sk-parallel-item:last-child::after {align-self: flex-start;width: 50%;}div.sk-parallel-item:only-child::after {width: 0;}div.sk-dashed-wrapped {border: 1px dashed gray;margin: 0.2em;box-sizing: border-box;padding-bottom: 0.1em;background-color: white;position: relative;}div.sk-label label {font-family: monospace;font-weight: bold;background-color: white;display: inline-block;line-height: 1.2em;}div.sk-label-container {position: relative;z-index: 2;text-align: center;}div.sk-container {display: inline-block;position: relative;}</style><div class=\"sk-top-container\"><div class=\"sk-container\"><div class=\"sk-item sk-dashed-wrapped\"><div class=\"sk-label-container\"><div class=\"sk-label sk-toggleable\"><input class=\"sk-toggleable__control sk-hidden--visually\" id=\"7a7c8c73-60ee-4af3-9475-4eba17f5cc96\" type=\"checkbox\" ><label class=\"sk-toggleable__label\" for=\"7a7c8c73-60ee-4af3-9475-4eba17f5cc96\">Pipeline</label><div class=\"sk-toggleable__content\"><pre>Pipeline(steps=[('preprocessor',\n",
       "                 ColumnTransformer(transformers=[('pipe_categorico',\n",
       "                                                  Pipeline(steps=[('impute',\n",
       "                                                                   SimpleImputer(strategy='most_frequent')),\n",
       "                                                                  ('ordinal_encoder',\n",
       "                                                                   OrdinalEncoder())]),\n",
       "                                                  ['Tipo_de_Cultivo',\n",
       "                                                   'Categoria_Pesticida']),\n",
       "                                                 ('pipe_numerico',\n",
       "                                                  Pipeline(steps=[('impute',\n",
       "                                                                   SimpleImputer(strategy='median'))]),\n",
       "                                                  ['Semanas_Utilizando',\n",
       "                                                   'Semanas_Sem_Uso',\n",
       "                                                   'Estimativa_de_Insetos',\n",
       "                                                   'Doses_Semana'])])),\n",
       "                ('model_rf',\n",
       "                 RandomForestClassifier(class_weight='balanced',\n",
       "                                        criterion='entropy', max_depth=13,\n",
       "                                        min_samples_leaf=2, n_estimators=51,\n",
       "                                        random_state=0))])</pre></div></div></div><div class=\"sk-serial\"><div class=\"sk-item sk-dashed-wrapped\"><div class=\"sk-label-container\"><div class=\"sk-label sk-toggleable\"><input class=\"sk-toggleable__control sk-hidden--visually\" id=\"b58cf10d-a33e-47e5-893b-58f7a57b0bd5\" type=\"checkbox\" ><label class=\"sk-toggleable__label\" for=\"b58cf10d-a33e-47e5-893b-58f7a57b0bd5\">preprocessor: ColumnTransformer</label><div class=\"sk-toggleable__content\"><pre>ColumnTransformer(transformers=[('pipe_categorico',\n",
       "                                 Pipeline(steps=[('impute',\n",
       "                                                  SimpleImputer(strategy='most_frequent')),\n",
       "                                                 ('ordinal_encoder',\n",
       "                                                  OrdinalEncoder())]),\n",
       "                                 ['Tipo_de_Cultivo', 'Categoria_Pesticida']),\n",
       "                                ('pipe_numerico',\n",
       "                                 Pipeline(steps=[('impute',\n",
       "                                                  SimpleImputer(strategy='median'))]),\n",
       "                                 ['Semanas_Utilizando', 'Semanas_Sem_Uso',\n",
       "                                  'Estimativa_de_Insetos', 'Doses_Semana'])])</pre></div></div></div><div class=\"sk-parallel\"><div class=\"sk-parallel-item\"><div class=\"sk-item\"><div class=\"sk-label-container\"><div class=\"sk-label sk-toggleable\"><input class=\"sk-toggleable__control sk-hidden--visually\" id=\"1fd4d593-0fc8-443f-9938-f30e90665a1e\" type=\"checkbox\" ><label class=\"sk-toggleable__label\" for=\"1fd4d593-0fc8-443f-9938-f30e90665a1e\">pipe_categorico</label><div class=\"sk-toggleable__content\"><pre>['Tipo_de_Cultivo', 'Categoria_Pesticida']</pre></div></div></div><div class=\"sk-serial\"><div class=\"sk-item\"><div class=\"sk-serial\"><div class=\"sk-item\"><div class=\"sk-estimator sk-toggleable\"><input class=\"sk-toggleable__control sk-hidden--visually\" id=\"f12ee063-146b-4de1-97ac-6871f2d0b95e\" type=\"checkbox\" ><label class=\"sk-toggleable__label\" for=\"f12ee063-146b-4de1-97ac-6871f2d0b95e\">SimpleImputer</label><div class=\"sk-toggleable__content\"><pre>SimpleImputer(strategy='most_frequent')</pre></div></div></div><div class=\"sk-item\"><div class=\"sk-estimator sk-toggleable\"><input class=\"sk-toggleable__control sk-hidden--visually\" id=\"c43f059e-3c86-43e7-95fe-adc967ca895e\" type=\"checkbox\" ><label class=\"sk-toggleable__label\" for=\"c43f059e-3c86-43e7-95fe-adc967ca895e\">OrdinalEncoder</label><div class=\"sk-toggleable__content\"><pre>OrdinalEncoder()</pre></div></div></div></div></div></div></div></div><div class=\"sk-parallel-item\"><div class=\"sk-item\"><div class=\"sk-label-container\"><div class=\"sk-label sk-toggleable\"><input class=\"sk-toggleable__control sk-hidden--visually\" id=\"fa18007e-89b4-4769-97d8-c70cc224ac0a\" type=\"checkbox\" ><label class=\"sk-toggleable__label\" for=\"fa18007e-89b4-4769-97d8-c70cc224ac0a\">pipe_numerico</label><div class=\"sk-toggleable__content\"><pre>['Semanas_Utilizando', 'Semanas_Sem_Uso', 'Estimativa_de_Insetos', 'Doses_Semana']</pre></div></div></div><div class=\"sk-serial\"><div class=\"sk-item\"><div class=\"sk-serial\"><div class=\"sk-item\"><div class=\"sk-estimator sk-toggleable\"><input class=\"sk-toggleable__control sk-hidden--visually\" id=\"f3be0233-97e0-4819-82d0-e219fc4c84c7\" type=\"checkbox\" ><label class=\"sk-toggleable__label\" for=\"f3be0233-97e0-4819-82d0-e219fc4c84c7\">SimpleImputer</label><div class=\"sk-toggleable__content\"><pre>SimpleImputer(strategy='median')</pre></div></div></div></div></div></div></div></div></div></div><div class=\"sk-item\"><div class=\"sk-estimator sk-toggleable\"><input class=\"sk-toggleable__control sk-hidden--visually\" id=\"81f861db-1b2e-4b3d-9ec0-a396ef0fcad8\" type=\"checkbox\" ><label class=\"sk-toggleable__label\" for=\"81f861db-1b2e-4b3d-9ec0-a396ef0fcad8\">RandomForestClassifier</label><div class=\"sk-toggleable__content\"><pre>RandomForestClassifier(class_weight='balanced', criterion='entropy',\n",
       "                       max_depth=13, min_samples_leaf=2, n_estimators=51,\n",
       "                       random_state=0)</pre></div></div></div></div></div></div></div>"
      ],
      "text/plain": [
       "Pipeline(steps=[('preprocessor',\n",
       "                 ColumnTransformer(transformers=[('pipe_categorico',\n",
       "                                                  Pipeline(steps=[('impute',\n",
       "                                                                   SimpleImputer(strategy='most_frequent')),\n",
       "                                                                  ('ordinal_encoder',\n",
       "                                                                   OrdinalEncoder())]),\n",
       "                                                  ['Tipo_de_Cultivo',\n",
       "                                                   'Categoria_Pesticida']),\n",
       "                                                 ('pipe_numerico',\n",
       "                                                  Pipeline(steps=[('impute',\n",
       "                                                                   SimpleImputer(strategy='median'))]),\n",
       "                                                  ['Semanas_Utilizando',\n",
       "                                                   'Semanas_Sem_Uso',\n",
       "                                                   'Estimativa_de_Insetos',\n",
       "                                                   'Doses_Semana'])])),\n",
       "                ('model_rf',\n",
       "                 RandomForestClassifier(class_weight='balanced',\n",
       "                                        criterion='entropy', max_depth=13,\n",
       "                                        min_samples_leaf=2, n_estimators=51,\n",
       "                                        random_state=0))])"
      ]
     },
     "execution_count": 18,
     "metadata": {},
     "output_type": "execute_result"
    }
   ],
   "source": [
    "# plotando o pipeline\n",
    "set_config(display='diagram')\n",
    "# Treinando o modelo\n",
    "modelo_pipe.fit(X,y)"
   ]
  },
  {
   "cell_type": "markdown",
   "metadata": {},
   "source": [
    "## Curva de Aprendizado"
   ]
  },
  {
   "cell_type": "markdown",
   "metadata": {},
   "source": [
    "Aqui utilizaremos a curva de aprendizado para diagnosticar possíveis problemas de viés ou variância."
   ]
  },
  {
   "cell_type": "code",
   "execution_count": 20,
   "metadata": {
    "ExecuteTime": {
     "end_time": "2020-08-08T14:36:30.178844Z",
     "start_time": "2020-08-08T14:36:19.250184Z"
    }
   },
   "outputs": [
    {
     "data": {
      "image/png": "[encoded data removed]",
      "text/plain": [
       "<Figure size 432x288 with 1 Axes>"
      ]
     },
     "metadata": {
      "needs_background": "light"
     },
     "output_type": "display_data"
    },
    {
     "data": {
      "text/plain": [
       "<AxesSubplot:title={'center':'Learning Curve for RandomForestClassifier'}, xlabel='Training Instances', ylabel='Score'>"
      ]
     },
     "execution_count": 20,
     "metadata": {},
     "output_type": "execute_result"
    }
   ],
   "source": [
    "visualizer = LearningCurve(modelo_pipe, cv=cv, scoring='recall_weighted', n_jobs=4, random_state = 123)\n",
    "visualizer.fit(X, y)    \n",
    "plt.ylim((0,1.01)) # Fit the data to the visualizer\n",
    "visualizer.show() "
   ]
  },
  {
   "cell_type": "markdown",
   "metadata": {},
   "source": [
    "Pela curva apresentada, vemos que existe a tendência do modelo atingir uma performance muito parecida no treinamento e no teste à medida que aumentamos o número de registros de treinamento. Talvez com uma base maior tenhamos um aumento de performance."
   ]
  },
  {
   "cell_type": "markdown",
   "metadata": {},
   "source": [
    "## Teste "
   ]
  },
  {
   "cell_type": "markdown",
   "metadata": {
    "ExecuteTime": {
     "end_time": "2020-08-08T03:55:03.020644Z",
     "start_time": "2020-08-08T03:55:03.015965Z"
    }
   },
   "source": [
    "Agora que já treinamos o modelo e definimos os hiperparâmetros que maximizam nossa métrica, iremos comparar a perfomance do treino com a de teste."
   ]
  },
  {
   "cell_type": "code",
   "execution_count": 21,
   "metadata": {
    "ExecuteTime": {
     "end_time": "2020-08-08T14:36:30.598116Z",
     "start_time": "2020-08-08T14:36:30.461989Z"
    }
   },
   "outputs": [],
   "source": [
    "# Previsão para o teste\n",
    "y_pred_test = modelo_pipe.predict(df_test.drop(target,axis=1))"
   ]
  },
  {
   "cell_type": "code",
   "execution_count": 22,
   "metadata": {
    "ExecuteTime": {
     "end_time": "2020-08-08T14:36:30.985518Z",
     "start_time": "2020-08-08T14:36:30.899497Z"
    }
   },
   "outputs": [
    {
     "name": "stdout",
     "output_type": "stream",
     "text": [
      "O modelo obteve um score de teste para o recall de: 0.7039375\n"
     ]
    }
   ],
   "source": [
    "recall_score_teste = recall_score(df_test['dano_na_plantacao'], y_pred_test,average='weighted')\n",
    "print(f'O modelo obteve um score de teste para o recall de: {recall_score_teste}')"
   ]
  },
  {
   "cell_type": "markdown",
   "metadata": {},
   "source": [
    "Temos que avaliar nossa métrica versus a métrica da solução que já está disponível na empresa. Na ausência de um modelo existente, podemos utilizar \"naive classifiers\" construídos com regras simples, para medir qual ganho de performance temos ao implementarmos o modelo de machine-learning."
   ]
  },
  {
   "cell_type": "markdown",
   "metadata": {},
   "source": [
    "# Previsões 2020"
   ]
  },
  {
   "cell_type": "markdown",
   "metadata": {},
   "source": [
    "Por fim, iremos fornecer as previsões para a safra de 2020. Além disso, vamos exportar nosso modelo binarizado para utilização."
   ]
  },
  {
   "cell_type": "code",
   "execution_count": 51,
   "metadata": {
    "ExecuteTime": {
     "end_time": "2020-08-08T14:50:48.255670Z",
     "start_time": "2020-08-08T14:50:48.151351Z"
    }
   },
   "outputs": [],
   "source": [
    "# Lendo os dados da safra de 2020\n",
    "df_safra_2020 = pd.read_csv(os.path.join(DATA_SAFRA_2020_PATH, DATA_SAFRA_2020_NAME), index_col=0,dtype=dicionario_tipo)\n",
    "# Prevendo\n",
    "previsoes_2020 = modelo_pipe.predict_proba(df_safra_2020)"
   ]
  },
  {
   "cell_type": "code",
   "execution_count": 52,
   "metadata": {
    "ExecuteTime": {
     "end_time": "2020-08-08T14:50:52.769563Z",
     "start_time": "2020-08-08T14:50:52.750588Z"
    }
   },
   "outputs": [],
   "source": [
    "# Transformando as previsões em Score (geralmente é mais fácil explicar em forma de score \n",
    "# do que em forma de probabilidade) para o cliente\n",
    "\n",
    "columns_predict = ['Score_Saudável','Score_Danos_Outros_Motivos','Score_Danos_Pesticida']\n",
    "previsoes_2020 = previsoes_2020*1000\n",
    "df_previsoes_2020 = pd.DataFrame(previsoes_2020, columns=columns_predict)\n",
    "df_previsoes_2020 = df_previsoes_2020.round(2)"
   ]
  },
  {
   "cell_type": "code",
   "execution_count": 53,
   "metadata": {
    "ExecuteTime": {
     "end_time": "2020-08-08T14:50:54.269438Z",
     "start_time": "2020-08-08T14:50:53.843742Z"
    }
   },
   "outputs": [],
   "source": [
    "# Pre processando os dados de treino e teste para salvar em uma pasta isolada \n",
    "df_train_processed = modelo_pipe['preprocessor'].transform(df_train)\n",
    "df_test_processed = modelo_pipe['preprocessor'].transform(df_test)\n",
    "df_train_processed = pd.DataFrame(df_train_processed, columns = variaveis_numericas+variaveis_categoricas)\n",
    "df_train_processed['dano_na_plantacao'] = df_train['dano_na_plantacao']\n",
    "df_test_processed = pd.DataFrame(df_test_processed, columns = variaveis_numericas+variaveis_categoricas)\n",
    "df_test_processed['dano_na_plantacao'] = df_test['dano_na_plantacao']\n",
    "df_train_processed.to_csv(os.path.join(DATA_PROCESSED_PATH, DATA_TRAIN_PROCESSED_NAME), index=False)\n",
    "df_test_processed.to_csv(os.path.join(DATA_PROCESSED_PATH, DATA_TEST_PROCESSED_NAME), index=False)"
   ]
  },
  {
   "cell_type": "code",
   "execution_count": 54,
   "metadata": {
    "ExecuteTime": {
     "end_time": "2020-08-08T14:50:56.929126Z",
     "start_time": "2020-08-08T14:50:56.878784Z"
    }
   },
   "outputs": [],
   "source": [
    "# Salvando previsões, modelo e salvando as bases de treino e teste preprocessadas \n",
    "df_previsoes_2020['Identificador_Agricultor'] = df_safra_2020['Identificador_Agricultor'].values\n",
    "df_previsoes_2020.to_csv(os.path.join(PREDICT_2020_PATH, PREDICT_2020_NAME), index=False)"
   ]
  },
  {
   "cell_type": "code",
   "execution_count": 55,
   "metadata": {
    "ExecuteTime": {
     "end_time": "2020-08-08T14:50:57.412631Z",
     "start_time": "2020-08-08T14:50:57.387866Z"
    }
   },
   "outputs": [
    {
     "data": {
      "text/html": [
       "<div>\n",
       "<style scoped>\n",
       "    .dataframe tbody tr th:only-of-type {\n",
       "        vertical-align: middle;\n",
       "    }\n",
       "\n",
       "    .dataframe tbody tr th {\n",
       "        vertical-align: top;\n",
       "    }\n",
       "\n",
       "    .dataframe thead th {\n",
       "        text-align: right;\n",
       "    }\n",
       "</style>\n",
       "<table border=\"1\" class=\"dataframe\">\n",
       "  <thead>\n",
       "    <tr style=\"text-align: right;\">\n",
       "      <th></th>\n",
       "      <th>Score_Saudável</th>\n",
       "      <th>Score_Danos_Outros_Motivos</th>\n",
       "      <th>Score_Danos_Pesticida</th>\n",
       "      <th>Identificador_Agricultor</th>\n",
       "    </tr>\n",
       "  </thead>\n",
       "  <tbody>\n",
       "    <tr>\n",
       "      <th>0</th>\n",
       "      <td>992.75</td>\n",
       "      <td>7.25</td>\n",
       "      <td>0.00</td>\n",
       "      <td>SCROP80001</td>\n",
       "    </tr>\n",
       "    <tr>\n",
       "      <th>1</th>\n",
       "      <td>988.52</td>\n",
       "      <td>11.48</td>\n",
       "      <td>0.00</td>\n",
       "      <td>SCROP80002</td>\n",
       "    </tr>\n",
       "    <tr>\n",
       "      <th>2</th>\n",
       "      <td>992.84</td>\n",
       "      <td>7.16</td>\n",
       "      <td>0.00</td>\n",
       "      <td>SCROP80003</td>\n",
       "    </tr>\n",
       "    <tr>\n",
       "      <th>3</th>\n",
       "      <td>979.53</td>\n",
       "      <td>20.47</td>\n",
       "      <td>0.00</td>\n",
       "      <td>SCROP80004</td>\n",
       "    </tr>\n",
       "    <tr>\n",
       "      <th>4</th>\n",
       "      <td>985.64</td>\n",
       "      <td>14.36</td>\n",
       "      <td>0.00</td>\n",
       "      <td>SCROP80005</td>\n",
       "    </tr>\n",
       "    <tr>\n",
       "      <th>...</th>\n",
       "      <td>...</td>\n",
       "      <td>...</td>\n",
       "      <td>...</td>\n",
       "      <td>...</td>\n",
       "    </tr>\n",
       "    <tr>\n",
       "      <th>8853</th>\n",
       "      <td>559.26</td>\n",
       "      <td>440.74</td>\n",
       "      <td>0.00</td>\n",
       "      <td>SCROP88854</td>\n",
       "    </tr>\n",
       "    <tr>\n",
       "      <th>8854</th>\n",
       "      <td>581.88</td>\n",
       "      <td>418.12</td>\n",
       "      <td>0.00</td>\n",
       "      <td>SCROP88855</td>\n",
       "    </tr>\n",
       "    <tr>\n",
       "      <th>8855</th>\n",
       "      <td>412.45</td>\n",
       "      <td>568.54</td>\n",
       "      <td>19.01</td>\n",
       "      <td>SCROP88856</td>\n",
       "    </tr>\n",
       "    <tr>\n",
       "      <th>8856</th>\n",
       "      <td>527.35</td>\n",
       "      <td>462.39</td>\n",
       "      <td>10.27</td>\n",
       "      <td>SCROP88857</td>\n",
       "    </tr>\n",
       "    <tr>\n",
       "      <th>8857</th>\n",
       "      <td>481.86</td>\n",
       "      <td>494.36</td>\n",
       "      <td>23.78</td>\n",
       "      <td>SCROP88858</td>\n",
       "    </tr>\n",
       "  </tbody>\n",
       "</table>\n",
       "<p>8858 rows × 4 columns</p>\n",
       "</div>"
      ],
      "text/plain": [
       "      Score_Saudável  Score_Danos_Outros_Motivos  Score_Danos_Pesticida Identificador_Agricultor\n",
       "0             992.75                        7.25                   0.00               SCROP80001\n",
       "1             988.52                       11.48                   0.00               SCROP80002\n",
       "2             992.84                        7.16                   0.00               SCROP80003\n",
       "3             979.53                       20.47                   0.00               SCROP80004\n",
       "4             985.64                       14.36                   0.00               SCROP80005\n",
       "...              ...                         ...                    ...                      ...\n",
       "8853          559.26                      440.74                   0.00               SCROP88854\n",
       "8854          581.88                      418.12                   0.00               SCROP88855\n",
       "8855          412.45                      568.54                  19.01               SCROP88856\n",
       "8856          527.35                      462.39                  10.27               SCROP88857\n",
       "8857          481.86                      494.36                  23.78               SCROP88858\n",
       "\n",
       "[8858 rows x 4 columns]"
      ]
     },
     "execution_count": 55,
     "metadata": {},
     "output_type": "execute_result"
    }
   ],
   "source": [
    "df_previsoes_2020"
   ]
  },
  {
   "cell_type": "code",
   "execution_count": 56,
   "metadata": {
    "ExecuteTime": {
     "end_time": "2020-08-08T14:51:06.651377Z",
     "start_time": "2020-08-08T14:51:06.506621Z"
    }
   },
   "outputs": [],
   "source": [
    "# Exportando o modelo em formato binarizado \n",
    "with open(os.path.join(MODEL_PATH, MODEL_NAME), 'wb') as model:\n",
    "    cloudpickle.dump(modelo_pipe, model)"
   ]
  }
 ],
 "metadata": {
  "kernelspec": {
   "display_name": "Python 3",
   "language": "python",
   "name": "python3"
  },
  "language_info": {
   "codemirror_mode": {
    "name": "ipython",
    "version": 3
   },
   "file_extension": ".py",
   "mimetype": "text/x-python",
   "name": "python",
   "nbconvert_exporter": "python",
   "pygments_lexer": "ipython3",
   "version": "3.8.3"
  },
  "toc": {
   "base_numbering": 1,
   "nav_menu": {},
   "number_sections": true,
   "sideBar": true,
   "skip_h1_title": false,
   "title_cell": "Table of Contents",
   "title_sidebar": "Contents",
   "toc_cell": false,
   "toc_position": {},
   "toc_section_display": true,
   "toc_window_display": false
  },
  "varInspector": {
   "cols": {
    "lenName": 16,
    "lenType": 16,
    "lenVar": 40
   },
   "kernels_config": {
    "python": {
     "delete_cmd_postfix": "",
     "delete_cmd_prefix": "del ",
     "library": "var_list.py",
     "varRefreshCmd": "print(var_dic_list())"
    },
    "r": {
     "delete_cmd_postfix": ") ",
     "delete_cmd_prefix": "rm(",
     "library": "var_list.r",
     "varRefreshCmd": "cat(var_dic_list()) "
    }
   },
   "types_to_exclude": [
    "module",
    "function",
    "builtin_function_or_method",
    "instance",
    "_Feature"
   ],
   "window_display": false
  }
 },
 "nbformat": 4,
 "nbformat_minor": 4
}
