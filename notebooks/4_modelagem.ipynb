{
 "cells": [
  {
   "cell_type": "markdown",
   "metadata": {},
   "source": [
    "Neste tópico, iremos preparar nossos dados para modelagem, criando pipeline para garatir o correto pré-processamento dos nossos dados.Utilizaremos o modelo RandomForestClassifier, um modelo que me sinto bastante confortável por conhecer seu funcionamento e nuances. É um modelo não-linear, robusto a outliers e que não possui qualquer suposição sobre as distribuições, o que é algo bastante relevante, dado que a maioria dos dados na vida real apresentam não normalidade. Evitar a normalização é uma etapa a menos se você utiliza modelos baseados em árvore. Em suma, o RandomForest cria várias árvores de decisões, as quais são construídas com diferentes dados de um mesmo dataset (Bootstrap). Dessa maneira, o resultado final é obtido por votação majoritária. Vale ressaltar também que estamos lidando com um problema de classificação múltipla. O RandomForestClassifier é por natureza um modelo que lida com esse tipo de problema, sem precisar aplicar técnicas como One vs One ou One vs Rest."
   ]
  },
  {
   "cell_type": "markdown",
   "metadata": {},
   "source": [
    "# Dependências"
   ]
  },
  {
   "cell_type": "code",
   "execution_count": 44,
   "metadata": {
    "ExecuteTime": {
     "end_time": "2020-08-08T04:44:36.584545Z",
     "start_time": "2020-08-08T04:44:36.560392Z"
    }
   },
   "outputs": [],
   "source": [
    "#Importanto bibliotecas.\n",
    "#import sys\n",
    "#!{sys.executable} -m pip install yellowbrick\n",
    "import warnings \n",
    "warnings.filterwarnings('ignore')\n",
    "import os\n",
    "import pandas as pd\n",
    "import numpy as np\n",
    "import matplotlib.pyplot as plt\n",
    "import seaborn as sns\n",
    "import cloudpickle\n",
    "from sklearn.preprocessing import OrdinalEncoder\n",
    "from sklearn.ensemble import RandomForestClassifier \n",
    "from sklearn.model_selection import train_test_split\n",
    "from sklearn.impute import SimpleImputer \n",
    "from sklearn.pipeline import Pipeline\n",
    "from sklearn.compose import ColumnTransformer\n",
    "from sklearn.metrics import classification_report, recall_score\n",
    "from sklearn.model_selection import cross_val_score, StratifiedKFold\n",
    "from yellowbrick.model_selection import LearningCurve\n",
    "from sklearn.model_selection import ShuffleSplit\n",
    "from sklearn.model_selection import learning_curve\n",
    "from src.modelagem_metricas import naive_classifiers\n",
    "from sklearn import set_config\n",
    "import optuna\n",
    "from optuna.samplers import TPESampler\n",
    "pd.set_option('display.max_rows', 500)\n",
    "pd.set_option('display.max_columns', 500)\n",
    "pd.set_option('display.width', 1000)\n",
    "%matplotlib inline"
   ]
  },
  {
   "cell_type": "code",
   "execution_count": 57,
   "metadata": {
    "ExecuteTime": {
     "end_time": "2020-08-08T04:56:59.155204Z",
     "start_time": "2020-08-08T04:56:59.139226Z"
    }
   },
   "outputs": [],
   "source": [
    "#Constantes\n",
    "DATA_RAW_PATH = os.path.join('..','data','raw')\n",
    "DATA_RAW_NAME = 'Safra_2018-2019.csv'\n",
    "DATA_INTER_PATH = os.path.join('..','data','inter')\n",
    "DATA_INTER_TEST_NAME = 'test_inter.csv'\n",
    "DATA_INTER_TRAIN_FT_SELECTION = 'train_inter_ft_selection.csv'\n",
    "DATA_SAFRA_2020_PATH = os.path.join('..','data', 'raw')\n",
    "DATA_SAFRA_2020_NAME = 'Safra_2020.csv'\n",
    "IMG_PATH = os.path.abspath(os.path.join('..','img'))\n",
    "META_DATA_PATH = os.path.join(DATA_RAW_PATH,'dicionario_tipos.pkl')\n",
    "MODEL_PATH = os.path.join('..','models')\n",
    "MODEL_NAME = 'clf_safra.pkl'\n",
    "PREDICT_2020_PATH = os.path.join('..','data','results')\n",
    "PREDICT_2020_NAME = 'previsao_safra_2020.csv'\n",
    "DATA_PROCESSED_PATH = os.path.join('..','data','processed')\n",
    "DATA_TRAIN_PROCESSED_NAME = 'train_processed.csv'\n",
    "DATA_TEST_PROCESSED_NAME = 'test_processed.csv'\n",
    "#TARGET = 'dano_na_plantacao'"
   ]
  },
  {
   "cell_type": "code",
   "execution_count": 3,
   "metadata": {
    "ExecuteTime": {
     "end_time": "2020-08-08T03:59:15.138488Z",
     "start_time": "2020-08-08T03:59:15.135395Z"
    }
   },
   "outputs": [],
   "source": [
    "with open(META_DATA_PATH,'rb') as f:\n",
    "    dicionario_tipo = cloudpickle.load(f)"
   ]
  },
  {
   "cell_type": "code",
   "execution_count": 4,
   "metadata": {
    "ExecuteTime": {
     "end_time": "2020-08-08T03:59:16.477840Z",
     "start_time": "2020-08-08T03:59:15.995920Z"
    }
   },
   "outputs": [],
   "source": [
    "# DataSet que será utilizado para modelagem, depois da seleção de features.\n",
    "df_train = pd.read_csv(os.path.join(DATA_INTER_PATH, DATA_INTER_TRAIN_FT_SELECTION), dtype=dicionario_tipo)\n",
    "#Lendo dados de teste.\n",
    "df_test = pd.read_csv(os.path.join(DATA_INTER_PATH, DATA_INTER_TEST_NAME), dtype=dicionario_tipo, index_col=0)"
   ]
  },
  {
   "cell_type": "code",
   "execution_count": 5,
   "metadata": {
    "ExecuteTime": {
     "end_time": "2020-08-08T03:59:17.103547Z",
     "start_time": "2020-08-08T03:59:17.042385Z"
    }
   },
   "outputs": [
    {
     "data": {
      "text/html": [
       "<div>\n",
       "<style scoped>\n",
       "    .dataframe tbody tr th:only-of-type {\n",
       "        vertical-align: middle;\n",
       "    }\n",
       "\n",
       "    .dataframe tbody tr th {\n",
       "        vertical-align: top;\n",
       "    }\n",
       "\n",
       "    .dataframe thead th {\n",
       "        text-align: right;\n",
       "    }\n",
       "</style>\n",
       "<table border=\"1\" class=\"dataframe\">\n",
       "  <thead>\n",
       "    <tr style=\"text-align: right;\">\n",
       "      <th></th>\n",
       "      <th>Semanas_Utilizando</th>\n",
       "      <th>Semanas_Sem_Uso</th>\n",
       "      <th>Estimativa_de_Insetos</th>\n",
       "      <th>Doses_Semana</th>\n",
       "      <th>Categoria_Pesticida</th>\n",
       "      <th>Tipo_de_Cultivo</th>\n",
       "      <th>dano_na_plantacao</th>\n",
       "    </tr>\n",
       "  </thead>\n",
       "  <tbody>\n",
       "    <tr>\n",
       "      <th>0</th>\n",
       "      <td>12.0</td>\n",
       "      <td>19</td>\n",
       "      <td>984</td>\n",
       "      <td>25</td>\n",
       "      <td>2</td>\n",
       "      <td>0</td>\n",
       "      <td>0</td>\n",
       "    </tr>\n",
       "    <tr>\n",
       "      <th>1</th>\n",
       "      <td>27.0</td>\n",
       "      <td>7</td>\n",
       "      <td>851</td>\n",
       "      <td>20</td>\n",
       "      <td>2</td>\n",
       "      <td>0</td>\n",
       "      <td>0</td>\n",
       "    </tr>\n",
       "    <tr>\n",
       "      <th>2</th>\n",
       "      <td>27.0</td>\n",
       "      <td>0</td>\n",
       "      <td>283</td>\n",
       "      <td>35</td>\n",
       "      <td>3</td>\n",
       "      <td>0</td>\n",
       "      <td>0</td>\n",
       "    </tr>\n",
       "    <tr>\n",
       "      <th>3</th>\n",
       "      <td>50.0</td>\n",
       "      <td>0</td>\n",
       "      <td>2542</td>\n",
       "      <td>15</td>\n",
       "      <td>3</td>\n",
       "      <td>0</td>\n",
       "      <td>2</td>\n",
       "    </tr>\n",
       "    <tr>\n",
       "      <th>4</th>\n",
       "      <td>14.0</td>\n",
       "      <td>24</td>\n",
       "      <td>850</td>\n",
       "      <td>30</td>\n",
       "      <td>2</td>\n",
       "      <td>0</td>\n",
       "      <td>0</td>\n",
       "    </tr>\n",
       "  </tbody>\n",
       "</table>\n",
       "</div>"
      ],
      "text/plain": [
       "   Semanas_Utilizando  Semanas_Sem_Uso  Estimativa_de_Insetos  Doses_Semana Categoria_Pesticida Tipo_de_Cultivo dano_na_plantacao\n",
       "0                12.0               19                    984            25                   2               0                 0\n",
       "1                27.0                7                    851            20                   2               0                 0\n",
       "2                27.0                0                    283            35                   3               0                 0\n",
       "3                50.0                0                   2542            15                   3               0                 2\n",
       "4                14.0               24                    850            30                   2               0                 0"
      ]
     },
     "execution_count": 5,
     "metadata": {},
     "output_type": "execute_result"
    }
   ],
   "source": [
    "df_train.head()"
   ]
  },
  {
   "cell_type": "markdown",
   "metadata": {},
   "source": [
    "# Criando Pipeline"
   ]
  },
  {
   "cell_type": "markdown",
   "metadata": {},
   "source": [
    "Aqui iremos criar um pipeline para tratar dados categóricos e outro para tratar nossos dados numéricos. Dessa maneira cada coluna é tratada da forma mais adequada. O resultado é combinado no final e passado para o classificador, último componente do pipeline."
   ]
  },
  {
   "cell_type": "code",
   "execution_count": 6,
   "metadata": {
    "ExecuteTime": {
     "end_time": "2020-08-08T03:59:19.039080Z",
     "start_time": "2020-08-08T03:59:19.030618Z"
    }
   },
   "outputs": [],
   "source": [
    "#Separando as variáveis categóricas e numéricas\n",
    "variaveis_categoricas = df_train.select_dtypes(include=['object']).columns.tolist()\n",
    "variaveis_numericas = df_train.select_dtypes(include=['int','float']).columns.tolist()"
   ]
  },
  {
   "cell_type": "code",
   "execution_count": 7,
   "metadata": {
    "ExecuteTime": {
     "end_time": "2020-08-08T03:59:19.777687Z",
     "start_time": "2020-08-08T03:59:19.769611Z"
    }
   },
   "outputs": [],
   "source": [
    "#Removendo target das variáveis categóricas. \n",
    "target = 'dano_na_plantacao'\n",
    "variaveis_categoricas.remove(target)"
   ]
  },
  {
   "cell_type": "markdown",
   "metadata": {},
   "source": [
    "Para tratamento dos dados categóricos foi utilizado o OrdinalEncoder. Porém, outras formas poderiam ter sido abordadas, tais como, OneHotEncoder, TargetEncoder, FrequencyEncoder, BinaryEncoder. \n",
    "Nesse caso, por estarmos utilizando um modelo baseado em árvores de decisão, a utilização de OneHotEncoder prejudica, quase sempre, a performance ['Clique Aqui Para Saber Mais'](https://towardsdatascience.com/one-hot-encoding-is-making-your-tree-based-ensembles-worse-heres-why-d64b282b5769), além de criar complexidade adicionando mais colunas. Além disso, o modeo perde em interpretabilidade, uma vez que a varíavel é divida em mais de uma coluna, e tende a ser menos importantes nos splits das árvores. Estratégias como TargetEncoder e FrequencyEncoder criam correlação com o target e isso é até bom quando o target é ordinal, o que não é nosso caso, e tendem ao overfitting com mais facilidade, pois se baseiam na distribuição dos dados de treino. Ou seja, basta termos um shift populacional, para esses encoders \"quebrarem\" levando a uma má performance. Só devemos utilizá-los quando temos baixas chances de shift populacional. Como estamos lidando com dados temporais (2018, 2019 e 2020), talvez não seja a melhor ideia. Por fim, O BinaryEncoder, apesar de produzir menos colunas em relação ao OneHotEncoder, mesmo assim adiciona complexidade. Dessa forma, apesar de ter a chance de criarmos um pouco de correlação com o target, decidimos utilizar o OrdinalEncoder, dados os motivos acima.\n"
   ]
  },
  {
   "cell_type": "markdown",
   "metadata": {},
   "source": [
    "Em relação ao missing values, decidimos utilizar a mediana para valores númericos a moda para dados categóricos. Na exploração dos dados, vimos que menos de 10% dos dados estavam faltando, o que favorece o preenchimento por meio dessas estratégias. Isso, pois com uma maior volumetria de dados faltosos, poderíamos estar enviesando nosso modelo. \n",
    "Vale salientar que outras estratégias podem ser tentadadas, tais como, InterativeImputer, MICE ou até mesmo métodos baseados em árvores de decisão e KNN. Dado que isso acrescenta complexidade ao pipeline, decidimos prosseguir de uma maneira mais simples, dado que o foco não é tanto a performance."
   ]
  },
  {
   "cell_type": "code",
   "execution_count": 8,
   "metadata": {
    "ExecuteTime": {
     "end_time": "2020-08-08T03:59:21.650677Z",
     "start_time": "2020-08-08T03:59:21.645403Z"
    }
   },
   "outputs": [],
   "source": [
    "# pipe numérico será tratado imputando a mediana\n",
    "pipeline_numerico = Pipeline(steps=[('impute', SimpleImputer(strategy='median'))])\n",
    "# pipe categórico será tratado com imputação através da moda e ordinal encoder\n",
    "pipeline_categorico = Pipeline(steps=[('impute', SimpleImputer(strategy='most_frequent')),\n",
    "                         ('ordinal_encoder', OrdinalEncoder())])"
   ]
  },
  {
   "cell_type": "code",
   "execution_count": 9,
   "metadata": {
    "ExecuteTime": {
     "end_time": "2020-08-08T03:59:22.332642Z",
     "start_time": "2020-08-08T03:59:22.325657Z"
    }
   },
   "outputs": [],
   "source": [
    "# Column Transformer para unir os dois pipelines\n",
    "preprocess_pipeline = ColumnTransformer([('pipe_categorico', pipeline_categorico, variaveis_categoricas),\n",
    "                                ('pipe_numerico', pipeline_numerico, variaveis_numericas)])"
   ]
  },
  {
   "cell_type": "code",
   "execution_count": 10,
   "metadata": {
    "ExecuteTime": {
     "end_time": "2020-08-08T03:59:22.955301Z",
     "start_time": "2020-08-08T03:59:22.945980Z"
    }
   },
   "outputs": [],
   "source": [
    "# Definindo folds para a validação cruzada estratificada (dados desbalanceados).\n",
    "cv = StratifiedKFold(n_splits=5,shuffle=True, random_state=123)"
   ]
  },
  {
   "cell_type": "code",
   "execution_count": 11,
   "metadata": {
    "ExecuteTime": {
     "end_time": "2020-08-08T03:59:23.545439Z",
     "start_time": "2020-08-08T03:59:23.536682Z"
    }
   },
   "outputs": [],
   "source": [
    "# Definindo modelo com random_seed e class_weight='balanced' para dar peso às classes mais raras\n",
    "rf = RandomForestClassifier(random_state=0, class_weight='balanced')\n",
    "# defninindo pipeline final, onde o último componente é o classificador\n",
    "modelo_pipe =  Pipeline(steps =[('preprocessor',preprocess_pipeline),\n",
    "                                  ('model_rf',rf)])"
   ]
  },
  {
   "cell_type": "markdown",
   "metadata": {},
   "source": [
    "# Modelagem e Avaliação"
   ]
  },
  {
   "cell_type": "markdown",
   "metadata": {
    "ExecuteTime": {
     "end_time": "2020-08-08T03:41:21.540825Z",
     "start_time": "2020-08-08T03:41:21.533917Z"
    }
   },
   "source": [
    "A escolha da métrica de avaliação do modelo é uma das etapas mais importantes. Isso, pois a escolha errada pode levar a uma interpretação errônea do resultado, o que resulta em uma superestimação da performance. No nosso caso, a utilização da Acurácia seria um ERRO, pois as classes são desbalanceadas. Nesse sentido, a utilização do recall é mais assertiva, destancando o uso do recall médio ponderado pelo número de instâncias respectivas às classes. Nada impede, porém, de formularmos uma métrica específica de negócio que atenderá de maneira mais personalizada o problema que estamos tentando solucionar."
   ]
  },
  {
   "cell_type": "code",
   "execution_count": 12,
   "metadata": {
    "ExecuteTime": {
     "end_time": "2020-08-08T03:59:25.208532Z",
     "start_time": "2020-08-08T03:59:25.202216Z"
    }
   },
   "outputs": [],
   "source": [
    "# Obtendo X e Y \n",
    "X = df_train.drop(target,axis=1)\n",
    "y = df_train[target]"
   ]
  },
  {
   "cell_type": "markdown",
   "metadata": {},
   "source": [
    "Aqui utilizaremos otimização bayesiana para busca dos melhores hiperparâmetros para o classificador. Poderíamos ter utilizado o GridSearchCV ou o RandomizedSearchCV, porém esses seriam mais lentos. Vale salientar que a otimização está sendo feita em cima da média de validação cruzada do recall."
   ]
  },
  {
   "cell_type": "markdown",
   "metadata": {
    "ExecuteTime": {
     "end_time": "2020-08-08T03:54:06.079390Z",
     "start_time": "2020-08-08T03:54:06.077425Z"
    }
   },
   "source": [
    "## Otimização de Hiperparâmetros"
   ]
  },
  {
   "cell_type": "code",
   "execution_count": 13,
   "metadata": {
    "ExecuteTime": {
     "end_time": "2020-08-08T03:59:27.993287Z",
     "start_time": "2020-08-08T03:59:27.979655Z"
    }
   },
   "outputs": [],
   "source": [
    "def fitRF(trial):\n",
    "    \"Train RandomForest Model\"\n",
    "# Grid de parametros otimizados\n",
    "    params ={'model_rf__max_depth': trial.suggest_int('model_rf__max_depth',2,13),\n",
    "          'model_rf__min_samples_leaf': trial.suggest_int('model_rf__min_samples_leaf',2,33),\n",
    "          'model_rf__min_samples_split':trial.suggest_int('model_rf__min_samples_split',2,33),\n",
    "          'model_rf__n_estimators': trial.suggest_int('model_rf__n_estimators',50,300),\n",
    "          'model_rf__criterion':trial.suggest_categorical('model_rf__criterion',['gini','entropy'])\n",
    "      }\n",
    "    earlyStop=20\n",
    "    modelo_pipe.set_params(**params)\n",
    "\n",
    "\n",
    "    results = np.mean(cross_val_score(modelo_pipe,X,y, cv=cv, scoring = 'recall_weighted'))\n",
    "\n",
    "    #score = results.mean()  \n",
    "    #intervalo(results)\n",
    "    print(f'SCORE DE RECALL:{results}')\n",
    "    return results\n",
    "          "
   ]
  },
  {
   "cell_type": "code",
   "execution_count": 17,
   "metadata": {
    "ExecuteTime": {
     "end_time": "2020-08-08T04:07:25.089252Z",
     "start_time": "2020-08-08T04:00:16.480792Z"
    }
   },
   "outputs": [
    {
     "name": "stdout",
     "output_type": "stream",
     "text": [
      "SCORE DE RECALL:0.665234375\n"
     ]
    },
    {
     "name": "stderr",
     "output_type": "stream",
     "text": [
      "[I 2020-08-08 01:00:25,024] Trial 0 finished with value: 0.665234375 and parameters: {'model_rf__max_depth': 11, 'model_rf__min_samples_leaf': 31, 'model_rf__min_samples_split': 6, 'model_rf__n_estimators': 65, 'model_rf__criterion': 'gini'}. Best is trial 0 with value: 0.665234375.\n"
     ]
    },
    {
     "name": "stdout",
     "output_type": "stream",
     "text": [
      "SCORE DE RECALL:0.67259375\n"
     ]
    },
    {
     "name": "stderr",
     "output_type": "stream",
     "text": [
      "[I 2020-08-08 01:00:40,762] Trial 1 finished with value: 0.67259375 and parameters: {'model_rf__max_depth': 3, 'model_rf__min_samples_leaf': 29, 'model_rf__min_samples_split': 30, 'model_rf__n_estimators': 267, 'model_rf__criterion': 'entropy'}. Best is trial 1 with value: 0.67259375.\n"
     ]
    },
    {
     "name": "stdout",
     "output_type": "stream",
     "text": [
      "SCORE DE RECALL:0.683390625\n"
     ]
    },
    {
     "name": "stderr",
     "output_type": "stream",
     "text": [
      "[I 2020-08-08 01:00:55,513] Trial 2 finished with value: 0.683390625 and parameters: {'model_rf__max_depth': 2, 'model_rf__min_samples_leaf': 31, 'model_rf__min_samples_split': 19, 'model_rf__n_estimators': 300, 'model_rf__criterion': 'gini'}. Best is trial 2 with value: 0.683390625.\n"
     ]
    },
    {
     "name": "stdout",
     "output_type": "stream",
     "text": [
      "SCORE DE RECALL:0.68125\n"
     ]
    },
    {
     "name": "stderr",
     "output_type": "stream",
     "text": [
      "[I 2020-08-08 01:01:07,085] Trial 3 finished with value: 0.68125 and parameters: {'model_rf__max_depth': 11, 'model_rf__min_samples_leaf': 2, 'model_rf__min_samples_split': 12, 'model_rf__n_estimators': 90, 'model_rf__criterion': 'gini'}. Best is trial 2 with value: 0.683390625.\n"
     ]
    },
    {
     "name": "stdout",
     "output_type": "stream",
     "text": [
      "SCORE DE RECALL:0.6609062499999999\n"
     ]
    },
    {
     "name": "stderr",
     "output_type": "stream",
     "text": [
      "[I 2020-08-08 01:01:21,452] Trial 4 finished with value: 0.6609062499999999 and parameters: {'model_rf__max_depth': 6, 'model_rf__min_samples_leaf': 21, 'model_rf__min_samples_split': 18, 'model_rf__n_estimators': 150, 'model_rf__criterion': 'entropy'}. Best is trial 2 with value: 0.683390625.\n"
     ]
    },
    {
     "name": "stdout",
     "output_type": "stream",
     "text": [
      "SCORE DE RECALL:0.6739375\n"
     ]
    },
    {
     "name": "stderr",
     "output_type": "stream",
     "text": [
      "[I 2020-08-08 01:01:43,533] Trial 5 finished with value: 0.6739375 and parameters: {'model_rf__max_depth': 13, 'model_rf__min_samples_leaf': 24, 'model_rf__min_samples_split': 26, 'model_rf__n_estimators': 157, 'model_rf__criterion': 'gini'}. Best is trial 2 with value: 0.683390625.\n"
     ]
    },
    {
     "name": "stdout",
     "output_type": "stream",
     "text": [
      "SCORE DE RECALL:0.674484375\n"
     ]
    },
    {
     "name": "stderr",
     "output_type": "stream",
     "text": [
      "[I 2020-08-08 01:02:02,231] Trial 6 finished with value: 0.674484375 and parameters: {'model_rf__max_depth': 3, 'model_rf__min_samples_leaf': 10, 'model_rf__min_samples_split': 6, 'model_rf__n_estimators': 256, 'model_rf__criterion': 'entropy'}. Best is trial 2 with value: 0.683390625.\n"
     ]
    },
    {
     "name": "stdout",
     "output_type": "stream",
     "text": [
      "SCORE DE RECALL:0.667\n"
     ]
    },
    {
     "name": "stderr",
     "output_type": "stream",
     "text": [
      "[I 2020-08-08 01:02:22,162] Trial 7 finished with value: 0.667 and parameters: {'model_rf__max_depth': 5, 'model_rf__min_samples_leaf': 24, 'model_rf__min_samples_split': 15, 'model_rf__n_estimators': 247, 'model_rf__criterion': 'entropy'}. Best is trial 2 with value: 0.683390625.\n"
     ]
    },
    {
     "name": "stdout",
     "output_type": "stream",
     "text": [
      "SCORE DE RECALL:0.6605312500000001\n"
     ]
    },
    {
     "name": "stderr",
     "output_type": "stream",
     "text": [
      "[I 2020-08-08 01:02:39,619] Trial 8 finished with value: 0.6605312500000001 and parameters: {'model_rf__max_depth': 5, 'model_rf__min_samples_leaf': 27, 'model_rf__min_samples_split': 32, 'model_rf__n_estimators': 191, 'model_rf__criterion': 'gini'}. Best is trial 2 with value: 0.683390625.\n"
     ]
    },
    {
     "name": "stdout",
     "output_type": "stream",
     "text": [
      "SCORE DE RECALL:0.6571718750000001\n"
     ]
    },
    {
     "name": "stderr",
     "output_type": "stream",
     "text": [
      "[I 2020-08-08 01:02:56,068] Trial 9 finished with value: 0.6571718750000001 and parameters: {'model_rf__max_depth': 8, 'model_rf__min_samples_leaf': 32, 'model_rf__min_samples_split': 32, 'model_rf__n_estimators': 139, 'model_rf__criterion': 'gini'}. Best is trial 2 with value: 0.683390625.\n"
     ]
    },
    {
     "name": "stdout",
     "output_type": "stream",
     "text": [
      "SCORE DE RECALL:0.6779218750000001\n"
     ]
    },
    {
     "name": "stderr",
     "output_type": "stream",
     "text": [
      "[I 2020-08-08 01:03:08,860] Trial 10 finished with value: 0.6779218750000001 and parameters: {'model_rf__max_depth': 2, 'model_rf__min_samples_leaf': 15, 'model_rf__min_samples_split': 22, 'model_rf__n_estimators': 212, 'model_rf__criterion': 'gini'}. Best is trial 2 with value: 0.683390625.\n"
     ]
    },
    {
     "name": "stdout",
     "output_type": "stream",
     "text": [
      "SCORE DE RECALL:0.672265625\n"
     ]
    },
    {
     "name": "stderr",
     "output_type": "stream",
     "text": [
      "[I 2020-08-08 01:03:16,818] Trial 11 finished with value: 0.672265625 and parameters: {'model_rf__max_depth': 10, 'model_rf__min_samples_leaf': 4, 'model_rf__min_samples_split': 12, 'model_rf__n_estimators': 51, 'model_rf__criterion': 'gini'}. Best is trial 2 with value: 0.683390625.\n"
     ]
    },
    {
     "name": "stdout",
     "output_type": "stream",
     "text": [
      "SCORE DE RECALL:0.7046875\n"
     ]
    },
    {
     "name": "stderr",
     "output_type": "stream",
     "text": [
      "[I 2020-08-08 01:03:33,483] Trial 12 finished with value: 0.7046875 and parameters: {'model_rf__max_depth': 13, 'model_rf__min_samples_leaf': 2, 'model_rf__min_samples_split': 12, 'model_rf__n_estimators': 103, 'model_rf__criterion': 'gini'}. Best is trial 12 with value: 0.7046875.\n"
     ]
    },
    {
     "name": "stdout",
     "output_type": "stream",
     "text": [
      "SCORE DE RECALL:0.690640625\n"
     ]
    },
    {
     "name": "stderr",
     "output_type": "stream",
     "text": [
      "[I 2020-08-08 01:04:22,161] Trial 13 finished with value: 0.690640625 and parameters: {'model_rf__max_depth': 13, 'model_rf__min_samples_leaf': 9, 'model_rf__min_samples_split': 20, 'model_rf__n_estimators': 298, 'model_rf__criterion': 'gini'}. Best is trial 12 with value: 0.7046875.\n"
     ]
    },
    {
     "name": "stdout",
     "output_type": "stream",
     "text": [
      "SCORE DE RECALL:0.6910937500000001\n"
     ]
    },
    {
     "name": "stderr",
     "output_type": "stream",
     "text": [
      "[I 2020-08-08 01:04:42,706] Trial 14 finished with value: 0.6910937500000001 and parameters: {'model_rf__max_depth': 13, 'model_rf__min_samples_leaf': 9, 'model_rf__min_samples_split': 2, 'model_rf__n_estimators': 107, 'model_rf__criterion': 'gini'}. Best is trial 12 with value: 0.7046875.\n"
     ]
    },
    {
     "name": "stdout",
     "output_type": "stream",
     "text": [
      "SCORE DE RECALL:0.694515625\n"
     ]
    },
    {
     "name": "stderr",
     "output_type": "stream",
     "text": [
      "[I 2020-08-08 01:04:58,394] Trial 15 finished with value: 0.694515625 and parameters: {'model_rf__max_depth': 13, 'model_rf__min_samples_leaf': 7, 'model_rf__min_samples_split': 2, 'model_rf__n_estimators': 98, 'model_rf__criterion': 'gini'}. Best is trial 12 with value: 0.7046875.\n"
     ]
    },
    {
     "name": "stdout",
     "output_type": "stream",
     "text": [
      "SCORE DE RECALL:0.6649218749999999\n"
     ]
    },
    {
     "name": "stderr",
     "output_type": "stream",
     "text": [
      "[I 2020-08-08 01:05:13,521] Trial 16 finished with value: 0.6649218749999999 and parameters: {'model_rf__max_depth': 9, 'model_rf__min_samples_leaf': 4, 'model_rf__min_samples_split': 2, 'model_rf__n_estimators': 115, 'model_rf__criterion': 'gini'}. Best is trial 12 with value: 0.7046875.\n"
     ]
    },
    {
     "name": "stdout",
     "output_type": "stream",
     "text": [
      "SCORE DE RECALL:0.6789375\n"
     ]
    },
    {
     "name": "stderr",
     "output_type": "stream",
     "text": [
      "[I 2020-08-08 01:05:25,709] Trial 17 finished with value: 0.6789375 and parameters: {'model_rf__max_depth': 12, 'model_rf__min_samples_leaf': 13, 'model_rf__min_samples_split': 7, 'model_rf__n_estimators': 77, 'model_rf__criterion': 'gini'}. Best is trial 12 with value: 0.7046875.\n"
     ]
    },
    {
     "name": "stdout",
     "output_type": "stream",
     "text": [
      "SCORE DE RECALL:0.67796875\n"
     ]
    },
    {
     "name": "stderr",
     "output_type": "stream",
     "text": [
      "[I 2020-08-08 01:05:42,728] Trial 18 finished with value: 0.67796875 and parameters: {'model_rf__max_depth': 11, 'model_rf__min_samples_leaf': 6, 'model_rf__min_samples_split': 10, 'model_rf__n_estimators': 117, 'model_rf__criterion': 'gini'}. Best is trial 12 with value: 0.7046875.\n"
     ]
    },
    {
     "name": "stdout",
     "output_type": "stream",
     "text": [
      "SCORE DE RECALL:0.665171875\n"
     ]
    },
    {
     "name": "stderr",
     "output_type": "stream",
     "text": [
      "[I 2020-08-08 01:05:50,780] Trial 19 finished with value: 0.665171875 and parameters: {'model_rf__max_depth': 9, 'model_rf__min_samples_leaf': 2, 'model_rf__min_samples_split': 2, 'model_rf__n_estimators': 55, 'model_rf__criterion': 'gini'}. Best is trial 12 with value: 0.7046875.\n"
     ]
    },
    {
     "name": "stdout",
     "output_type": "stream",
     "text": [
      "SCORE DE RECALL:0.6776875\n"
     ]
    },
    {
     "name": "stderr",
     "output_type": "stream",
     "text": [
      "[I 2020-08-08 01:06:17,213] Trial 20 finished with value: 0.6776875 and parameters: {'model_rf__max_depth': 12, 'model_rf__min_samples_leaf': 16, 'model_rf__min_samples_split': 14, 'model_rf__n_estimators': 179, 'model_rf__criterion': 'entropy'}. Best is trial 12 with value: 0.7046875.\n"
     ]
    },
    {
     "name": "stdout",
     "output_type": "stream",
     "text": [
      "SCORE DE RECALL:0.692875\n"
     ]
    },
    {
     "name": "stderr",
     "output_type": "stream",
     "text": [
      "[I 2020-08-08 01:06:32,306] Trial 21 finished with value: 0.692875 and parameters: {'model_rf__max_depth': 13, 'model_rf__min_samples_leaf': 8, 'model_rf__min_samples_split': 2, 'model_rf__n_estimators': 104, 'model_rf__criterion': 'gini'}. Best is trial 12 with value: 0.7046875.\n"
     ]
    },
    {
     "name": "stdout",
     "output_type": "stream",
     "text": [
      "SCORE DE RECALL:0.697484375\n"
     ]
    },
    {
     "name": "stderr",
     "output_type": "stream",
     "text": [
      "[I 2020-08-08 01:06:53,181] Trial 22 finished with value: 0.697484375 and parameters: {'model_rf__max_depth': 13, 'model_rf__min_samples_leaf': 6, 'model_rf__min_samples_split': 8, 'model_rf__n_estimators': 131, 'model_rf__criterion': 'gini'}. Best is trial 12 with value: 0.7046875.\n"
     ]
    },
    {
     "name": "stdout",
     "output_type": "stream",
     "text": [
      "SCORE DE RECALL:0.678796875\n"
     ]
    },
    {
     "name": "stderr",
     "output_type": "stream",
     "text": [
      "[I 2020-08-08 01:07:12,136] Trial 23 finished with value: 0.678796875 and parameters: {'model_rf__max_depth': 12, 'model_rf__min_samples_leaf': 13, 'model_rf__min_samples_split': 9, 'model_rf__n_estimators': 128, 'model_rf__criterion': 'gini'}. Best is trial 12 with value: 0.7046875.\n"
     ]
    },
    {
     "name": "stdout",
     "output_type": "stream",
     "text": [
      "SCORE DE RECALL:0.672109375\n"
     ]
    },
    {
     "name": "stderr",
     "output_type": "stream",
     "text": [
      "[I 2020-08-08 01:07:25,082] Trial 24 finished with value: 0.672109375 and parameters: {'model_rf__max_depth': 10, 'model_rf__min_samples_leaf': 6, 'model_rf__min_samples_split': 5, 'model_rf__n_estimators': 91, 'model_rf__criterion': 'gini'}. Best is trial 12 with value: 0.7046875.\n"
     ]
    },
    {
     "name": "stdout",
     "output_type": "stream",
     "text": [
      "FrozenTrial(number=12, value=0.7046875, datetime_start=datetime.datetime(2020, 8, 8, 1, 3, 16, 822440), datetime_complete=datetime.datetime(2020, 8, 8, 1, 3, 33, 482929), params={'model_rf__max_depth': 13, 'model_rf__min_samples_leaf': 2, 'model_rf__min_samples_split': 12, 'model_rf__n_estimators': 103, 'model_rf__criterion': 'gini'}, distributions={'model_rf__max_depth': IntUniformDistribution(high=13, low=2, step=1), 'model_rf__min_samples_leaf': IntUniformDistribution(high=33, low=2, step=1), 'model_rf__min_samples_split': IntUniformDistribution(high=33, low=2, step=1), 'model_rf__n_estimators': IntUniformDistribution(high=300, low=50, step=1), 'model_rf__criterion': CategoricalDistribution(choices=('gini', 'entropy'))}, user_attrs={}, system_attrs={}, intermediate_values={}, trial_id=12, state=TrialState.COMPLETE)\n"
     ]
    }
   ],
   "source": [
    "sampler = TPESampler(seed=10)  # Make the sampler behave in a deterministic way.\n",
    "study = optuna.create_study(sampler=sampler,direction='maximize')\n",
    "study.optimize(fitRF, n_trials=25)\n",
    "print(study.best_trial)"
   ]
  },
  {
   "cell_type": "code",
   "execution_count": 19,
   "metadata": {
    "ExecuteTime": {
     "end_time": "2020-08-08T04:11:03.161295Z",
     "start_time": "2020-08-08T04:11:03.148797Z"
    }
   },
   "outputs": [
    {
     "name": "stdout",
     "output_type": "stream",
     "text": [
      "O modelo obteve um score de validação cruzada para o recall de: 0.7046875\n"
     ]
    }
   ],
   "source": [
    "print(f'O modelo obteve um score de validação cruzada para o recall de: {study.best_value}')"
   ]
  },
  {
   "cell_type": "code",
   "execution_count": 20,
   "metadata": {
    "ExecuteTime": {
     "end_time": "2020-08-08T04:11:07.683164Z",
     "start_time": "2020-08-08T04:11:07.592554Z"
    }
   },
   "outputs": [
    {
     "data": {
      "text/plain": [
       "Pipeline(steps=[('preprocessor',\n",
       "                 ColumnTransformer(transformers=[('pipe_categorico',\n",
       "                                                  Pipeline(steps=[('impute',\n",
       "                                                                   SimpleImputer(strategy='most_frequent')),\n",
       "                                                                  ('ordinal_encoder',\n",
       "                                                                   OrdinalEncoder())]),\n",
       "                                                  ['Categoria_Pesticida',\n",
       "                                                   'Tipo_de_Cultivo']),\n",
       "                                                 ('pipe_numerico',\n",
       "                                                  Pipeline(steps=[('impute',\n",
       "                                                                   SimpleImputer(strategy='median'))]),\n",
       "                                                  ['Semanas_Utilizando',\n",
       "                                                   'Semanas_Sem_Uso',\n",
       "                                                   'Estimativa_de_Insetos',\n",
       "                                                   'Doses_Semana'])])),\n",
       "                ('model_rf',\n",
       "                 RandomForestClassifier(class_weight='balanced', max_depth=13,\n",
       "                                        min_samples_leaf=2,\n",
       "                                        min_samples_split=12, n_estimators=103,\n",
       "                                        random_state=0))])"
      ]
     },
     "execution_count": 20,
     "metadata": {},
     "output_type": "execute_result"
    }
   ],
   "source": [
    "# definindo os melhores hiperparâmetros, baseados na busca feita com a otimização bayesiana\n",
    "modelo_pipe.set_params(**study.best_params)"
   ]
  },
  {
   "cell_type": "code",
   "execution_count": 21,
   "metadata": {
    "ExecuteTime": {
     "end_time": "2020-08-08T04:11:23.007574Z",
     "start_time": "2020-08-08T04:11:19.511840Z"
    }
   },
   "outputs": [
    {
     "data": {
      "text/html": [
       "<style>div.sk-top-container {color: black;background-color: white;}div.sk-toggleable {background-color: white;}label.sk-toggleable__label {cursor: pointer;display: block;width: 100%;margin-bottom: 0;padding: 0.2em 0.3em;box-sizing: border-box;text-align: center;}div.sk-toggleable__content {max-height: 0;max-width: 0;overflow: hidden;text-align: left;background-color: #f0f8ff;}div.sk-toggleable__content pre {margin: 0.2em;color: black;border-radius: 0.25em;background-color: #f0f8ff;}input.sk-toggleable__control:checked~div.sk-toggleable__content {max-height: 200px;max-width: 100%;overflow: auto;}div.sk-estimator input.sk-toggleable__control:checked~label.sk-toggleable__label {background-color: #d4ebff;}div.sk-label input.sk-toggleable__control:checked~label.sk-toggleable__label {background-color: #d4ebff;}input.sk-hidden--visually {border: 0;clip: rect(1px 1px 1px 1px);clip: rect(1px, 1px, 1px, 1px);height: 1px;margin: -1px;overflow: hidden;padding: 0;position: absolute;width: 1px;}div.sk-estimator {font-family: monospace;background-color: #f0f8ff;margin: 0.25em 0.25em;border: 1px dotted black;border-radius: 0.25em;box-sizing: border-box;}div.sk-estimator:hover {background-color: #d4ebff;}div.sk-parallel-item::after {content: \"\";width: 100%;border-bottom: 1px solid gray;flex-grow: 1;}div.sk-label:hover label.sk-toggleable__label {background-color: #d4ebff;}div.sk-serial::before {content: \"\";position: absolute;border-left: 1px solid gray;box-sizing: border-box;top: 2em;bottom: 0;left: 50%;}div.sk-serial {display: flex;flex-direction: column;align-items: center;background-color: white;}div.sk-item {z-index: 1;}div.sk-parallel {display: flex;align-items: stretch;justify-content: center;background-color: white;}div.sk-parallel-item {display: flex;flex-direction: column;position: relative;background-color: white;}div.sk-parallel-item:first-child::after {align-self: flex-end;width: 50%;}div.sk-parallel-item:last-child::after {align-self: flex-start;width: 50%;}div.sk-parallel-item:only-child::after {width: 0;}div.sk-dashed-wrapped {border: 1px dashed gray;margin: 0.2em;box-sizing: border-box;padding-bottom: 0.1em;background-color: white;position: relative;}div.sk-label label {font-family: monospace;font-weight: bold;background-color: white;display: inline-block;line-height: 1.2em;}div.sk-label-container {position: relative;z-index: 2;text-align: center;}div.sk-container {display: inline-block;position: relative;}</style><div class=\"sk-top-container\"><div class=\"sk-container\"><div class=\"sk-item sk-dashed-wrapped\"><div class=\"sk-label-container\"><div class=\"sk-label sk-toggleable\"><input class=\"sk-toggleable__control sk-hidden--visually\" id=\"5464a7b8-b30e-4f23-8735-a61c965443b8\" type=\"checkbox\" ><label class=\"sk-toggleable__label\" for=\"5464a7b8-b30e-4f23-8735-a61c965443b8\">Pipeline</label><div class=\"sk-toggleable__content\"><pre>Pipeline(steps=[('preprocessor',\n",
       "                 ColumnTransformer(transformers=[('pipe_categorico',\n",
       "                                                  Pipeline(steps=[('impute',\n",
       "                                                                   SimpleImputer(strategy='most_frequent')),\n",
       "                                                                  ('ordinal_encoder',\n",
       "                                                                   OrdinalEncoder())]),\n",
       "                                                  ['Categoria_Pesticida',\n",
       "                                                   'Tipo_de_Cultivo']),\n",
       "                                                 ('pipe_numerico',\n",
       "                                                  Pipeline(steps=[('impute',\n",
       "                                                                   SimpleImputer(strategy='median'))]),\n",
       "                                                  ['Semanas_Utilizando',\n",
       "                                                   'Semanas_Sem_Uso',\n",
       "                                                   'Estimativa_de_Insetos',\n",
       "                                                   'Doses_Semana'])])),\n",
       "                ('model_rf',\n",
       "                 RandomForestClassifier(class_weight='balanced', max_depth=13,\n",
       "                                        min_samples_leaf=2,\n",
       "                                        min_samples_split=12, n_estimators=103,\n",
       "                                        random_state=0))])</pre></div></div></div><div class=\"sk-serial\"><div class=\"sk-item sk-dashed-wrapped\"><div class=\"sk-label-container\"><div class=\"sk-label sk-toggleable\"><input class=\"sk-toggleable__control sk-hidden--visually\" id=\"eee23149-9462-467c-b4bd-a4f25aa773cc\" type=\"checkbox\" ><label class=\"sk-toggleable__label\" for=\"eee23149-9462-467c-b4bd-a4f25aa773cc\">preprocessor: ColumnTransformer</label><div class=\"sk-toggleable__content\"><pre>ColumnTransformer(transformers=[('pipe_categorico',\n",
       "                                 Pipeline(steps=[('impute',\n",
       "                                                  SimpleImputer(strategy='most_frequent')),\n",
       "                                                 ('ordinal_encoder',\n",
       "                                                  OrdinalEncoder())]),\n",
       "                                 ['Categoria_Pesticida', 'Tipo_de_Cultivo']),\n",
       "                                ('pipe_numerico',\n",
       "                                 Pipeline(steps=[('impute',\n",
       "                                                  SimpleImputer(strategy='median'))]),\n",
       "                                 ['Semanas_Utilizando', 'Semanas_Sem_Uso',\n",
       "                                  'Estimativa_de_Insetos', 'Doses_Semana'])])</pre></div></div></div><div class=\"sk-parallel\"><div class=\"sk-parallel-item\"><div class=\"sk-item\"><div class=\"sk-label-container\"><div class=\"sk-label sk-toggleable\"><input class=\"sk-toggleable__control sk-hidden--visually\" id=\"953587b4-a62a-4b24-8fff-c76eacf1964b\" type=\"checkbox\" ><label class=\"sk-toggleable__label\" for=\"953587b4-a62a-4b24-8fff-c76eacf1964b\">pipe_categorico</label><div class=\"sk-toggleable__content\"><pre>['Categoria_Pesticida', 'Tipo_de_Cultivo']</pre></div></div></div><div class=\"sk-serial\"><div class=\"sk-item\"><div class=\"sk-serial\"><div class=\"sk-item\"><div class=\"sk-estimator sk-toggleable\"><input class=\"sk-toggleable__control sk-hidden--visually\" id=\"bf9aa65c-6230-4b30-93f5-d13125a8da6c\" type=\"checkbox\" ><label class=\"sk-toggleable__label\" for=\"bf9aa65c-6230-4b30-93f5-d13125a8da6c\">SimpleImputer</label><div class=\"sk-toggleable__content\"><pre>SimpleImputer(strategy='most_frequent')</pre></div></div></div><div class=\"sk-item\"><div class=\"sk-estimator sk-toggleable\"><input class=\"sk-toggleable__control sk-hidden--visually\" id=\"fc08c12a-73f9-4f26-be14-86a4c340eeab\" type=\"checkbox\" ><label class=\"sk-toggleable__label\" for=\"fc08c12a-73f9-4f26-be14-86a4c340eeab\">OrdinalEncoder</label><div class=\"sk-toggleable__content\"><pre>OrdinalEncoder()</pre></div></div></div></div></div></div></div></div><div class=\"sk-parallel-item\"><div class=\"sk-item\"><div class=\"sk-label-container\"><div class=\"sk-label sk-toggleable\"><input class=\"sk-toggleable__control sk-hidden--visually\" id=\"517db4b8-c5d5-464a-8afa-88265ff7e2c0\" type=\"checkbox\" ><label class=\"sk-toggleable__label\" for=\"517db4b8-c5d5-464a-8afa-88265ff7e2c0\">pipe_numerico</label><div class=\"sk-toggleable__content\"><pre>['Semanas_Utilizando', 'Semanas_Sem_Uso', 'Estimativa_de_Insetos', 'Doses_Semana']</pre></div></div></div><div class=\"sk-serial\"><div class=\"sk-item\"><div class=\"sk-serial\"><div class=\"sk-item\"><div class=\"sk-estimator sk-toggleable\"><input class=\"sk-toggleable__control sk-hidden--visually\" id=\"143c47ad-7482-43e6-881b-ab3c95c4d444\" type=\"checkbox\" ><label class=\"sk-toggleable__label\" for=\"143c47ad-7482-43e6-881b-ab3c95c4d444\">SimpleImputer</label><div class=\"sk-toggleable__content\"><pre>SimpleImputer(strategy='median')</pre></div></div></div></div></div></div></div></div></div></div><div class=\"sk-item\"><div class=\"sk-estimator sk-toggleable\"><input class=\"sk-toggleable__control sk-hidden--visually\" id=\"6dd2bc17-a745-497c-9562-a6d5ba200343\" type=\"checkbox\" ><label class=\"sk-toggleable__label\" for=\"6dd2bc17-a745-497c-9562-a6d5ba200343\">RandomForestClassifier</label><div class=\"sk-toggleable__content\"><pre>RandomForestClassifier(class_weight='balanced', max_depth=13,\n",
       "                       min_samples_leaf=2, min_samples_split=12,\n",
       "                       n_estimators=103, random_state=0)</pre></div></div></div></div></div></div></div>"
      ],
      "text/plain": [
       "Pipeline(steps=[('preprocessor',\n",
       "                 ColumnTransformer(transformers=[('pipe_categorico',\n",
       "                                                  Pipeline(steps=[('impute',\n",
       "                                                                   SimpleImputer(strategy='most_frequent')),\n",
       "                                                                  ('ordinal_encoder',\n",
       "                                                                   OrdinalEncoder())]),\n",
       "                                                  ['Categoria_Pesticida',\n",
       "                                                   'Tipo_de_Cultivo']),\n",
       "                                                 ('pipe_numerico',\n",
       "                                                  Pipeline(steps=[('impute',\n",
       "                                                                   SimpleImputer(strategy='median'))]),\n",
       "                                                  ['Semanas_Utilizando',\n",
       "                                                   'Semanas_Sem_Uso',\n",
       "                                                   'Estimativa_de_Insetos',\n",
       "                                                   'Doses_Semana'])])),\n",
       "                ('model_rf',\n",
       "                 RandomForestClassifier(class_weight='balanced', max_depth=13,\n",
       "                                        min_samples_leaf=2,\n",
       "                                        min_samples_split=12, n_estimators=103,\n",
       "                                        random_state=0))])"
      ]
     },
     "execution_count": 21,
     "metadata": {},
     "output_type": "execute_result"
    }
   ],
   "source": [
    "# plotando o pipeline\n",
    "set_config(display='diagram')\n",
    "# Treinando o modelo\n",
    "modelo_pipe.fit(X,y)"
   ]
  },
  {
   "cell_type": "markdown",
   "metadata": {},
   "source": [
    "## Curva de Aprendizado"
   ]
  },
  {
   "cell_type": "markdown",
   "metadata": {},
   "source": [
    "Aqui utilizaremos a curva de aprendizado para diagnosticar possíveis problemas de viés ou variância."
   ]
  },
  {
   "cell_type": "code",
   "execution_count": 22,
   "metadata": {
    "ExecuteTime": {
     "end_time": "2020-08-08T04:12:10.013780Z",
     "start_time": "2020-08-08T04:11:47.716732Z"
    }
   },
   "outputs": [
    {
     "data": {
      "image/png": "[encoded data removed]",
      "text/plain": [
       "<Figure size 432x288 with 1 Axes>"
      ]
     },
     "metadata": {
      "needs_background": "light"
     },
     "output_type": "display_data"
    },
    {
     "data": {
      "text/plain": [
       "<AxesSubplot:title={'center':'Learning Curve for RandomForestClassifier'}, xlabel='Training Instances', ylabel='Score'>"
      ]
     },
     "execution_count": 22,
     "metadata": {},
     "output_type": "execute_result"
    }
   ],
   "source": [
    "visualizer = LearningCurve(modelo_pipe, cv=cv, scoring='recall_weighted', n_jobs=4, random_state = 123)\n",
    "visualizer.fit(X, y)    \n",
    "plt.ylim((0,1.01)) # Fit the data to the visualizer\n",
    "visualizer.show() "
   ]
  },
  {
   "cell_type": "markdown",
   "metadata": {},
   "source": [
    "Pela curva apresentada, vemos que existe a tendência do modelo atingir uma performance muito parecida no treinamento e no teste à medida que aumentamos o número de registros de treinamento. Talvez com uma base maior tenhamos um aumento de performance."
   ]
  },
  {
   "cell_type": "markdown",
   "metadata": {},
   "source": [
    "## Teste "
   ]
  },
  {
   "cell_type": "markdown",
   "metadata": {
    "ExecuteTime": {
     "end_time": "2020-08-08T03:55:03.020644Z",
     "start_time": "2020-08-08T03:55:03.015965Z"
    }
   },
   "source": [
    "Agora que já treinamos o modelo e definimos os hiperparâmetros que maximizam nossa métrica, iremos comparar a perfomance do treino com a de teste."
   ]
  },
  {
   "cell_type": "code",
   "execution_count": 23,
   "metadata": {
    "ExecuteTime": {
     "end_time": "2020-08-08T04:13:58.470309Z",
     "start_time": "2020-08-08T04:13:58.188400Z"
    }
   },
   "outputs": [],
   "source": [
    "# Previsão para o teste\n",
    "y_pred_test = modelo_pipe.predict(df_test.drop(target,axis=1))"
   ]
  },
  {
   "cell_type": "code",
   "execution_count": 24,
   "metadata": {
    "ExecuteTime": {
     "end_time": "2020-08-08T04:14:02.304366Z",
     "start_time": "2020-08-08T04:14:02.209464Z"
    }
   },
   "outputs": [
    {
     "name": "stdout",
     "output_type": "stream",
     "text": [
      "O modelo obteve um score de teste para o recall de: 0.7010625\n"
     ]
    }
   ],
   "source": [
    "recall_score_teste = recall_score(df_test['dano_na_plantacao'], y_pred_test,average='weighted')\n",
    "print(f'O modelo obteve um score de teste para o recall de: {recall_score_teste}')"
   ]
  },
  {
   "cell_type": "markdown",
   "metadata": {},
   "source": [
    "Temos que avaliar nossa métrica versus a métrica da solução que já está disponível na empresa. Na ausência de um modelo existente, podemos utilizar \"naive classifiers\" construídos com regras simples, para medir qual ganho de performance temos ao implementarmos o modelo de machine-learning."
   ]
  },
  {
   "cell_type": "code",
   "execution_count": 45,
   "metadata": {
    "ExecuteTime": {
     "end_time": "2020-08-08T04:44:55.821033Z",
     "start_time": "2020-08-08T04:44:55.757304Z"
    }
   },
   "outputs": [
    {
     "ename": "TypeError",
     "evalue": "recall_score() got an unexpected keyword argument 'scoring'",
     "output_type": "error",
     "traceback": [
      "\u001b[0;31m---------------------------------------------------------------------------\u001b[0m",
      "\u001b[0;31mTypeError\u001b[0m                                 Traceback (most recent call last)",
      "\u001b[0;32m<ipython-input-45-84596f7df28a>\u001b[0m in \u001b[0;36m<module>\u001b[0;34m\u001b[0m\n\u001b[0;32m----> 1\u001b[0;31m \u001b[0mdf_metrics_naive\u001b[0m \u001b[0;34m=\u001b[0m  \u001b[0mnaive_classifiers\u001b[0m\u001b[0;34m(\u001b[0m\u001b[0mdf_train\u001b[0m\u001b[0;34m,\u001b[0m \u001b[0mdf_test\u001b[0m\u001b[0;34m,\u001b[0m \u001b[0mtarget\u001b[0m \u001b[0;34m=\u001b[0m \u001b[0;34m'dano_na_plantacao'\u001b[0m\u001b[0;34m,\u001b[0m \u001b[0mmethod\u001b[0m\u001b[0;34m=\u001b[0m\u001b[0;34m'weighted'\u001b[0m\u001b[0;34m)\u001b[0m\u001b[0;34m\u001b[0m\u001b[0;34m\u001b[0m\u001b[0m\n\u001b[0m",
      "\u001b[0;32m~/Modelos/DataScience/grazielly/estudos/case_scicrop_2/case_scicrop/jobs-datascience/src/modelagem_metricas.py\u001b[0m in \u001b[0;36mnaive_classifiers\u001b[0;34m(df_train, df_test, target, method)\u001b[0m\n\u001b[1;32m     45\u001b[0m             \u001b[0my_pred_train\u001b[0m \u001b[0;34m=\u001b[0m \u001b[0mdclf\u001b[0m\u001b[0;34m.\u001b[0m\u001b[0mpredict\u001b[0m\u001b[0;34m(\u001b[0m\u001b[0mdf_train\u001b[0m\u001b[0;34m)\u001b[0m\u001b[0;34m\u001b[0m\u001b[0;34m\u001b[0m\u001b[0m\n\u001b[1;32m     46\u001b[0m             \u001b[0my_pred_test\u001b[0m \u001b[0;34m=\u001b[0m \u001b[0mdclf\u001b[0m\u001b[0;34m.\u001b[0m\u001b[0mpredict\u001b[0m\u001b[0;34m(\u001b[0m\u001b[0mdf_test\u001b[0m\u001b[0;34m)\u001b[0m\u001b[0;34m\u001b[0m\u001b[0;34m\u001b[0m\u001b[0m\n\u001b[0;32m---> 47\u001b[0;31m             \u001b[0mrecall_test\u001b[0m \u001b[0;34m=\u001b[0m \u001b[0mrecall_score\u001b[0m\u001b[0;34m(\u001b[0m\u001b[0mdf_test\u001b[0m\u001b[0;34m[\u001b[0m\u001b[0mtarget\u001b[0m\u001b[0;34m]\u001b[0m\u001b[0;34m,\u001b[0m \u001b[0my_pred_test\u001b[0m\u001b[0;34m,\u001b[0m \u001b[0maverage\u001b[0m\u001b[0;34m=\u001b[0m\u001b[0mmethod\u001b[0m\u001b[0;34m)\u001b[0m\u001b[0;34m\u001b[0m\u001b[0;34m\u001b[0m\u001b[0m\n\u001b[0m\u001b[1;32m     48\u001b[0m             \u001b[0mprecision_test\u001b[0m \u001b[0;34m=\u001b[0m \u001b[0mprecision_score\u001b[0m\u001b[0;34m(\u001b[0m\u001b[0mdf_test\u001b[0m\u001b[0;34m[\u001b[0m\u001b[0mtarget\u001b[0m\u001b[0;34m]\u001b[0m\u001b[0;34m,\u001b[0m \u001b[0my_pred_test\u001b[0m\u001b[0;34m,\u001b[0m \u001b[0maverage\u001b[0m\u001b[0;34m=\u001b[0m\u001b[0mmethod\u001b[0m\u001b[0;34m)\u001b[0m\u001b[0;34m\u001b[0m\u001b[0;34m\u001b[0m\u001b[0m\n\u001b[1;32m     49\u001b[0m             \u001b[0mf1_test\u001b[0m \u001b[0;34m=\u001b[0m \u001b[0mf1_score\u001b[0m\u001b[0;34m(\u001b[0m\u001b[0mdf_test\u001b[0m\u001b[0;34m[\u001b[0m\u001b[0mtarget\u001b[0m\u001b[0;34m]\u001b[0m\u001b[0;34m,\u001b[0m \u001b[0my_pred_test\u001b[0m\u001b[0;34m,\u001b[0m \u001b[0maverage\u001b[0m\u001b[0;34m=\u001b[0m\u001b[0mmethod\u001b[0m\u001b[0;34m)\u001b[0m\u001b[0;34m\u001b[0m\u001b[0;34m\u001b[0m\u001b[0m\n",
      "\u001b[0;32m~/Modelos/DataScience/grazielly/estudos/case_scicrop_2/env_case_scicrop/lib/python3.8/site-packages/sklearn/utils/validation.py\u001b[0m in \u001b[0;36minner_f\u001b[0;34m(*args, **kwargs)\u001b[0m\n\u001b[1;32m     70\u001b[0m                           FutureWarning)\n\u001b[1;32m     71\u001b[0m         \u001b[0mkwargs\u001b[0m\u001b[0;34m.\u001b[0m\u001b[0mupdate\u001b[0m\u001b[0;34m(\u001b[0m\u001b[0;34m{\u001b[0m\u001b[0mk\u001b[0m\u001b[0;34m:\u001b[0m \u001b[0marg\u001b[0m \u001b[0;32mfor\u001b[0m \u001b[0mk\u001b[0m\u001b[0;34m,\u001b[0m \u001b[0marg\u001b[0m \u001b[0;32min\u001b[0m \u001b[0mzip\u001b[0m\u001b[0;34m(\u001b[0m\u001b[0msig\u001b[0m\u001b[0;34m.\u001b[0m\u001b[0mparameters\u001b[0m\u001b[0;34m,\u001b[0m \u001b[0margs\u001b[0m\u001b[0;34m)\u001b[0m\u001b[0;34m}\u001b[0m\u001b[0;34m)\u001b[0m\u001b[0;34m\u001b[0m\u001b[0;34m\u001b[0m\u001b[0m\n\u001b[0;32m---> 72\u001b[0;31m         \u001b[0;32mreturn\u001b[0m \u001b[0mf\u001b[0m\u001b[0;34m(\u001b[0m\u001b[0;34m**\u001b[0m\u001b[0mkwargs\u001b[0m\u001b[0;34m)\u001b[0m\u001b[0;34m\u001b[0m\u001b[0;34m\u001b[0m\u001b[0m\n\u001b[0m\u001b[1;32m     73\u001b[0m     \u001b[0;32mreturn\u001b[0m \u001b[0minner_f\u001b[0m\u001b[0;34m\u001b[0m\u001b[0;34m\u001b[0m\u001b[0m\n\u001b[1;32m     74\u001b[0m \u001b[0;34m\u001b[0m\u001b[0m\n",
      "\u001b[0;31mTypeError\u001b[0m: recall_score() got an unexpected keyword argument 'scoring'"
     ]
    }
   ],
   "source": [
    "df_metrics_naive =  naive_classifiers(df_train, df_test, target = 'dano_na_plantacao', method='weighted')"
   ]
  },
  {
   "cell_type": "markdown",
   "metadata": {},
   "source": [
    "# Previsões 2020"
   ]
  },
  {
   "cell_type": "markdown",
   "metadata": {},
   "source": [
    "Por fim, iremos fornecer as previsões para a safra de 2020. Além disso, vamos exportar nosso modelo binarizado para utilização."
   ]
  },
  {
   "cell_type": "code",
   "execution_count": 48,
   "metadata": {
    "ExecuteTime": {
     "end_time": "2020-08-08T04:47:25.430921Z",
     "start_time": "2020-08-08T04:47:25.272125Z"
    }
   },
   "outputs": [],
   "source": [
    "# Lendo os dados da safra de 2020\n",
    "df_safra_2020 = pd.read_csv(os.path.join(DATA_SAFRA_2020_PATH, DATA_SAFRA_2020_NAME), index_col=0, dtype=dicionario_tipo)\n",
    "# Prevendo\n",
    "previsoes_2020 = modelo_pipe.predict_proba(df_safra_2020)"
   ]
  },
  {
   "cell_type": "code",
   "execution_count": 46,
   "metadata": {
    "ExecuteTime": {
     "end_time": "2020-08-08T04:46:35.847196Z",
     "start_time": "2020-08-08T04:46:35.843435Z"
    }
   },
   "outputs": [],
   "source": [
    "# Transformando as previsões em Score (geralmente é mais fácil explicar em forma de score \n",
    "# do que em forma de probabilidade) para o cliente\n",
    "\n",
    "columns_predict = ['Score_Saudável','Score_Danos_Outros_Motivos','Score_Danos_Pesticida']\n",
    "previsoes_2020 = previsoes_2020*1000\n",
    "df_previsoes_2020 = pd.DataFrame(previsoes_2020, columns=columns_predict)"
   ]
  },
  {
   "cell_type": "code",
   "execution_count": 61,
   "metadata": {
    "ExecuteTime": {
     "end_time": "2020-08-08T04:59:01.941662Z",
     "start_time": "2020-08-08T04:59:01.468629Z"
    }
   },
   "outputs": [],
   "source": [
    "# Pre processando os dados de treino e teste para salvar em uma pasta isolada \n",
    "df_train_processed = modelo_pipe['preprocessor'].transform(df_train)\n",
    "df_test_processed = modelo_pipe['preprocessor'].transform(df_test)\n",
    "df_train_processed = pd.DataFrame(df_train_processed, columns = variaveis_numericas+variaveis_categoricas)\n",
    "df_train_processed['dano_na_plantacao'] = df_train['dano_na_plantacao']\n",
    "df_test_processed = pd.DataFrame(df_test_processed, columns = variaveis_numericas+variaveis_categoricas)\n",
    "df_test_processed['dano_na_plantacao'] = df_test['dano_na_plantacao']\n",
    "df_train_processed.to_csv(os.path.join(DATA_PROCESSED_PATH, DATA_TRAIN_PROCESSED_NAME), index=False)\n",
    "df_test_processed.to_csv(os.path.join(DATA_PROCESSED_PATH, DATA_TEST_PROCESSED_NAME), index=False)"
   ]
  },
  {
   "cell_type": "code",
   "execution_count": 62,
   "metadata": {
    "ExecuteTime": {
     "end_time": "2020-08-08T04:59:07.331695Z",
     "start_time": "2020-08-08T04:59:07.281962Z"
    }
   },
   "outputs": [],
   "source": [
    "# Salvando previsões, modelo e salvando as bases de treino e teste preprocessadas \n",
    "df_previsoes_2020.to_csv(os.path.join(PREDICT_2020_PATH, PREDICT_2020_NAME), index=False)"
   ]
  },
  {
   "cell_type": "code",
   "execution_count": 63,
   "metadata": {
    "ExecuteTime": {
     "end_time": "2020-08-08T05:01:54.512871Z",
     "start_time": "2020-08-08T05:01:54.476398Z"
    }
   },
   "outputs": [],
   "source": [
    "# Exportando o modelo em formato binarizado \n",
    "with open(os.path.join(MODEL_PATH, MODEL_NAME), 'wb') as model:\n",
    "    cloudpickle.dump(modelo_pipe, model)"
   ]
  }
 ],
 "metadata": {
  "kernelspec": {
   "display_name": "Python 3",
   "language": "python",
   "name": "python3"
  },
  "language_info": {
   "codemirror_mode": {
    "name": "ipython",
    "version": 3
   },
   "file_extension": ".py",
   "mimetype": "text/x-python",
   "name": "python",
   "nbconvert_exporter": "python",
   "pygments_lexer": "ipython3",
   "version": "3.8.3"
  },
  "toc": {
   "base_numbering": 1,
   "nav_menu": {},
   "number_sections": true,
   "sideBar": true,
   "skip_h1_title": false,
   "title_cell": "Table of Contents",
   "title_sidebar": "Contents",
   "toc_cell": false,
   "toc_position": {},
   "toc_section_display": true,
   "toc_window_display": false
  },
  "varInspector": {
   "cols": {
    "lenName": 16,
    "lenType": 16,
    "lenVar": 40
   },
   "kernels_config": {
    "python": {
     "delete_cmd_postfix": "",
     "delete_cmd_prefix": "del ",
     "library": "var_list.py",
     "varRefreshCmd": "print(var_dic_list())"
    },
    "r": {
     "delete_cmd_postfix": ") ",
     "delete_cmd_prefix": "rm(",
     "library": "var_list.r",
     "varRefreshCmd": "cat(var_dic_list()) "
    }
   },
   "types_to_exclude": [
    "module",
    "function",
    "builtin_function_or_method",
    "instance",
    "_Feature"
   ],
   "window_display": false
  }
 },
 "nbformat": 4,
 "nbformat_minor": 4
}
