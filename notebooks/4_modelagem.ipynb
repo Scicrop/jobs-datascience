{
 "cells": [
  {
   "cell_type": "markdown",
   "metadata": {},
   "source": [
    "Neste tópico, iremos preparar nossos dados para modelagem, criando pipeline para garatir que qualquer tipo de dadaset tenha esse problema, tenha uma boa permormance. Diante disto utilizaremos o o modelo RandomForestClassifier, é um modelo simples, que cria várias árvores de decisões aleatórias(Bootstrap) e as combinam para obter uma melhor avaliação possível para o modelo, além de ser mais estável, e seus hiperparâmetros garantem um bom resultado para predição, além de ser um modelo robusto a outliers. Vale recaltar que o problema trata-se de uma classificação múltipla. "
   ]
  },
  {
   "cell_type": "markdown",
   "metadata": {},
   "source": [
    "# Dependências"
   ]
  },
  {
   "cell_type": "code",
   "execution_count": 1,
   "metadata": {
    "ExecuteTime": {
     "end_time": "2020-08-07T19:30:56.316961Z",
     "start_time": "2020-08-07T19:30:55.309673Z"
    }
   },
   "outputs": [],
   "source": [
    "#Importanto bibliotecas.\n",
    "#import sys\n",
    "#!{sys.executable} -m pip install yellowbrick\n",
    "import warnings \n",
    "warnings.filterwarnings('ignore')\n",
    "import os\n",
    "import pandas as pd\n",
    "import numpy as np\n",
    "import matplotlib.pyplot as plt\n",
    "import seaborn as sns\n",
    "import cloudpickle\n",
    "from src.modelagem import preencher_missing_mediana\n",
    "from sklearn.preprocessing import OrdinalEncoder\n",
    "from sklearn.ensemble import RandomForestClassifier \n",
    "from sklearn.model_selection import train_test_split\n",
    "from sklearn.impute import SimpleImputer \n",
    "from sklearn.pipeline import Pipeline\n",
    "from sklearn.compose import ColumnTransformer\n",
    "from sklearn.metrics import classification_report\n",
    "from sklearn.model_selection import cross_val_score, StratifiedKFold\n",
    "from yellowbrick.model_selection import LearningCurve\n",
    "from sklearn.model_selection import ShuffleSplit\n",
    "from sklearn.model_selection import learning_curve\n",
    "from sklearn.metrics import SCORERS\n",
    "import optuna\n",
    "pd.set_option('display.max_rows', 500)\n",
    "pd.set_option('display.max_columns', 500)\n",
    "pd.set_option('display.width', 1000)\n",
    "%matplotlib inline"
   ]
  },
  {
   "cell_type": "code",
   "execution_count": 2,
   "metadata": {
    "ExecuteTime": {
     "end_time": "2020-08-07T19:30:56.394678Z",
     "start_time": "2020-08-07T19:30:56.390230Z"
    }
   },
   "outputs": [],
   "source": [
    "#Constantes\n",
    "DATA_RAW_PATH = os.path.join('..','data','raw')\n",
    "DATA_RAW_NAME = 'Safra_2018-2019.csv'\n",
    "DATA_INTER_PATH = os.path.join('..','data','inter')\n",
    "DATA_INTER_TEST_NAME = 'test_inter.csv'\n",
    "DATA_INTER_TRAIN_FT_SELECTION = 'train_inter_ft_selection.csv'\n",
    "IMG_PATH = os.path.abspath(os.path.join('..','img'))\n",
    "META_DATA_PATH = os.path.join(DATA_RAW_PATH,'dicionario_tipos.pkl')\n",
    "#TARGET = 'dano_na_plantacao'"
   ]
  },
  {
   "cell_type": "code",
   "execution_count": 3,
   "metadata": {
    "ExecuteTime": {
     "end_time": "2020-08-07T19:30:57.138079Z",
     "start_time": "2020-08-07T19:30:57.128919Z"
    }
   },
   "outputs": [],
   "source": [
    "with open(META_DATA_PATH,'rb') as f:\n",
    "    dicionario_tipo = cloudpickle.load(f)"
   ]
  },
  {
   "cell_type": "code",
   "execution_count": 4,
   "metadata": {
    "ExecuteTime": {
     "end_time": "2020-08-07T19:30:57.925363Z",
     "start_time": "2020-08-07T19:30:57.841451Z"
    }
   },
   "outputs": [],
   "source": [
    "# DataSet que será utilizado para modelagem, depois da seleção de features.\n",
    "df_train = pd.read_csv(os.path.join(DATA_INTER_PATH, DATA_INTER_TRAIN_FT_SELECTION), dtype=dicionario_tipo)\n",
    "#Lendo dados de teste.\n",
    "df_test = pd.read_csv(os.path.join(DATA_INTER_PATH, DATA_INTER_TEST_NAME), dtype=dicionario_tipo, index_col=0)"
   ]
  },
  {
   "cell_type": "code",
   "execution_count": 5,
   "metadata": {
    "ExecuteTime": {
     "end_time": "2020-08-07T19:30:58.724665Z",
     "start_time": "2020-08-07T19:30:58.711003Z"
    }
   },
   "outputs": [
    {
     "data": {
      "text/html": [
       "<div>\n",
       "<style scoped>\n",
       "    .dataframe tbody tr th:only-of-type {\n",
       "        vertical-align: middle;\n",
       "    }\n",
       "\n",
       "    .dataframe tbody tr th {\n",
       "        vertical-align: top;\n",
       "    }\n",
       "\n",
       "    .dataframe thead th {\n",
       "        text-align: right;\n",
       "    }\n",
       "</style>\n",
       "<table border=\"1\" class=\"dataframe\">\n",
       "  <thead>\n",
       "    <tr style=\"text-align: right;\">\n",
       "      <th></th>\n",
       "      <th>Semanas_Utilizando</th>\n",
       "      <th>Semanas_Sem_Uso</th>\n",
       "      <th>Estimativa_de_Insetos</th>\n",
       "      <th>Doses_Semana</th>\n",
       "      <th>Categoria_Pesticida</th>\n",
       "      <th>Tipo_de_Cultivo</th>\n",
       "      <th>dano_na_plantacao</th>\n",
       "    </tr>\n",
       "  </thead>\n",
       "  <tbody>\n",
       "    <tr>\n",
       "      <th>0</th>\n",
       "      <td>12.0</td>\n",
       "      <td>19</td>\n",
       "      <td>984</td>\n",
       "      <td>25</td>\n",
       "      <td>2</td>\n",
       "      <td>0</td>\n",
       "      <td>0</td>\n",
       "    </tr>\n",
       "    <tr>\n",
       "      <th>1</th>\n",
       "      <td>27.0</td>\n",
       "      <td>7</td>\n",
       "      <td>851</td>\n",
       "      <td>20</td>\n",
       "      <td>2</td>\n",
       "      <td>0</td>\n",
       "      <td>0</td>\n",
       "    </tr>\n",
       "    <tr>\n",
       "      <th>2</th>\n",
       "      <td>27.0</td>\n",
       "      <td>0</td>\n",
       "      <td>283</td>\n",
       "      <td>35</td>\n",
       "      <td>3</td>\n",
       "      <td>0</td>\n",
       "      <td>0</td>\n",
       "    </tr>\n",
       "    <tr>\n",
       "      <th>3</th>\n",
       "      <td>50.0</td>\n",
       "      <td>0</td>\n",
       "      <td>2542</td>\n",
       "      <td>15</td>\n",
       "      <td>3</td>\n",
       "      <td>0</td>\n",
       "      <td>2</td>\n",
       "    </tr>\n",
       "    <tr>\n",
       "      <th>4</th>\n",
       "      <td>14.0</td>\n",
       "      <td>24</td>\n",
       "      <td>850</td>\n",
       "      <td>30</td>\n",
       "      <td>2</td>\n",
       "      <td>0</td>\n",
       "      <td>0</td>\n",
       "    </tr>\n",
       "  </tbody>\n",
       "</table>\n",
       "</div>"
      ],
      "text/plain": [
       "   Semanas_Utilizando  Semanas_Sem_Uso  Estimativa_de_Insetos  Doses_Semana Categoria_Pesticida Tipo_de_Cultivo dano_na_plantacao\n",
       "0                12.0               19                    984            25                   2               0                 0\n",
       "1                27.0                7                    851            20                   2               0                 0\n",
       "2                27.0                0                    283            35                   3               0                 0\n",
       "3                50.0                0                   2542            15                   3               0                 2\n",
       "4                14.0               24                    850            30                   2               0                 0"
      ]
     },
     "execution_count": 5,
     "metadata": {},
     "output_type": "execute_result"
    }
   ],
   "source": [
    "df_train.head()"
   ]
  },
  {
   "cell_type": "markdown",
   "metadata": {},
   "source": [
    "# Criando Pipeline"
   ]
  },
  {
   "cell_type": "code",
   "execution_count": 6,
   "metadata": {
    "ExecuteTime": {
     "end_time": "2020-08-07T19:31:00.251408Z",
     "start_time": "2020-08-07T19:31:00.242693Z"
    }
   },
   "outputs": [],
   "source": [
    "#Separando as variáveis categóricas e numéricas\n",
    "variaveis_categoricas = df_train.select_dtypes(include=['object']).columns.tolist()\n",
    "variaveis_numericas = df_train.select_dtypes(include=['int','float']).columns.tolist()"
   ]
  },
  {
   "cell_type": "code",
   "execution_count": 7,
   "metadata": {
    "ExecuteTime": {
     "end_time": "2020-08-07T19:31:00.916783Z",
     "start_time": "2020-08-07T19:31:00.909584Z"
    }
   },
   "outputs": [],
   "source": [
    "#Removendo target das variáveis categóricas. \n",
    "target = 'dano_na_plantacao'\n",
    "variaveis_categoricas.remove(target)"
   ]
  },
  {
   "cell_type": "code",
   "execution_count": 8,
   "metadata": {
    "ExecuteTime": {
     "end_time": "2020-08-07T19:31:01.492073Z",
     "start_time": "2020-08-07T19:31:01.483319Z"
    }
   },
   "outputs": [],
   "source": [
    "pipeline_numerico = Pipeline(steps=[('impute', SimpleImputer(strategy='median'))])\n",
    "pipeline_categorico = Pipeline(steps=[('impute', SimpleImputer(strategy='most_frequent')),\n",
    "                         ('ordinal_encoder', OrdinalEncoder())])"
   ]
  },
  {
   "cell_type": "code",
   "execution_count": 9,
   "metadata": {
    "ExecuteTime": {
     "end_time": "2020-08-07T19:31:02.063418Z",
     "start_time": "2020-08-07T19:31:02.053502Z"
    }
   },
   "outputs": [],
   "source": [
    "preprocess_pipeline = ColumnTransformer([('pipe_categorico', pipeline_categorico, variaveis_categoricas),\n",
    "                                ('pipe_numerico', pipeline_numerico, variaveis_numericas)])"
   ]
  },
  {
   "cell_type": "code",
   "execution_count": 10,
   "metadata": {
    "ExecuteTime": {
     "end_time": "2020-08-07T19:31:02.678058Z",
     "start_time": "2020-08-07T19:31:02.673237Z"
    }
   },
   "outputs": [],
   "source": [
    "# Definindo folds para a validação cruzada estratificada (dados desbalanceados).\n",
    "cv = StratifiedKFold(n_splits=5,shuffle=True, random_state=123)"
   ]
  },
  {
   "cell_type": "code",
   "execution_count": 11,
   "metadata": {
    "ExecuteTime": {
     "end_time": "2020-08-07T19:31:03.271421Z",
     "start_time": "2020-08-07T19:31:03.263560Z"
    }
   },
   "outputs": [],
   "source": [
    "rf = RandomForestClassifier(random_state=0, class_weight='balanced')\n",
    "modelo_pipe =  Pipeline(steps =[('preprocessor',preprocess_pipeline),\n",
    "                                  ('model_rf',rf)])"
   ]
  },
  {
   "cell_type": "markdown",
   "metadata": {},
   "source": [
    "# Modelagem e Avaliação"
   ]
  },
  {
   "cell_type": "markdown",
   "metadata": {},
   "source": [
    "Vou basear a análise do modelo no recall, pois queremos que a proporção de positivos reais sejam classificadas corretamente. A escolha da métrica de avaliação, é um passo importante do pipeline de modelagem e deve ser ajustada de acordo com as necessidades levantadas pelo cliente. Pode até mesmo ser uma métrica personalizada."
   ]
  },
  {
   "cell_type": "code",
   "execution_count": 12,
   "metadata": {
    "ExecuteTime": {
     "end_time": "2020-08-07T19:31:05.260747Z",
     "start_time": "2020-08-07T19:31:05.254805Z"
    }
   },
   "outputs": [],
   "source": [
    "# Obtendo X e Y para treino e teste.\n",
    "X = df_train.drop(target,axis=1)\n",
    "y = df_train[target]"
   ]
  },
  {
   "cell_type": "code",
   "execution_count": 13,
   "metadata": {
    "ExecuteTime": {
     "end_time": "2020-08-07T19:31:06.372323Z",
     "start_time": "2020-08-07T19:31:06.370590Z"
    }
   },
   "outputs": [],
   "source": [
    "#from sklearn.metrics import classification_report\n",
    "#print(classification_report(y, modelo_pipe.predict(X))#)"
   ]
  },
  {
   "cell_type": "code",
   "execution_count": 14,
   "metadata": {
    "ExecuteTime": {
     "end_time": "2020-08-07T19:31:07.406535Z",
     "start_time": "2020-08-07T19:31:07.404645Z"
    }
   },
   "outputs": [],
   "source": [
    "# Score de Validação Cruzada\n",
    "#cross_validation_results = cross_val_score(modelo_pipe,X,y, cv=cv, scoring = 'recall_weighted')\n",
    "#print(f'A média de validação cruzada foi: {round(np.mean(cross_validation_results),2)}\\nO desvio padrão de validação cruzada foi: {round(np.std(cross_validation_results),2)}')"
   ]
  },
  {
   "cell_type": "code",
   "execution_count": 15,
   "metadata": {
    "ExecuteTime": {
     "end_time": "2020-08-07T19:31:08.418969Z",
     "start_time": "2020-08-07T19:31:08.414662Z"
    }
   },
   "outputs": [],
   "source": [
    "def fitRF(trial):\n",
    "    \"Train RandomForest Model\"\n",
    "\n",
    "    np.random.seed(123)\n",
    "# Grid de parametros otimizados\n",
    "    params ={'model_rf__max_depth': trial.suggest_int('model_rf__max_depth',2,13),\n",
    "          'model_rf__min_samples_leaf': trial.suggest_int('model_rf__min_samples_leaf',2,33),\n",
    "          'model_rf__min_samples_split':trial.suggest_int('model_rf__min_samples_split',2,33),\n",
    "          'model_rf__n_estimators': trial.suggest_int('model_rf__n_estimators',50,300),\n",
    "          'model_rf__criterion':trial.suggest_categorical('model_rf__criterion',['gini','entropy'])\n",
    "      }\n",
    "    earlyStop=20\n",
    "    modelo_pipe.set_params(**params)\n",
    "\n",
    "\n",
    "    results = np.mean(cross_val_score(modelo_pipe,X,y, cv=cv, scoring = 'recall_weighted'))\n",
    "\n",
    "    #score = results.mean()  \n",
    "    #intervalo(results)\n",
    "    print(f'SCORE DE RECALL:{results}')\n",
    "    return results\n",
    "          "
   ]
  },
  {
   "cell_type": "code",
   "execution_count": 16,
   "metadata": {
    "ExecuteTime": {
     "end_time": "2020-08-07T19:38:37.042485Z",
     "start_time": "2020-08-07T19:31:09.409225Z"
    }
   },
   "outputs": [
    {
     "name": "stdout",
     "output_type": "stream",
     "text": [
      "SCORE DE RECALL:0.6668906250000001\n"
     ]
    },
    {
     "name": "stderr",
     "output_type": "stream",
     "text": [
      "[I 2020-08-07 16:31:30,402] Trial 0 finished with value: 0.6668906250000001 and parameters: {'model_rf__max_depth': 10, 'model_rf__min_samples_leaf': 20, 'model_rf__min_samples_split': 30, 'model_rf__n_estimators': 181, 'model_rf__criterion': 'entropy'}. Best is trial 0 with value: 0.6668906250000001.\n"
     ]
    },
    {
     "name": "stdout",
     "output_type": "stream",
     "text": [
      "SCORE DE RECALL:0.6682343749999999\n"
     ]
    },
    {
     "name": "stderr",
     "output_type": "stream",
     "text": [
      "[I 2020-08-07 16:32:01,457] Trial 1 finished with value: 0.6682343749999999 and parameters: {'model_rf__max_depth': 11, 'model_rf__min_samples_leaf': 23, 'model_rf__min_samples_split': 5, 'model_rf__n_estimators': 273, 'model_rf__criterion': 'gini'}. Best is trial 1 with value: 0.6682343749999999.\n"
     ]
    },
    {
     "name": "stdout",
     "output_type": "stream",
     "text": [
      "SCORE DE RECALL:0.6727812499999999\n"
     ]
    },
    {
     "name": "stderr",
     "output_type": "stream",
     "text": [
      "[I 2020-08-07 16:32:14,476] Trial 2 finished with value: 0.6727812499999999 and parameters: {'model_rf__max_depth': 13, 'model_rf__min_samples_leaf': 26, 'model_rf__min_samples_split': 20, 'model_rf__n_estimators': 96, 'model_rf__criterion': 'gini'}. Best is trial 2 with value: 0.6727812499999999.\n"
     ]
    },
    {
     "name": "stdout",
     "output_type": "stream",
     "text": [
      "SCORE DE RECALL:0.677359375\n"
     ]
    },
    {
     "name": "stderr",
     "output_type": "stream",
     "text": [
      "[I 2020-08-07 16:32:28,761] Trial 3 finished with value: 0.677359375 and parameters: {'model_rf__max_depth': 2, 'model_rf__min_samples_leaf': 30, 'model_rf__min_samples_split': 22, 'model_rf__n_estimators': 282, 'model_rf__criterion': 'entropy'}. Best is trial 3 with value: 0.677359375.\n"
     ]
    },
    {
     "name": "stdout",
     "output_type": "stream",
     "text": [
      "SCORE DE RECALL:0.661125\n"
     ]
    },
    {
     "name": "stderr",
     "output_type": "stream",
     "text": [
      "[I 2020-08-07 16:32:45,523] Trial 4 finished with value: 0.661125 and parameters: {'model_rf__max_depth': 6, 'model_rf__min_samples_leaf': 8, 'model_rf__min_samples_split': 23, 'model_rf__n_estimators': 194, 'model_rf__criterion': 'entropy'}. Best is trial 3 with value: 0.677359375.\n"
     ]
    },
    {
     "name": "stdout",
     "output_type": "stream",
     "text": [
      "SCORE DE RECALL:0.6707500000000001\n"
     ]
    },
    {
     "name": "stderr",
     "output_type": "stream",
     "text": [
      "[I 2020-08-07 16:32:50,889] Trial 5 finished with value: 0.6707500000000001 and parameters: {'model_rf__max_depth': 4, 'model_rf__min_samples_leaf': 18, 'model_rf__min_samples_split': 13, 'model_rf__n_estimators': 60, 'model_rf__criterion': 'entropy'}. Best is trial 3 with value: 0.677359375.\n"
     ]
    },
    {
     "name": "stdout",
     "output_type": "stream",
     "text": [
      "SCORE DE RECALL:0.659625\n"
     ]
    },
    {
     "name": "stderr",
     "output_type": "stream",
     "text": [
      "[I 2020-08-07 16:33:01,032] Trial 6 finished with value: 0.659625 and parameters: {'model_rf__max_depth': 6, 'model_rf__min_samples_leaf': 16, 'model_rf__min_samples_split': 16, 'model_rf__n_estimators': 111, 'model_rf__criterion': 'gini'}. Best is trial 3 with value: 0.677359375.\n"
     ]
    },
    {
     "name": "stdout",
     "output_type": "stream",
     "text": [
      "SCORE DE RECALL:0.66046875\n"
     ]
    },
    {
     "name": "stderr",
     "output_type": "stream",
     "text": [
      "[I 2020-08-07 16:33:24,897] Trial 7 finished with value: 0.66046875 and parameters: {'model_rf__max_depth': 9, 'model_rf__min_samples_leaf': 25, 'model_rf__min_samples_split': 5, 'model_rf__n_estimators': 228, 'model_rf__criterion': 'gini'}. Best is trial 3 with value: 0.677359375.\n"
     ]
    },
    {
     "name": "stdout",
     "output_type": "stream",
     "text": [
      "SCORE DE RECALL:0.660921875\n"
     ]
    },
    {
     "name": "stderr",
     "output_type": "stream",
     "text": [
      "[I 2020-08-07 16:33:41,538] Trial 8 finished with value: 0.660921875 and parameters: {'model_rf__max_depth': 9, 'model_rf__min_samples_leaf': 20, 'model_rf__min_samples_split': 8, 'model_rf__n_estimators': 155, 'model_rf__criterion': 'gini'}. Best is trial 3 with value: 0.677359375.\n"
     ]
    },
    {
     "name": "stdout",
     "output_type": "stream",
     "text": [
      "SCORE DE RECALL:0.667921875\n"
     ]
    },
    {
     "name": "stderr",
     "output_type": "stream",
     "text": [
      "[I 2020-08-07 16:34:02,255] Trial 9 finished with value: 0.667921875 and parameters: {'model_rf__max_depth': 5, 'model_rf__min_samples_leaf': 26, 'model_rf__min_samples_split': 6, 'model_rf__n_estimators': 275, 'model_rf__criterion': 'entropy'}. Best is trial 3 with value: 0.677359375.\n"
     ]
    },
    {
     "name": "stdout",
     "output_type": "stream",
     "text": [
      "SCORE DE RECALL:0.676828125\n"
     ]
    },
    {
     "name": "stderr",
     "output_type": "stream",
     "text": [
      "[I 2020-08-07 16:34:17,222] Trial 10 finished with value: 0.676828125 and parameters: {'model_rf__max_depth': 2, 'model_rf__min_samples_leaf': 32, 'model_rf__min_samples_split': 33, 'model_rf__n_estimators': 295, 'model_rf__criterion': 'entropy'}. Best is trial 3 with value: 0.677359375.\n"
     ]
    },
    {
     "name": "stdout",
     "output_type": "stream",
     "text": [
      "SCORE DE RECALL:0.67753125\n"
     ]
    },
    {
     "name": "stderr",
     "output_type": "stream",
     "text": [
      "[I 2020-08-07 16:34:32,139] Trial 11 finished with value: 0.67753125 and parameters: {'model_rf__max_depth': 2, 'model_rf__min_samples_leaf': 31, 'model_rf__min_samples_split': 32, 'model_rf__n_estimators': 299, 'model_rf__criterion': 'entropy'}. Best is trial 11 with value: 0.67753125.\n"
     ]
    },
    {
     "name": "stdout",
     "output_type": "stream",
     "text": [
      "SCORE DE RECALL:0.6793124999999999\n"
     ]
    },
    {
     "name": "stderr",
     "output_type": "stream",
     "text": [
      "[I 2020-08-07 16:34:44,514] Trial 12 finished with value: 0.6793124999999999 and parameters: {'model_rf__max_depth': 2, 'model_rf__min_samples_leaf': 33, 'model_rf__min_samples_split': 26, 'model_rf__n_estimators': 242, 'model_rf__criterion': 'entropy'}. Best is trial 12 with value: 0.6793124999999999.\n"
     ]
    },
    {
     "name": "stdout",
     "output_type": "stream",
     "text": [
      "SCORE DE RECALL:0.6726875\n"
     ]
    },
    {
     "name": "stderr",
     "output_type": "stream",
     "text": [
      "[I 2020-08-07 16:34:58,391] Trial 13 finished with value: 0.6726875 and parameters: {'model_rf__max_depth': 3, 'model_rf__min_samples_leaf': 33, 'model_rf__min_samples_split': 28, 'model_rf__n_estimators': 231, 'model_rf__criterion': 'entropy'}. Best is trial 12 with value: 0.6793124999999999.\n"
     ]
    },
    {
     "name": "stdout",
     "output_type": "stream",
     "text": [
      "SCORE DE RECALL:0.6791406249999999\n"
     ]
    },
    {
     "name": "stderr",
     "output_type": "stream",
     "text": [
      "[I 2020-08-07 16:35:10,507] Trial 14 finished with value: 0.6791406249999999 and parameters: {'model_rf__max_depth': 2, 'model_rf__min_samples_leaf': 11, 'model_rf__min_samples_split': 26, 'model_rf__n_estimators': 237, 'model_rf__criterion': 'entropy'}. Best is trial 12 with value: 0.6793124999999999.\n"
     ]
    },
    {
     "name": "stdout",
     "output_type": "stream",
     "text": [
      "SCORE DE RECALL:0.673203125\n"
     ]
    },
    {
     "name": "stderr",
     "output_type": "stream",
     "text": [
      "[I 2020-08-07 16:35:24,389] Trial 15 finished with value: 0.673203125 and parameters: {'model_rf__max_depth': 3, 'model_rf__min_samples_leaf': 10, 'model_rf__min_samples_split': 25, 'model_rf__n_estimators': 231, 'model_rf__criterion': 'entropy'}. Best is trial 12 with value: 0.6793124999999999.\n"
     ]
    },
    {
     "name": "stdout",
     "output_type": "stream",
     "text": [
      "SCORE DE RECALL:0.6596093749999999\n"
     ]
    },
    {
     "name": "stderr",
     "output_type": "stream",
     "text": [
      "[I 2020-08-07 16:35:47,350] Trial 16 finished with value: 0.6596093749999999 and parameters: {'model_rf__max_depth': 7, 'model_rf__min_samples_leaf': 4, 'model_rf__min_samples_split': 27, 'model_rf__n_estimators': 247, 'model_rf__criterion': 'entropy'}. Best is trial 12 with value: 0.6793124999999999.\n"
     ]
    },
    {
     "name": "stdout",
     "output_type": "stream",
     "text": [
      "SCORE DE RECALL:0.67528125\n"
     ]
    },
    {
     "name": "stderr",
     "output_type": "stream",
     "text": [
      "[I 2020-08-07 16:36:02,004] Trial 17 finished with value: 0.67528125 and parameters: {'model_rf__max_depth': 4, 'model_rf__min_samples_leaf': 13, 'model_rf__min_samples_split': 18, 'model_rf__n_estimators': 212, 'model_rf__criterion': 'entropy'}. Best is trial 12 with value: 0.6793124999999999.\n"
     ]
    },
    {
     "name": "stdout",
     "output_type": "stream",
     "text": [
      "SCORE DE RECALL:0.674328125\n"
     ]
    },
    {
     "name": "stderr",
     "output_type": "stream",
     "text": [
      "[I 2020-08-07 16:36:13,038] Trial 18 finished with value: 0.674328125 and parameters: {'model_rf__max_depth': 4, 'model_rf__min_samples_leaf': 2, 'model_rf__min_samples_split': 25, 'model_rf__n_estimators': 151, 'model_rf__criterion': 'entropy'}. Best is trial 12 with value: 0.6793124999999999.\n"
     ]
    },
    {
     "name": "stdout",
     "output_type": "stream",
     "text": [
      "SCORE DE RECALL:0.6784374999999999\n"
     ]
    },
    {
     "name": "stderr",
     "output_type": "stream",
     "text": [
      "[I 2020-08-07 16:36:26,001] Trial 19 finished with value: 0.6784374999999999 and parameters: {'model_rf__max_depth': 2, 'model_rf__min_samples_leaf': 6, 'model_rf__min_samples_split': 14, 'model_rf__n_estimators': 255, 'model_rf__criterion': 'entropy'}. Best is trial 12 with value: 0.6793124999999999.\n"
     ]
    },
    {
     "name": "stdout",
     "output_type": "stream",
     "text": [
      "SCORE DE RECALL:0.685109375\n"
     ]
    },
    {
     "name": "stderr",
     "output_type": "stream",
     "text": [
      "[I 2020-08-07 16:36:53,651] Trial 20 finished with value: 0.685109375 and parameters: {'model_rf__max_depth': 13, 'model_rf__min_samples_leaf': 12, 'model_rf__min_samples_split': 30, 'model_rf__n_estimators': 203, 'model_rf__criterion': 'entropy'}. Best is trial 20 with value: 0.685109375.\n"
     ]
    },
    {
     "name": "stdout",
     "output_type": "stream",
     "text": [
      "SCORE DE RECALL:0.6850156249999999\n"
     ]
    },
    {
     "name": "stderr",
     "output_type": "stream",
     "text": [
      "[I 2020-08-07 16:37:21,344] Trial 21 finished with value: 0.6850156249999999 and parameters: {'model_rf__max_depth': 13, 'model_rf__min_samples_leaf': 12, 'model_rf__min_samples_split': 30, 'model_rf__n_estimators': 202, 'model_rf__criterion': 'entropy'}. Best is trial 20 with value: 0.685109375.\n"
     ]
    },
    {
     "name": "stdout",
     "output_type": "stream",
     "text": [
      "SCORE DE RECALL:0.68309375\n"
     ]
    },
    {
     "name": "stderr",
     "output_type": "stream",
     "text": [
      "[I 2020-08-07 16:37:48,434] Trial 22 finished with value: 0.68309375 and parameters: {'model_rf__max_depth': 13, 'model_rf__min_samples_leaf': 14, 'model_rf__min_samples_split': 30, 'model_rf__n_estimators': 201, 'model_rf__criterion': 'entropy'}. Best is trial 20 with value: 0.685109375.\n"
     ]
    },
    {
     "name": "stdout",
     "output_type": "stream",
     "text": [
      "SCORE DE RECALL:0.6821718750000001\n"
     ]
    },
    {
     "name": "stderr",
     "output_type": "stream",
     "text": [
      "[I 2020-08-07 16:38:15,638] Trial 23 finished with value: 0.6821718750000001 and parameters: {'model_rf__max_depth': 13, 'model_rf__min_samples_leaf': 15, 'model_rf__min_samples_split': 30, 'model_rf__n_estimators': 201, 'model_rf__criterion': 'entropy'}. Best is trial 20 with value: 0.685109375.\n"
     ]
    },
    {
     "name": "stdout",
     "output_type": "stream",
     "text": [
      "SCORE DE RECALL:0.678890625\n"
     ]
    },
    {
     "name": "stderr",
     "output_type": "stream",
     "text": [
      "[I 2020-08-07 16:38:37,037] Trial 24 finished with value: 0.678890625 and parameters: {'model_rf__max_depth': 12, 'model_rf__min_samples_leaf': 12, 'model_rf__min_samples_split': 33, 'model_rf__n_estimators': 160, 'model_rf__criterion': 'entropy'}. Best is trial 20 with value: 0.685109375.\n"
     ]
    },
    {
     "name": "stdout",
     "output_type": "stream",
     "text": [
      "FrozenTrial(number=20, value=0.685109375, datetime_start=datetime.datetime(2020, 8, 7, 16, 36, 26, 4239), datetime_complete=datetime.datetime(2020, 8, 7, 16, 36, 53, 651261), params={'model_rf__max_depth': 13, 'model_rf__min_samples_leaf': 12, 'model_rf__min_samples_split': 30, 'model_rf__n_estimators': 203, 'model_rf__criterion': 'entropy'}, distributions={'model_rf__max_depth': IntUniformDistribution(high=13, low=2, step=1), 'model_rf__min_samples_leaf': IntUniformDistribution(high=33, low=2, step=1), 'model_rf__min_samples_split': IntUniformDistribution(high=33, low=2, step=1), 'model_rf__n_estimators': IntUniformDistribution(high=300, low=50, step=1), 'model_rf__criterion': CategoricalDistribution(choices=('gini', 'entropy'))}, user_attrs={}, system_attrs={}, intermediate_values={}, trial_id=20, state=TrialState.COMPLETE)\n"
     ]
    }
   ],
   "source": [
    "study = optuna.create_study(direction='maximize')\n",
    "study.optimize(fitRF, n_trials=25)\n",
    "print(study.best_trial)"
   ]
  },
  {
   "cell_type": "code",
   "execution_count": 17,
   "metadata": {
    "ExecuteTime": {
     "end_time": "2020-08-07T21:04:52.504343Z",
     "start_time": "2020-08-07T21:04:51.969657Z"
    }
   },
   "outputs": [
    {
     "data": {
      "text/plain": [
       "Pipeline(steps=[('preprocessor',\n",
       "                 ColumnTransformer(transformers=[('pipe_categorico',\n",
       "                                                  Pipeline(steps=[('impute',\n",
       "                                                                   SimpleImputer(strategy='most_frequent')),\n",
       "                                                                  ('ordinal_encoder',\n",
       "                                                                   OrdinalEncoder())]),\n",
       "                                                  ['Categoria_Pesticida',\n",
       "                                                   'Tipo_de_Cultivo']),\n",
       "                                                 ('pipe_numerico',\n",
       "                                                  Pipeline(steps=[('impute',\n",
       "                                                                   SimpleImputer(strategy='median'))]),\n",
       "                                                  ['Semanas_Utilizando',\n",
       "                                                   'Semanas_Sem_Uso',\n",
       "                                                   'Estimativa_de_Insetos',\n",
       "                                                   'Doses_Semana'])])),\n",
       "                ('model_rf',\n",
       "                 RandomForestClassifier(class_weight='balanced',\n",
       "                                        criterion='entropy', max_depth=13,\n",
       "                                        min_samples_leaf=12,\n",
       "                                        min_samples_split=30, n_estimators=203,\n",
       "                                        random_state=0))])"
      ]
     },
     "execution_count": 17,
     "metadata": {},
     "output_type": "execute_result"
    }
   ],
   "source": [
    "modelo_pipe.set_params(**study.best_params)"
   ]
  },
  {
   "cell_type": "code",
   "execution_count": 18,
   "metadata": {
    "ExecuteTime": {
     "end_time": "2020-08-07T21:05:01.264073Z",
     "start_time": "2020-08-07T21:04:54.077847Z"
    }
   },
   "outputs": [
    {
     "data": {
      "text/plain": [
       "Pipeline(steps=[('preprocessor',\n",
       "                 ColumnTransformer(transformers=[('pipe_categorico',\n",
       "                                                  Pipeline(steps=[('impute',\n",
       "                                                                   SimpleImputer(strategy='most_frequent')),\n",
       "                                                                  ('ordinal_encoder',\n",
       "                                                                   OrdinalEncoder())]),\n",
       "                                                  ['Categoria_Pesticida',\n",
       "                                                   'Tipo_de_Cultivo']),\n",
       "                                                 ('pipe_numerico',\n",
       "                                                  Pipeline(steps=[('impute',\n",
       "                                                                   SimpleImputer(strategy='median'))]),\n",
       "                                                  ['Semanas_Utilizando',\n",
       "                                                   'Semanas_Sem_Uso',\n",
       "                                                   'Estimativa_de_Insetos',\n",
       "                                                   'Doses_Semana'])])),\n",
       "                ('model_rf',\n",
       "                 RandomForestClassifier(class_weight='balanced',\n",
       "                                        criterion='entropy', max_depth=13,\n",
       "                                        min_samples_leaf=12,\n",
       "                                        min_samples_split=30, n_estimators=203,\n",
       "                                        random_state=0))])"
      ]
     },
     "execution_count": 18,
     "metadata": {},
     "output_type": "execute_result"
    }
   ],
   "source": [
    "modelo_pipe.fit(X,y)"
   ]
  },
  {
   "cell_type": "code",
   "execution_count": 19,
   "metadata": {
    "ExecuteTime": {
     "end_time": "2020-08-07T21:05:51.295446Z",
     "start_time": "2020-08-07T21:05:02.341306Z"
    }
   },
   "outputs": [
    {
     "data": {
      "image/png": "[encoded data removed]",
      "text/plain": [
       "<Figure size 432x288 with 1 Axes>"
      ]
     },
     "metadata": {
      "needs_background": "light"
     },
     "output_type": "display_data"
    },
    {
     "data": {
      "text/plain": [
       "<AxesSubplot:title={'center':'Learning Curve for RandomForestClassifier'}, xlabel='Training Instances', ylabel='Score'>"
      ]
     },
     "execution_count": 19,
     "metadata": {},
     "output_type": "execute_result"
    }
   ],
   "source": [
    "visualizer = LearningCurve(modelo_pipe, cv=cv, scoring='recall_weighted', n_jobs=4, random_state = 123)\n",
    "visualizer.fit(X, y)    \n",
    "plt.ylim((0,1.01)) # Fit the data to the visualizer\n",
    "visualizer.show() \n"
   ]
  },
  {
   "cell_type": "code",
   "execution_count": null,
   "metadata": {},
   "outputs": [],
   "source": [
    "train_sizes = [1000, 2000, 5000, 6000]\n",
    "cv = ShuffleSplit(n_splits=10, test_size=0.2, random_state=0)\n",
    "#plot_learning_curve(LogisticRegression(), X, y, cv=cv, n_jobs=24, train_sizes=train_sizes)\n",
    "display(plot_learning_curve(XGBClassifier(), \"Learning curve\", X, y, ylim=(0.7, 1.01), cv=cv, n_jobs=24).show())"
   ]
  },
  {
   "cell_type": "code",
   "execution_count": 69,
   "metadata": {
    "ExecuteTime": {
     "end_time": "2020-08-06T20:39:15.999977Z",
     "start_time": "2020-08-06T20:39:15.995463Z"
    }
   },
   "outputs": [
    {
     "data": {
      "text/plain": [
       "array([nan, nan, nan, nan, nan])"
      ]
     },
     "execution_count": 69,
     "metadata": {},
     "output_type": "execute_result"
    }
   ],
   "source": [
    "cross_validation_results"
   ]
  },
  {
   "cell_type": "code",
   "execution_count": 48,
   "metadata": {
    "ExecuteTime": {
     "end_time": "2020-08-06T23:03:15.471206Z",
     "start_time": "2020-08-06T23:03:08.030552Z"
    }
   },
   "outputs": [
    {
     "data": {
      "text/plain": [
       "Pipeline(steps=[('preprocessor',\n",
       "                 ColumnTransformer(transformers=[('pipe_categorico',\n",
       "                                                  Pipeline(steps=[('impute',\n",
       "                                                                   SimpleImputer(strategy='most_frequent')),\n",
       "                                                                  ('ordinal_encoder',\n",
       "                                                                   OrdinalEncoder())]),\n",
       "                                                  ['Tipo_de_Cultivo',\n",
       "                                                   'Categoria_Pesticida']),\n",
       "                                                 ('pipe_numerico',\n",
       "                                                  Pipeline(steps=[('impute',\n",
       "                                                                   SimpleImputer(strategy='median'))]),\n",
       "                                                  ['Semanas_Utilizando',\n",
       "                                                   'Estimativa_de_Insetos',\n",
       "                                                   'Doses_Semana',\n",
       "                                                   'Semanas_Sem_Uso'])])),\n",
       "                ('model_rf',\n",
       "                 RandomForestClassifier(class_weight='balanced', max_depth=13,\n",
       "                                        min_samples_leaf=2,\n",
       "                                        min_samples_split=11, n_estimators=238,\n",
       "                                        random_state=0))])"
      ]
     },
     "execution_count": 48,
     "metadata": {},
     "output_type": "execute_result"
    }
   ],
   "source": [
    "modelo_pipe.fit(X,y)"
   ]
  },
  {
   "cell_type": "code",
   "execution_count": 70,
   "metadata": {
    "ExecuteTime": {
     "end_time": "2020-08-06T23:11:33.273509Z",
     "start_time": "2020-08-06T23:11:33.248396Z"
    }
   },
   "outputs": [],
   "source": [
    "#df_test['Tipo_de_Cultivo'] = df_test['Tipo_de_Cultivo'].astype('float').apply(lambda x: str(x))\n",
    "#df_test['Categoria_Pesticida'] = df_test['Categoria_Pesticida'].astype('float').apply(lambda x: str(x))"
   ]
  },
  {
   "cell_type": "code",
   "execution_count": 71,
   "metadata": {
    "ExecuteTime": {
     "end_time": "2020-08-06T23:11:35.472318Z",
     "start_time": "2020-08-06T23:11:34.933192Z"
    }
   },
   "outputs": [],
   "source": [
    "y_pred_test = modelo_pipe.predict(df_test.drop(target,axis=1))"
   ]
  },
  {
   "cell_type": "code",
   "execution_count": 80,
   "metadata": {
    "ExecuteTime": {
     "end_time": "2020-08-06T23:14:13.932670Z",
     "start_time": "2020-08-06T23:14:13.822630Z"
    }
   },
   "outputs": [
    {
     "data": {
      "text/plain": [
       "0.6964375"
      ]
     },
     "execution_count": 80,
     "metadata": {},
     "output_type": "execute_result"
    }
   ],
   "source": [
    "from sklearn.metrics import recall_score\n",
    "recall_score(df_test['dano_na_plantacao'], y_pred_test,average='weighted')"
   ]
  },
  {
   "cell_type": "code",
   "execution_count": 75,
   "metadata": {
    "ExecuteTime": {
     "end_time": "2020-08-06T23:12:53.214319Z",
     "start_time": "2020-08-06T23:12:53.210386Z"
    }
   },
   "outputs": [
    {
     "data": {
      "text/plain": [
       "array(['0.0', '0.0', '0.0', ..., '0.0', '0.0', '0.0'], dtype=object)"
      ]
     },
     "execution_count": 75,
     "metadata": {},
     "output_type": "execute_result"
    }
   ],
   "source": [
    "y_pred_test"
   ]
  },
  {
   "cell_type": "code",
   "execution_count": 79,
   "metadata": {
    "ExecuteTime": {
     "end_time": "2020-08-06T23:14:09.414418Z",
     "start_time": "2020-08-06T23:14:09.398962Z"
    }
   },
   "outputs": [],
   "source": [
    "df_test['dano_na_plantacao'] = df_test['dano_na_plantacao'].astype('float').apply(lambda x: str(x))"
   ]
  },
  {
   "cell_type": "code",
   "execution_count": 37,
   "metadata": {
    "ExecuteTime": {
     "end_time": "2020-08-06T19:00:04.864115Z",
     "start_time": "2020-08-06T19:00:04.848179Z"
    }
   },
   "outputs": [
    {
     "data": {
      "text/plain": [
       "0.0    0.837804\n",
       "1.0    0.136176\n",
       "2.0    0.026020\n",
       "Name: dano_na_plantacao, dtype: float64"
      ]
     },
     "execution_count": 37,
     "metadata": {},
     "output_type": "execute_result"
    }
   ],
   "source": [
    "df_train['dano_na_plantacao'].value_counts(normalize=True)"
   ]
  }
 ],
 "metadata": {
  "kernelspec": {
   "display_name": "Python 3",
   "language": "python",
   "name": "python3"
  },
  "language_info": {
   "codemirror_mode": {
    "name": "ipython",
    "version": 3
   },
   "file_extension": ".py",
   "mimetype": "text/x-python",
   "name": "python",
   "nbconvert_exporter": "python",
   "pygments_lexer": "ipython3",
   "version": "3.8.3"
  },
  "toc": {
   "base_numbering": 1,
   "nav_menu": {},
   "number_sections": true,
   "sideBar": true,
   "skip_h1_title": false,
   "title_cell": "Table of Contents",
   "title_sidebar": "Contents",
   "toc_cell": false,
   "toc_position": {},
   "toc_section_display": true,
   "toc_window_display": false
  },
  "varInspector": {
   "cols": {
    "lenName": 16,
    "lenType": 16,
    "lenVar": 40
   },
   "kernels_config": {
    "python": {
     "delete_cmd_postfix": "",
     "delete_cmd_prefix": "del ",
     "library": "var_list.py",
     "varRefreshCmd": "print(var_dic_list())"
    },
    "r": {
     "delete_cmd_postfix": ") ",
     "delete_cmd_prefix": "rm(",
     "library": "var_list.r",
     "varRefreshCmd": "cat(var_dic_list()) "
    }
   },
   "types_to_exclude": [
    "module",
    "function",
    "builtin_function_or_method",
    "instance",
    "_Feature"
   ],
   "window_display": false
  }
 },
 "nbformat": 4,
 "nbformat_minor": 4
}
