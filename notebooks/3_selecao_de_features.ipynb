{
 "cells": [
  {
   "cell_type": "markdown",
   "metadata": {},
   "source": [
    "Neste tópico abordaremos a seleção de features, utilizando o método `Botura` e teste de `Chi2`para tal. Vale salientar que não utilizaremos correlação de Pearson(ou Spearman), pois nosso target não é numérico nem categórico ordinal.\n",
    "\n",
    "Chi2: Método utilizado para seleção de features categóricas ordinais e nominais. É um metódo que avalia a indepedência das features em relação ao target.\n",
    "\n",
    "Boruta: Método muito robusto e baseado em modelo, que leva em consideração a interação entre a features, algo nao levado em conta pelo Chi2 ou outros métodos univariados de seleção. Para mais infomações sobre o método: <a href=\"https://towardsdatascience.com/boruta-explained-the-way-i-wish-someone-explained-it-to-me-4489d70e154a\">Clique Aqui!</a>. \n"
   ]
  },
  {
   "cell_type": "markdown",
   "metadata": {},
   "source": [
    "#  Depêndencias"
   ]
  },
  {
   "cell_type": "code",
   "execution_count": 1,
   "metadata": {
    "ExecuteTime": {
     "end_time": "2020-08-08T11:56:22.702267Z",
     "start_time": "2020-08-08T11:56:21.403131Z"
    }
   },
   "outputs": [],
   "source": [
    "#Importando bibliotecas.\n",
    "#import sys\n",
    "#!{sys.executable} -m pip install boruta\n",
    "import os\n",
    "import pandas as pd\n",
    "import numpy as np\n",
    "import seaborn as sns\n",
    "import cloudpickle\n",
    "import matplotlib.pyplot as plt\n",
    "from boruta import BorutaPy\n",
    "from src.selecao_de_feature import boruta_selector,chi_squared,variance_threshold_selector\n",
    "pd.set_option('display.max_columns', 500)\n",
    "pd.set_option('display.width', 1000)\n",
    "%matplotlib inline"
   ]
  },
  {
   "cell_type": "markdown",
   "metadata": {},
   "source": [
    "# Dados e Constantes"
   ]
  },
  {
   "cell_type": "code",
   "execution_count": 2,
   "metadata": {
    "ExecuteTime": {
     "end_time": "2020-08-08T11:56:24.307867Z",
     "start_time": "2020-08-08T11:56:24.295987Z"
    }
   },
   "outputs": [],
   "source": [
    "#Constantes\n",
    "DATA_RAW_PATH = os.path.join('..','data','raw')\n",
    "DATA_RAW_NAME = 'Safra_2018-2019.csv'\n",
    "DATA_INTER_PATH = os.path.join('..','data','inter')\n",
    "DATA_INTER_TRAIN_NAME = 'train_inter.csv'\n",
    "DATA_INTER_TEST_NAME = 'test_inter.csv'\n",
    "DATA_INTER_TRAIN_FT_SELECTION = 'train_inter_ft_selection.csv'\n",
    "IMG_PATH = os.path.abspath(os.path.join('..','img'))\n",
    "META_DATA_PATH = os.path.join(DATA_RAW_PATH,'dicionario_tipos.pkl')\n",
    "TARGET = 'dano_na_plantacao'"
   ]
  },
  {
   "cell_type": "code",
   "execution_count": 3,
   "metadata": {
    "ExecuteTime": {
     "end_time": "2020-08-08T11:56:24.702005Z",
     "start_time": "2020-08-08T11:56:24.631541Z"
    }
   },
   "outputs": [],
   "source": [
    "with open(META_DATA_PATH,'rb') as f:\n",
    "    dicionario_tipo = cloudpickle.load(f)\n",
    "df_train = pd.read_csv(os.path.join(DATA_INTER_PATH, DATA_INTER_TRAIN_NAME), dtype=dicionario_tipo)"
   ]
  },
  {
   "cell_type": "code",
   "execution_count": 4,
   "metadata": {
    "ExecuteTime": {
     "end_time": "2020-08-08T11:56:25.041451Z",
     "start_time": "2020-08-08T11:56:24.979612Z"
    }
   },
   "outputs": [],
   "source": [
    "df_train = pd.read_csv(os.path.join(DATA_INTER_PATH, DATA_INTER_TRAIN_NAME), dtype=dicionario_tipo)"
   ]
  },
  {
   "cell_type": "code",
   "execution_count": 5,
   "metadata": {
    "ExecuteTime": {
     "end_time": "2020-08-08T11:56:25.513589Z",
     "start_time": "2020-08-08T11:56:25.497591Z"
    },
    "scrolled": true
   },
   "outputs": [
    {
     "data": {
      "text/html": [
       "<div>\n",
       "<style scoped>\n",
       "    .dataframe tbody tr th:only-of-type {\n",
       "        vertical-align: middle;\n",
       "    }\n",
       "\n",
       "    .dataframe tbody tr th {\n",
       "        vertical-align: top;\n",
       "    }\n",
       "\n",
       "    .dataframe thead th {\n",
       "        text-align: right;\n",
       "    }\n",
       "</style>\n",
       "<table border=\"1\" class=\"dataframe\">\n",
       "  <thead>\n",
       "    <tr style=\"text-align: right;\">\n",
       "      <th></th>\n",
       "      <th>Estimativa_de_Insetos</th>\n",
       "      <th>Tipo_de_Cultivo</th>\n",
       "      <th>Tipo_de_Solo</th>\n",
       "      <th>Categoria_Pesticida</th>\n",
       "      <th>Doses_Semana</th>\n",
       "      <th>Semanas_Utilizando</th>\n",
       "      <th>Semanas_Sem_Uso</th>\n",
       "      <th>Temporada</th>\n",
       "      <th>dano_na_plantacao</th>\n",
       "    </tr>\n",
       "  </thead>\n",
       "  <tbody>\n",
       "    <tr>\n",
       "      <th>0</th>\n",
       "      <td>984</td>\n",
       "      <td>0</td>\n",
       "      <td>1</td>\n",
       "      <td>2</td>\n",
       "      <td>25</td>\n",
       "      <td>12.0</td>\n",
       "      <td>19</td>\n",
       "      <td>3</td>\n",
       "      <td>0</td>\n",
       "    </tr>\n",
       "    <tr>\n",
       "      <th>1</th>\n",
       "      <td>851</td>\n",
       "      <td>0</td>\n",
       "      <td>0</td>\n",
       "      <td>2</td>\n",
       "      <td>20</td>\n",
       "      <td>27.0</td>\n",
       "      <td>7</td>\n",
       "      <td>2</td>\n",
       "      <td>0</td>\n",
       "    </tr>\n",
       "    <tr>\n",
       "      <th>2</th>\n",
       "      <td>283</td>\n",
       "      <td>0</td>\n",
       "      <td>0</td>\n",
       "      <td>3</td>\n",
       "      <td>35</td>\n",
       "      <td>27.0</td>\n",
       "      <td>0</td>\n",
       "      <td>3</td>\n",
       "      <td>0</td>\n",
       "    </tr>\n",
       "    <tr>\n",
       "      <th>3</th>\n",
       "      <td>2542</td>\n",
       "      <td>0</td>\n",
       "      <td>0</td>\n",
       "      <td>3</td>\n",
       "      <td>15</td>\n",
       "      <td>50.0</td>\n",
       "      <td>0</td>\n",
       "      <td>2</td>\n",
       "      <td>2</td>\n",
       "    </tr>\n",
       "    <tr>\n",
       "      <th>4</th>\n",
       "      <td>850</td>\n",
       "      <td>0</td>\n",
       "      <td>1</td>\n",
       "      <td>2</td>\n",
       "      <td>30</td>\n",
       "      <td>14.0</td>\n",
       "      <td>24</td>\n",
       "      <td>2</td>\n",
       "      <td>0</td>\n",
       "    </tr>\n",
       "  </tbody>\n",
       "</table>\n",
       "</div>"
      ],
      "text/plain": [
       "   Estimativa_de_Insetos Tipo_de_Cultivo Tipo_de_Solo Categoria_Pesticida  Doses_Semana  Semanas_Utilizando  Semanas_Sem_Uso Temporada dano_na_plantacao\n",
       "0                    984               0            1                   2            25                12.0               19         3                 0\n",
       "1                    851               0            0                   2            20                27.0                7         2                 0\n",
       "2                    283               0            0                   3            35                27.0                0         3                 0\n",
       "3                   2542               0            0                   3            15                50.0                0         2                 2\n",
       "4                    850               0            1                   2            30                14.0               24         2                 0"
      ]
     },
     "execution_count": 5,
     "metadata": {},
     "output_type": "execute_result"
    }
   ],
   "source": [
    "df_train.head()"
   ]
  },
  {
   "cell_type": "markdown",
   "metadata": {},
   "source": [
    "# Colunas Variância aprox = 0"
   ]
  },
  {
   "cell_type": "markdown",
   "metadata": {
    "ExecuteTime": {
     "end_time": "2020-08-08T11:56:44.079502Z",
     "start_time": "2020-08-08T11:56:44.070302Z"
    }
   },
   "source": [
    "Aqui a ideia é remover todas as colunas numéricas cuja variância é baixa."
   ]
  },
  {
   "cell_type": "code",
   "execution_count": 12,
   "metadata": {
    "ExecuteTime": {
     "end_time": "2020-08-08T11:56:49.738703Z",
     "start_time": "2020-08-08T11:56:49.716988Z"
    }
   },
   "outputs": [],
   "source": [
    "#Utilizando apenas as variaveis numericas.\n",
    "todas_as_variaveis = set(df_train.columns.tolist())\n",
    "variaveis_categoricas = set(df_train.select_dtypes(include=['object']).columns.tolist())\n",
    "variaveis_numericas = todas_as_variaveis - variaveis_categoricas\n",
    "variaveis_numericas = list(variaveis_numericas)"
   ]
  },
  {
   "cell_type": "code",
   "execution_count": 13,
   "metadata": {
    "ExecuteTime": {
     "end_time": "2020-08-08T11:56:49.957958Z",
     "start_time": "2020-08-08T11:56:49.878029Z"
    }
   },
   "outputs": [],
   "source": [
    "#DataFrame com os dados com variancia maior que 0,01.\n",
    "df_train_variance_threshold = variance_threshold_selector(df_train.loc[:,variaveis_numericas], threshold=0.01)"
   ]
  },
  {
   "cell_type": "code",
   "execution_count": 14,
   "metadata": {
    "ExecuteTime": {
     "end_time": "2020-08-08T11:56:50.134858Z",
     "start_time": "2020-08-08T11:56:50.020524Z"
    }
   },
   "outputs": [],
   "source": [
    "df_train_categoricas = df_train.loc[:,variaveis_categoricas]"
   ]
  },
  {
   "cell_type": "code",
   "execution_count": 15,
   "metadata": {
    "ExecuteTime": {
     "end_time": "2020-08-08T11:56:50.325319Z",
     "start_time": "2020-08-08T11:56:50.214455Z"
    }
   },
   "outputs": [],
   "source": [
    "#Juntando os dados de variancia maior que 0,01 com outras features categoricas.\n",
    "df_train = pd.concat([df_train_variance_threshold, df_train_categoricas],axis=1)"
   ]
  },
  {
   "cell_type": "code",
   "execution_count": 16,
   "metadata": {
    "ExecuteTime": {
     "end_time": "2020-08-08T11:56:50.489567Z",
     "start_time": "2020-08-08T11:56:50.396108Z"
    }
   },
   "outputs": [
    {
     "data": {
      "text/plain": [
       "(64000, 9)"
      ]
     },
     "execution_count": 16,
     "metadata": {},
     "output_type": "execute_result"
    }
   ],
   "source": [
    "df_train.shape"
   ]
  },
  {
   "cell_type": "code",
   "execution_count": 17,
   "metadata": {
    "ExecuteTime": {
     "end_time": "2020-08-08T11:56:50.979608Z",
     "start_time": "2020-08-08T11:56:50.966666Z"
    }
   },
   "outputs": [],
   "source": [
    "#Trazendo as novas variaveis depois da conversão de categórica para ordinal.\n",
    "todas_as_variaveis = set(df_train.columns.tolist())\n",
    "variaveis_categoricas_nominal_e_ordinal = set(df_train.select_dtypes(include=['object']).columns.tolist())\n",
    "variaveis_numericas = todas_as_variaveis - variaveis_categoricas_nominal_e_ordinal\n",
    "variaveis_categoricas_nominal_e_ordinal = list(variaveis_categoricas)"
   ]
  },
  {
   "cell_type": "code",
   "execution_count": 18,
   "metadata": {
    "ExecuteTime": {
     "end_time": "2020-08-08T11:56:51.991801Z",
     "start_time": "2020-08-08T11:56:51.916832Z"
    }
   },
   "outputs": [
    {
     "name": "stdout",
     "output_type": "stream",
     "text": [
      "<class 'pandas.core.frame.DataFrame'>\n",
      "RangeIndex: 64000 entries, 0 to 63999\n",
      "Data columns (total 5 columns):\n",
      " #   Column               Non-Null Count  Dtype \n",
      "---  ------               --------------  ----- \n",
      " 0   Tipo_de_Solo         64000 non-null  object\n",
      " 1   Tipo_de_Cultivo      64000 non-null  object\n",
      " 2   Categoria_Pesticida  64000 non-null  object\n",
      " 3   Temporada            64000 non-null  object\n",
      " 4   dano_na_plantacao    64000 non-null  object\n",
      "dtypes: object(5)\n",
      "memory usage: 2.4+ MB\n"
     ]
    }
   ],
   "source": [
    "df_train.loc[:,variaveis_categoricas_nominal_e_ordinal].info()"
   ]
  },
  {
   "cell_type": "markdown",
   "metadata": {},
   "source": [
    "# Abordagem (Chi2+Boruta)"
   ]
  },
  {
   "cell_type": "markdown",
   "metadata": {
    "ExecuteTime": {
     "end_time": "2020-08-06T17:02:39.527182Z",
     "start_time": "2020-08-06T17:02:39.520444Z"
    }
   },
   "source": [
    "## Chi2"
   ]
  },
  {
   "cell_type": "markdown",
   "metadata": {},
   "source": [
    "Será utilizado teste de Chi2 para verificar independências das variáveis categóricas nominais e ordinais \n",
    "em relação ao target."
   ]
  },
  {
   "cell_type": "code",
   "execution_count": 19,
   "metadata": {
    "ExecuteTime": {
     "end_time": "2020-08-08T11:57:07.506306Z",
     "start_time": "2020-08-08T11:57:07.227833Z"
    },
    "scrolled": true
   },
   "outputs": [],
   "source": [
    "#Aplicando Chi2\n",
    "chi2_df, logs = chi_squared(df_train, y = 'dano_na_plantacao', cols = variaveis_categoricas_nominal_e_ordinal)"
   ]
  },
  {
   "cell_type": "code",
   "execution_count": 20,
   "metadata": {
    "ExecuteTime": {
     "end_time": "2020-08-08T11:57:07.566130Z",
     "start_time": "2020-08-08T11:57:07.556511Z"
    }
   },
   "outputs": [
    {
     "data": {
      "text/html": [
       "<div>\n",
       "<style scoped>\n",
       "    .dataframe tbody tr th:only-of-type {\n",
       "        vertical-align: middle;\n",
       "    }\n",
       "\n",
       "    .dataframe tbody tr th {\n",
       "        vertical-align: top;\n",
       "    }\n",
       "\n",
       "    .dataframe thead th {\n",
       "        text-align: right;\n",
       "    }\n",
       "</style>\n",
       "<table border=\"1\" class=\"dataframe\">\n",
       "  <thead>\n",
       "    <tr style=\"text-align: right;\">\n",
       "      <th></th>\n",
       "      <th>column</th>\n",
       "      <th>p-value</th>\n",
       "      <th>chi2_value</th>\n",
       "    </tr>\n",
       "  </thead>\n",
       "  <tbody>\n",
       "    <tr>\n",
       "      <th>0</th>\n",
       "      <td>Tipo_de_Solo</td>\n",
       "      <td>2.171827e-06</td>\n",
       "      <td>26.079883</td>\n",
       "    </tr>\n",
       "    <tr>\n",
       "      <th>1</th>\n",
       "      <td>Tipo_de_Cultivo</td>\n",
       "      <td>4.815159e-10</td>\n",
       "      <td>42.908164</td>\n",
       "    </tr>\n",
       "    <tr>\n",
       "      <th>2</th>\n",
       "      <td>Categoria_Pesticida</td>\n",
       "      <td>0.000000e+00</td>\n",
       "      <td>5715.303638</td>\n",
       "    </tr>\n",
       "    <tr>\n",
       "      <th>3</th>\n",
       "      <td>Temporada</td>\n",
       "      <td>7.086076e-02</td>\n",
       "      <td>8.636334</td>\n",
       "    </tr>\n",
       "    <tr>\n",
       "      <th>4</th>\n",
       "      <td>dano_na_plantacao</td>\n",
       "      <td>NaN</td>\n",
       "      <td>NaN</td>\n",
       "    </tr>\n",
       "  </tbody>\n",
       "</table>\n",
       "</div>"
      ],
      "text/plain": [
       "                column       p-value   chi2_value\n",
       "0         Tipo_de_Solo  2.171827e-06    26.079883\n",
       "1      Tipo_de_Cultivo  4.815159e-10    42.908164\n",
       "2  Categoria_Pesticida  0.000000e+00  5715.303638\n",
       "3            Temporada  7.086076e-02     8.636334\n",
       "4    dano_na_plantacao           NaN          NaN"
      ]
     },
     "execution_count": 20,
     "metadata": {},
     "output_type": "execute_result"
    }
   ],
   "source": [
    "chi2_df"
   ]
  },
  {
   "cell_type": "code",
   "execution_count": 21,
   "metadata": {
    "ExecuteTime": {
     "end_time": "2020-08-08T11:57:08.083347Z",
     "start_time": "2020-08-08T11:57:08.079602Z"
    }
   },
   "outputs": [
    {
     "data": {
      "text/plain": [
       "['A coluna dano_na_plantacao não pode ser avaliada. ']"
      ]
     },
     "execution_count": 21,
     "metadata": {},
     "output_type": "execute_result"
    }
   ],
   "source": [
    "logs"
   ]
  },
  {
   "cell_type": "markdown",
   "metadata": {},
   "source": [
    "Como `dano_na_plantacao` é o próprio target, não calculamos o chi2 para ela.\n",
    "(Hipótese nula - H0: As variáveis são independentes)\n",
    "Segundo o teste de hipotése realizado, as variáveis cujo p-valor < 0.05 tem relação com o target."
   ]
  },
  {
   "cell_type": "code",
   "execution_count": 22,
   "metadata": {
    "ExecuteTime": {
     "end_time": "2020-08-08T11:57:09.141952Z",
     "start_time": "2020-08-08T11:57:09.131937Z"
    }
   },
   "outputs": [],
   "source": [
    "#As variáveis que serão excluídas. \n",
    "lista_descart_chi2 = chi2_df[chi2_df['p-value']>=0.05]['column'].tolist()"
   ]
  },
  {
   "cell_type": "code",
   "execution_count": 23,
   "metadata": {
    "ExecuteTime": {
     "end_time": "2020-08-08T11:57:09.549425Z",
     "start_time": "2020-08-08T11:57:09.543101Z"
    }
   },
   "outputs": [
    {
     "data": {
      "text/plain": [
       "['Temporada']"
      ]
     },
     "execution_count": 23,
     "metadata": {},
     "output_type": "execute_result"
    }
   ],
   "source": [
    "lista_descart_chi2"
   ]
  },
  {
   "cell_type": "markdown",
   "metadata": {},
   "source": [
    "A seleção com Chi2 conseguiu descartar a feature `Temporada`. "
   ]
  },
  {
   "cell_type": "markdown",
   "metadata": {},
   "source": [
    "## Boruta"
   ]
  },
  {
   "cell_type": "code",
   "execution_count": 24,
   "metadata": {
    "ExecuteTime": {
     "end_time": "2020-08-08T11:57:19.878002Z",
     "start_time": "2020-08-08T11:57:11.951436Z"
    }
   },
   "outputs": [],
   "source": [
    "#Vamos filtrar as Features removidas no step anterior antes de passarmos par ao Boruta\n",
    "list_to_drop_boruta = boruta_selector(df_train.drop(lista_descart_chi2,axis=1), y='dano_na_plantacao')"
   ]
  },
  {
   "cell_type": "code",
   "execution_count": 25,
   "metadata": {
    "ExecuteTime": {
     "end_time": "2020-08-08T11:57:19.934101Z",
     "start_time": "2020-08-08T11:57:19.928845Z"
    }
   },
   "outputs": [
    {
     "data": {
      "text/plain": [
       "['Tipo_de_Solo']"
      ]
     },
     "execution_count": 25,
     "metadata": {},
     "output_type": "execute_result"
    }
   ],
   "source": [
    "list_to_drop_boruta"
   ]
  },
  {
   "cell_type": "markdown",
   "metadata": {},
   "source": [
    "A seleção com boruta conseguiu descartar a feature `Tipo_de_Solo`."
   ]
  },
  {
   "cell_type": "code",
   "execution_count": 26,
   "metadata": {
    "ExecuteTime": {
     "end_time": "2020-08-08T11:57:20.194874Z",
     "start_time": "2020-08-08T11:57:20.012728Z"
    }
   },
   "outputs": [
    {
     "data": {
      "text/plain": [
       "{'Temporada', 'Tipo_de_Solo'}"
      ]
     },
     "execution_count": 26,
     "metadata": {},
     "output_type": "execute_result"
    }
   ],
   "source": [
    "#Lista de dropagem Geral (chi2 + boruta)\n",
    "lista_drop_geral = set(lista_descart_chi2+list_to_drop_boruta)\n",
    "lista_drop_geral"
   ]
  },
  {
   "cell_type": "code",
   "execution_count": 27,
   "metadata": {
    "ExecuteTime": {
     "end_time": "2020-08-08T11:57:20.644860Z",
     "start_time": "2020-08-08T11:57:20.282468Z"
    }
   },
   "outputs": [],
   "source": [
    "# dropando as colunas pela abordagem.\n",
    "df_train.drop(lista_drop_geral,axis=1).to_csv(os.path.join(DATA_INTER_PATH,DATA_INTER_TRAIN_FT_SELECTION), index=False)"
   ]
  },
  {
   "cell_type": "markdown",
   "metadata": {},
   "source": [
    "A abordagem para seleção de features que utilizamos são (Chi2 e Boruta), que combinados trazem resultado bacanas. As features descartadas foram:`Temporada` e `Tipo_de_Solo`. Ambas não serão consideradas para nosso modelo. "
   ]
  }
 ],
 "metadata": {
  "kernelspec": {
   "display_name": "Python 3",
   "language": "python",
   "name": "python3"
  },
  "language_info": {
   "codemirror_mode": {
    "name": "ipython",
    "version": 3
   },
   "file_extension": ".py",
   "mimetype": "text/x-python",
   "name": "python",
   "nbconvert_exporter": "python",
   "pygments_lexer": "ipython3",
   "version": "3.8.3"
  },
  "toc": {
   "base_numbering": 1,
   "nav_menu": {},
   "number_sections": true,
   "sideBar": true,
   "skip_h1_title": false,
   "title_cell": "Table of Contents",
   "title_sidebar": "Contents",
   "toc_cell": false,
   "toc_position": {},
   "toc_section_display": true,
   "toc_window_display": false
  },
  "varInspector": {
   "cols": {
    "lenName": 16,
    "lenType": 16,
    "lenVar": 40
   },
   "kernels_config": {
    "python": {
     "delete_cmd_postfix": "",
     "delete_cmd_prefix": "del ",
     "library": "var_list.py",
     "varRefreshCmd": "print(var_dic_list())"
    },
    "r": {
     "delete_cmd_postfix": ") ",
     "delete_cmd_prefix": "rm(",
     "library": "var_list.r",
     "varRefreshCmd": "cat(var_dic_list()) "
    }
   },
   "types_to_exclude": [
    "module",
    "function",
    "builtin_function_or_method",
    "instance",
    "_Feature"
   ],
   "window_display": false
  }
 },
 "nbformat": 4,
 "nbformat_minor": 4
}
