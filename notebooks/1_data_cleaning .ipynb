{
 "cells": [
  {
   "cell_type": "markdown",
   "metadata": {},
   "source": [
    "Limpeza <p>\n",
    "Nessa etapa o objetivo é verificar valores inconsistentes, duplicatas de colunas e linhas, definir a tipagem dos dados e observar a distribuição de missing values, já traçando uma estratégia de preenchimento, se necessário."
   ]
  },
  {
   "cell_type": "markdown",
   "metadata": {},
   "source": [
    "# Dependências"
   ]
  },
  {
   "cell_type": "code",
   "execution_count": 1,
   "metadata": {
    "ExecuteTime": {
     "end_time": "2020-08-08T11:52:06.583222Z",
     "start_time": "2020-08-08T11:51:57.299594Z"
    }
   },
   "outputs": [],
   "source": [
    "# Importanando bibliotecas\n",
    "import os\n",
    "import cloudpickle\n",
    "import pandas as pd\n",
    "import numpy as np\n",
    "import seaborn as sns\n",
    "import missingno as msno\n",
    "import matplotlib.pyplot as plt\n",
    "from src.data_cleaning import remover_duplicatas,remover_colunas_constantes\n",
    "from sklearn.model_selection import train_test_split\n",
    "pd.set_option('display.max_rows', 500)\n",
    "pd.set_option('display.max_columns', 500)\n",
    "pd.set_option('display.width', 1000)\n",
    "%matplotlib inline"
   ]
  },
  {
   "cell_type": "markdown",
   "metadata": {},
   "source": [
    "# Dados e Constantes"
   ]
  },
  {
   "cell_type": "code",
   "execution_count": 2,
   "metadata": {
    "ExecuteTime": {
     "end_time": "2020-08-08T11:52:07.263167Z",
     "start_time": "2020-08-08T11:52:06.591072Z"
    }
   },
   "outputs": [],
   "source": [
    "DATA_RAW_PATH = os.path.join('..','data','raw')\n",
    "DATA_RAW_NAME = 'Safra_2018-2019.csv'\n",
    "DATA_INTER_PATH = os.path.join('..','data','inter')\n",
    "DATA_INTER_TRAIN_NAME = 'train_inter.csv'\n",
    "DATA_INTER_TEST_NAME = 'test_inter.csv'\n",
    "META_DATA_PATH = os.path.join(DATA_RAW_PATH,'dicionario_tipos.pkl')\n",
    "TARGET = 'dano_na_plantacao'\n",
    "df_raw = pd.read_csv(os.path.join(DATA_RAW_PATH,DATA_RAW_NAME), index_col=0)"
   ]
  },
  {
   "cell_type": "markdown",
   "metadata": {},
   "source": [
    "# Split dos dados em treino e teste"
   ]
  },
  {
   "cell_type": "markdown",
   "metadata": {},
   "source": [
    "Todo o tratamento de dados, análise exploratória e modelagem será desenvolvido nesse conjunto de treinamento. Ao dividir os dados em Treino e Teste antes das demais etapas, reduzimos os riscos de vazamentos de dados ou enviesamento. Assim, a partir de agora usaremos apenas esse dataset."
   ]
  },
  {
   "cell_type": "markdown",
   "metadata": {},
   "source": [
    "O modelo que será desenvolvido por meio do dataset é: Previsão do Dano na Plantação. Vamos seguir daqui em diante com o target `dano_na_plantacao` tratando-se de um problema de classificação multipla. "
   ]
  },
  {
   "cell_type": "code",
   "execution_count": 3,
   "metadata": {
    "ExecuteTime": {
     "end_time": "2020-08-08T11:52:07.519884Z",
     "start_time": "2020-08-08T11:52:07.297565Z"
    }
   },
   "outputs": [],
   "source": [
    "#Separando os dados. \n",
    "X = df_raw.drop(TARGET, axis=1)\n",
    "y = df_raw[TARGET]\n",
    "X_train, X_test, y_train, y_test = train_test_split(X,y, test_size = 0.2,  stratify= y, random_state=123)"
   ]
  },
  {
   "cell_type": "code",
   "execution_count": 4,
   "metadata": {
    "ExecuteTime": {
     "end_time": "2020-08-08T11:52:07.612206Z",
     "start_time": "2020-08-08T11:52:07.555234Z"
    }
   },
   "outputs": [],
   "source": [
    "#Dados de treino e de test\n",
    "df_train = pd.concat([X_train,y_train], axis=1)\n",
    "df_test = pd.concat([X_test, y_test], axis=1)"
   ]
  },
  {
   "cell_type": "code",
   "execution_count": 5,
   "metadata": {
    "ExecuteTime": {
     "end_time": "2020-08-08T11:52:08.043090Z",
     "start_time": "2020-08-08T11:52:07.679516Z"
    }
   },
   "outputs": [],
   "source": [
    "# salvando os dados de teste\n",
    "df_test.to_csv(os.path.join(DATA_INTER_PATH,DATA_INTER_TEST_NAME), index=False)\n",
    "del df_test"
   ]
  },
  {
   "cell_type": "code",
   "execution_count": 6,
   "metadata": {
    "ExecuteTime": {
     "end_time": "2020-08-08T11:52:08.208489Z",
     "start_time": "2020-08-08T11:52:08.083510Z"
    }
   },
   "outputs": [
    {
     "data": {
      "text/html": [
       "<div>\n",
       "<style scoped>\n",
       "    .dataframe tbody tr th:only-of-type {\n",
       "        vertical-align: middle;\n",
       "    }\n",
       "\n",
       "    .dataframe tbody tr th {\n",
       "        vertical-align: top;\n",
       "    }\n",
       "\n",
       "    .dataframe thead th {\n",
       "        text-align: right;\n",
       "    }\n",
       "</style>\n",
       "<table border=\"1\" class=\"dataframe\">\n",
       "  <thead>\n",
       "    <tr style=\"text-align: right;\">\n",
       "      <th></th>\n",
       "      <th>Identificador_Agricultor</th>\n",
       "      <th>Estimativa_de_Insetos</th>\n",
       "      <th>Tipo_de_Cultivo</th>\n",
       "      <th>Tipo_de_Solo</th>\n",
       "      <th>Categoria_Pesticida</th>\n",
       "      <th>Doses_Semana</th>\n",
       "      <th>Semanas_Utilizando</th>\n",
       "      <th>Semanas_Sem_Uso</th>\n",
       "      <th>Temporada</th>\n",
       "      <th>dano_na_plantacao</th>\n",
       "    </tr>\n",
       "  </thead>\n",
       "  <tbody>\n",
       "    <tr>\n",
       "      <th>27009</th>\n",
       "      <td>SCROP27010</td>\n",
       "      <td>984</td>\n",
       "      <td>0</td>\n",
       "      <td>1</td>\n",
       "      <td>2</td>\n",
       "      <td>25</td>\n",
       "      <td>12.0</td>\n",
       "      <td>19</td>\n",
       "      <td>3</td>\n",
       "      <td>0</td>\n",
       "    </tr>\n",
       "    <tr>\n",
       "      <th>79477</th>\n",
       "      <td>SCROP79478</td>\n",
       "      <td>851</td>\n",
       "      <td>0</td>\n",
       "      <td>0</td>\n",
       "      <td>2</td>\n",
       "      <td>20</td>\n",
       "      <td>27.0</td>\n",
       "      <td>7</td>\n",
       "      <td>2</td>\n",
       "      <td>0</td>\n",
       "    </tr>\n",
       "    <tr>\n",
       "      <th>76218</th>\n",
       "      <td>SCROP76219</td>\n",
       "      <td>283</td>\n",
       "      <td>0</td>\n",
       "      <td>0</td>\n",
       "      <td>3</td>\n",
       "      <td>35</td>\n",
       "      <td>27.0</td>\n",
       "      <td>0</td>\n",
       "      <td>3</td>\n",
       "      <td>0</td>\n",
       "    </tr>\n",
       "    <tr>\n",
       "      <th>33382</th>\n",
       "      <td>SCROP33383</td>\n",
       "      <td>2542</td>\n",
       "      <td>0</td>\n",
       "      <td>0</td>\n",
       "      <td>3</td>\n",
       "      <td>15</td>\n",
       "      <td>50.0</td>\n",
       "      <td>0</td>\n",
       "      <td>2</td>\n",
       "      <td>2</td>\n",
       "    </tr>\n",
       "    <tr>\n",
       "      <th>44927</th>\n",
       "      <td>SCROP44928</td>\n",
       "      <td>850</td>\n",
       "      <td>0</td>\n",
       "      <td>1</td>\n",
       "      <td>2</td>\n",
       "      <td>30</td>\n",
       "      <td>14.0</td>\n",
       "      <td>24</td>\n",
       "      <td>2</td>\n",
       "      <td>0</td>\n",
       "    </tr>\n",
       "  </tbody>\n",
       "</table>\n",
       "</div>"
      ],
      "text/plain": [
       "      Identificador_Agricultor  Estimativa_de_Insetos  Tipo_de_Cultivo  Tipo_de_Solo  Categoria_Pesticida  Doses_Semana  Semanas_Utilizando  Semanas_Sem_Uso  Temporada  dano_na_plantacao\n",
       "27009               SCROP27010                    984                0             1                    2            25                12.0               19          3                  0\n",
       "79477               SCROP79478                    851                0             0                    2            20                27.0                7          2                  0\n",
       "76218               SCROP76219                    283                0             0                    3            35                27.0                0          3                  0\n",
       "33382               SCROP33383                   2542                0             0                    3            15                50.0                0          2                  2\n",
       "44927               SCROP44928                    850                0             1                    2            30                14.0               24          2                  0"
      ]
     },
     "execution_count": 6,
     "metadata": {},
     "output_type": "execute_result"
    }
   ],
   "source": [
    "#Lendo o dataset de treino.\n",
    "df_train.head()"
   ]
  },
  {
   "cell_type": "code",
   "execution_count": 7,
   "metadata": {
    "ExecuteTime": {
     "end_time": "2020-08-08T11:52:08.431893Z",
     "start_time": "2020-08-08T11:52:08.253406Z"
    }
   },
   "outputs": [
    {
     "data": {
      "text/plain": [
       "Index(['Identificador_Agricultor', 'Estimativa_de_Insetos', 'Tipo_de_Cultivo', 'Tipo_de_Solo', 'Categoria_Pesticida', 'Doses_Semana', 'Semanas_Utilizando', 'Semanas_Sem_Uso', 'Temporada', 'dano_na_plantacao'], dtype='object')"
      ]
     },
     "execution_count": 7,
     "metadata": {},
     "output_type": "execute_result"
    }
   ],
   "source": [
    "df_train.columns"
   ]
  },
  {
   "cell_type": "code",
   "execution_count": 8,
   "metadata": {
    "ExecuteTime": {
     "end_time": "2020-08-08T11:52:08.644171Z",
     "start_time": "2020-08-08T11:52:08.506789Z"
    }
   },
   "outputs": [
    {
     "data": {
      "text/plain": [
       "(64000, 10)"
      ]
     },
     "execution_count": 8,
     "metadata": {},
     "output_type": "execute_result"
    }
   ],
   "source": [
    "df_train.shape"
   ]
  },
  {
   "cell_type": "markdown",
   "metadata": {},
   "source": [
    "# Limpeza"
   ]
  },
  {
   "cell_type": "code",
   "execution_count": 9,
   "metadata": {
    "ExecuteTime": {
     "end_time": "2020-08-08T11:52:08.911035Z",
     "start_time": "2020-08-08T11:52:08.694800Z"
    }
   },
   "outputs": [],
   "source": [
    "#Criando dicionário para os tipos das variáveis.\n",
    "dicionario_tipo = {}\n",
    "dicionario_tipo['Identificador_Agricultor']='object'\n",
    "dicionario_tipo['Estimativa_de_Insetos']='int'\n",
    "dicionario_tipo['Tipo_de_Cultivo']='object'\n",
    "dicionario_tipo['Tipo_de_Solo']='object'\n",
    "dicionario_tipo['Categoria_Pesticida']='object'\n",
    "dicionario_tipo['Doses_Semana']='int'\n",
    "dicionario_tipo['Semanas_Utilizando']='float'\n",
    "dicionario_tipo['Semanas_Sem_Uso']='int'\n",
    "dicionario_tipo['Temporada']='object'\n",
    "dicionario_tipo['dano_na_plantacao']='object'"
   ]
  },
  {
   "cell_type": "code",
   "execution_count": 10,
   "metadata": {
    "ExecuteTime": {
     "end_time": "2020-08-08T11:52:09.146429Z",
     "start_time": "2020-08-08T11:52:08.966347Z"
    }
   },
   "outputs": [
    {
     "data": {
      "text/html": [
       "<div>\n",
       "<style scoped>\n",
       "    .dataframe tbody tr th:only-of-type {\n",
       "        vertical-align: middle;\n",
       "    }\n",
       "\n",
       "    .dataframe tbody tr th {\n",
       "        vertical-align: top;\n",
       "    }\n",
       "\n",
       "    .dataframe thead th {\n",
       "        text-align: right;\n",
       "    }\n",
       "</style>\n",
       "<table border=\"1\" class=\"dataframe\">\n",
       "  <thead>\n",
       "    <tr style=\"text-align: right;\">\n",
       "      <th></th>\n",
       "      <th>Identificador_Agricultor</th>\n",
       "      <th>Estimativa_de_Insetos</th>\n",
       "      <th>Tipo_de_Cultivo</th>\n",
       "      <th>Tipo_de_Solo</th>\n",
       "      <th>Categoria_Pesticida</th>\n",
       "      <th>Doses_Semana</th>\n",
       "      <th>Semanas_Utilizando</th>\n",
       "      <th>Semanas_Sem_Uso</th>\n",
       "      <th>Temporada</th>\n",
       "      <th>dano_na_plantacao</th>\n",
       "    </tr>\n",
       "  </thead>\n",
       "  <tbody>\n",
       "    <tr>\n",
       "      <th>27009</th>\n",
       "      <td>SCROP27010</td>\n",
       "      <td>984</td>\n",
       "      <td>0</td>\n",
       "      <td>1</td>\n",
       "      <td>2</td>\n",
       "      <td>25</td>\n",
       "      <td>12.0</td>\n",
       "      <td>19</td>\n",
       "      <td>3</td>\n",
       "      <td>0</td>\n",
       "    </tr>\n",
       "    <tr>\n",
       "      <th>79477</th>\n",
       "      <td>SCROP79478</td>\n",
       "      <td>851</td>\n",
       "      <td>0</td>\n",
       "      <td>0</td>\n",
       "      <td>2</td>\n",
       "      <td>20</td>\n",
       "      <td>27.0</td>\n",
       "      <td>7</td>\n",
       "      <td>2</td>\n",
       "      <td>0</td>\n",
       "    </tr>\n",
       "    <tr>\n",
       "      <th>76218</th>\n",
       "      <td>SCROP76219</td>\n",
       "      <td>283</td>\n",
       "      <td>0</td>\n",
       "      <td>0</td>\n",
       "      <td>3</td>\n",
       "      <td>35</td>\n",
       "      <td>27.0</td>\n",
       "      <td>0</td>\n",
       "      <td>3</td>\n",
       "      <td>0</td>\n",
       "    </tr>\n",
       "    <tr>\n",
       "      <th>33382</th>\n",
       "      <td>SCROP33383</td>\n",
       "      <td>2542</td>\n",
       "      <td>0</td>\n",
       "      <td>0</td>\n",
       "      <td>3</td>\n",
       "      <td>15</td>\n",
       "      <td>50.0</td>\n",
       "      <td>0</td>\n",
       "      <td>2</td>\n",
       "      <td>2</td>\n",
       "    </tr>\n",
       "    <tr>\n",
       "      <th>44927</th>\n",
       "      <td>SCROP44928</td>\n",
       "      <td>850</td>\n",
       "      <td>0</td>\n",
       "      <td>1</td>\n",
       "      <td>2</td>\n",
       "      <td>30</td>\n",
       "      <td>14.0</td>\n",
       "      <td>24</td>\n",
       "      <td>2</td>\n",
       "      <td>0</td>\n",
       "    </tr>\n",
       "  </tbody>\n",
       "</table>\n",
       "</div>"
      ],
      "text/plain": [
       "      Identificador_Agricultor  Estimativa_de_Insetos  Tipo_de_Cultivo  Tipo_de_Solo  Categoria_Pesticida  Doses_Semana  Semanas_Utilizando  Semanas_Sem_Uso  Temporada  dano_na_plantacao\n",
       "27009               SCROP27010                    984                0             1                    2            25                12.0               19          3                  0\n",
       "79477               SCROP79478                    851                0             0                    2            20                27.0                7          2                  0\n",
       "76218               SCROP76219                    283                0             0                    3            35                27.0                0          3                  0\n",
       "33382               SCROP33383                   2542                0             0                    3            15                50.0                0          2                  2\n",
       "44927               SCROP44928                    850                0             1                    2            30                14.0               24          2                  0"
      ]
     },
     "execution_count": 10,
     "metadata": {},
     "output_type": "execute_result"
    }
   ],
   "source": [
    "df_train.head()"
   ]
  },
  {
   "cell_type": "code",
   "execution_count": 11,
   "metadata": {
    "ExecuteTime": {
     "end_time": "2020-08-08T11:52:09.378771Z",
     "start_time": "2020-08-08T11:52:09.189361Z"
    }
   },
   "outputs": [],
   "source": [
    "#Removendo a coluna Indentificador_Agricultor por ser um valor único. \n",
    "lista_to_drop = ['Identificador_Agricultor']\n",
    "df_train.drop(lista_to_drop, axis=1, inplace=True)"
   ]
  },
  {
   "cell_type": "code",
   "execution_count": 12,
   "metadata": {
    "ExecuteTime": {
     "end_time": "2020-08-08T11:52:54.245187Z",
     "start_time": "2020-08-08T11:52:09.421140Z"
    }
   },
   "outputs": [
    {
     "name": "stdout",
     "output_type": "stream",
     "text": [
      "Removendo...\n",
      "Existem 0 colunas duplicadas e 0 linhas duplicadas\n",
      "Colunas duplicadas:\n",
      "[]\n"
     ]
    }
   ],
   "source": [
    "#Observando e removendo duplicatas nas linhas e colunas. \n",
    "df_T, lista_removidas = remover_duplicatas(df_train)"
   ]
  },
  {
   "cell_type": "code",
   "execution_count": 13,
   "metadata": {
    "ExecuteTime": {
     "end_time": "2020-08-08T11:52:54.301906Z",
     "start_time": "2020-08-08T11:52:54.294121Z"
    }
   },
   "outputs": [
    {
     "data": {
      "text/plain": [
       "Index(['Estimativa_de_Insetos', 'Tipo_de_Cultivo', 'Tipo_de_Solo', 'Categoria_Pesticida', 'Doses_Semana', 'Semanas_Utilizando', 'Semanas_Sem_Uso', 'Temporada', 'dano_na_plantacao'], dtype='object')"
      ]
     },
     "execution_count": 13,
     "metadata": {},
     "output_type": "execute_result"
    }
   ],
   "source": [
    "df_train.columns"
   ]
  },
  {
   "cell_type": "code",
   "execution_count": 14,
   "metadata": {
    "ExecuteTime": {
     "end_time": "2020-08-08T11:52:54.730917Z",
     "start_time": "2020-08-08T11:52:54.348833Z"
    }
   },
   "outputs": [],
   "source": [
    "#Convertendo valores faltosos para np.nan, para que haja um padrão de null no data_set. \n",
    "df_train.replace([None, 'Null', 'null','NULL', -np.inf, np.inf, -999, '-999', '-1',-1, ''], np.nan,inplace=True)"
   ]
  },
  {
   "cell_type": "code",
   "execution_count": 15,
   "metadata": {
    "ExecuteTime": {
     "end_time": "2020-08-08T11:52:54.983571Z",
     "start_time": "2020-08-08T11:52:54.770720Z"
    },
    "scrolled": false
   },
   "outputs": [
    {
     "data": {
      "text/html": [
       "<div>\n",
       "<style scoped>\n",
       "    .dataframe tbody tr th:only-of-type {\n",
       "        vertical-align: middle;\n",
       "    }\n",
       "\n",
       "    .dataframe tbody tr th {\n",
       "        vertical-align: top;\n",
       "    }\n",
       "\n",
       "    .dataframe thead th {\n",
       "        text-align: right;\n",
       "    }\n",
       "</style>\n",
       "<table border=\"1\" class=\"dataframe\">\n",
       "  <thead>\n",
       "    <tr style=\"text-align: right;\">\n",
       "      <th></th>\n",
       "      <th>Estimativa_de_Insetos</th>\n",
       "      <th>Tipo_de_Cultivo</th>\n",
       "      <th>Tipo_de_Solo</th>\n",
       "      <th>Categoria_Pesticida</th>\n",
       "      <th>Doses_Semana</th>\n",
       "      <th>Semanas_Utilizando</th>\n",
       "      <th>Semanas_Sem_Uso</th>\n",
       "      <th>Temporada</th>\n",
       "      <th>dano_na_plantacao</th>\n",
       "    </tr>\n",
       "  </thead>\n",
       "  <tbody>\n",
       "    <tr>\n",
       "      <th>count</th>\n",
       "      <td>64000.000000</td>\n",
       "      <td>64000.000000</td>\n",
       "      <td>64000.000000</td>\n",
       "      <td>64000.000000</td>\n",
       "      <td>64000.000000</td>\n",
       "      <td>57585.000000</td>\n",
       "      <td>64000.000000</td>\n",
       "      <td>64000.000000</td>\n",
       "      <td>64000.000000</td>\n",
       "    </tr>\n",
       "    <tr>\n",
       "      <th>mean</th>\n",
       "      <td>1402.609594</td>\n",
       "      <td>0.283359</td>\n",
       "      <td>0.456141</td>\n",
       "      <td>2.267922</td>\n",
       "      <td>25.866563</td>\n",
       "      <td>28.694469</td>\n",
       "      <td>9.541266</td>\n",
       "      <td>1.899297</td>\n",
       "      <td>0.192312</td>\n",
       "    </tr>\n",
       "    <tr>\n",
       "      <th>std</th>\n",
       "      <td>851.197034</td>\n",
       "      <td>0.450633</td>\n",
       "      <td>0.498077</td>\n",
       "      <td>0.463768</td>\n",
       "      <td>15.588499</td>\n",
       "      <td>12.442054</td>\n",
       "      <td>9.912320</td>\n",
       "      <td>0.701744</td>\n",
       "      <td>0.455920</td>\n",
       "    </tr>\n",
       "    <tr>\n",
       "      <th>min</th>\n",
       "      <td>150.000000</td>\n",
       "      <td>0.000000</td>\n",
       "      <td>0.000000</td>\n",
       "      <td>1.000000</td>\n",
       "      <td>0.000000</td>\n",
       "      <td>0.000000</td>\n",
       "      <td>0.000000</td>\n",
       "      <td>1.000000</td>\n",
       "      <td>0.000000</td>\n",
       "    </tr>\n",
       "    <tr>\n",
       "      <th>25%</th>\n",
       "      <td>731.000000</td>\n",
       "      <td>0.000000</td>\n",
       "      <td>0.000000</td>\n",
       "      <td>2.000000</td>\n",
       "      <td>15.000000</td>\n",
       "      <td>20.000000</td>\n",
       "      <td>0.000000</td>\n",
       "      <td>1.000000</td>\n",
       "      <td>0.000000</td>\n",
       "    </tr>\n",
       "    <tr>\n",
       "      <th>50%</th>\n",
       "      <td>1212.000000</td>\n",
       "      <td>0.000000</td>\n",
       "      <td>0.000000</td>\n",
       "      <td>2.000000</td>\n",
       "      <td>20.000000</td>\n",
       "      <td>28.000000</td>\n",
       "      <td>7.000000</td>\n",
       "      <td>2.000000</td>\n",
       "      <td>0.000000</td>\n",
       "    </tr>\n",
       "    <tr>\n",
       "      <th>75%</th>\n",
       "      <td>1898.000000</td>\n",
       "      <td>1.000000</td>\n",
       "      <td>1.000000</td>\n",
       "      <td>3.000000</td>\n",
       "      <td>40.000000</td>\n",
       "      <td>38.000000</td>\n",
       "      <td>16.000000</td>\n",
       "      <td>2.000000</td>\n",
       "      <td>0.000000</td>\n",
       "    </tr>\n",
       "    <tr>\n",
       "      <th>max</th>\n",
       "      <td>4097.000000</td>\n",
       "      <td>1.000000</td>\n",
       "      <td>1.000000</td>\n",
       "      <td>3.000000</td>\n",
       "      <td>95.000000</td>\n",
       "      <td>67.000000</td>\n",
       "      <td>50.000000</td>\n",
       "      <td>3.000000</td>\n",
       "      <td>2.000000</td>\n",
       "    </tr>\n",
       "  </tbody>\n",
       "</table>\n",
       "</div>"
      ],
      "text/plain": [
       "       Estimativa_de_Insetos  Tipo_de_Cultivo  Tipo_de_Solo  Categoria_Pesticida  Doses_Semana  Semanas_Utilizando  Semanas_Sem_Uso     Temporada  dano_na_plantacao\n",
       "count           64000.000000     64000.000000  64000.000000         64000.000000  64000.000000        57585.000000     64000.000000  64000.000000       64000.000000\n",
       "mean             1402.609594         0.283359      0.456141             2.267922     25.866563           28.694469         9.541266      1.899297           0.192312\n",
       "std               851.197034         0.450633      0.498077             0.463768     15.588499           12.442054         9.912320      0.701744           0.455920\n",
       "min               150.000000         0.000000      0.000000             1.000000      0.000000            0.000000         0.000000      1.000000           0.000000\n",
       "25%               731.000000         0.000000      0.000000             2.000000     15.000000           20.000000         0.000000      1.000000           0.000000\n",
       "50%              1212.000000         0.000000      0.000000             2.000000     20.000000           28.000000         7.000000      2.000000           0.000000\n",
       "75%              1898.000000         1.000000      1.000000             3.000000     40.000000           38.000000        16.000000      2.000000           0.000000\n",
       "max              4097.000000         1.000000      1.000000             3.000000     95.000000           67.000000        50.000000      3.000000           2.000000"
      ]
     },
     "execution_count": 15,
     "metadata": {},
     "output_type": "execute_result"
    }
   ],
   "source": [
    "#Observando distribuições das variáveis numéricas. \n",
    "df_train.describe()"
   ]
  },
  {
   "cell_type": "markdown",
   "metadata": {},
   "source": [
    "## Missing Values"
   ]
  },
  {
   "cell_type": "markdown",
   "metadata": {},
   "source": [
    "Os missings aqui apresentados não serão tratados, calma!! Por hora, haha. Tentaremos achar uma padrão para inputar os null mais a frente. Na etapa de modelagem criaremos um Pipeline afim de empreenchê-lo com da melhor forma possível. "
   ]
  },
  {
   "cell_type": "code",
   "execution_count": 16,
   "metadata": {
    "ExecuteTime": {
     "end_time": "2020-08-08T11:52:55.241189Z",
     "start_time": "2020-08-08T11:52:55.031082Z"
    }
   },
   "outputs": [
    {
     "data": {
      "text/plain": [
       "Semanas_Utilizando       8.0\n",
       "dano_na_plantacao        0.0\n",
       "Temporada                0.0\n",
       "Semanas_Sem_Uso          0.0\n",
       "Doses_Semana             0.0\n",
       "Categoria_Pesticida      0.0\n",
       "Tipo_de_Solo             0.0\n",
       "Tipo_de_Cultivo          0.0\n",
       "Estimativa_de_Insetos    0.0\n",
       "dtype: float64"
      ]
     },
     "execution_count": 16,
     "metadata": {},
     "output_type": "execute_result"
    }
   ],
   "source": [
    "#Observando a porcentagem os valores faltosos para as features.\n",
    "porcentagem_de_missings = round(df_train.isna().sum()/df_raw.shape[0]*100,1)\n",
    "porcentagem_de_missings.sort_values(ascending=False)"
   ]
  },
  {
   "cell_type": "code",
   "execution_count": 17,
   "metadata": {
    "ExecuteTime": {
     "end_time": "2020-08-08T11:52:56.239060Z",
     "start_time": "2020-08-08T11:52:55.302828Z"
    }
   },
   "outputs": [
    {
     "data": {
      "text/plain": [
       "<AxesSubplot:>"
      ]
     },
     "execution_count": 17,
     "metadata": {},
     "output_type": "execute_result"
    },
    {
     "data": {
      "image/png": "[encoded data removed]",
      "text/plain": [
       "<Figure size 1800x720 with 2 Axes>"
      ]
     },
     "metadata": {
      "needs_background": "light"
     },
     "output_type": "display_data"
    }
   ],
   "source": [
    "#Plotando a matrix para uma melhor visualização.\n",
    "msno.matrix(df_train)"
   ]
  },
  {
   "cell_type": "markdown",
   "metadata": {},
   "source": [
    "O dataset de treino apresenta apenas uma feature com dados faltosos, para preenchê-la utilizaremos a mediana. No entanto, nos dados de teste ou de produção, outras colunas podem conter valores faltosos e precisamos traçar estratégias para tratá-los.\n",
    "Sendo assim, construiremos um pipeline em que variáveis numéricas serão imputadas com a mediana e variáveis categóricas serão imputadas com a moda. Vale salientar que nem sempre esse é o melhor método. Estratégias como imputação iterativa ou baseada em modelos como árvores de decisão e KNN também podem ser utilizadas, porém aumentam consideravelmente a complexidade da produtização desse modelo."
   ]
  },
  {
   "cell_type": "markdown",
   "metadata": {},
   "source": [
    "## Removendo colunas constantes"
   ]
  },
  {
   "cell_type": "code",
   "execution_count": 18,
   "metadata": {
    "ExecuteTime": {
     "end_time": "2020-08-08T11:52:56.293242Z",
     "start_time": "2020-08-08T11:52:56.284343Z"
    }
   },
   "outputs": [],
   "source": [
    "#Analisando se há colunas contantes para dropar. \n",
    "df_train, const_cols = remover_colunas_constantes(df_train)"
   ]
  },
  {
   "cell_type": "markdown",
   "metadata": {},
   "source": [
    "# Exportando dados e dicionário de dados"
   ]
  },
  {
   "cell_type": "code",
   "execution_count": 19,
   "metadata": {
    "ExecuteTime": {
     "end_time": "2020-08-08T11:52:56.695196Z",
     "start_time": "2020-08-08T11:52:56.343420Z"
    }
   },
   "outputs": [],
   "source": [
    "# Deletando colunas (chaves-valor) excluidos do dicionário\n",
    "cols_dropped = lista_to_drop\n",
    "for column in cols_dropped:\n",
    "    del dicionario_tipo[column]"
   ]
  },
  {
   "cell_type": "code",
   "execution_count": 20,
   "metadata": {
    "ExecuteTime": {
     "end_time": "2020-08-08T11:52:56.962731Z",
     "start_time": "2020-08-08T11:52:56.767588Z"
    }
   },
   "outputs": [],
   "source": [
    "# Salvando o dicionario como pickle\n",
    "with open(META_DATA_PATH, 'wb') as f:\n",
    "    cloudpickle.dump(dicionario_tipo, f)"
   ]
  },
  {
   "cell_type": "code",
   "execution_count": 21,
   "metadata": {
    "ExecuteTime": {
     "end_time": "2020-08-08T11:52:57.352693Z",
     "start_time": "2020-08-08T11:52:57.037689Z"
    }
   },
   "outputs": [],
   "source": [
    "#Salvando os dados de treino e de teste.\n",
    "df_train.to_csv(os.path.join(DATA_INTER_PATH,DATA_INTER_TRAIN_NAME), index=False)"
   ]
  },
  {
   "cell_type": "code",
   "execution_count": 22,
   "metadata": {
    "ExecuteTime": {
     "end_time": "2020-08-08T11:52:57.543759Z",
     "start_time": "2020-08-08T11:52:57.393582Z"
    }
   },
   "outputs": [
    {
     "data": {
      "text/html": [
       "<div>\n",
       "<style scoped>\n",
       "    .dataframe tbody tr th:only-of-type {\n",
       "        vertical-align: middle;\n",
       "    }\n",
       "\n",
       "    .dataframe tbody tr th {\n",
       "        vertical-align: top;\n",
       "    }\n",
       "\n",
       "    .dataframe thead th {\n",
       "        text-align: right;\n",
       "    }\n",
       "</style>\n",
       "<table border=\"1\" class=\"dataframe\">\n",
       "  <thead>\n",
       "    <tr style=\"text-align: right;\">\n",
       "      <th></th>\n",
       "      <th>Estimativa_de_Insetos</th>\n",
       "      <th>Tipo_de_Cultivo</th>\n",
       "      <th>Tipo_de_Solo</th>\n",
       "      <th>Categoria_Pesticida</th>\n",
       "      <th>Doses_Semana</th>\n",
       "      <th>Semanas_Utilizando</th>\n",
       "      <th>Semanas_Sem_Uso</th>\n",
       "      <th>Temporada</th>\n",
       "      <th>dano_na_plantacao</th>\n",
       "    </tr>\n",
       "  </thead>\n",
       "  <tbody>\n",
       "    <tr>\n",
       "      <th>27009</th>\n",
       "      <td>984</td>\n",
       "      <td>0</td>\n",
       "      <td>1</td>\n",
       "      <td>2</td>\n",
       "      <td>25</td>\n",
       "      <td>12.0</td>\n",
       "      <td>19</td>\n",
       "      <td>3</td>\n",
       "      <td>0</td>\n",
       "    </tr>\n",
       "    <tr>\n",
       "      <th>79477</th>\n",
       "      <td>851</td>\n",
       "      <td>0</td>\n",
       "      <td>0</td>\n",
       "      <td>2</td>\n",
       "      <td>20</td>\n",
       "      <td>27.0</td>\n",
       "      <td>7</td>\n",
       "      <td>2</td>\n",
       "      <td>0</td>\n",
       "    </tr>\n",
       "    <tr>\n",
       "      <th>76218</th>\n",
       "      <td>283</td>\n",
       "      <td>0</td>\n",
       "      <td>0</td>\n",
       "      <td>3</td>\n",
       "      <td>35</td>\n",
       "      <td>27.0</td>\n",
       "      <td>0</td>\n",
       "      <td>3</td>\n",
       "      <td>0</td>\n",
       "    </tr>\n",
       "    <tr>\n",
       "      <th>33382</th>\n",
       "      <td>2542</td>\n",
       "      <td>0</td>\n",
       "      <td>0</td>\n",
       "      <td>3</td>\n",
       "      <td>15</td>\n",
       "      <td>50.0</td>\n",
       "      <td>0</td>\n",
       "      <td>2</td>\n",
       "      <td>2</td>\n",
       "    </tr>\n",
       "    <tr>\n",
       "      <th>44927</th>\n",
       "      <td>850</td>\n",
       "      <td>0</td>\n",
       "      <td>1</td>\n",
       "      <td>2</td>\n",
       "      <td>30</td>\n",
       "      <td>14.0</td>\n",
       "      <td>24</td>\n",
       "      <td>2</td>\n",
       "      <td>0</td>\n",
       "    </tr>\n",
       "  </tbody>\n",
       "</table>\n",
       "</div>"
      ],
      "text/plain": [
       "       Estimativa_de_Insetos  Tipo_de_Cultivo  Tipo_de_Solo  Categoria_Pesticida  Doses_Semana  Semanas_Utilizando  Semanas_Sem_Uso  Temporada  dano_na_plantacao\n",
       "27009                    984                0             1                    2            25                12.0               19          3                  0\n",
       "79477                    851                0             0                    2            20                27.0                7          2                  0\n",
       "76218                    283                0             0                    3            35                27.0                0          3                  0\n",
       "33382                   2542                0             0                    3            15                50.0                0          2                  2\n",
       "44927                    850                0             1                    2            30                14.0               24          2                  0"
      ]
     },
     "execution_count": 22,
     "metadata": {},
     "output_type": "execute_result"
    }
   ],
   "source": [
    "df_train.head()"
   ]
  }
 ],
 "metadata": {
  "kernelspec": {
   "display_name": "Python 3",
   "language": "python",
   "name": "python3"
  },
  "language_info": {
   "codemirror_mode": {
    "name": "ipython",
    "version": 3
   },
   "file_extension": ".py",
   "mimetype": "text/x-python",
   "name": "python",
   "nbconvert_exporter": "python",
   "pygments_lexer": "ipython3",
   "version": "3.8.3"
  },
  "toc": {
   "base_numbering": 1,
   "nav_menu": {},
   "number_sections": true,
   "sideBar": true,
   "skip_h1_title": false,
   "title_cell": "Table of Contents",
   "title_sidebar": "Contents",
   "toc_cell": false,
   "toc_position": {},
   "toc_section_display": true,
   "toc_window_display": false
  },
  "varInspector": {
   "cols": {
    "lenName": 16,
    "lenType": 16,
    "lenVar": 40
   },
   "kernels_config": {
    "python": {
     "delete_cmd_postfix": "",
     "delete_cmd_prefix": "del ",
     "library": "var_list.py",
     "varRefreshCmd": "print(var_dic_list())"
    },
    "r": {
     "delete_cmd_postfix": ") ",
     "delete_cmd_prefix": "rm(",
     "library": "var_list.r",
     "varRefreshCmd": "cat(var_dic_list()) "
    }
   },
   "types_to_exclude": [
    "module",
    "function",
    "builtin_function_or_method",
    "instance",
    "_Feature"
   ],
   "window_display": false
  }
 },
 "nbformat": 4,
 "nbformat_minor": 4
}
