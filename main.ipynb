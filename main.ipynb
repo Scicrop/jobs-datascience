{
 "cells": [
  {
   "cell_type": "markdown",
   "metadata": {},
   "source": [
    "# Predizendo a safra atual de 2020"
   ]
  },
  {
   "cell_type": "code",
   "execution_count": 1,
   "metadata": {},
   "outputs": [],
   "source": [
    "# Importando as bibliotecas\n",
    "import pandas as pd\n",
    "import numpy as np\n",
    "from sklearn.neighbors import KNeighborsClassifier\n",
    "from sklearn.ensemble import RandomForestClassifier\n",
    "from sklearn.metrics import f1_score"
   ]
  },
  {
   "cell_type": "markdown",
   "metadata": {},
   "source": [
    "Lendo os dados e usando a safra 2018-2019 como dados de treino e a safra 2020 como dados de teste."
   ]
  },
  {
   "cell_type": "code",
   "execution_count": 2,
   "metadata": {},
   "outputs": [],
   "source": [
    "df_train = pd.read_csv('Safra_2018-2019.csv')\n",
    "df_test = pd.read_csv('Safra_2020.csv')"
   ]
  },
  {
   "cell_type": "code",
   "execution_count": 3,
   "metadata": {},
   "outputs": [
    {
     "data": {
      "text/html": [
       "<div>\n",
       "<style scoped>\n",
       "    .dataframe tbody tr th:only-of-type {\n",
       "        vertical-align: middle;\n",
       "    }\n",
       "\n",
       "    .dataframe tbody tr th {\n",
       "        vertical-align: top;\n",
       "    }\n",
       "\n",
       "    .dataframe thead th {\n",
       "        text-align: right;\n",
       "    }\n",
       "</style>\n",
       "<table border=\"1\" class=\"dataframe\">\n",
       "  <thead>\n",
       "    <tr style=\"text-align: right;\">\n",
       "      <th></th>\n",
       "      <th>Unnamed: 0</th>\n",
       "      <th>Identificador_Agricultor</th>\n",
       "      <th>Estimativa_de_Insetos</th>\n",
       "      <th>Tipo_de_Cultivo</th>\n",
       "      <th>Tipo_de_Solo</th>\n",
       "      <th>Categoria_Pesticida</th>\n",
       "      <th>Doses_Semana</th>\n",
       "      <th>Semanas_Utilizando</th>\n",
       "      <th>Semanas_Sem_Uso</th>\n",
       "      <th>Temporada</th>\n",
       "      <th>dano_na_plantacao</th>\n",
       "    </tr>\n",
       "  </thead>\n",
       "  <tbody>\n",
       "    <tr>\n",
       "      <th>0</th>\n",
       "      <td>0</td>\n",
       "      <td>SCROP00001</td>\n",
       "      <td>188</td>\n",
       "      <td>1</td>\n",
       "      <td>0</td>\n",
       "      <td>1</td>\n",
       "      <td>0</td>\n",
       "      <td>0.0</td>\n",
       "      <td>0</td>\n",
       "      <td>1</td>\n",
       "      <td>0</td>\n",
       "    </tr>\n",
       "    <tr>\n",
       "      <th>1</th>\n",
       "      <td>1</td>\n",
       "      <td>SCROP00002</td>\n",
       "      <td>209</td>\n",
       "      <td>1</td>\n",
       "      <td>0</td>\n",
       "      <td>1</td>\n",
       "      <td>0</td>\n",
       "      <td>0.0</td>\n",
       "      <td>0</td>\n",
       "      <td>2</td>\n",
       "      <td>1</td>\n",
       "    </tr>\n",
       "    <tr>\n",
       "      <th>2</th>\n",
       "      <td>2</td>\n",
       "      <td>SCROP00003</td>\n",
       "      <td>257</td>\n",
       "      <td>1</td>\n",
       "      <td>0</td>\n",
       "      <td>1</td>\n",
       "      <td>0</td>\n",
       "      <td>0.0</td>\n",
       "      <td>0</td>\n",
       "      <td>2</td>\n",
       "      <td>1</td>\n",
       "    </tr>\n",
       "    <tr>\n",
       "      <th>3</th>\n",
       "      <td>3</td>\n",
       "      <td>SCROP00004</td>\n",
       "      <td>257</td>\n",
       "      <td>1</td>\n",
       "      <td>1</td>\n",
       "      <td>1</td>\n",
       "      <td>0</td>\n",
       "      <td>0.0</td>\n",
       "      <td>0</td>\n",
       "      <td>2</td>\n",
       "      <td>1</td>\n",
       "    </tr>\n",
       "    <tr>\n",
       "      <th>4</th>\n",
       "      <td>4</td>\n",
       "      <td>SCROP00005</td>\n",
       "      <td>342</td>\n",
       "      <td>1</td>\n",
       "      <td>0</td>\n",
       "      <td>1</td>\n",
       "      <td>0</td>\n",
       "      <td>0.0</td>\n",
       "      <td>0</td>\n",
       "      <td>2</td>\n",
       "      <td>1</td>\n",
       "    </tr>\n",
       "    <tr>\n",
       "      <th>...</th>\n",
       "      <td>...</td>\n",
       "      <td>...</td>\n",
       "      <td>...</td>\n",
       "      <td>...</td>\n",
       "      <td>...</td>\n",
       "      <td>...</td>\n",
       "      <td>...</td>\n",
       "      <td>...</td>\n",
       "      <td>...</td>\n",
       "      <td>...</td>\n",
       "      <td>...</td>\n",
       "    </tr>\n",
       "    <tr>\n",
       "      <th>79995</th>\n",
       "      <td>79995</td>\n",
       "      <td>SCROP79996</td>\n",
       "      <td>209</td>\n",
       "      <td>0</td>\n",
       "      <td>1</td>\n",
       "      <td>2</td>\n",
       "      <td>20</td>\n",
       "      <td>12.0</td>\n",
       "      <td>6</td>\n",
       "      <td>2</td>\n",
       "      <td>0</td>\n",
       "    </tr>\n",
       "    <tr>\n",
       "      <th>79996</th>\n",
       "      <td>79996</td>\n",
       "      <td>SCROP79997</td>\n",
       "      <td>232</td>\n",
       "      <td>0</td>\n",
       "      <td>1</td>\n",
       "      <td>2</td>\n",
       "      <td>20</td>\n",
       "      <td>12.0</td>\n",
       "      <td>9</td>\n",
       "      <td>1</td>\n",
       "      <td>0</td>\n",
       "    </tr>\n",
       "    <tr>\n",
       "      <th>79997</th>\n",
       "      <td>79997</td>\n",
       "      <td>SCROP79998</td>\n",
       "      <td>256</td>\n",
       "      <td>0</td>\n",
       "      <td>1</td>\n",
       "      <td>2</td>\n",
       "      <td>10</td>\n",
       "      <td>14.0</td>\n",
       "      <td>10</td>\n",
       "      <td>1</td>\n",
       "      <td>0</td>\n",
       "    </tr>\n",
       "    <tr>\n",
       "      <th>79998</th>\n",
       "      <td>79998</td>\n",
       "      <td>SCROP79999</td>\n",
       "      <td>256</td>\n",
       "      <td>0</td>\n",
       "      <td>1</td>\n",
       "      <td>2</td>\n",
       "      <td>10</td>\n",
       "      <td>16.0</td>\n",
       "      <td>8</td>\n",
       "      <td>2</td>\n",
       "      <td>0</td>\n",
       "    </tr>\n",
       "    <tr>\n",
       "      <th>79999</th>\n",
       "      <td>79999</td>\n",
       "      <td>SCROP80000</td>\n",
       "      <td>256</td>\n",
       "      <td>0</td>\n",
       "      <td>1</td>\n",
       "      <td>2</td>\n",
       "      <td>20</td>\n",
       "      <td>11.0</td>\n",
       "      <td>10</td>\n",
       "      <td>2</td>\n",
       "      <td>0</td>\n",
       "    </tr>\n",
       "  </tbody>\n",
       "</table>\n",
       "<p>80000 rows × 11 columns</p>\n",
       "</div>"
      ],
      "text/plain": [
       "       Unnamed: 0 Identificador_Agricultor  Estimativa_de_Insetos  \\\n",
       "0               0               SCROP00001                    188   \n",
       "1               1               SCROP00002                    209   \n",
       "2               2               SCROP00003                    257   \n",
       "3               3               SCROP00004                    257   \n",
       "4               4               SCROP00005                    342   \n",
       "...           ...                      ...                    ...   \n",
       "79995       79995               SCROP79996                    209   \n",
       "79996       79996               SCROP79997                    232   \n",
       "79997       79997               SCROP79998                    256   \n",
       "79998       79998               SCROP79999                    256   \n",
       "79999       79999               SCROP80000                    256   \n",
       "\n",
       "       Tipo_de_Cultivo  Tipo_de_Solo  Categoria_Pesticida  Doses_Semana  \\\n",
       "0                    1             0                    1             0   \n",
       "1                    1             0                    1             0   \n",
       "2                    1             0                    1             0   \n",
       "3                    1             1                    1             0   \n",
       "4                    1             0                    1             0   \n",
       "...                ...           ...                  ...           ...   \n",
       "79995                0             1                    2            20   \n",
       "79996                0             1                    2            20   \n",
       "79997                0             1                    2            10   \n",
       "79998                0             1                    2            10   \n",
       "79999                0             1                    2            20   \n",
       "\n",
       "       Semanas_Utilizando  Semanas_Sem_Uso  Temporada  dano_na_plantacao  \n",
       "0                     0.0                0          1                  0  \n",
       "1                     0.0                0          2                  1  \n",
       "2                     0.0                0          2                  1  \n",
       "3                     0.0                0          2                  1  \n",
       "4                     0.0                0          2                  1  \n",
       "...                   ...              ...        ...                ...  \n",
       "79995                12.0                6          2                  0  \n",
       "79996                12.0                9          1                  0  \n",
       "79997                14.0               10          1                  0  \n",
       "79998                16.0                8          2                  0  \n",
       "79999                11.0               10          2                  0  \n",
       "\n",
       "[80000 rows x 11 columns]"
      ]
     },
     "execution_count": 3,
     "metadata": {},
     "output_type": "execute_result"
    }
   ],
   "source": [
    "df_train"
   ]
  },
  {
   "cell_type": "code",
   "execution_count": 4,
   "metadata": {},
   "outputs": [
    {
     "data": {
      "text/html": [
       "<div>\n",
       "<style scoped>\n",
       "    .dataframe tbody tr th:only-of-type {\n",
       "        vertical-align: middle;\n",
       "    }\n",
       "\n",
       "    .dataframe tbody tr th {\n",
       "        vertical-align: top;\n",
       "    }\n",
       "\n",
       "    .dataframe thead th {\n",
       "        text-align: right;\n",
       "    }\n",
       "</style>\n",
       "<table border=\"1\" class=\"dataframe\">\n",
       "  <thead>\n",
       "    <tr style=\"text-align: right;\">\n",
       "      <th></th>\n",
       "      <th>Unnamed: 0</th>\n",
       "      <th>Identificador_Agricultor</th>\n",
       "      <th>Estimativa_de_Insetos</th>\n",
       "      <th>Tipo_de_Cultivo</th>\n",
       "      <th>Tipo_de_Solo</th>\n",
       "      <th>Categoria_Pesticida</th>\n",
       "      <th>Doses_Semana</th>\n",
       "      <th>Semanas_Utilizando</th>\n",
       "      <th>Semanas_Sem_Uso</th>\n",
       "      <th>Temporada</th>\n",
       "    </tr>\n",
       "  </thead>\n",
       "  <tbody>\n",
       "    <tr>\n",
       "      <th>0</th>\n",
       "      <td>80000</td>\n",
       "      <td>SCROP80001</td>\n",
       "      <td>256</td>\n",
       "      <td>0</td>\n",
       "      <td>1</td>\n",
       "      <td>2</td>\n",
       "      <td>35</td>\n",
       "      <td>11.0</td>\n",
       "      <td>9</td>\n",
       "      <td>1</td>\n",
       "    </tr>\n",
       "    <tr>\n",
       "      <th>1</th>\n",
       "      <td>80001</td>\n",
       "      <td>SCROP80002</td>\n",
       "      <td>283</td>\n",
       "      <td>0</td>\n",
       "      <td>1</td>\n",
       "      <td>2</td>\n",
       "      <td>5</td>\n",
       "      <td>5.0</td>\n",
       "      <td>6</td>\n",
       "      <td>1</td>\n",
       "    </tr>\n",
       "    <tr>\n",
       "      <th>2</th>\n",
       "      <td>80002</td>\n",
       "      <td>SCROP80003</td>\n",
       "      <td>283</td>\n",
       "      <td>0</td>\n",
       "      <td>1</td>\n",
       "      <td>2</td>\n",
       "      <td>15</td>\n",
       "      <td>15.0</td>\n",
       "      <td>5</td>\n",
       "      <td>2</td>\n",
       "    </tr>\n",
       "    <tr>\n",
       "      <th>3</th>\n",
       "      <td>80003</td>\n",
       "      <td>SCROP80004</td>\n",
       "      <td>283</td>\n",
       "      <td>0</td>\n",
       "      <td>1</td>\n",
       "      <td>2</td>\n",
       "      <td>15</td>\n",
       "      <td>NaN</td>\n",
       "      <td>7</td>\n",
       "      <td>2</td>\n",
       "    </tr>\n",
       "    <tr>\n",
       "      <th>4</th>\n",
       "      <td>80004</td>\n",
       "      <td>SCROP80005</td>\n",
       "      <td>283</td>\n",
       "      <td>0</td>\n",
       "      <td>1</td>\n",
       "      <td>2</td>\n",
       "      <td>15</td>\n",
       "      <td>19.0</td>\n",
       "      <td>2</td>\n",
       "      <td>1</td>\n",
       "    </tr>\n",
       "    <tr>\n",
       "      <th>...</th>\n",
       "      <td>...</td>\n",
       "      <td>...</td>\n",
       "      <td>...</td>\n",
       "      <td>...</td>\n",
       "      <td>...</td>\n",
       "      <td>...</td>\n",
       "      <td>...</td>\n",
       "      <td>...</td>\n",
       "      <td>...</td>\n",
       "      <td>...</td>\n",
       "    </tr>\n",
       "    <tr>\n",
       "      <th>8853</th>\n",
       "      <td>88853</td>\n",
       "      <td>SCROP88854</td>\n",
       "      <td>3337</td>\n",
       "      <td>1</td>\n",
       "      <td>0</td>\n",
       "      <td>2</td>\n",
       "      <td>10</td>\n",
       "      <td>12.0</td>\n",
       "      <td>44</td>\n",
       "      <td>3</td>\n",
       "    </tr>\n",
       "    <tr>\n",
       "      <th>8854</th>\n",
       "      <td>88854</td>\n",
       "      <td>SCROP88855</td>\n",
       "      <td>3516</td>\n",
       "      <td>1</td>\n",
       "      <td>0</td>\n",
       "      <td>2</td>\n",
       "      <td>10</td>\n",
       "      <td>20.0</td>\n",
       "      <td>38</td>\n",
       "      <td>1</td>\n",
       "    </tr>\n",
       "    <tr>\n",
       "      <th>8855</th>\n",
       "      <td>88855</td>\n",
       "      <td>SCROP88856</td>\n",
       "      <td>3516</td>\n",
       "      <td>1</td>\n",
       "      <td>0</td>\n",
       "      <td>2</td>\n",
       "      <td>15</td>\n",
       "      <td>40.0</td>\n",
       "      <td>8</td>\n",
       "      <td>2</td>\n",
       "    </tr>\n",
       "    <tr>\n",
       "      <th>8856</th>\n",
       "      <td>88856</td>\n",
       "      <td>SCROP88857</td>\n",
       "      <td>3702</td>\n",
       "      <td>1</td>\n",
       "      <td>0</td>\n",
       "      <td>2</td>\n",
       "      <td>10</td>\n",
       "      <td>25.0</td>\n",
       "      <td>18</td>\n",
       "      <td>3</td>\n",
       "    </tr>\n",
       "    <tr>\n",
       "      <th>8857</th>\n",
       "      <td>88857</td>\n",
       "      <td>SCROP88858</td>\n",
       "      <td>3895</td>\n",
       "      <td>1</td>\n",
       "      <td>0</td>\n",
       "      <td>2</td>\n",
       "      <td>20</td>\n",
       "      <td>37.0</td>\n",
       "      <td>7</td>\n",
       "      <td>3</td>\n",
       "    </tr>\n",
       "  </tbody>\n",
       "</table>\n",
       "<p>8858 rows × 10 columns</p>\n",
       "</div>"
      ],
      "text/plain": [
       "      Unnamed: 0 Identificador_Agricultor  Estimativa_de_Insetos  \\\n",
       "0          80000               SCROP80001                    256   \n",
       "1          80001               SCROP80002                    283   \n",
       "2          80002               SCROP80003                    283   \n",
       "3          80003               SCROP80004                    283   \n",
       "4          80004               SCROP80005                    283   \n",
       "...          ...                      ...                    ...   \n",
       "8853       88853               SCROP88854                   3337   \n",
       "8854       88854               SCROP88855                   3516   \n",
       "8855       88855               SCROP88856                   3516   \n",
       "8856       88856               SCROP88857                   3702   \n",
       "8857       88857               SCROP88858                   3895   \n",
       "\n",
       "      Tipo_de_Cultivo  Tipo_de_Solo  Categoria_Pesticida  Doses_Semana  \\\n",
       "0                   0             1                    2            35   \n",
       "1                   0             1                    2             5   \n",
       "2                   0             1                    2            15   \n",
       "3                   0             1                    2            15   \n",
       "4                   0             1                    2            15   \n",
       "...               ...           ...                  ...           ...   \n",
       "8853                1             0                    2            10   \n",
       "8854                1             0                    2            10   \n",
       "8855                1             0                    2            15   \n",
       "8856                1             0                    2            10   \n",
       "8857                1             0                    2            20   \n",
       "\n",
       "      Semanas_Utilizando  Semanas_Sem_Uso  Temporada  \n",
       "0                   11.0                9          1  \n",
       "1                    5.0                6          1  \n",
       "2                   15.0                5          2  \n",
       "3                    NaN                7          2  \n",
       "4                   19.0                2          1  \n",
       "...                  ...              ...        ...  \n",
       "8853                12.0               44          3  \n",
       "8854                20.0               38          1  \n",
       "8855                40.0                8          2  \n",
       "8856                25.0               18          3  \n",
       "8857                37.0                7          3  \n",
       "\n",
       "[8858 rows x 10 columns]"
      ]
     },
     "execution_count": 4,
     "metadata": {},
     "output_type": "execute_result"
    }
   ],
   "source": [
    "df_test"
   ]
  },
  {
   "cell_type": "markdown",
   "metadata": {},
   "source": [
    "Obtendo informação dos dados de treino e teste."
   ]
  },
  {
   "cell_type": "code",
   "execution_count": 5,
   "metadata": {
    "scrolled": true
   },
   "outputs": [
    {
     "name": "stdout",
     "output_type": "stream",
     "text": [
      "<class 'pandas.core.frame.DataFrame'>\n",
      "RangeIndex: 80000 entries, 0 to 79999\n",
      "Data columns (total 11 columns):\n",
      " #   Column                    Non-Null Count  Dtype  \n",
      "---  ------                    --------------  -----  \n",
      " 0   Unnamed: 0                80000 non-null  int64  \n",
      " 1   Identificador_Agricultor  80000 non-null  object \n",
      " 2   Estimativa_de_Insetos     80000 non-null  int64  \n",
      " 3   Tipo_de_Cultivo           80000 non-null  int64  \n",
      " 4   Tipo_de_Solo              80000 non-null  int64  \n",
      " 5   Categoria_Pesticida       80000 non-null  int64  \n",
      " 6   Doses_Semana              80000 non-null  int64  \n",
      " 7   Semanas_Utilizando        71945 non-null  float64\n",
      " 8   Semanas_Sem_Uso           80000 non-null  int64  \n",
      " 9   Temporada                 80000 non-null  int64  \n",
      " 10  dano_na_plantacao         80000 non-null  int64  \n",
      "dtypes: float64(1), int64(9), object(1)\n",
      "memory usage: 6.7+ MB\n",
      "<class 'pandas.core.frame.DataFrame'>\n",
      "RangeIndex: 8858 entries, 0 to 8857\n",
      "Data columns (total 10 columns):\n",
      " #   Column                    Non-Null Count  Dtype  \n",
      "---  ------                    --------------  -----  \n",
      " 0   Unnamed: 0                8858 non-null   int64  \n",
      " 1   Identificador_Agricultor  8858 non-null   object \n",
      " 2   Estimativa_de_Insetos     8858 non-null   int64  \n",
      " 3   Tipo_de_Cultivo           8858 non-null   int64  \n",
      " 4   Tipo_de_Solo              8858 non-null   int64  \n",
      " 5   Categoria_Pesticida       8858 non-null   int64  \n",
      " 6   Doses_Semana              8858 non-null   int64  \n",
      " 7   Semanas_Utilizando        7913 non-null   float64\n",
      " 8   Semanas_Sem_Uso           8858 non-null   int64  \n",
      " 9   Temporada                 8858 non-null   int64  \n",
      "dtypes: float64(1), int64(8), object(1)\n",
      "memory usage: 692.2+ KB\n"
     ]
    }
   ],
   "source": [
    "df_train.info()\n",
    "df_test.info()"
   ]
  },
  {
   "cell_type": "markdown",
   "metadata": {},
   "source": [
    "# Pré - Processamento dos dados"
   ]
  },
  {
   "cell_type": "markdown",
   "metadata": {},
   "source": [
    "Selecionando apenas as features numéricas."
   ]
  },
  {
   "cell_type": "code",
   "execution_count": 6,
   "metadata": {},
   "outputs": [],
   "source": [
    "df_train_numeric = df_train.select_dtypes(include=['float64','int64'])\n",
    "df_test_numeric = df_test.select_dtypes(include=['float64','int64'])"
   ]
  },
  {
   "cell_type": "markdown",
   "metadata": {},
   "source": [
    "Contando a quantidade de valores nulos nos dados."
   ]
  },
  {
   "cell_type": "code",
   "execution_count": 7,
   "metadata": {},
   "outputs": [
    {
     "name": "stdout",
     "output_type": "stream",
     "text": [
      "Valores nulos nos dados de treino: \n",
      "\n",
      "Unnamed: 0                  0\n",
      "Estimativa_de_Insetos       0\n",
      "Tipo_de_Cultivo             0\n",
      "Tipo_de_Solo                0\n",
      "Categoria_Pesticida         0\n",
      "Doses_Semana                0\n",
      "Semanas_Utilizando       8055\n",
      "Semanas_Sem_Uso             0\n",
      "Temporada                   0\n",
      "dano_na_plantacao           0\n",
      "dtype: int64\n",
      "\n",
      "\n",
      "Valores nulos nos dados de teste: \n",
      "\n",
      "Unnamed: 0                 0\n",
      "Estimativa_de_Insetos      0\n",
      "Tipo_de_Cultivo            0\n",
      "Tipo_de_Solo               0\n",
      "Categoria_Pesticida        0\n",
      "Doses_Semana               0\n",
      "Semanas_Utilizando       945\n",
      "Semanas_Sem_Uso            0\n",
      "Temporada                  0\n",
      "dtype: int64\n"
     ]
    }
   ],
   "source": [
    "print('Valores nulos nos dados de treino: \\n')\n",
    "print(df_train_numeric.isnull().sum())\n",
    "print('\\n')\n",
    "print('Valores nulos nos dados de teste: \\n')\n",
    "print(df_test_numeric.isnull().sum())"
   ]
  },
  {
   "cell_type": "markdown",
   "metadata": {},
   "source": [
    "Trocando os valores nulos pelo valor médio da coluna e checando se ainda há valores nulos."
   ]
  },
  {
   "cell_type": "code",
   "execution_count": 8,
   "metadata": {},
   "outputs": [
    {
     "name": "stdout",
     "output_type": "stream",
     "text": [
      "Valores nulos nos dados de treino: \n",
      "\n",
      "Unnamed: 0               0\n",
      "Estimativa_de_Insetos    0\n",
      "Tipo_de_Cultivo          0\n",
      "Tipo_de_Solo             0\n",
      "Categoria_Pesticida      0\n",
      "Doses_Semana             0\n",
      "Semanas_Utilizando       0\n",
      "Semanas_Sem_Uso          0\n",
      "Temporada                0\n",
      "dano_na_plantacao        0\n",
      "dtype: int64\n"
     ]
    },
    {
     "name": "stderr",
     "output_type": "stream",
     "text": [
      "/home/iagoprior/anaconda3/lib/python3.7/site-packages/ipykernel_launcher.py:1: SettingWithCopyWarning: \n",
      "A value is trying to be set on a copy of a slice from a DataFrame.\n",
      "Try using .loc[row_indexer,col_indexer] = value instead\n",
      "\n",
      "See the caveats in the documentation: https://pandas.pydata.org/pandas-docs/stable/user_guide/indexing.html#returning-a-view-versus-a-copy\n",
      "  \"\"\"Entry point for launching an IPython kernel.\n"
     ]
    }
   ],
   "source": [
    "df_train_numeric[\"Semanas_Utilizando\"] = df_train_numeric[\"Semanas_Utilizando\"].fillna(df_train_numeric[\"Semanas_Utilizando\"].mean())\n",
    "print('Valores nulos nos dados de treino: \\n')\n",
    "print(df_train_numeric.isnull().sum())"
   ]
  },
  {
   "cell_type": "markdown",
   "metadata": {},
   "source": [
    "Fazendo o mesmo para os dados de teste."
   ]
  },
  {
   "cell_type": "code",
   "execution_count": 9,
   "metadata": {},
   "outputs": [
    {
     "name": "stdout",
     "output_type": "stream",
     "text": [
      "Valores nulos nos dados de teste: \n",
      "\n",
      "Unnamed: 0               0\n",
      "Estimativa_de_Insetos    0\n",
      "Tipo_de_Cultivo          0\n",
      "Tipo_de_Solo             0\n",
      "Categoria_Pesticida      0\n",
      "Doses_Semana             0\n",
      "Semanas_Utilizando       0\n",
      "Semanas_Sem_Uso          0\n",
      "Temporada                0\n",
      "dtype: int64\n"
     ]
    },
    {
     "name": "stderr",
     "output_type": "stream",
     "text": [
      "/home/iagoprior/anaconda3/lib/python3.7/site-packages/ipykernel_launcher.py:1: SettingWithCopyWarning: \n",
      "A value is trying to be set on a copy of a slice from a DataFrame.\n",
      "Try using .loc[row_indexer,col_indexer] = value instead\n",
      "\n",
      "See the caveats in the documentation: https://pandas.pydata.org/pandas-docs/stable/user_guide/indexing.html#returning-a-view-versus-a-copy\n",
      "  \"\"\"Entry point for launching an IPython kernel.\n"
     ]
    }
   ],
   "source": [
    "df_test_numeric[\"Semanas_Utilizando\"] = df_test_numeric[\"Semanas_Utilizando\"].fillna(df_test_numeric[\"Semanas_Utilizando\"].mean())\n",
    "print('Valores nulos nos dados de teste: \\n')\n",
    "print(df_test_numeric.isnull().sum())"
   ]
  },
  {
   "cell_type": "markdown",
   "metadata": {},
   "source": [
    "Obsevrvando a correlação dos dados."
   ]
  },
  {
   "cell_type": "code",
   "execution_count": 10,
   "metadata": {},
   "outputs": [
    {
     "data": {
      "text/html": [
       "<div>\n",
       "<style scoped>\n",
       "    .dataframe tbody tr th:only-of-type {\n",
       "        vertical-align: middle;\n",
       "    }\n",
       "\n",
       "    .dataframe tbody tr th {\n",
       "        vertical-align: top;\n",
       "    }\n",
       "\n",
       "    .dataframe thead th {\n",
       "        text-align: right;\n",
       "    }\n",
       "</style>\n",
       "<table border=\"1\" class=\"dataframe\">\n",
       "  <thead>\n",
       "    <tr style=\"text-align: right;\">\n",
       "      <th></th>\n",
       "      <th>Unnamed: 0</th>\n",
       "      <th>Estimativa_de_Insetos</th>\n",
       "      <th>Tipo_de_Cultivo</th>\n",
       "      <th>Tipo_de_Solo</th>\n",
       "      <th>Categoria_Pesticida</th>\n",
       "      <th>Doses_Semana</th>\n",
       "      <th>Semanas_Utilizando</th>\n",
       "      <th>Semanas_Sem_Uso</th>\n",
       "      <th>Temporada</th>\n",
       "      <th>dano_na_plantacao</th>\n",
       "    </tr>\n",
       "  </thead>\n",
       "  <tbody>\n",
       "    <tr>\n",
       "      <th>Unnamed: 0</th>\n",
       "      <td>1.000000</td>\n",
       "      <td>0.003842</td>\n",
       "      <td>0.002163</td>\n",
       "      <td>-0.003268</td>\n",
       "      <td>-0.006640</td>\n",
       "      <td>-0.004104</td>\n",
       "      <td>-0.004867</td>\n",
       "      <td>0.005664</td>\n",
       "      <td>-0.004710</td>\n",
       "      <td>-0.001463</td>\n",
       "    </tr>\n",
       "    <tr>\n",
       "      <th>Estimativa_de_Insetos</th>\n",
       "      <td>0.003842</td>\n",
       "      <td>1.000000</td>\n",
       "      <td>-0.090063</td>\n",
       "      <td>-0.056147</td>\n",
       "      <td>-0.080734</td>\n",
       "      <td>-0.101807</td>\n",
       "      <td>0.414074</td>\n",
       "      <td>0.298849</td>\n",
       "      <td>0.002964</td>\n",
       "      <td>0.203290</td>\n",
       "    </tr>\n",
       "    <tr>\n",
       "      <th>Tipo_de_Cultivo</th>\n",
       "      <td>0.002163</td>\n",
       "      <td>-0.090063</td>\n",
       "      <td>1.000000</td>\n",
       "      <td>-0.278775</td>\n",
       "      <td>0.238823</td>\n",
       "      <td>-0.190884</td>\n",
       "      <td>-0.042678</td>\n",
       "      <td>-0.235928</td>\n",
       "      <td>0.002792</td>\n",
       "      <td>-0.017228</td>\n",
       "    </tr>\n",
       "    <tr>\n",
       "      <th>Tipo_de_Solo</th>\n",
       "      <td>-0.003268</td>\n",
       "      <td>-0.056147</td>\n",
       "      <td>-0.278775</td>\n",
       "      <td>1.000000</td>\n",
       "      <td>0.035994</td>\n",
       "      <td>0.076580</td>\n",
       "      <td>-0.064923</td>\n",
       "      <td>0.006122</td>\n",
       "      <td>0.002066</td>\n",
       "      <td>-0.021176</td>\n",
       "    </tr>\n",
       "    <tr>\n",
       "      <th>Categoria_Pesticida</th>\n",
       "      <td>-0.006640</td>\n",
       "      <td>-0.080734</td>\n",
       "      <td>0.238823</td>\n",
       "      <td>0.035994</td>\n",
       "      <td>1.000000</td>\n",
       "      <td>-0.002913</td>\n",
       "      <td>0.326133</td>\n",
       "      <td>-0.556253</td>\n",
       "      <td>0.001175</td>\n",
       "      <td>0.172943</td>\n",
       "    </tr>\n",
       "    <tr>\n",
       "      <th>Doses_Semana</th>\n",
       "      <td>-0.004104</td>\n",
       "      <td>-0.101807</td>\n",
       "      <td>-0.190884</td>\n",
       "      <td>0.076580</td>\n",
       "      <td>-0.002913</td>\n",
       "      <td>1.000000</td>\n",
       "      <td>0.117466</td>\n",
       "      <td>-0.034144</td>\n",
       "      <td>-0.002251</td>\n",
       "      <td>-0.030476</td>\n",
       "    </tr>\n",
       "    <tr>\n",
       "      <th>Semanas_Utilizando</th>\n",
       "      <td>-0.004867</td>\n",
       "      <td>0.414074</td>\n",
       "      <td>-0.042678</td>\n",
       "      <td>-0.064923</td>\n",
       "      <td>0.326133</td>\n",
       "      <td>0.117466</td>\n",
       "      <td>1.000000</td>\n",
       "      <td>-0.424653</td>\n",
       "      <td>0.001870</td>\n",
       "      <td>0.221095</td>\n",
       "    </tr>\n",
       "    <tr>\n",
       "      <th>Semanas_Sem_Uso</th>\n",
       "      <td>0.005664</td>\n",
       "      <td>0.298849</td>\n",
       "      <td>-0.235928</td>\n",
       "      <td>0.006122</td>\n",
       "      <td>-0.556253</td>\n",
       "      <td>-0.034144</td>\n",
       "      <td>-0.424653</td>\n",
       "      <td>1.000000</td>\n",
       "      <td>0.003220</td>\n",
       "      <td>-0.133115</td>\n",
       "    </tr>\n",
       "    <tr>\n",
       "      <th>Temporada</th>\n",
       "      <td>-0.004710</td>\n",
       "      <td>0.002964</td>\n",
       "      <td>0.002792</td>\n",
       "      <td>0.002066</td>\n",
       "      <td>0.001175</td>\n",
       "      <td>-0.002251</td>\n",
       "      <td>0.001870</td>\n",
       "      <td>0.003220</td>\n",
       "      <td>1.000000</td>\n",
       "      <td>-0.002233</td>\n",
       "    </tr>\n",
       "    <tr>\n",
       "      <th>dano_na_plantacao</th>\n",
       "      <td>-0.001463</td>\n",
       "      <td>0.203290</td>\n",
       "      <td>-0.017228</td>\n",
       "      <td>-0.021176</td>\n",
       "      <td>0.172943</td>\n",
       "      <td>-0.030476</td>\n",
       "      <td>0.221095</td>\n",
       "      <td>-0.133115</td>\n",
       "      <td>-0.002233</td>\n",
       "      <td>1.000000</td>\n",
       "    </tr>\n",
       "  </tbody>\n",
       "</table>\n",
       "</div>"
      ],
      "text/plain": [
       "                       Unnamed: 0  Estimativa_de_Insetos  Tipo_de_Cultivo  \\\n",
       "Unnamed: 0               1.000000               0.003842         0.002163   \n",
       "Estimativa_de_Insetos    0.003842               1.000000        -0.090063   \n",
       "Tipo_de_Cultivo          0.002163              -0.090063         1.000000   \n",
       "Tipo_de_Solo            -0.003268              -0.056147        -0.278775   \n",
       "Categoria_Pesticida     -0.006640              -0.080734         0.238823   \n",
       "Doses_Semana            -0.004104              -0.101807        -0.190884   \n",
       "Semanas_Utilizando      -0.004867               0.414074        -0.042678   \n",
       "Semanas_Sem_Uso          0.005664               0.298849        -0.235928   \n",
       "Temporada               -0.004710               0.002964         0.002792   \n",
       "dano_na_plantacao       -0.001463               0.203290        -0.017228   \n",
       "\n",
       "                       Tipo_de_Solo  Categoria_Pesticida  Doses_Semana  \\\n",
       "Unnamed: 0                -0.003268            -0.006640     -0.004104   \n",
       "Estimativa_de_Insetos     -0.056147            -0.080734     -0.101807   \n",
       "Tipo_de_Cultivo           -0.278775             0.238823     -0.190884   \n",
       "Tipo_de_Solo               1.000000             0.035994      0.076580   \n",
       "Categoria_Pesticida        0.035994             1.000000     -0.002913   \n",
       "Doses_Semana               0.076580            -0.002913      1.000000   \n",
       "Semanas_Utilizando        -0.064923             0.326133      0.117466   \n",
       "Semanas_Sem_Uso            0.006122            -0.556253     -0.034144   \n",
       "Temporada                  0.002066             0.001175     -0.002251   \n",
       "dano_na_plantacao         -0.021176             0.172943     -0.030476   \n",
       "\n",
       "                       Semanas_Utilizando  Semanas_Sem_Uso  Temporada  \\\n",
       "Unnamed: 0                      -0.004867         0.005664  -0.004710   \n",
       "Estimativa_de_Insetos            0.414074         0.298849   0.002964   \n",
       "Tipo_de_Cultivo                 -0.042678        -0.235928   0.002792   \n",
       "Tipo_de_Solo                    -0.064923         0.006122   0.002066   \n",
       "Categoria_Pesticida              0.326133        -0.556253   0.001175   \n",
       "Doses_Semana                     0.117466        -0.034144  -0.002251   \n",
       "Semanas_Utilizando               1.000000        -0.424653   0.001870   \n",
       "Semanas_Sem_Uso                 -0.424653         1.000000   0.003220   \n",
       "Temporada                        0.001870         0.003220   1.000000   \n",
       "dano_na_plantacao                0.221095        -0.133115  -0.002233   \n",
       "\n",
       "                       dano_na_plantacao  \n",
       "Unnamed: 0                     -0.001463  \n",
       "Estimativa_de_Insetos           0.203290  \n",
       "Tipo_de_Cultivo                -0.017228  \n",
       "Tipo_de_Solo                   -0.021176  \n",
       "Categoria_Pesticida             0.172943  \n",
       "Doses_Semana                   -0.030476  \n",
       "Semanas_Utilizando              0.221095  \n",
       "Semanas_Sem_Uso                -0.133115  \n",
       "Temporada                      -0.002233  \n",
       "dano_na_plantacao               1.000000  "
      ]
     },
     "execution_count": 10,
     "metadata": {},
     "output_type": "execute_result"
    }
   ],
   "source": [
    "dados_corr = df_train_numeric.corr()\n",
    "dados_corr"
   ]
  },
  {
   "cell_type": "markdown",
   "metadata": {},
   "source": [
    "Selecionando as features com maiores correlações em relação ao dano na plantação."
   ]
  },
  {
   "cell_type": "code",
   "execution_count": 11,
   "metadata": {},
   "outputs": [
    {
     "data": {
      "text/plain": [
       "Unnamed: 0               False\n",
       "Estimativa_de_Insetos     True\n",
       "Tipo_de_Cultivo          False\n",
       "Tipo_de_Solo             False\n",
       "Categoria_Pesticida       True\n",
       "Doses_Semana             False\n",
       "Semanas_Utilizando        True\n",
       "Semanas_Sem_Uso          False\n",
       "Temporada                False\n",
       "dano_na_plantacao         True\n",
       "Name: dano_na_plantacao, dtype: bool"
      ]
     },
     "execution_count": 11,
     "metadata": {},
     "output_type": "execute_result"
    }
   ],
   "source": [
    "dados_corr['dano_na_plantacao'] > 0"
   ]
  },
  {
   "cell_type": "markdown",
   "metadata": {},
   "source": [
    "Selecionando as features que retornaram true farão parte dos dados de treino e teste."
   ]
  },
  {
   "cell_type": "code",
   "execution_count": 12,
   "metadata": {},
   "outputs": [],
   "source": [
    "x_train = df_train_numeric[['Estimativa_de_Insetos', 'Categoria_Pesticida', 'Semanas_Utilizando']]\n",
    "y_train = df_train_numeric[['dano_na_plantacao']]\n",
    "x_test = df_test_numeric[['Estimativa_de_Insetos', 'Categoria_Pesticida', 'Semanas_Utilizando']]"
   ]
  },
  {
   "cell_type": "markdown",
   "metadata": {},
   "source": [
    "Obtendo informação dos tipos dos dados que serão usados."
   ]
  },
  {
   "cell_type": "code",
   "execution_count": 13,
   "metadata": {},
   "outputs": [
    {
     "name": "stdout",
     "output_type": "stream",
     "text": [
      "Informações de x_train:\n",
      "<class 'pandas.core.frame.DataFrame'>\n",
      "RangeIndex: 80000 entries, 0 to 79999\n",
      "Data columns (total 3 columns):\n",
      " #   Column                 Non-Null Count  Dtype  \n",
      "---  ------                 --------------  -----  \n",
      " 0   Estimativa_de_Insetos  80000 non-null  int64  \n",
      " 1   Categoria_Pesticida    80000 non-null  int64  \n",
      " 2   Semanas_Utilizando     80000 non-null  float64\n",
      "dtypes: float64(1), int64(2)\n",
      "memory usage: 1.8 MB\n",
      "None \n",
      "\n",
      "Informações de y_train:\n",
      "<class 'pandas.core.frame.DataFrame'>\n",
      "RangeIndex: 80000 entries, 0 to 79999\n",
      "Data columns (total 1 columns):\n",
      " #   Column             Non-Null Count  Dtype\n",
      "---  ------             --------------  -----\n",
      " 0   dano_na_plantacao  80000 non-null  int64\n",
      "dtypes: int64(1)\n",
      "memory usage: 625.1 KB\n",
      "None \n",
      "\n",
      "Informações de x_test:\n",
      "<class 'pandas.core.frame.DataFrame'>\n",
      "RangeIndex: 8858 entries, 0 to 8857\n",
      "Data columns (total 3 columns):\n",
      " #   Column                 Non-Null Count  Dtype  \n",
      "---  ------                 --------------  -----  \n",
      " 0   Estimativa_de_Insetos  8858 non-null   int64  \n",
      " 1   Categoria_Pesticida    8858 non-null   int64  \n",
      " 2   Semanas_Utilizando     8858 non-null   float64\n",
      "dtypes: float64(1), int64(2)\n",
      "memory usage: 207.7 KB\n",
      "None\n"
     ]
    }
   ],
   "source": [
    "print('Informações de x_train:')\n",
    "print(x_train.info(), '\\n')\n",
    "print('Informações de y_train:')\n",
    "print(y_train.info(), '\\n')\n",
    "print('Informações de x_test:')\n",
    "print(x_test.info())"
   ]
  },
  {
   "cell_type": "markdown",
   "metadata": {},
   "source": [
    "# Treinando os dados de treino :"
   ]
  },
  {
   "cell_type": "markdown",
   "metadata": {},
   "source": [
    "Dividindo os dados de treino em treino e teste para testar as soluções."
   ]
  },
  {
   "cell_type": "code",
   "execution_count": 14,
   "metadata": {},
   "outputs": [],
   "source": [
    "from sklearn.model_selection import train_test_split"
   ]
  },
  {
   "cell_type": "code",
   "execution_count": 15,
   "metadata": {},
   "outputs": [
    {
     "name": "stdout",
     "output_type": "stream",
     "text": [
      "(64000, 3)\n",
      "(16000, 3)\n",
      "(64000, 1)\n",
      "(16000, 1)\n"
     ]
    }
   ],
   "source": [
    "# Separando 80% para treino e 20% para teste\n",
    "X_train, X_test, Y_train, Y_test = train_test_split(x_train,y_train,test_size = 0.2,random_state=1)\n",
    "print(X_train.shape)\n",
    "print(X_test.shape)\n",
    "print(Y_train.shape)\n",
    "print(Y_test.shape)"
   ]
  },
  {
   "cell_type": "markdown",
   "metadata": {},
   "source": [
    "Para saber qual o melhor modelo, vamos treinar vários tipos e obter qual faz a melhor pontuação."
   ]
  },
  {
   "cell_type": "markdown",
   "metadata": {},
   "source": [
    "# Regressão Logística"
   ]
  },
  {
   "cell_type": "markdown",
   "metadata": {},
   "source": [
    "Implementando o modelo de Regressão Logística."
   ]
  },
  {
   "cell_type": "code",
   "execution_count": 16,
   "metadata": {},
   "outputs": [
    {
     "name": "stderr",
     "output_type": "stream",
     "text": [
      "/home/iagoprior/anaconda3/lib/python3.7/site-packages/sklearn/utils/validation.py:72: DataConversionWarning: A column-vector y was passed when a 1d array was expected. Please change the shape of y to (n_samples, ), for example using ravel().\n",
      "  return f(**kwargs)\n",
      "/home/iagoprior/anaconda3/lib/python3.7/site-packages/sklearn/linear_model/_logistic.py:764: ConvergenceWarning: lbfgs failed to converge (status=1):\n",
      "STOP: TOTAL NO. of ITERATIONS REACHED LIMIT.\n",
      "\n",
      "Increase the number of iterations (max_iter) or scale the data as shown in:\n",
      "    https://scikit-learn.org/stable/modules/preprocessing.html\n",
      "Please also refer to the documentation for alternative solver options:\n",
      "    https://scikit-learn.org/stable/modules/linear_model.html#logistic-regression\n",
      "  extra_warning_msg=_LOGISTIC_SOLVER_CONVERGENCE_MSG)\n"
     ]
    },
    {
     "data": {
      "text/plain": [
       "LogisticRegression()"
      ]
     },
     "execution_count": 16,
     "metadata": {},
     "output_type": "execute_result"
    }
   ],
   "source": [
    "from sklearn.linear_model import LogisticRegression \n",
    "\n",
    "lr = LogisticRegression()\n",
    "\n",
    "lr.fit(X_train,Y_train)\n",
    "\n"
   ]
  },
  {
   "cell_type": "markdown",
   "metadata": {},
   "source": [
    "Obtendo a pontuação do modelo ."
   ]
  },
  {
   "cell_type": "code",
   "execution_count": 17,
   "metadata": {},
   "outputs": [
    {
     "name": "stdout",
     "output_type": "stream",
     "text": [
      "Logistic Regression Score :  0.8360625\n"
     ]
    }
   ],
   "source": [
    "print('Logistic Regression Score : ',lr.score(X_test,Y_test))"
   ]
  },
  {
   "cell_type": "markdown",
   "metadata": {},
   "source": [
    "# K-Nearest Neighbors "
   ]
  },
  {
   "cell_type": "markdown",
   "metadata": {},
   "source": [
    "Implementando o modelo de KNN."
   ]
  },
  {
   "cell_type": "code",
   "execution_count": 18,
   "metadata": {},
   "outputs": [
    {
     "name": "stderr",
     "output_type": "stream",
     "text": [
      "/home/iagoprior/anaconda3/lib/python3.7/site-packages/ipykernel_launcher.py:5: DataConversionWarning: A column-vector y was passed when a 1d array was expected. Please change the shape of y to (n_samples, ), for example using ravel().\n",
      "  \"\"\"\n"
     ]
    },
    {
     "data": {
      "text/plain": [
       "KNeighborsClassifier(n_neighbors=7)"
      ]
     },
     "execution_count": 18,
     "metadata": {},
     "output_type": "execute_result"
    }
   ],
   "source": [
    "from sklearn.neighbors import KNeighborsClassifier\n",
    "\n",
    "knn = KNeighborsClassifier(n_neighbors = 7)\n",
    "\n",
    "knn.fit(X_train,Y_train)"
   ]
  },
  {
   "cell_type": "code",
   "execution_count": 19,
   "metadata": {},
   "outputs": [
    {
     "name": "stdout",
     "output_type": "stream",
     "text": [
      "K-Nearest Neighbors Score :  0.826625\n"
     ]
    }
   ],
   "source": [
    "print('K-Nearest Neighbors Score : ',knn.score(X_test,Y_test))"
   ]
  },
  {
   "cell_type": "markdown",
   "metadata": {},
   "source": [
    "# Support Vector Machine"
   ]
  },
  {
   "cell_type": "markdown",
   "metadata": {},
   "source": [
    "Aplicando o modelo de SVM."
   ]
  },
  {
   "cell_type": "code",
   "execution_count": 20,
   "metadata": {},
   "outputs": [
    {
     "name": "stderr",
     "output_type": "stream",
     "text": [
      "/home/iagoprior/anaconda3/lib/python3.7/site-packages/sklearn/utils/validation.py:72: DataConversionWarning: A column-vector y was passed when a 1d array was expected. Please change the shape of y to (n_samples, ), for example using ravel().\n",
      "  return f(**kwargs)\n"
     ]
    },
    {
     "data": {
      "text/plain": [
       "SVC(random_state=1)"
      ]
     },
     "execution_count": 20,
     "metadata": {},
     "output_type": "execute_result"
    }
   ],
   "source": [
    "from sklearn.svm import SVC\n",
    "\n",
    "svm = SVC(random_state = 1)\n",
    "\n",
    "svm.fit(X_train,Y_train)"
   ]
  },
  {
   "cell_type": "code",
   "execution_count": 21,
   "metadata": {},
   "outputs": [
    {
     "name": "stdout",
     "output_type": "stream",
     "text": [
      "Super Vector Machine Score :  0.8360625\n"
     ]
    }
   ],
   "source": [
    "print('Super Vector Machine Score : ',svm.score(X_test,Y_test))"
   ]
  },
  {
   "cell_type": "markdown",
   "metadata": {},
   "source": [
    "# Naive Bayes"
   ]
  },
  {
   "cell_type": "markdown",
   "metadata": {},
   "source": [
    "Aplicando o modelo de Naive Bayes."
   ]
  },
  {
   "cell_type": "code",
   "execution_count": 22,
   "metadata": {},
   "outputs": [
    {
     "name": "stderr",
     "output_type": "stream",
     "text": [
      "/home/iagoprior/anaconda3/lib/python3.7/site-packages/sklearn/utils/validation.py:72: DataConversionWarning: A column-vector y was passed when a 1d array was expected. Please change the shape of y to (n_samples, ), for example using ravel().\n",
      "  return f(**kwargs)\n"
     ]
    },
    {
     "data": {
      "text/plain": [
       "GaussianNB()"
      ]
     },
     "execution_count": 22,
     "metadata": {},
     "output_type": "execute_result"
    }
   ],
   "source": [
    "from sklearn.naive_bayes import GaussianNB\n",
    "\n",
    "nb = GaussianNB()\n",
    "\n",
    "nb.fit(X_train,Y_train)"
   ]
  },
  {
   "cell_type": "code",
   "execution_count": 23,
   "metadata": {},
   "outputs": [
    {
     "name": "stdout",
     "output_type": "stream",
     "text": [
      "Naive Bayes Score :  0.822375\n"
     ]
    }
   ],
   "source": [
    "print('Naive Bayes Score : ',nb.score(X_test,Y_test))"
   ]
  },
  {
   "cell_type": "markdown",
   "metadata": {},
   "source": [
    "# Decision Tree"
   ]
  },
  {
   "cell_type": "markdown",
   "metadata": {},
   "source": [
    "Aplicando o modelo de Decision Tree."
   ]
  },
  {
   "cell_type": "code",
   "execution_count": 24,
   "metadata": {},
   "outputs": [
    {
     "data": {
      "text/plain": [
       "DecisionTreeClassifier()"
      ]
     },
     "execution_count": 24,
     "metadata": {},
     "output_type": "execute_result"
    }
   ],
   "source": [
    "from sklearn.tree import DecisionTreeClassifier\n",
    "\n",
    "dt = DecisionTreeClassifier()\n",
    "\n",
    "dt.fit(X_train,Y_train)"
   ]
  },
  {
   "cell_type": "code",
   "execution_count": 25,
   "metadata": {},
   "outputs": [
    {
     "name": "stdout",
     "output_type": "stream",
     "text": [
      "Decision Tree Score :  0.832\n"
     ]
    }
   ],
   "source": [
    "print('Decision Tree Score : ',dt.score(X_test,Y_test))"
   ]
  },
  {
   "cell_type": "markdown",
   "metadata": {},
   "source": [
    "# Random Forest"
   ]
  },
  {
   "cell_type": "markdown",
   "metadata": {},
   "source": [
    "Aplicando o modelo Random Forest."
   ]
  },
  {
   "cell_type": "code",
   "execution_count": 26,
   "metadata": {},
   "outputs": [
    {
     "name": "stderr",
     "output_type": "stream",
     "text": [
      "/home/iagoprior/anaconda3/lib/python3.7/site-packages/ipykernel_launcher.py:5: DataConversionWarning: A column-vector y was passed when a 1d array was expected. Please change the shape of y to (n_samples,), for example using ravel().\n",
      "  \"\"\"\n"
     ]
    },
    {
     "data": {
      "text/plain": [
       "RandomForestClassifier(n_estimators=22, random_state=40)"
      ]
     },
     "execution_count": 26,
     "metadata": {},
     "output_type": "execute_result"
    }
   ],
   "source": [
    "from sklearn.ensemble import RandomForestClassifier\n",
    "\n",
    "rf = RandomForestClassifier(n_estimators = 22,random_state = 40)\n",
    "\n",
    "rf.fit(X_train,Y_train)"
   ]
  },
  {
   "cell_type": "code",
   "execution_count": 27,
   "metadata": {},
   "outputs": [
    {
     "name": "stdout",
     "output_type": "stream",
     "text": [
      "Random Forest Score :  0.829875\n"
     ]
    }
   ],
   "source": [
    "print('Random Forest Score : ',rf.score(X_test,Y_test))"
   ]
  },
  {
   "cell_type": "markdown",
   "metadata": {},
   "source": [
    "# Prevendo nossos dados usando o melhor modelo"
   ]
  },
  {
   "cell_type": "markdown",
   "metadata": {},
   "source": [
    "Vemos que os modelos de Regressão Logística e SVM obtiveram os scores mais altos.\n",
    "Como o modelo de Regressão Logística faz os cálculos de maneira mais rápida que o SVM, vamos escolher o modelo de Regressão Logística para prever nossos dados."
   ]
  },
  {
   "cell_type": "code",
   "execution_count": 28,
   "metadata": {},
   "outputs": [
    {
     "name": "stderr",
     "output_type": "stream",
     "text": [
      "/home/iagoprior/anaconda3/lib/python3.7/site-packages/sklearn/utils/validation.py:72: DataConversionWarning: A column-vector y was passed when a 1d array was expected. Please change the shape of y to (n_samples, ), for example using ravel().\n",
      "  return f(**kwargs)\n",
      "/home/iagoprior/anaconda3/lib/python3.7/site-packages/sklearn/linear_model/_logistic.py:764: ConvergenceWarning: lbfgs failed to converge (status=1):\n",
      "STOP: TOTAL NO. of ITERATIONS REACHED LIMIT.\n",
      "\n",
      "Increase the number of iterations (max_iter) or scale the data as shown in:\n",
      "    https://scikit-learn.org/stable/modules/preprocessing.html\n",
      "Please also refer to the documentation for alternative solver options:\n",
      "    https://scikit-learn.org/stable/modules/linear_model.html#logistic-regression\n",
      "  extra_warning_msg=_LOGISTIC_SOLVER_CONVERGENCE_MSG)\n"
     ]
    },
    {
     "data": {
      "text/plain": [
       "LogisticRegression()"
      ]
     },
     "execution_count": 28,
     "metadata": {},
     "output_type": "execute_result"
    }
   ],
   "source": [
    "from sklearn.linear_model import LogisticRegression \n",
    "\n",
    "lr = LogisticRegression()\n",
    "\n",
    "lr.fit(x_train,y_train)"
   ]
  },
  {
   "cell_type": "code",
   "execution_count": 29,
   "metadata": {},
   "outputs": [],
   "source": [
    "# Prevendo o modelo obtido.\n",
    "prediction = lr.predict(x_test)"
   ]
  },
  {
   "cell_type": "code",
   "execution_count": 30,
   "metadata": {},
   "outputs": [
    {
     "data": {
      "text/plain": [
       "array([0, 0, 0, ..., 0, 0, 0])"
      ]
     },
     "execution_count": 30,
     "metadata": {},
     "output_type": "execute_result"
    }
   ],
   "source": [
    "prediction"
   ]
  },
  {
   "cell_type": "markdown",
   "metadata": {},
   "source": [
    "Passando o resultado obtido na coluna 'dano_na_plantacao' e adicionando essa coluna nos dados de teste."
   ]
  },
  {
   "cell_type": "code",
   "execution_count": 31,
   "metadata": {},
   "outputs": [],
   "source": [
    "df_resposta = df_test"
   ]
  },
  {
   "cell_type": "code",
   "execution_count": 32,
   "metadata": {},
   "outputs": [],
   "source": [
    "df_resposta['dano_na_plantacao'] = prediction"
   ]
  },
  {
   "cell_type": "markdown",
   "metadata": {},
   "source": [
    "Obtendo a previsão da safra de 2020."
   ]
  },
  {
   "cell_type": "code",
   "execution_count": 33,
   "metadata": {},
   "outputs": [
    {
     "data": {
      "text/html": [
       "<div>\n",
       "<style scoped>\n",
       "    .dataframe tbody tr th:only-of-type {\n",
       "        vertical-align: middle;\n",
       "    }\n",
       "\n",
       "    .dataframe tbody tr th {\n",
       "        vertical-align: top;\n",
       "    }\n",
       "\n",
       "    .dataframe thead th {\n",
       "        text-align: right;\n",
       "    }\n",
       "</style>\n",
       "<table border=\"1\" class=\"dataframe\">\n",
       "  <thead>\n",
       "    <tr style=\"text-align: right;\">\n",
       "      <th></th>\n",
       "      <th>Unnamed: 0</th>\n",
       "      <th>Identificador_Agricultor</th>\n",
       "      <th>Estimativa_de_Insetos</th>\n",
       "      <th>Tipo_de_Cultivo</th>\n",
       "      <th>Tipo_de_Solo</th>\n",
       "      <th>Categoria_Pesticida</th>\n",
       "      <th>Doses_Semana</th>\n",
       "      <th>Semanas_Utilizando</th>\n",
       "      <th>Semanas_Sem_Uso</th>\n",
       "      <th>Temporada</th>\n",
       "      <th>dano_na_plantacao</th>\n",
       "    </tr>\n",
       "  </thead>\n",
       "  <tbody>\n",
       "    <tr>\n",
       "      <th>0</th>\n",
       "      <td>80000</td>\n",
       "      <td>SCROP80001</td>\n",
       "      <td>256</td>\n",
       "      <td>0</td>\n",
       "      <td>1</td>\n",
       "      <td>2</td>\n",
       "      <td>35</td>\n",
       "      <td>11.0</td>\n",
       "      <td>9</td>\n",
       "      <td>1</td>\n",
       "      <td>0</td>\n",
       "    </tr>\n",
       "    <tr>\n",
       "      <th>1</th>\n",
       "      <td>80001</td>\n",
       "      <td>SCROP80002</td>\n",
       "      <td>283</td>\n",
       "      <td>0</td>\n",
       "      <td>1</td>\n",
       "      <td>2</td>\n",
       "      <td>5</td>\n",
       "      <td>5.0</td>\n",
       "      <td>6</td>\n",
       "      <td>1</td>\n",
       "      <td>0</td>\n",
       "    </tr>\n",
       "    <tr>\n",
       "      <th>2</th>\n",
       "      <td>80002</td>\n",
       "      <td>SCROP80003</td>\n",
       "      <td>283</td>\n",
       "      <td>0</td>\n",
       "      <td>1</td>\n",
       "      <td>2</td>\n",
       "      <td>15</td>\n",
       "      <td>15.0</td>\n",
       "      <td>5</td>\n",
       "      <td>2</td>\n",
       "      <td>0</td>\n",
       "    </tr>\n",
       "    <tr>\n",
       "      <th>3</th>\n",
       "      <td>80003</td>\n",
       "      <td>SCROP80004</td>\n",
       "      <td>283</td>\n",
       "      <td>0</td>\n",
       "      <td>1</td>\n",
       "      <td>2</td>\n",
       "      <td>15</td>\n",
       "      <td>NaN</td>\n",
       "      <td>7</td>\n",
       "      <td>2</td>\n",
       "      <td>0</td>\n",
       "    </tr>\n",
       "    <tr>\n",
       "      <th>4</th>\n",
       "      <td>80004</td>\n",
       "      <td>SCROP80005</td>\n",
       "      <td>283</td>\n",
       "      <td>0</td>\n",
       "      <td>1</td>\n",
       "      <td>2</td>\n",
       "      <td>15</td>\n",
       "      <td>19.0</td>\n",
       "      <td>2</td>\n",
       "      <td>1</td>\n",
       "      <td>0</td>\n",
       "    </tr>\n",
       "    <tr>\n",
       "      <th>...</th>\n",
       "      <td>...</td>\n",
       "      <td>...</td>\n",
       "      <td>...</td>\n",
       "      <td>...</td>\n",
       "      <td>...</td>\n",
       "      <td>...</td>\n",
       "      <td>...</td>\n",
       "      <td>...</td>\n",
       "      <td>...</td>\n",
       "      <td>...</td>\n",
       "      <td>...</td>\n",
       "    </tr>\n",
       "    <tr>\n",
       "      <th>8853</th>\n",
       "      <td>88853</td>\n",
       "      <td>SCROP88854</td>\n",
       "      <td>3337</td>\n",
       "      <td>1</td>\n",
       "      <td>0</td>\n",
       "      <td>2</td>\n",
       "      <td>10</td>\n",
       "      <td>12.0</td>\n",
       "      <td>44</td>\n",
       "      <td>3</td>\n",
       "      <td>0</td>\n",
       "    </tr>\n",
       "    <tr>\n",
       "      <th>8854</th>\n",
       "      <td>88854</td>\n",
       "      <td>SCROP88855</td>\n",
       "      <td>3516</td>\n",
       "      <td>1</td>\n",
       "      <td>0</td>\n",
       "      <td>2</td>\n",
       "      <td>10</td>\n",
       "      <td>20.0</td>\n",
       "      <td>38</td>\n",
       "      <td>1</td>\n",
       "      <td>0</td>\n",
       "    </tr>\n",
       "    <tr>\n",
       "      <th>8855</th>\n",
       "      <td>88855</td>\n",
       "      <td>SCROP88856</td>\n",
       "      <td>3516</td>\n",
       "      <td>1</td>\n",
       "      <td>0</td>\n",
       "      <td>2</td>\n",
       "      <td>15</td>\n",
       "      <td>40.0</td>\n",
       "      <td>8</td>\n",
       "      <td>2</td>\n",
       "      <td>0</td>\n",
       "    </tr>\n",
       "    <tr>\n",
       "      <th>8856</th>\n",
       "      <td>88856</td>\n",
       "      <td>SCROP88857</td>\n",
       "      <td>3702</td>\n",
       "      <td>1</td>\n",
       "      <td>0</td>\n",
       "      <td>2</td>\n",
       "      <td>10</td>\n",
       "      <td>25.0</td>\n",
       "      <td>18</td>\n",
       "      <td>3</td>\n",
       "      <td>0</td>\n",
       "    </tr>\n",
       "    <tr>\n",
       "      <th>8857</th>\n",
       "      <td>88857</td>\n",
       "      <td>SCROP88858</td>\n",
       "      <td>3895</td>\n",
       "      <td>1</td>\n",
       "      <td>0</td>\n",
       "      <td>2</td>\n",
       "      <td>20</td>\n",
       "      <td>37.0</td>\n",
       "      <td>7</td>\n",
       "      <td>3</td>\n",
       "      <td>0</td>\n",
       "    </tr>\n",
       "  </tbody>\n",
       "</table>\n",
       "<p>8858 rows × 11 columns</p>\n",
       "</div>"
      ],
      "text/plain": [
       "      Unnamed: 0 Identificador_Agricultor  Estimativa_de_Insetos  \\\n",
       "0          80000               SCROP80001                    256   \n",
       "1          80001               SCROP80002                    283   \n",
       "2          80002               SCROP80003                    283   \n",
       "3          80003               SCROP80004                    283   \n",
       "4          80004               SCROP80005                    283   \n",
       "...          ...                      ...                    ...   \n",
       "8853       88853               SCROP88854                   3337   \n",
       "8854       88854               SCROP88855                   3516   \n",
       "8855       88855               SCROP88856                   3516   \n",
       "8856       88856               SCROP88857                   3702   \n",
       "8857       88857               SCROP88858                   3895   \n",
       "\n",
       "      Tipo_de_Cultivo  Tipo_de_Solo  Categoria_Pesticida  Doses_Semana  \\\n",
       "0                   0             1                    2            35   \n",
       "1                   0             1                    2             5   \n",
       "2                   0             1                    2            15   \n",
       "3                   0             1                    2            15   \n",
       "4                   0             1                    2            15   \n",
       "...               ...           ...                  ...           ...   \n",
       "8853                1             0                    2            10   \n",
       "8854                1             0                    2            10   \n",
       "8855                1             0                    2            15   \n",
       "8856                1             0                    2            10   \n",
       "8857                1             0                    2            20   \n",
       "\n",
       "      Semanas_Utilizando  Semanas_Sem_Uso  Temporada  dano_na_plantacao  \n",
       "0                   11.0                9          1                  0  \n",
       "1                    5.0                6          1                  0  \n",
       "2                   15.0                5          2                  0  \n",
       "3                    NaN                7          2                  0  \n",
       "4                   19.0                2          1                  0  \n",
       "...                  ...              ...        ...                ...  \n",
       "8853                12.0               44          3                  0  \n",
       "8854                20.0               38          1                  0  \n",
       "8855                40.0                8          2                  0  \n",
       "8856                25.0               18          3                  0  \n",
       "8857                37.0                7          3                  0  \n",
       "\n",
       "[8858 rows x 11 columns]"
      ]
     },
     "execution_count": 33,
     "metadata": {},
     "output_type": "execute_result"
    }
   ],
   "source": [
    "df_resposta"
   ]
  },
  {
   "cell_type": "markdown",
   "metadata": {},
   "source": [
    "Salvando o dataframe de resposta."
   ]
  },
  {
   "cell_type": "code",
   "execution_count": 34,
   "metadata": {},
   "outputs": [],
   "source": [
    "df_resposta.to_csv('answer.csv', index=False, header=True)"
   ]
  }
 ],
 "metadata": {
  "kernelspec": {
   "display_name": "Python 3",
   "language": "python",
   "name": "python3"
  },
  "language_info": {
   "codemirror_mode": {
    "name": "ipython",
    "version": 3
   },
   "file_extension": ".py",
   "mimetype": "text/x-python",
   "name": "python",
   "nbconvert_exporter": "python",
   "pygments_lexer": "ipython3",
   "version": "3.7.6"
  }
 },
 "nbformat": 4,
 "nbformat_minor": 4
}
