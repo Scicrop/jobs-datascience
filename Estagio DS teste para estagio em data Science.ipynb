{
 "cells": [
  {
   "cell_type": "markdown",
   "metadata": {},
   "source": [
    "# Modelo de machine learning previsões para colheitas\n",
    "\n",
    "**Rafael Henrique Gallo**\n",
    "\n",
    "Modelo de machine learning um classificador.\n",
    "Nesse modelo a empresa Scicrop disponibilizou os datasets realizar a previsão de saúde e qualidade de colheitas das safras.\n",
    "\n",
    "**3 classes**\n",
    "\n",
    "1 - Colheita sofreu dano por pesticidas.\n",
    "\n",
    "2 - Uma colheita saudável.\n",
    "\n",
    "3 - Se a colheita sofreu motivos diversos.\n",
    "\n",
    "**Algortimo usados K-NN, Naive bayes, Random Forest**"
   ]
  },
  {
   "cell_type": "code",
   "execution_count": 1,
   "metadata": {},
   "outputs": [],
   "source": [
    "import pandas as pd\n",
    "import numpy as np\n",
    "import seaborn as sns\n",
    "\n",
    "sns.set_style(\"darkgrid\")\n",
    "%matplotlib inline\n",
    "import matplotlib.pyplot as plt"
   ]
  },
  {
   "cell_type": "code",
   "execution_count": 2,
   "metadata": {},
   "outputs": [],
   "source": [
    "df_train = pd.read_csv(\"Safra_2018-2019.csv\")\n",
    "df_prev = pd.read_csv(\"Safra_2020.csv\")"
   ]
  },
  {
   "cell_type": "code",
   "execution_count": 3,
   "metadata": {},
   "outputs": [
    {
     "data": {
      "text/html": [
       "<div>\n",
       "<style scoped>\n",
       "    .dataframe tbody tr th:only-of-type {\n",
       "        vertical-align: middle;\n",
       "    }\n",
       "\n",
       "    .dataframe tbody tr th {\n",
       "        vertical-align: top;\n",
       "    }\n",
       "\n",
       "    .dataframe thead th {\n",
       "        text-align: right;\n",
       "    }\n",
       "</style>\n",
       "<table border=\"1\" class=\"dataframe\">\n",
       "  <thead>\n",
       "    <tr style=\"text-align: right;\">\n",
       "      <th></th>\n",
       "      <th>Unnamed: 0</th>\n",
       "      <th>Identificador_Agricultor</th>\n",
       "      <th>Estimativa_de_Insetos</th>\n",
       "      <th>Tipo_de_Cultivo</th>\n",
       "      <th>Tipo_de_Solo</th>\n",
       "      <th>Categoria_Pesticida</th>\n",
       "      <th>Doses_Semana</th>\n",
       "      <th>Semanas_Utilizando</th>\n",
       "      <th>Semanas_Sem_Uso</th>\n",
       "      <th>Temporada</th>\n",
       "      <th>dano_na_plantacao</th>\n",
       "    </tr>\n",
       "  </thead>\n",
       "  <tbody>\n",
       "    <tr>\n",
       "      <th>0</th>\n",
       "      <td>0</td>\n",
       "      <td>SCROP00001</td>\n",
       "      <td>188</td>\n",
       "      <td>1</td>\n",
       "      <td>0</td>\n",
       "      <td>1</td>\n",
       "      <td>0</td>\n",
       "      <td>0.0</td>\n",
       "      <td>0</td>\n",
       "      <td>1</td>\n",
       "      <td>0</td>\n",
       "    </tr>\n",
       "    <tr>\n",
       "      <th>1</th>\n",
       "      <td>1</td>\n",
       "      <td>SCROP00002</td>\n",
       "      <td>209</td>\n",
       "      <td>1</td>\n",
       "      <td>0</td>\n",
       "      <td>1</td>\n",
       "      <td>0</td>\n",
       "      <td>0.0</td>\n",
       "      <td>0</td>\n",
       "      <td>2</td>\n",
       "      <td>1</td>\n",
       "    </tr>\n",
       "    <tr>\n",
       "      <th>2</th>\n",
       "      <td>2</td>\n",
       "      <td>SCROP00003</td>\n",
       "      <td>257</td>\n",
       "      <td>1</td>\n",
       "      <td>0</td>\n",
       "      <td>1</td>\n",
       "      <td>0</td>\n",
       "      <td>0.0</td>\n",
       "      <td>0</td>\n",
       "      <td>2</td>\n",
       "      <td>1</td>\n",
       "    </tr>\n",
       "    <tr>\n",
       "      <th>3</th>\n",
       "      <td>3</td>\n",
       "      <td>SCROP00004</td>\n",
       "      <td>257</td>\n",
       "      <td>1</td>\n",
       "      <td>1</td>\n",
       "      <td>1</td>\n",
       "      <td>0</td>\n",
       "      <td>0.0</td>\n",
       "      <td>0</td>\n",
       "      <td>2</td>\n",
       "      <td>1</td>\n",
       "    </tr>\n",
       "    <tr>\n",
       "      <th>4</th>\n",
       "      <td>4</td>\n",
       "      <td>SCROP00005</td>\n",
       "      <td>342</td>\n",
       "      <td>1</td>\n",
       "      <td>0</td>\n",
       "      <td>1</td>\n",
       "      <td>0</td>\n",
       "      <td>0.0</td>\n",
       "      <td>0</td>\n",
       "      <td>2</td>\n",
       "      <td>1</td>\n",
       "    </tr>\n",
       "  </tbody>\n",
       "</table>\n",
       "</div>"
      ],
      "text/plain": [
       "   Unnamed: 0 Identificador_Agricultor  Estimativa_de_Insetos  \\\n",
       "0           0               SCROP00001                    188   \n",
       "1           1               SCROP00002                    209   \n",
       "2           2               SCROP00003                    257   \n",
       "3           3               SCROP00004                    257   \n",
       "4           4               SCROP00005                    342   \n",
       "\n",
       "   Tipo_de_Cultivo  Tipo_de_Solo  Categoria_Pesticida  Doses_Semana  \\\n",
       "0                1             0                    1             0   \n",
       "1                1             0                    1             0   \n",
       "2                1             0                    1             0   \n",
       "3                1             1                    1             0   \n",
       "4                1             0                    1             0   \n",
       "\n",
       "   Semanas_Utilizando  Semanas_Sem_Uso  Temporada  dano_na_plantacao  \n",
       "0                 0.0                0          1                  0  \n",
       "1                 0.0                0          2                  1  \n",
       "2                 0.0                0          2                  1  \n",
       "3                 0.0                0          2                  1  \n",
       "4                 0.0                0          2                  1  "
      ]
     },
     "execution_count": 3,
     "metadata": {},
     "output_type": "execute_result"
    }
   ],
   "source": [
    "df_train.head()"
   ]
  },
  {
   "cell_type": "code",
   "execution_count": 4,
   "metadata": {},
   "outputs": [
    {
     "data": {
      "text/html": [
       "<div>\n",
       "<style scoped>\n",
       "    .dataframe tbody tr th:only-of-type {\n",
       "        vertical-align: middle;\n",
       "    }\n",
       "\n",
       "    .dataframe tbody tr th {\n",
       "        vertical-align: top;\n",
       "    }\n",
       "\n",
       "    .dataframe thead th {\n",
       "        text-align: right;\n",
       "    }\n",
       "</style>\n",
       "<table border=\"1\" class=\"dataframe\">\n",
       "  <thead>\n",
       "    <tr style=\"text-align: right;\">\n",
       "      <th></th>\n",
       "      <th>Unnamed: 0</th>\n",
       "      <th>Identificador_Agricultor</th>\n",
       "      <th>Estimativa_de_Insetos</th>\n",
       "      <th>Tipo_de_Cultivo</th>\n",
       "      <th>Tipo_de_Solo</th>\n",
       "      <th>Categoria_Pesticida</th>\n",
       "      <th>Doses_Semana</th>\n",
       "      <th>Semanas_Utilizando</th>\n",
       "      <th>Semanas_Sem_Uso</th>\n",
       "      <th>Temporada</th>\n",
       "    </tr>\n",
       "  </thead>\n",
       "  <tbody>\n",
       "    <tr>\n",
       "      <th>0</th>\n",
       "      <td>80000</td>\n",
       "      <td>SCROP80001</td>\n",
       "      <td>256</td>\n",
       "      <td>0</td>\n",
       "      <td>1</td>\n",
       "      <td>2</td>\n",
       "      <td>35</td>\n",
       "      <td>11.0</td>\n",
       "      <td>9</td>\n",
       "      <td>1</td>\n",
       "    </tr>\n",
       "    <tr>\n",
       "      <th>1</th>\n",
       "      <td>80001</td>\n",
       "      <td>SCROP80002</td>\n",
       "      <td>283</td>\n",
       "      <td>0</td>\n",
       "      <td>1</td>\n",
       "      <td>2</td>\n",
       "      <td>5</td>\n",
       "      <td>5.0</td>\n",
       "      <td>6</td>\n",
       "      <td>1</td>\n",
       "    </tr>\n",
       "    <tr>\n",
       "      <th>2</th>\n",
       "      <td>80002</td>\n",
       "      <td>SCROP80003</td>\n",
       "      <td>283</td>\n",
       "      <td>0</td>\n",
       "      <td>1</td>\n",
       "      <td>2</td>\n",
       "      <td>15</td>\n",
       "      <td>15.0</td>\n",
       "      <td>5</td>\n",
       "      <td>2</td>\n",
       "    </tr>\n",
       "    <tr>\n",
       "      <th>3</th>\n",
       "      <td>80003</td>\n",
       "      <td>SCROP80004</td>\n",
       "      <td>283</td>\n",
       "      <td>0</td>\n",
       "      <td>1</td>\n",
       "      <td>2</td>\n",
       "      <td>15</td>\n",
       "      <td>NaN</td>\n",
       "      <td>7</td>\n",
       "      <td>2</td>\n",
       "    </tr>\n",
       "    <tr>\n",
       "      <th>4</th>\n",
       "      <td>80004</td>\n",
       "      <td>SCROP80005</td>\n",
       "      <td>283</td>\n",
       "      <td>0</td>\n",
       "      <td>1</td>\n",
       "      <td>2</td>\n",
       "      <td>15</td>\n",
       "      <td>19.0</td>\n",
       "      <td>2</td>\n",
       "      <td>1</td>\n",
       "    </tr>\n",
       "  </tbody>\n",
       "</table>\n",
       "</div>"
      ],
      "text/plain": [
       "   Unnamed: 0 Identificador_Agricultor  Estimativa_de_Insetos  \\\n",
       "0       80000               SCROP80001                    256   \n",
       "1       80001               SCROP80002                    283   \n",
       "2       80002               SCROP80003                    283   \n",
       "3       80003               SCROP80004                    283   \n",
       "4       80004               SCROP80005                    283   \n",
       "\n",
       "   Tipo_de_Cultivo  Tipo_de_Solo  Categoria_Pesticida  Doses_Semana  \\\n",
       "0                0             1                    2            35   \n",
       "1                0             1                    2             5   \n",
       "2                0             1                    2            15   \n",
       "3                0             1                    2            15   \n",
       "4                0             1                    2            15   \n",
       "\n",
       "   Semanas_Utilizando  Semanas_Sem_Uso  Temporada  \n",
       "0                11.0                9          1  \n",
       "1                 5.0                6          1  \n",
       "2                15.0                5          2  \n",
       "3                 NaN                7          2  \n",
       "4                19.0                2          1  "
      ]
     },
     "execution_count": 4,
     "metadata": {},
     "output_type": "execute_result"
    }
   ],
   "source": [
    "df_prev.head()"
   ]
  },
  {
   "cell_type": "markdown",
   "metadata": {},
   "source": [
    "**Limpeza de dados**"
   ]
  },
  {
   "cell_type": "code",
   "execution_count": 5,
   "metadata": {},
   "outputs": [
    {
     "name": "stdout",
     "output_type": "stream",
     "text": [
      "<class 'pandas.core.frame.DataFrame'>\n",
      "RangeIndex: 8858 entries, 0 to 8857\n",
      "Data columns (total 10 columns):\n",
      " #   Column                    Non-Null Count  Dtype  \n",
      "---  ------                    --------------  -----  \n",
      " 0   Unnamed: 0                8858 non-null   int64  \n",
      " 1   Identificador_Agricultor  8858 non-null   object \n",
      " 2   Estimativa_de_Insetos     8858 non-null   int64  \n",
      " 3   Tipo_de_Cultivo           8858 non-null   int64  \n",
      " 4   Tipo_de_Solo              8858 non-null   int64  \n",
      " 5   Categoria_Pesticida       8858 non-null   int64  \n",
      " 6   Doses_Semana              8858 non-null   int64  \n",
      " 7   Semanas_Utilizando        7913 non-null   float64\n",
      " 8   Semanas_Sem_Uso           8858 non-null   int64  \n",
      " 9   Temporada                 8858 non-null   int64  \n",
      "dtypes: float64(1), int64(8), object(1)\n",
      "memory usage: 692.2+ KB\n"
     ]
    }
   ],
   "source": [
    "df_prev.info()"
   ]
  },
  {
   "cell_type": "code",
   "execution_count": 6,
   "metadata": {},
   "outputs": [
    {
     "data": {
      "text/plain": [
       "Unnamed: 0                    0\n",
       "Identificador_Agricultor      0\n",
       "Estimativa_de_Insetos         0\n",
       "Tipo_de_Cultivo               0\n",
       "Tipo_de_Solo                  0\n",
       "Categoria_Pesticida           0\n",
       "Doses_Semana                  0\n",
       "Semanas_Utilizando          945\n",
       "Semanas_Sem_Uso               0\n",
       "Temporada                     0\n",
       "dtype: int64"
      ]
     },
     "execution_count": 6,
     "metadata": {},
     "output_type": "execute_result"
    }
   ],
   "source": [
    "df_prev.isnull().sum()"
   ]
  },
  {
   "cell_type": "code",
   "execution_count": 7,
   "metadata": {},
   "outputs": [],
   "source": [
    "df_prev.drop(\"Identificador_Agricultor\", inplace = True, axis = 1)"
   ]
  },
  {
   "cell_type": "code",
   "execution_count": 8,
   "metadata": {},
   "outputs": [
    {
     "data": {
      "text/html": [
       "<div>\n",
       "<style scoped>\n",
       "    .dataframe tbody tr th:only-of-type {\n",
       "        vertical-align: middle;\n",
       "    }\n",
       "\n",
       "    .dataframe tbody tr th {\n",
       "        vertical-align: top;\n",
       "    }\n",
       "\n",
       "    .dataframe thead th {\n",
       "        text-align: right;\n",
       "    }\n",
       "</style>\n",
       "<table border=\"1\" class=\"dataframe\">\n",
       "  <thead>\n",
       "    <tr style=\"text-align: right;\">\n",
       "      <th></th>\n",
       "      <th>Unnamed: 0</th>\n",
       "      <th>Estimativa_de_Insetos</th>\n",
       "      <th>Tipo_de_Cultivo</th>\n",
       "      <th>Tipo_de_Solo</th>\n",
       "      <th>Categoria_Pesticida</th>\n",
       "      <th>Doses_Semana</th>\n",
       "      <th>Semanas_Utilizando</th>\n",
       "      <th>Semanas_Sem_Uso</th>\n",
       "      <th>Temporada</th>\n",
       "    </tr>\n",
       "  </thead>\n",
       "  <tbody>\n",
       "    <tr>\n",
       "      <th>0</th>\n",
       "      <td>80000</td>\n",
       "      <td>256</td>\n",
       "      <td>0</td>\n",
       "      <td>1</td>\n",
       "      <td>2</td>\n",
       "      <td>35</td>\n",
       "      <td>11.0</td>\n",
       "      <td>9</td>\n",
       "      <td>1</td>\n",
       "    </tr>\n",
       "    <tr>\n",
       "      <th>1</th>\n",
       "      <td>80001</td>\n",
       "      <td>283</td>\n",
       "      <td>0</td>\n",
       "      <td>1</td>\n",
       "      <td>2</td>\n",
       "      <td>5</td>\n",
       "      <td>5.0</td>\n",
       "      <td>6</td>\n",
       "      <td>1</td>\n",
       "    </tr>\n",
       "    <tr>\n",
       "      <th>2</th>\n",
       "      <td>80002</td>\n",
       "      <td>283</td>\n",
       "      <td>0</td>\n",
       "      <td>1</td>\n",
       "      <td>2</td>\n",
       "      <td>15</td>\n",
       "      <td>15.0</td>\n",
       "      <td>5</td>\n",
       "      <td>2</td>\n",
       "    </tr>\n",
       "    <tr>\n",
       "      <th>3</th>\n",
       "      <td>80003</td>\n",
       "      <td>283</td>\n",
       "      <td>0</td>\n",
       "      <td>1</td>\n",
       "      <td>2</td>\n",
       "      <td>15</td>\n",
       "      <td>NaN</td>\n",
       "      <td>7</td>\n",
       "      <td>2</td>\n",
       "    </tr>\n",
       "    <tr>\n",
       "      <th>4</th>\n",
       "      <td>80004</td>\n",
       "      <td>283</td>\n",
       "      <td>0</td>\n",
       "      <td>1</td>\n",
       "      <td>2</td>\n",
       "      <td>15</td>\n",
       "      <td>19.0</td>\n",
       "      <td>2</td>\n",
       "      <td>1</td>\n",
       "    </tr>\n",
       "  </tbody>\n",
       "</table>\n",
       "</div>"
      ],
      "text/plain": [
       "   Unnamed: 0  Estimativa_de_Insetos  Tipo_de_Cultivo  Tipo_de_Solo  \\\n",
       "0       80000                    256                0             1   \n",
       "1       80001                    283                0             1   \n",
       "2       80002                    283                0             1   \n",
       "3       80003                    283                0             1   \n",
       "4       80004                    283                0             1   \n",
       "\n",
       "   Categoria_Pesticida  Doses_Semana  Semanas_Utilizando  Semanas_Sem_Uso  \\\n",
       "0                    2            35                11.0                9   \n",
       "1                    2             5                 5.0                6   \n",
       "2                    2            15                15.0                5   \n",
       "3                    2            15                 NaN                7   \n",
       "4                    2            15                19.0                2   \n",
       "\n",
       "   Temporada  \n",
       "0          1  \n",
       "1          1  \n",
       "2          2  \n",
       "3          2  \n",
       "4          1  "
      ]
     },
     "execution_count": 8,
     "metadata": {},
     "output_type": "execute_result"
    }
   ],
   "source": [
    "# Features visualizados\n",
    "df_prev.head()"
   ]
  },
  {
   "cell_type": "markdown",
   "metadata": {},
   "source": [
    "# Estatistica"
   ]
  },
  {
   "cell_type": "markdown",
   "metadata": {},
   "source": [
    "**Dados a media, mediana da safra**"
   ]
  },
  {
   "cell_type": "code",
   "execution_count": 9,
   "metadata": {},
   "outputs": [
    {
     "data": {
      "text/html": [
       "<div>\n",
       "<style scoped>\n",
       "    .dataframe tbody tr th:only-of-type {\n",
       "        vertical-align: middle;\n",
       "    }\n",
       "\n",
       "    .dataframe tbody tr th {\n",
       "        vertical-align: top;\n",
       "    }\n",
       "\n",
       "    .dataframe thead th {\n",
       "        text-align: right;\n",
       "    }\n",
       "</style>\n",
       "<table border=\"1\" class=\"dataframe\">\n",
       "  <thead>\n",
       "    <tr style=\"text-align: right;\">\n",
       "      <th></th>\n",
       "      <th>Unnamed: 0</th>\n",
       "      <th>Estimativa_de_Insetos</th>\n",
       "      <th>Tipo_de_Cultivo</th>\n",
       "      <th>Tipo_de_Solo</th>\n",
       "      <th>Categoria_Pesticida</th>\n",
       "      <th>Doses_Semana</th>\n",
       "      <th>Semanas_Utilizando</th>\n",
       "      <th>Semanas_Sem_Uso</th>\n",
       "      <th>Temporada</th>\n",
       "      <th>dano_na_plantacao</th>\n",
       "    </tr>\n",
       "  </thead>\n",
       "  <tbody>\n",
       "    <tr>\n",
       "      <th>count</th>\n",
       "      <td>80000.000000</td>\n",
       "      <td>80000.000000</td>\n",
       "      <td>80000.000000</td>\n",
       "      <td>80000.000000</td>\n",
       "      <td>80000.000000</td>\n",
       "      <td>80000.000000</td>\n",
       "      <td>71945.000000</td>\n",
       "      <td>80000.000000</td>\n",
       "      <td>80000.000000</td>\n",
       "      <td>80000.000000</td>\n",
       "    </tr>\n",
       "    <tr>\n",
       "      <th>mean</th>\n",
       "      <td>39999.500000</td>\n",
       "      <td>1400.020875</td>\n",
       "      <td>0.283338</td>\n",
       "      <td>0.455550</td>\n",
       "      <td>2.267587</td>\n",
       "      <td>25.846750</td>\n",
       "      <td>28.664480</td>\n",
       "      <td>9.549088</td>\n",
       "      <td>1.897575</td>\n",
       "      <td>0.192312</td>\n",
       "    </tr>\n",
       "    <tr>\n",
       "      <th>std</th>\n",
       "      <td>23094.155105</td>\n",
       "      <td>849.792471</td>\n",
       "      <td>0.450622</td>\n",
       "      <td>0.498023</td>\n",
       "      <td>0.463748</td>\n",
       "      <td>15.557246</td>\n",
       "      <td>12.424751</td>\n",
       "      <td>9.905547</td>\n",
       "      <td>0.702079</td>\n",
       "      <td>0.455912</td>\n",
       "    </tr>\n",
       "    <tr>\n",
       "      <th>min</th>\n",
       "      <td>0.000000</td>\n",
       "      <td>150.000000</td>\n",
       "      <td>0.000000</td>\n",
       "      <td>0.000000</td>\n",
       "      <td>1.000000</td>\n",
       "      <td>0.000000</td>\n",
       "      <td>0.000000</td>\n",
       "      <td>0.000000</td>\n",
       "      <td>1.000000</td>\n",
       "      <td>0.000000</td>\n",
       "    </tr>\n",
       "    <tr>\n",
       "      <th>25%</th>\n",
       "      <td>19999.750000</td>\n",
       "      <td>731.000000</td>\n",
       "      <td>0.000000</td>\n",
       "      <td>0.000000</td>\n",
       "      <td>2.000000</td>\n",
       "      <td>15.000000</td>\n",
       "      <td>20.000000</td>\n",
       "      <td>0.000000</td>\n",
       "      <td>1.000000</td>\n",
       "      <td>0.000000</td>\n",
       "    </tr>\n",
       "    <tr>\n",
       "      <th>50%</th>\n",
       "      <td>39999.500000</td>\n",
       "      <td>1212.000000</td>\n",
       "      <td>0.000000</td>\n",
       "      <td>0.000000</td>\n",
       "      <td>2.000000</td>\n",
       "      <td>20.000000</td>\n",
       "      <td>28.000000</td>\n",
       "      <td>7.000000</td>\n",
       "      <td>2.000000</td>\n",
       "      <td>0.000000</td>\n",
       "    </tr>\n",
       "    <tr>\n",
       "      <th>75%</th>\n",
       "      <td>59999.250000</td>\n",
       "      <td>1898.000000</td>\n",
       "      <td>1.000000</td>\n",
       "      <td>1.000000</td>\n",
       "      <td>3.000000</td>\n",
       "      <td>40.000000</td>\n",
       "      <td>37.000000</td>\n",
       "      <td>16.000000</td>\n",
       "      <td>2.000000</td>\n",
       "      <td>0.000000</td>\n",
       "    </tr>\n",
       "    <tr>\n",
       "      <th>max</th>\n",
       "      <td>79999.000000</td>\n",
       "      <td>4097.000000</td>\n",
       "      <td>1.000000</td>\n",
       "      <td>1.000000</td>\n",
       "      <td>3.000000</td>\n",
       "      <td>95.000000</td>\n",
       "      <td>67.000000</td>\n",
       "      <td>50.000000</td>\n",
       "      <td>3.000000</td>\n",
       "      <td>2.000000</td>\n",
       "    </tr>\n",
       "  </tbody>\n",
       "</table>\n",
       "</div>"
      ],
      "text/plain": [
       "         Unnamed: 0  Estimativa_de_Insetos  Tipo_de_Cultivo  Tipo_de_Solo  \\\n",
       "count  80000.000000           80000.000000     80000.000000  80000.000000   \n",
       "mean   39999.500000            1400.020875         0.283338      0.455550   \n",
       "std    23094.155105             849.792471         0.450622      0.498023   \n",
       "min        0.000000             150.000000         0.000000      0.000000   \n",
       "25%    19999.750000             731.000000         0.000000      0.000000   \n",
       "50%    39999.500000            1212.000000         0.000000      0.000000   \n",
       "75%    59999.250000            1898.000000         1.000000      1.000000   \n",
       "max    79999.000000            4097.000000         1.000000      1.000000   \n",
       "\n",
       "       Categoria_Pesticida  Doses_Semana  Semanas_Utilizando  Semanas_Sem_Uso  \\\n",
       "count         80000.000000  80000.000000        71945.000000     80000.000000   \n",
       "mean              2.267587     25.846750           28.664480         9.549088   \n",
       "std               0.463748     15.557246           12.424751         9.905547   \n",
       "min               1.000000      0.000000            0.000000         0.000000   \n",
       "25%               2.000000     15.000000           20.000000         0.000000   \n",
       "50%               2.000000     20.000000           28.000000         7.000000   \n",
       "75%               3.000000     40.000000           37.000000        16.000000   \n",
       "max               3.000000     95.000000           67.000000        50.000000   \n",
       "\n",
       "          Temporada  dano_na_plantacao  \n",
       "count  80000.000000       80000.000000  \n",
       "mean       1.897575           0.192312  \n",
       "std        0.702079           0.455912  \n",
       "min        1.000000           0.000000  \n",
       "25%        1.000000           0.000000  \n",
       "50%        2.000000           0.000000  \n",
       "75%        2.000000           0.000000  \n",
       "max        3.000000           2.000000  "
      ]
     },
     "execution_count": 9,
     "metadata": {},
     "output_type": "execute_result"
    }
   ],
   "source": [
    "df_train.describe()"
   ]
  },
  {
   "cell_type": "code",
   "execution_count": 10,
   "metadata": {},
   "outputs": [
    {
     "data": {
      "text/html": [
       "<div>\n",
       "<style scoped>\n",
       "    .dataframe tbody tr th:only-of-type {\n",
       "        vertical-align: middle;\n",
       "    }\n",
       "\n",
       "    .dataframe tbody tr th {\n",
       "        vertical-align: top;\n",
       "    }\n",
       "\n",
       "    .dataframe thead th {\n",
       "        text-align: right;\n",
       "    }\n",
       "</style>\n",
       "<table border=\"1\" class=\"dataframe\">\n",
       "  <thead>\n",
       "    <tr style=\"text-align: right;\">\n",
       "      <th></th>\n",
       "      <th>Unnamed: 0</th>\n",
       "      <th>Estimativa_de_Insetos</th>\n",
       "      <th>Tipo_de_Cultivo</th>\n",
       "      <th>Tipo_de_Solo</th>\n",
       "      <th>Categoria_Pesticida</th>\n",
       "      <th>Doses_Semana</th>\n",
       "      <th>Semanas_Utilizando</th>\n",
       "      <th>Semanas_Sem_Uso</th>\n",
       "      <th>Temporada</th>\n",
       "    </tr>\n",
       "  </thead>\n",
       "  <tbody>\n",
       "    <tr>\n",
       "      <th>count</th>\n",
       "      <td>8858.000000</td>\n",
       "      <td>8858.000000</td>\n",
       "      <td>8858.000000</td>\n",
       "      <td>8858.000000</td>\n",
       "      <td>8858.000000</td>\n",
       "      <td>8858.000000</td>\n",
       "      <td>7913.000000</td>\n",
       "      <td>8858.000000</td>\n",
       "      <td>8858.000000</td>\n",
       "    </tr>\n",
       "    <tr>\n",
       "      <th>mean</th>\n",
       "      <td>84428.500000</td>\n",
       "      <td>1389.902574</td>\n",
       "      <td>0.293746</td>\n",
       "      <td>0.484308</td>\n",
       "      <td>2.233461</td>\n",
       "      <td>25.878867</td>\n",
       "      <td>28.255655</td>\n",
       "      <td>9.959359</td>\n",
       "      <td>1.891398</td>\n",
       "    </tr>\n",
       "    <tr>\n",
       "      <th>std</th>\n",
       "      <td>2557.228676</td>\n",
       "      <td>842.295394</td>\n",
       "      <td>0.455503</td>\n",
       "      <td>0.499782</td>\n",
       "      <td>0.442366</td>\n",
       "      <td>15.529796</td>\n",
       "      <td>12.083474</td>\n",
       "      <td>9.848986</td>\n",
       "      <td>0.694461</td>\n",
       "    </tr>\n",
       "    <tr>\n",
       "      <th>min</th>\n",
       "      <td>80000.000000</td>\n",
       "      <td>150.000000</td>\n",
       "      <td>0.000000</td>\n",
       "      <td>0.000000</td>\n",
       "      <td>1.000000</td>\n",
       "      <td>0.000000</td>\n",
       "      <td>0.000000</td>\n",
       "      <td>0.000000</td>\n",
       "      <td>1.000000</td>\n",
       "    </tr>\n",
       "    <tr>\n",
       "      <th>25%</th>\n",
       "      <td>82214.250000</td>\n",
       "      <td>731.000000</td>\n",
       "      <td>0.000000</td>\n",
       "      <td>0.000000</td>\n",
       "      <td>2.000000</td>\n",
       "      <td>15.000000</td>\n",
       "      <td>20.000000</td>\n",
       "      <td>0.000000</td>\n",
       "      <td>1.000000</td>\n",
       "    </tr>\n",
       "    <tr>\n",
       "      <th>50%</th>\n",
       "      <td>84428.500000</td>\n",
       "      <td>1212.000000</td>\n",
       "      <td>0.000000</td>\n",
       "      <td>0.000000</td>\n",
       "      <td>2.000000</td>\n",
       "      <td>20.000000</td>\n",
       "      <td>27.000000</td>\n",
       "      <td>8.000000</td>\n",
       "      <td>2.000000</td>\n",
       "    </tr>\n",
       "    <tr>\n",
       "      <th>75%</th>\n",
       "      <td>86642.750000</td>\n",
       "      <td>1898.000000</td>\n",
       "      <td>1.000000</td>\n",
       "      <td>1.000000</td>\n",
       "      <td>2.000000</td>\n",
       "      <td>40.000000</td>\n",
       "      <td>37.000000</td>\n",
       "      <td>16.000000</td>\n",
       "      <td>2.000000</td>\n",
       "    </tr>\n",
       "    <tr>\n",
       "      <th>max</th>\n",
       "      <td>88857.000000</td>\n",
       "      <td>4097.000000</td>\n",
       "      <td>1.000000</td>\n",
       "      <td>1.000000</td>\n",
       "      <td>3.000000</td>\n",
       "      <td>95.000000</td>\n",
       "      <td>67.000000</td>\n",
       "      <td>50.000000</td>\n",
       "      <td>3.000000</td>\n",
       "    </tr>\n",
       "  </tbody>\n",
       "</table>\n",
       "</div>"
      ],
      "text/plain": [
       "         Unnamed: 0  Estimativa_de_Insetos  Tipo_de_Cultivo  Tipo_de_Solo  \\\n",
       "count   8858.000000            8858.000000      8858.000000   8858.000000   \n",
       "mean   84428.500000            1389.902574         0.293746      0.484308   \n",
       "std     2557.228676             842.295394         0.455503      0.499782   \n",
       "min    80000.000000             150.000000         0.000000      0.000000   \n",
       "25%    82214.250000             731.000000         0.000000      0.000000   \n",
       "50%    84428.500000            1212.000000         0.000000      0.000000   \n",
       "75%    86642.750000            1898.000000         1.000000      1.000000   \n",
       "max    88857.000000            4097.000000         1.000000      1.000000   \n",
       "\n",
       "       Categoria_Pesticida  Doses_Semana  Semanas_Utilizando  Semanas_Sem_Uso  \\\n",
       "count          8858.000000   8858.000000         7913.000000      8858.000000   \n",
       "mean              2.233461     25.878867           28.255655         9.959359   \n",
       "std               0.442366     15.529796           12.083474         9.848986   \n",
       "min               1.000000      0.000000            0.000000         0.000000   \n",
       "25%               2.000000     15.000000           20.000000         0.000000   \n",
       "50%               2.000000     20.000000           27.000000         8.000000   \n",
       "75%               2.000000     40.000000           37.000000        16.000000   \n",
       "max               3.000000     95.000000           67.000000        50.000000   \n",
       "\n",
       "         Temporada  \n",
       "count  8858.000000  \n",
       "mean      1.891398  \n",
       "std       0.694461  \n",
       "min       1.000000  \n",
       "25%       1.000000  \n",
       "50%       2.000000  \n",
       "75%       2.000000  \n",
       "max       3.000000  "
      ]
     },
     "execution_count": 10,
     "metadata": {},
     "output_type": "execute_result"
    }
   ],
   "source": [
    "df_prev.describe()"
   ]
  },
  {
   "cell_type": "code",
   "execution_count": 11,
   "metadata": {},
   "outputs": [
    {
     "name": "stdout",
     "output_type": "stream",
     "text": [
      "A média geral é de 1389.902573944457\n"
     ]
    }
   ],
   "source": [
    "# Média\n",
    "\n",
    "media_geral = df_prev.Estimativa_de_Insetos.mean()\n",
    "print(\"A média geral é de {}\". format(media_geral))"
   ]
  },
  {
   "cell_type": "code",
   "execution_count": 12,
   "metadata": {},
   "outputs": [
    {
     "name": "stdout",
     "output_type": "stream",
     "text": [
      "A mediana geral é de 1212.0\n"
     ]
    }
   ],
   "source": [
    "#Mediana\n",
    "\n",
    "mediana = df_prev.Estimativa_de_Insetos.median()\n",
    "print(\"A mediana geral é de {}\". format(mediana))"
   ]
  },
  {
   "cell_type": "markdown",
   "metadata": {},
   "source": [
    "# Análise exploratória de dados da safra 2020"
   ]
  },
  {
   "cell_type": "code",
   "execution_count": 13,
   "metadata": {},
   "outputs": [
    {
     "data": {
      "text/plain": [
       "<matplotlib.axes._subplots.AxesSubplot at 0x15497892508>"
      ]
     },
     "execution_count": 13,
     "metadata": {},
     "output_type": "execute_result"
    },
    {
     "data": {
      "image/png": "[encoded data removed]",
      "text/plain": [
       "<Figure size 576x432 with 1 Axes>"
      ]
     },
     "metadata": {
      "needs_background": "light"
     },
     "output_type": "display_data"
    }
   ],
   "source": [
    "df = plt.figure(figsize=(8, 6))\n",
    "\n",
    "sns.countplot(x=\"Estimativa_de_Insetos\", data=df_prev)"
   ]
  },
  {
   "cell_type": "code",
   "execution_count": 14,
   "metadata": {},
   "outputs": [
    {
     "data": {
      "text/plain": [
       "Text(0.5, 1.0, 'Safra')"
      ]
     },
     "execution_count": 14,
     "metadata": {},
     "output_type": "execute_result"
    },
    {
     "data": {
      "image/png": "[encoded data removed]",
      "text/plain": [
       "<Figure size 576x432 with 1 Axes>"
      ]
     },
     "metadata": {
      "needs_background": "light"
     },
     "output_type": "display_data"
    }
   ],
   "source": [
    "df = plt.figure(figsize=(8, 6))\n",
    "\n",
    "x1 = sns.distplot(df_prev['Temporada'], kde=True)\n",
    "x1.figure.suptitle('Temporada da safra')\n",
    "x1.set_title('Safra')"
   ]
  },
  {
   "cell_type": "code",
   "execution_count": 15,
   "metadata": {},
   "outputs": [
    {
     "data": {
      "text/plain": [
       "Text(0.5, 1.0, 'Safra')"
      ]
     },
     "execution_count": 15,
     "metadata": {},
     "output_type": "execute_result"
    },
    {
     "data": {
      "image/png": "[encoded data removed]",
      "text/plain": [
       "<Figure size 576x432 with 1 Axes>"
      ]
     },
     "metadata": {
      "needs_background": "light"
     },
     "output_type": "display_data"
    }
   ],
   "source": [
    "df = plt.figure(figsize=(8, 6))\n",
    "\n",
    "x2 = sns.distplot(df_prev['Estimativa_de_Insetos'], kde = True)\n",
    "x2.figure.suptitle('Estimativa de insetos da safra')\n",
    "x2.set_title('Safra')"
   ]
  },
  {
   "cell_type": "code",
   "execution_count": 16,
   "metadata": {},
   "outputs": [
    {
     "data": {
      "text/plain": [
       "Text(0.5, 1.0, 'Safra')"
      ]
     },
     "execution_count": 16,
     "metadata": {},
     "output_type": "execute_result"
    },
    {
     "data": {
      "image/png": "[encoded data removed]",
      "text/plain": [
       "<Figure size 576x432 with 1 Axes>"
      ]
     },
     "metadata": {
      "needs_background": "light"
     },
     "output_type": "display_data"
    }
   ],
   "source": [
    "df = plt.figure(figsize=(8, 6))\n",
    "\n",
    "x3 = sns.distplot(df_prev[\"Tipo_de_Cultivo\"], kde = True)\n",
    "x3.figure.suptitle('Cultivo da safra')\n",
    "x3.set_title('Safra')"
   ]
  },
  {
   "cell_type": "code",
   "execution_count": 17,
   "metadata": {},
   "outputs": [
    {
     "data": {
      "text/plain": [
       "Text(0.5, 1.0, 'Pesticida')"
      ]
     },
     "execution_count": 17,
     "metadata": {},
     "output_type": "execute_result"
    },
    {
     "data": {
      "image/png": "[encoded data removed]",
      "text/plain": [
       "<Figure size 576x432 with 1 Axes>"
      ]
     },
     "metadata": {
      "needs_background": "light"
     },
     "output_type": "display_data"
    }
   ],
   "source": [
    "df = plt.figure(figsize=(8, 6))\n",
    "\n",
    "x4 = sns.distplot(df_train[\"Categoria_Pesticida\"], kde = True)\n",
    "x4.figure.suptitle(\"Uso de pesticida na plantação\")\n",
    "x4.set_title(\"Pesticida\")"
   ]
  },
  {
   "cell_type": "code",
   "execution_count": 18,
   "metadata": {},
   "outputs": [
    {
     "data": {
      "text/plain": [
       "Text(0.5, 1.0, 'Cultivo')"
      ]
     },
     "execution_count": 18,
     "metadata": {},
     "output_type": "execute_result"
    },
    {
     "data": {
      "image/png": "[encoded data removed]",
      "text/plain": [
       "<Figure size 576x432 with 1 Axes>"
      ]
     },
     "metadata": {
      "needs_background": "light"
     },
     "output_type": "display_data"
    }
   ],
   "source": [
    "df = plt.figure(figsize=(8, 6))\n",
    "\n",
    "x5 = sns.distplot(df_train[\"Tipo_de_Cultivo\"], kde = True)\n",
    "x5.figure.suptitle(\"Cultivo da safra\")\n",
    "x5.set_title(\"Cultivo\")"
   ]
  },
  {
   "cell_type": "code",
   "execution_count": 19,
   "metadata": {},
   "outputs": [
    {
     "data": {
      "text/plain": [
       "<matplotlib.axes._subplots.AxesSubplot at 0x15497fdb508>"
      ]
     },
     "execution_count": 19,
     "metadata": {},
     "output_type": "execute_result"
    },
    {
     "data": {
      "image/png": "[encoded data removed]",
      "text/plain": [
       "<Figure size 576x432 with 1 Axes>"
      ]
     },
     "metadata": {
      "needs_background": "light"
     },
     "output_type": "display_data"
    }
   ],
   "source": [
    "df = plt.figure(figsize=(8, 6))\n",
    "\n",
    "sns.boxplot(x=\"Tipo_de_Cultivo\", y=\"Temporada\", data=df_train)"
   ]
  },
  {
   "cell_type": "code",
   "execution_count": 20,
   "metadata": {},
   "outputs": [
    {
     "data": {
      "text/plain": [
       "<matplotlib.axes._subplots.AxesSubplot at 0x15498287808>"
      ]
     },
     "execution_count": 20,
     "metadata": {},
     "output_type": "execute_result"
    },
    {
     "data": {
      "image/png": "[encoded data removed]",
      "text/plain": [
       "<Figure size 576x432 with 1 Axes>"
      ]
     },
     "metadata": {
      "needs_background": "light"
     },
     "output_type": "display_data"
    }
   ],
   "source": [
    "df = plt.figure(figsize=(8, 6))\n",
    "\n",
    "sns.boxplot(x=\"dano_na_plantacao\", y=\"Estimativa_de_Insetos\", data=df_train)"
   ]
  },
  {
   "cell_type": "code",
   "execution_count": 21,
   "metadata": {},
   "outputs": [
    {
     "data": {
      "image/png": "[encoded data removed]",
      "text/plain": [
       "<Figure size 1440x720 with 4 Axes>"
      ]
     },
     "metadata": {
      "needs_background": "light"
     },
     "output_type": "display_data"
    }
   ],
   "source": [
    "df = plt.figure(figsize=(20, 10))\n",
    "\n",
    "plt.subplot(2,2,1)\n",
    "df = sns.boxplot(x=\"dano_na_plantacao\", y=\"Estimativa_de_Insetos\", data=df_train)\n",
    "plt.subplot(2,2,2)\n",
    "df = sns.boxplot(x=\"Tipo_de_Cultivo\", y=\"Temporada\", data=df_train)\n",
    "plt.subplot(2,2,3)\n",
    "df = sns.boxplot(x=\"Tipo_de_Solo\", y=\"Categoria_Pesticida\", data=df_train)\n",
    "plt.subplot(2,2,4)\n",
    "df = sns.boxplot(x=\"Categoria_Pesticida\", y=\"Tipo_de_Cultivo\", data=df_train)"
   ]
  },
  {
   "cell_type": "code",
   "execution_count": 22,
   "metadata": {},
   "outputs": [
    {
     "data": {
      "image/png": "[encoded data removed]",
      "text/plain": [
       "<Figure size 1440x720 with 12 Axes>"
      ]
     },
     "metadata": {
      "needs_background": "light"
     },
     "output_type": "display_data"
    }
   ],
   "source": [
    "df_train.hist(bins = 60, figsize=(20, 10))\n",
    "plt.show()"
   ]
  },
  {
   "cell_type": "markdown",
   "metadata": {},
   "source": [
    "# Modelo machine learning"
   ]
  },
  {
   "cell_type": "code",
   "execution_count": 23,
   "metadata": {},
   "outputs": [
    {
     "data": {
      "text/html": [
       "<div>\n",
       "<style scoped>\n",
       "    .dataframe tbody tr th:only-of-type {\n",
       "        vertical-align: middle;\n",
       "    }\n",
       "\n",
       "    .dataframe tbody tr th {\n",
       "        vertical-align: top;\n",
       "    }\n",
       "\n",
       "    .dataframe thead th {\n",
       "        text-align: right;\n",
       "    }\n",
       "</style>\n",
       "<table border=\"1\" class=\"dataframe\">\n",
       "  <thead>\n",
       "    <tr style=\"text-align: right;\">\n",
       "      <th></th>\n",
       "      <th>Unnamed: 0</th>\n",
       "      <th>Estimativa_de_Insetos</th>\n",
       "      <th>Tipo_de_Cultivo</th>\n",
       "      <th>Tipo_de_Solo</th>\n",
       "      <th>Categoria_Pesticida</th>\n",
       "      <th>Doses_Semana</th>\n",
       "      <th>Semanas_Utilizando</th>\n",
       "      <th>Semanas_Sem_Uso</th>\n",
       "      <th>Temporada</th>\n",
       "    </tr>\n",
       "  </thead>\n",
       "  <tbody>\n",
       "    <tr>\n",
       "      <th>Unnamed: 0</th>\n",
       "      <td>1.000000</td>\n",
       "      <td>0.076178</td>\n",
       "      <td>0.038461</td>\n",
       "      <td>-0.082679</td>\n",
       "      <td>-0.056800</td>\n",
       "      <td>-0.013689</td>\n",
       "      <td>0.017531</td>\n",
       "      <td>0.057247</td>\n",
       "      <td>-0.009782</td>\n",
       "    </tr>\n",
       "    <tr>\n",
       "      <th>Estimativa_de_Insetos</th>\n",
       "      <td>0.076178</td>\n",
       "      <td>1.000000</td>\n",
       "      <td>-0.077514</td>\n",
       "      <td>-0.057919</td>\n",
       "      <td>-0.073074</td>\n",
       "      <td>-0.108416</td>\n",
       "      <td>0.425290</td>\n",
       "      <td>0.303924</td>\n",
       "      <td>-0.003878</td>\n",
       "    </tr>\n",
       "    <tr>\n",
       "      <th>Tipo_de_Cultivo</th>\n",
       "      <td>0.038461</td>\n",
       "      <td>-0.077514</td>\n",
       "      <td>1.000000</td>\n",
       "      <td>-0.365603</td>\n",
       "      <td>0.209861</td>\n",
       "      <td>-0.203690</td>\n",
       "      <td>-0.033672</td>\n",
       "      <td>-0.211736</td>\n",
       "      <td>-0.003361</td>\n",
       "    </tr>\n",
       "    <tr>\n",
       "      <th>Tipo_de_Solo</th>\n",
       "      <td>-0.082679</td>\n",
       "      <td>-0.057919</td>\n",
       "      <td>-0.365603</td>\n",
       "      <td>1.000000</td>\n",
       "      <td>0.005337</td>\n",
       "      <td>0.105314</td>\n",
       "      <td>-0.083371</td>\n",
       "      <td>0.036570</td>\n",
       "      <td>0.005174</td>\n",
       "    </tr>\n",
       "    <tr>\n",
       "      <th>Categoria_Pesticida</th>\n",
       "      <td>-0.056800</td>\n",
       "      <td>-0.073074</td>\n",
       "      <td>0.209861</td>\n",
       "      <td>0.005337</td>\n",
       "      <td>1.000000</td>\n",
       "      <td>-0.008916</td>\n",
       "      <td>0.345346</td>\n",
       "      <td>-0.533731</td>\n",
       "      <td>0.017858</td>\n",
       "    </tr>\n",
       "    <tr>\n",
       "      <th>Doses_Semana</th>\n",
       "      <td>-0.013689</td>\n",
       "      <td>-0.108416</td>\n",
       "      <td>-0.203690</td>\n",
       "      <td>0.105314</td>\n",
       "      <td>-0.008916</td>\n",
       "      <td>1.000000</td>\n",
       "      <td>0.149966</td>\n",
       "      <td>-0.064423</td>\n",
       "      <td>0.006391</td>\n",
       "    </tr>\n",
       "    <tr>\n",
       "      <th>Semanas_Utilizando</th>\n",
       "      <td>0.017531</td>\n",
       "      <td>0.425290</td>\n",
       "      <td>-0.033672</td>\n",
       "      <td>-0.083371</td>\n",
       "      <td>0.345346</td>\n",
       "      <td>0.149966</td>\n",
       "      <td>1.000000</td>\n",
       "      <td>-0.461917</td>\n",
       "      <td>0.027372</td>\n",
       "    </tr>\n",
       "    <tr>\n",
       "      <th>Semanas_Sem_Uso</th>\n",
       "      <td>0.057247</td>\n",
       "      <td>0.303924</td>\n",
       "      <td>-0.211736</td>\n",
       "      <td>0.036570</td>\n",
       "      <td>-0.533731</td>\n",
       "      <td>-0.064423</td>\n",
       "      <td>-0.461917</td>\n",
       "      <td>1.000000</td>\n",
       "      <td>-0.023178</td>\n",
       "    </tr>\n",
       "    <tr>\n",
       "      <th>Temporada</th>\n",
       "      <td>-0.009782</td>\n",
       "      <td>-0.003878</td>\n",
       "      <td>-0.003361</td>\n",
       "      <td>0.005174</td>\n",
       "      <td>0.017858</td>\n",
       "      <td>0.006391</td>\n",
       "      <td>0.027372</td>\n",
       "      <td>-0.023178</td>\n",
       "      <td>1.000000</td>\n",
       "    </tr>\n",
       "  </tbody>\n",
       "</table>\n",
       "</div>"
      ],
      "text/plain": [
       "                       Unnamed: 0  Estimativa_de_Insetos  Tipo_de_Cultivo  \\\n",
       "Unnamed: 0               1.000000               0.076178         0.038461   \n",
       "Estimativa_de_Insetos    0.076178               1.000000        -0.077514   \n",
       "Tipo_de_Cultivo          0.038461              -0.077514         1.000000   \n",
       "Tipo_de_Solo            -0.082679              -0.057919        -0.365603   \n",
       "Categoria_Pesticida     -0.056800              -0.073074         0.209861   \n",
       "Doses_Semana            -0.013689              -0.108416        -0.203690   \n",
       "Semanas_Utilizando       0.017531               0.425290        -0.033672   \n",
       "Semanas_Sem_Uso          0.057247               0.303924        -0.211736   \n",
       "Temporada               -0.009782              -0.003878        -0.003361   \n",
       "\n",
       "                       Tipo_de_Solo  Categoria_Pesticida  Doses_Semana  \\\n",
       "Unnamed: 0                -0.082679            -0.056800     -0.013689   \n",
       "Estimativa_de_Insetos     -0.057919            -0.073074     -0.108416   \n",
       "Tipo_de_Cultivo           -0.365603             0.209861     -0.203690   \n",
       "Tipo_de_Solo               1.000000             0.005337      0.105314   \n",
       "Categoria_Pesticida        0.005337             1.000000     -0.008916   \n",
       "Doses_Semana               0.105314            -0.008916      1.000000   \n",
       "Semanas_Utilizando        -0.083371             0.345346      0.149966   \n",
       "Semanas_Sem_Uso            0.036570            -0.533731     -0.064423   \n",
       "Temporada                  0.005174             0.017858      0.006391   \n",
       "\n",
       "                       Semanas_Utilizando  Semanas_Sem_Uso  Temporada  \n",
       "Unnamed: 0                       0.017531         0.057247  -0.009782  \n",
       "Estimativa_de_Insetos            0.425290         0.303924  -0.003878  \n",
       "Tipo_de_Cultivo                 -0.033672        -0.211736  -0.003361  \n",
       "Tipo_de_Solo                    -0.083371         0.036570   0.005174  \n",
       "Categoria_Pesticida              0.345346        -0.533731   0.017858  \n",
       "Doses_Semana                     0.149966        -0.064423   0.006391  \n",
       "Semanas_Utilizando               1.000000        -0.461917   0.027372  \n",
       "Semanas_Sem_Uso                 -0.461917         1.000000  -0.023178  \n",
       "Temporada                        0.027372        -0.023178   1.000000  "
      ]
     },
     "execution_count": 23,
     "metadata": {},
     "output_type": "execute_result"
    }
   ],
   "source": [
    "df_prev.corr()"
   ]
  },
  {
   "cell_type": "code",
   "execution_count": 24,
   "metadata": {},
   "outputs": [
    {
     "data": {
      "text/plain": [
       "array([[-1.34628135, -0.64491915,  1.03189237],\n",
       "       [-1.31422428, -0.64491915,  1.03189237],\n",
       "       [-1.31422428, -0.64491915,  1.03189237],\n",
       "       ...,\n",
       "       [ 2.52431328,  1.55058195, -0.96909332],\n",
       "       [ 2.74515088,  1.55058195, -0.96909332],\n",
       "       [ 2.97429958,  1.55058195, -0.96909332]])"
      ]
     },
     "execution_count": 24,
     "metadata": {},
     "output_type": "execute_result"
    }
   ],
   "source": [
    "from sklearn.preprocessing import StandardScaler\n",
    "\n",
    "train = df_prev.iloc[:, 1:4].values\n",
    "test = df_prev.iloc[:, 4].values\n",
    "\n",
    "#Scaler transforma todas as features em uma mesma escala.\n",
    "scaler = StandardScaler()\n",
    "train = scaler.fit_transform(train)\n",
    "train"
   ]
  },
  {
   "cell_type": "code",
   "execution_count": 25,
   "metadata": {},
   "outputs": [
    {
     "data": {
      "text/plain": [
       "array([[-1.34628135, -0.64491915,  1.03189237],\n",
       "       [-1.31422428, -0.64491915,  1.03189237],\n",
       "       [-1.31422428, -0.64491915,  1.03189237],\n",
       "       ...,\n",
       "       [ 2.52431328,  1.55058195, -0.96909332],\n",
       "       [ 2.74515088,  1.55058195, -0.96909332],\n",
       "       [ 2.97429958,  1.55058195, -0.96909332]])"
      ]
     },
     "execution_count": 25,
     "metadata": {},
     "output_type": "execute_result"
    }
   ],
   "source": [
    "#pipeline para automatizar o preenchimento dos valores\n",
    "\n",
    "from sklearn.impute import SimpleImputer\n",
    "\n",
    "Imputer = SimpleImputer(missing_values = np.nan, strategy = \"mean\")\n",
    "Imputer = Imputer.fit(train[:, 1:4])\n",
    "train[:, 1:4] = Imputer.transform(train[:, 1:4])\n",
    "train"
   ]
  },
  {
   "cell_type": "code",
   "execution_count": 26,
   "metadata": {},
   "outputs": [],
   "source": [
    "#Treino teste do modelo para treinar o modelo \n",
    "\n",
    "from sklearn.model_selection import train_test_split\n",
    "\n",
    "X_train, x_test, y_train, y_test = train_test_split(train, test, test_size = 0.3)"
   ]
  },
  {
   "cell_type": "code",
   "execution_count": 27,
   "metadata": {},
   "outputs": [
    {
     "name": "stdout",
     "output_type": "stream",
     "text": [
      "[2 2 2 ... 2 2 2]\n",
      "Accuracy: 0.7516930022573364\n"
     ]
    }
   ],
   "source": [
    "#Algoritmo Naive bayes\n",
    "#valor da acuracia do modelo de naive_bayes\n",
    "\n",
    "from sklearn import metrics\n",
    "from sklearn.naive_bayes import GaussianNB\n",
    "\n",
    "naive = GaussianNB()\n",
    "naive.fit(X_train, y_train)\n",
    "naive_prev = naive.predict(x_test)\n",
    "print(naive_prev)\n",
    "print(\"Accuracy:\",metrics.accuracy_score(y_test, naive_prev))"
   ]
  },
  {
   "cell_type": "code",
   "execution_count": 28,
   "metadata": {},
   "outputs": [
    {
     "name": "stdout",
     "output_type": "stream",
     "text": [
      "[2 2 2 ... 2 2 2]\n",
      "Accuracy: 0.8073739653875094\n"
     ]
    }
   ],
   "source": [
    "#Algoritmo K-NN \n",
    "\n",
    "from sklearn.neighbors import KNeighborsClassifier\n",
    "knn = KNeighborsClassifier(n_neighbors = 8, metric = \"minkowski\", p = 2)\n",
    "knn.fit(X_train, y_train)\n",
    "knn_pred = knn.predict(x_test)\n",
    "print(knn_pred)\n",
    "print(\"Accuracy:\",metrics.accuracy_score(y_test, knn_pred))"
   ]
  },
  {
   "cell_type": "code",
   "execution_count": 29,
   "metadata": {},
   "outputs": [
    {
     "name": "stdout",
     "output_type": "stream",
     "text": [
      "[2 2 2 ... 2 2 2]\n",
      "Accuracy: 0.8088788562829194\n"
     ]
    }
   ],
   "source": [
    "#Algoritmo Random Forest\n",
    "from sklearn.ensemble import RandomForestClassifier\n",
    "\n",
    "Random = RandomForestClassifier(n_estimators = 200)\n",
    "Random.fit(X_train, y_train)\n",
    "Random = Random.predict(x_test)\n",
    "print(Random)\n",
    "print(\"Accuracy:\",metrics.accuracy_score(y_test, Random))"
   ]
  },
  {
   "cell_type": "code",
   "execution_count": 30,
   "metadata": {},
   "outputs": [
    {
     "name": "stdout",
     "output_type": "stream",
     "text": [
      "Acurácia Naive bayes: 75.17\n",
      "Acurácia K-NN: 80.74\n",
      "Acurácia Random Forest: 80.89\n"
     ]
    }
   ],
   "source": [
    "#valor da acuracia \n",
    "# Valor da matrix de confussão\n",
    "from sklearn.metrics import confusion_matrix, accuracy_score\n",
    "\n",
    "acurácia_naive_bayes = accuracy_score(y_test, naive_prev)\n",
    "acurácia_KNN = accuracy_score(y_test, knn_pred)\n",
    "acurácia_Random = accuracy_score(y_test, Random)\n",
    "\n",
    "matrix_naive_bayes = confusion_matrix(y_test, naive_prev)\n",
    "matrix_KNN = confusion_matrix(y_test, knn_pred)\n",
    "matrix_Random = confusion_matrix(y_test, Random)\n",
    "\n",
    "print(\"Acurácia Naive bayes: %.2f\" % (acurácia_naive_bayes * 100))\n",
    "print(\"Acurácia K-NN: %.2f\" % (acurácia_KNN * 100))\n",
    "print(\"Acurácia Random Forest: %.2f\" % (acurácia_Random * 100))"
   ]
  },
  {
   "cell_type": "code",
   "execution_count": 31,
   "metadata": {},
   "outputs": [
    {
     "name": "stdout",
     "output_type": "stream",
     "text": [
      "Classificaçao do Naive Bayes: \n",
      "               precision    recall  f1-score   support\n",
      "\n",
      "           1       0.00      0.00      0.00        27\n",
      "           2       0.76      0.98      0.86      2001\n",
      "           3       0.47      0.06      0.10       630\n",
      "\n",
      "    accuracy                           0.75      2658\n",
      "   macro avg       0.41      0.35      0.32      2658\n",
      "weighted avg       0.68      0.75      0.67      2658\n",
      "\n"
     ]
    },
    {
     "name": "stderr",
     "output_type": "stream",
     "text": [
      "C:\\Users\\RafaelHenriqueGallo\\Anaconda\\lib\\site-packages\\sklearn\\metrics\\_classification.py:1272: UndefinedMetricWarning: Precision and F-score are ill-defined and being set to 0.0 in labels with no predicted samples. Use `zero_division` parameter to control this behavior.\n",
      "  _warn_prf(average, modifier, msg_start, len(result))\n"
     ]
    }
   ],
   "source": [
    "#Classificação de algoritmos K-NN, Naive bayes, Random florest\n",
    "\n",
    "from sklearn.metrics import confusion_matrix,classification_report\n",
    "\n",
    "matrix = classification_report(y_test, naive_prev)\n",
    "print(\"Classificaçao do Naive Bayes: \\n\", matrix)"
   ]
  },
  {
   "cell_type": "code",
   "execution_count": 32,
   "metadata": {},
   "outputs": [
    {
     "name": "stdout",
     "output_type": "stream",
     "text": [
      "Classificaçao do  K-NN: \n",
      "               precision    recall  f1-score   support\n",
      "\n",
      "           1       0.00      0.00      0.00        27\n",
      "           2       0.81      0.98      0.89      2001\n",
      "           3       0.83      0.28      0.42       630\n",
      "\n",
      "    accuracy                           0.81      2658\n",
      "   macro avg       0.54      0.42      0.43      2658\n",
      "weighted avg       0.80      0.81      0.77      2658\n",
      "\n"
     ]
    },
    {
     "name": "stderr",
     "output_type": "stream",
     "text": [
      "C:\\Users\\RafaelHenriqueGallo\\Anaconda\\lib\\site-packages\\sklearn\\metrics\\_classification.py:1272: UndefinedMetricWarning: Precision and F-score are ill-defined and being set to 0.0 in labels with no predicted samples. Use `zero_division` parameter to control this behavior.\n",
      "  _warn_prf(average, modifier, msg_start, len(result))\n"
     ]
    }
   ],
   "source": [
    "matrix = classification_report(y_test, knn_pred)\n",
    "print(\"Classificaçao do  K-NN: \\n\", matrix)"
   ]
  },
  {
   "cell_type": "code",
   "execution_count": 33,
   "metadata": {},
   "outputs": [
    {
     "name": "stderr",
     "output_type": "stream",
     "text": [
      "C:\\Users\\RafaelHenriqueGallo\\Anaconda\\lib\\site-packages\\sklearn\\metrics\\_classification.py:1272: UndefinedMetricWarning: Precision and F-score are ill-defined and being set to 0.0 in labels with no predicted samples. Use `zero_division` parameter to control this behavior.\n",
      "  _warn_prf(average, modifier, msg_start, len(result))\n"
     ]
    },
    {
     "name": "stdout",
     "output_type": "stream",
     "text": [
      "Classificaçao do Random Forest: \n",
      "               precision    recall  f1-score   support\n",
      "\n",
      "           1       0.00      0.00      0.00        27\n",
      "           2       0.81      0.99      0.89      2001\n",
      "           3       0.84      0.28      0.42       630\n",
      "\n",
      "    accuracy                           0.81      2658\n",
      "   macro avg       0.55      0.42      0.44      2658\n",
      "weighted avg       0.81      0.81      0.77      2658\n",
      "\n"
     ]
    }
   ],
   "source": [
    "matrix = classification_report(y_test, Random)\n",
    "print(\"Classificaçao do Random Forest: \\n\", matrix)"
   ]
  },
  {
   "cell_type": "markdown",
   "metadata": {},
   "source": [
    "**Graficos da matriz de Confusão**"
   ]
  },
  {
   "cell_type": "code",
   "execution_count": 34,
   "metadata": {},
   "outputs": [
    {
     "data": {
      "image/png": "[encoded data removed]",
      "text/plain": [
       "<Figure size 720x576 with 2 Axes>"
      ]
     },
     "metadata": {
      "needs_background": "light"
     },
     "output_type": "display_data"
    }
   ],
   "source": [
    "plt.figure(figsize=(10,8))\n",
    "\n",
    "sns.heatmap(matrix_naive_bayes, annot = True,cmap = 'cubehelix_r')\n",
    "plt.show()"
   ]
  },
  {
   "cell_type": "code",
   "execution_count": 35,
   "metadata": {},
   "outputs": [
    {
     "data": {
      "image/png": "[encoded data removed]",
      "text/plain": [
       "<Figure size 720x576 with 2 Axes>"
      ]
     },
     "metadata": {
      "needs_background": "light"
     },
     "output_type": "display_data"
    }
   ],
   "source": [
    "plt.figure(figsize=(10,8))\n",
    "\n",
    "sns.heatmap(matrix_KNN, annot = True,cmap = 'cubehelix_r')\n",
    "plt.show()"
   ]
  },
  {
   "cell_type": "code",
   "execution_count": 36,
   "metadata": {},
   "outputs": [
    {
     "data": {
      "image/png": "[encoded data removed]",
      "text/plain": [
       "<Figure size 720x576 with 2 Axes>"
      ]
     },
     "metadata": {
      "needs_background": "light"
     },
     "output_type": "display_data"
    }
   ],
   "source": [
    "plt.figure(figsize=(10,8))\n",
    "\n",
    "sns.heatmap(matrix_Random, annot = True,cmap = 'cubehelix_r')\n",
    "plt.show()"
   ]
  },
  {
   "cell_type": "code",
   "execution_count": null,
   "metadata": {},
   "outputs": [],
   "source": []
  }
 ],
 "metadata": {
  "kernelspec": {
   "display_name": "Python 3",
   "language": "python",
   "name": "python3"
  },
  "language_info": {
   "codemirror_mode": {
    "name": "ipython",
    "version": 3
   },
   "file_extension": ".py",
   "mimetype": "text/x-python",
   "name": "python",
   "nbconvert_exporter": "python",
   "pygments_lexer": "ipython3",
   "version": "3.7.7"
  }
 },
 "nbformat": 4,
 "nbformat_minor": 4
}
