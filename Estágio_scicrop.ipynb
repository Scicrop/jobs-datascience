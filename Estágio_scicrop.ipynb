{
 "cells": [
  {
   "cell_type": "markdown",
   "metadata": {},
   "source": [
    "# Importar bibliotecas"
   ]
  },
  {
   "cell_type": "code",
   "execution_count": 1,
   "metadata": {},
   "outputs": [],
   "source": [
    "# importando bibliotecas\n",
    "import pandas as pd\n",
    "import numpy as np\n",
    "\n",
    "from sklearn import linear_model as lm\n",
    "from sklearn.tree import DecisionTreeClassifier, export_graphviz\n",
    "from sklearn.model_selection import train_test_split\n",
    "from sklearn import metrics\n",
    "\n",
    "import seaborn as sns\n",
    "import matplotlib.pyplot as plt\n",
    "\n",
    "%matplotlib inline"
   ]
  },
  {
   "cell_type": "markdown",
   "metadata": {},
   "source": [
    "# Ler arquivos"
   ]
  },
  {
   "cell_type": "code",
   "execution_count": 2,
   "metadata": {},
   "outputs": [],
   "source": [
    "train = pd.read_csv('Safra_2018-2019.csv')\n",
    "test = pd.read_csv('Safra_2020.csv')"
   ]
  },
  {
   "cell_type": "markdown",
   "metadata": {},
   "source": [
    "# Definir a coluna Unnamed como index"
   ]
  },
  {
   "cell_type": "code",
   "execution_count": 3,
   "metadata": {},
   "outputs": [],
   "source": [
    "train = train.set_index('Unnamed: 0')"
   ]
  },
  {
   "cell_type": "code",
   "execution_count": 4,
   "metadata": {},
   "outputs": [],
   "source": [
    "test = test.set_index('Unnamed: 0')"
   ]
  },
  {
   "cell_type": "code",
   "execution_count": null,
   "metadata": {},
   "outputs": [],
   "source": []
  },
  {
   "cell_type": "code",
   "execution_count": 5,
   "metadata": {},
   "outputs": [
    {
     "data": {
      "text/html": [
       "<div>\n",
       "<style scoped>\n",
       "    .dataframe tbody tr th:only-of-type {\n",
       "        vertical-align: middle;\n",
       "    }\n",
       "\n",
       "    .dataframe tbody tr th {\n",
       "        vertical-align: top;\n",
       "    }\n",
       "\n",
       "    .dataframe thead th {\n",
       "        text-align: right;\n",
       "    }\n",
       "</style>\n",
       "<table border=\"1\" class=\"dataframe\">\n",
       "  <thead>\n",
       "    <tr style=\"text-align: right;\">\n",
       "      <th></th>\n",
       "      <th>Identificador_Agricultor</th>\n",
       "      <th>Estimativa_de_Insetos</th>\n",
       "      <th>Tipo_de_Cultivo</th>\n",
       "      <th>Tipo_de_Solo</th>\n",
       "      <th>Categoria_Pesticida</th>\n",
       "      <th>Doses_Semana</th>\n",
       "      <th>Semanas_Utilizando</th>\n",
       "      <th>Semanas_Sem_Uso</th>\n",
       "      <th>Temporada</th>\n",
       "      <th>dano_na_plantacao</th>\n",
       "    </tr>\n",
       "    <tr>\n",
       "      <th>Unnamed: 0</th>\n",
       "      <th></th>\n",
       "      <th></th>\n",
       "      <th></th>\n",
       "      <th></th>\n",
       "      <th></th>\n",
       "      <th></th>\n",
       "      <th></th>\n",
       "      <th></th>\n",
       "      <th></th>\n",
       "      <th></th>\n",
       "    </tr>\n",
       "  </thead>\n",
       "  <tbody>\n",
       "    <tr>\n",
       "      <th>0</th>\n",
       "      <td>SCROP00001</td>\n",
       "      <td>188</td>\n",
       "      <td>1</td>\n",
       "      <td>0</td>\n",
       "      <td>1</td>\n",
       "      <td>0</td>\n",
       "      <td>0.0</td>\n",
       "      <td>0</td>\n",
       "      <td>1</td>\n",
       "      <td>0</td>\n",
       "    </tr>\n",
       "    <tr>\n",
       "      <th>1</th>\n",
       "      <td>SCROP00002</td>\n",
       "      <td>209</td>\n",
       "      <td>1</td>\n",
       "      <td>0</td>\n",
       "      <td>1</td>\n",
       "      <td>0</td>\n",
       "      <td>0.0</td>\n",
       "      <td>0</td>\n",
       "      <td>2</td>\n",
       "      <td>1</td>\n",
       "    </tr>\n",
       "    <tr>\n",
       "      <th>2</th>\n",
       "      <td>SCROP00003</td>\n",
       "      <td>257</td>\n",
       "      <td>1</td>\n",
       "      <td>0</td>\n",
       "      <td>1</td>\n",
       "      <td>0</td>\n",
       "      <td>0.0</td>\n",
       "      <td>0</td>\n",
       "      <td>2</td>\n",
       "      <td>1</td>\n",
       "    </tr>\n",
       "    <tr>\n",
       "      <th>3</th>\n",
       "      <td>SCROP00004</td>\n",
       "      <td>257</td>\n",
       "      <td>1</td>\n",
       "      <td>1</td>\n",
       "      <td>1</td>\n",
       "      <td>0</td>\n",
       "      <td>0.0</td>\n",
       "      <td>0</td>\n",
       "      <td>2</td>\n",
       "      <td>1</td>\n",
       "    </tr>\n",
       "    <tr>\n",
       "      <th>4</th>\n",
       "      <td>SCROP00005</td>\n",
       "      <td>342</td>\n",
       "      <td>1</td>\n",
       "      <td>0</td>\n",
       "      <td>1</td>\n",
       "      <td>0</td>\n",
       "      <td>0.0</td>\n",
       "      <td>0</td>\n",
       "      <td>2</td>\n",
       "      <td>1</td>\n",
       "    </tr>\n",
       "  </tbody>\n",
       "</table>\n",
       "</div>"
      ],
      "text/plain": [
       "           Identificador_Agricultor  Estimativa_de_Insetos  Tipo_de_Cultivo  \\\n",
       "Unnamed: 0                                                                    \n",
       "0                        SCROP00001                    188                1   \n",
       "1                        SCROP00002                    209                1   \n",
       "2                        SCROP00003                    257                1   \n",
       "3                        SCROP00004                    257                1   \n",
       "4                        SCROP00005                    342                1   \n",
       "\n",
       "            Tipo_de_Solo  Categoria_Pesticida  Doses_Semana  \\\n",
       "Unnamed: 0                                                    \n",
       "0                      0                    1             0   \n",
       "1                      0                    1             0   \n",
       "2                      0                    1             0   \n",
       "3                      1                    1             0   \n",
       "4                      0                    1             0   \n",
       "\n",
       "            Semanas_Utilizando  Semanas_Sem_Uso  Temporada  dano_na_plantacao  \n",
       "Unnamed: 0                                                                     \n",
       "0                          0.0                0          1                  0  \n",
       "1                          0.0                0          2                  1  \n",
       "2                          0.0                0          2                  1  \n",
       "3                          0.0                0          2                  1  \n",
       "4                          0.0                0          2                  1  "
      ]
     },
     "execution_count": 5,
     "metadata": {},
     "output_type": "execute_result"
    }
   ],
   "source": [
    "train.head()"
   ]
  },
  {
   "cell_type": "markdown",
   "metadata": {},
   "source": [
    "# Verificando o tamanho de cada data set"
   ]
  },
  {
   "cell_type": "code",
   "execution_count": 6,
   "metadata": {},
   "outputs": [
    {
     "data": {
      "text/plain": [
       "((80000, 10), (8858, 9))"
      ]
     },
     "execution_count": 6,
     "metadata": {},
     "output_type": "execute_result"
    }
   ],
   "source": [
    "train.shape, test.shape"
   ]
  },
  {
   "cell_type": "markdown",
   "metadata": {},
   "source": [
    "# Verificando os valores nulos do dados de treino"
   ]
  },
  {
   "cell_type": "code",
   "execution_count": 7,
   "metadata": {},
   "outputs": [
    {
     "data": {
      "text/plain": [
       "Identificador_Agricultor       0\n",
       "Estimativa_de_Insetos          0\n",
       "Tipo_de_Cultivo                0\n",
       "Tipo_de_Solo                   0\n",
       "Categoria_Pesticida            0\n",
       "Doses_Semana                   0\n",
       "Semanas_Utilizando          8055\n",
       "Semanas_Sem_Uso                0\n",
       "Temporada                      0\n",
       "dano_na_plantacao              0\n",
       "dtype: int64"
      ]
     },
     "execution_count": 7,
     "metadata": {},
     "output_type": "execute_result"
    }
   ],
   "source": [
    "train.isnull().sum()"
   ]
  },
  {
   "cell_type": "markdown",
   "metadata": {},
   "source": [
    "# Resumo estatístico dos dados de treino"
   ]
  },
  {
   "cell_type": "code",
   "execution_count": 8,
   "metadata": {},
   "outputs": [
    {
     "data": {
      "text/html": [
       "<div>\n",
       "<style scoped>\n",
       "    .dataframe tbody tr th:only-of-type {\n",
       "        vertical-align: middle;\n",
       "    }\n",
       "\n",
       "    .dataframe tbody tr th {\n",
       "        vertical-align: top;\n",
       "    }\n",
       "\n",
       "    .dataframe thead th {\n",
       "        text-align: right;\n",
       "    }\n",
       "</style>\n",
       "<table border=\"1\" class=\"dataframe\">\n",
       "  <thead>\n",
       "    <tr style=\"text-align: right;\">\n",
       "      <th></th>\n",
       "      <th>Estimativa_de_Insetos</th>\n",
       "      <th>Tipo_de_Cultivo</th>\n",
       "      <th>Tipo_de_Solo</th>\n",
       "      <th>Categoria_Pesticida</th>\n",
       "      <th>Doses_Semana</th>\n",
       "      <th>Semanas_Utilizando</th>\n",
       "      <th>Semanas_Sem_Uso</th>\n",
       "      <th>Temporada</th>\n",
       "      <th>dano_na_plantacao</th>\n",
       "    </tr>\n",
       "  </thead>\n",
       "  <tbody>\n",
       "    <tr>\n",
       "      <th>count</th>\n",
       "      <td>80000.000000</td>\n",
       "      <td>80000.000000</td>\n",
       "      <td>80000.000000</td>\n",
       "      <td>80000.000000</td>\n",
       "      <td>80000.000000</td>\n",
       "      <td>71945.000000</td>\n",
       "      <td>80000.000000</td>\n",
       "      <td>80000.000000</td>\n",
       "      <td>80000.000000</td>\n",
       "    </tr>\n",
       "    <tr>\n",
       "      <th>mean</th>\n",
       "      <td>1400.020875</td>\n",
       "      <td>0.283338</td>\n",
       "      <td>0.455550</td>\n",
       "      <td>2.267587</td>\n",
       "      <td>25.846750</td>\n",
       "      <td>28.664480</td>\n",
       "      <td>9.549088</td>\n",
       "      <td>1.897575</td>\n",
       "      <td>0.192312</td>\n",
       "    </tr>\n",
       "    <tr>\n",
       "      <th>std</th>\n",
       "      <td>849.792471</td>\n",
       "      <td>0.450622</td>\n",
       "      <td>0.498023</td>\n",
       "      <td>0.463748</td>\n",
       "      <td>15.557246</td>\n",
       "      <td>12.424751</td>\n",
       "      <td>9.905547</td>\n",
       "      <td>0.702079</td>\n",
       "      <td>0.455912</td>\n",
       "    </tr>\n",
       "    <tr>\n",
       "      <th>min</th>\n",
       "      <td>150.000000</td>\n",
       "      <td>0.000000</td>\n",
       "      <td>0.000000</td>\n",
       "      <td>1.000000</td>\n",
       "      <td>0.000000</td>\n",
       "      <td>0.000000</td>\n",
       "      <td>0.000000</td>\n",
       "      <td>1.000000</td>\n",
       "      <td>0.000000</td>\n",
       "    </tr>\n",
       "    <tr>\n",
       "      <th>25%</th>\n",
       "      <td>731.000000</td>\n",
       "      <td>0.000000</td>\n",
       "      <td>0.000000</td>\n",
       "      <td>2.000000</td>\n",
       "      <td>15.000000</td>\n",
       "      <td>20.000000</td>\n",
       "      <td>0.000000</td>\n",
       "      <td>1.000000</td>\n",
       "      <td>0.000000</td>\n",
       "    </tr>\n",
       "    <tr>\n",
       "      <th>50%</th>\n",
       "      <td>1212.000000</td>\n",
       "      <td>0.000000</td>\n",
       "      <td>0.000000</td>\n",
       "      <td>2.000000</td>\n",
       "      <td>20.000000</td>\n",
       "      <td>28.000000</td>\n",
       "      <td>7.000000</td>\n",
       "      <td>2.000000</td>\n",
       "      <td>0.000000</td>\n",
       "    </tr>\n",
       "    <tr>\n",
       "      <th>75%</th>\n",
       "      <td>1898.000000</td>\n",
       "      <td>1.000000</td>\n",
       "      <td>1.000000</td>\n",
       "      <td>3.000000</td>\n",
       "      <td>40.000000</td>\n",
       "      <td>37.000000</td>\n",
       "      <td>16.000000</td>\n",
       "      <td>2.000000</td>\n",
       "      <td>0.000000</td>\n",
       "    </tr>\n",
       "    <tr>\n",
       "      <th>max</th>\n",
       "      <td>4097.000000</td>\n",
       "      <td>1.000000</td>\n",
       "      <td>1.000000</td>\n",
       "      <td>3.000000</td>\n",
       "      <td>95.000000</td>\n",
       "      <td>67.000000</td>\n",
       "      <td>50.000000</td>\n",
       "      <td>3.000000</td>\n",
       "      <td>2.000000</td>\n",
       "    </tr>\n",
       "  </tbody>\n",
       "</table>\n",
       "</div>"
      ],
      "text/plain": [
       "       Estimativa_de_Insetos  Tipo_de_Cultivo  Tipo_de_Solo  \\\n",
       "count           80000.000000     80000.000000  80000.000000   \n",
       "mean             1400.020875         0.283338      0.455550   \n",
       "std               849.792471         0.450622      0.498023   \n",
       "min               150.000000         0.000000      0.000000   \n",
       "25%               731.000000         0.000000      0.000000   \n",
       "50%              1212.000000         0.000000      0.000000   \n",
       "75%              1898.000000         1.000000      1.000000   \n",
       "max              4097.000000         1.000000      1.000000   \n",
       "\n",
       "       Categoria_Pesticida  Doses_Semana  Semanas_Utilizando  Semanas_Sem_Uso  \\\n",
       "count         80000.000000  80000.000000        71945.000000     80000.000000   \n",
       "mean              2.267587     25.846750           28.664480         9.549088   \n",
       "std               0.463748     15.557246           12.424751         9.905547   \n",
       "min               1.000000      0.000000            0.000000         0.000000   \n",
       "25%               2.000000     15.000000           20.000000         0.000000   \n",
       "50%               2.000000     20.000000           28.000000         7.000000   \n",
       "75%               3.000000     40.000000           37.000000        16.000000   \n",
       "max               3.000000     95.000000           67.000000        50.000000   \n",
       "\n",
       "          Temporada  dano_na_plantacao  \n",
       "count  80000.000000       80000.000000  \n",
       "mean       1.897575           0.192312  \n",
       "std        0.702079           0.455912  \n",
       "min        1.000000           0.000000  \n",
       "25%        1.000000           0.000000  \n",
       "50%        2.000000           0.000000  \n",
       "75%        2.000000           0.000000  \n",
       "max        3.000000           2.000000  "
      ]
     },
     "execution_count": 8,
     "metadata": {},
     "output_type": "execute_result"
    }
   ],
   "source": [
    "train.describe()"
   ]
  },
  {
   "cell_type": "code",
   "execution_count": null,
   "metadata": {},
   "outputs": [],
   "source": []
  },
  {
   "cell_type": "code",
   "execution_count": 9,
   "metadata": {},
   "outputs": [],
   "source": [
    "# Definindo todos valores nulos, da coluna Semanas_Utilizando, dos agricultores que nunca utilizaram pesticida, como 0\n",
    "for idx, _ in train.iterrows():\n",
    "    if train['Categoria_Pesticida'].at[idx] == 1:\n",
    "        train['Semanas_Utilizando'].at[idx] = 0"
   ]
  },
  {
   "cell_type": "code",
   "execution_count": null,
   "metadata": {},
   "outputs": [],
   "source": []
  },
  {
   "cell_type": "code",
   "execution_count": 10,
   "metadata": {},
   "outputs": [
    {
     "data": {
      "text/plain": [
       "Identificador_Agricultor       0\n",
       "Estimativa_de_Insetos          0\n",
       "Tipo_de_Cultivo                0\n",
       "Tipo_de_Solo                   0\n",
       "Categoria_Pesticida            0\n",
       "Doses_Semana                   0\n",
       "Semanas_Utilizando          7967\n",
       "Semanas_Sem_Uso                0\n",
       "Temporada                      0\n",
       "dano_na_plantacao              0\n",
       "dtype: int64"
      ]
     },
     "execution_count": 10,
     "metadata": {},
     "output_type": "execute_result"
    }
   ],
   "source": [
    "# Poucos dados foram preenchidos\n",
    "train.isnull().sum()"
   ]
  },
  {
   "cell_type": "code",
   "execution_count": null,
   "metadata": {},
   "outputs": [],
   "source": []
  },
  {
   "cell_type": "code",
   "execution_count": 11,
   "metadata": {},
   "outputs": [
    {
     "data": {
      "image/png": "[encoded data removed]",
      "text/plain": [
       "<Figure size 720x360 with 1 Axes>"
      ]
     },
     "metadata": {},
     "output_type": "display_data"
    }
   ],
   "source": [
    "# O gráfico mostra que poucos agricultores nunca utilizaram pesticidas, o que explica porque tão poucos dados foram preenchidos\n",
    "f, ax = plt.subplots(1,1,  figsize=(10,5))\n",
    "train['Categoria_Pesticida'].value_counts().plot.pie(ax=ax, explode=[0.02,0.02,0.02], autopct='%0.2f%%')\n",
    "ax.set_title('Utilização de pesticidas', fontsize=20)\n",
    "ax.set_ylabel('')\n",
    "plt.show()"
   ]
  },
  {
   "cell_type": "code",
   "execution_count": null,
   "metadata": {},
   "outputs": [],
   "source": []
  },
  {
   "cell_type": "code",
   "execution_count": 12,
   "metadata": {},
   "outputs": [
    {
     "data": {
      "image/png": "[encoded data removed]",
      "text/plain": [
       "<Figure size 900x600 with 2 Axes>"
      ]
     },
     "metadata": {
      "needs_background": "light"
     },
     "output_type": "display_data"
    }
   ],
   "source": [
    "# Um heatmap com a correlação entre as variáveis para decidir qual delas seria a melhor alternativa\n",
    "# para tentar \"explicar\" os valores da coluna Semanas_Utilizando\n",
    "plt.figure(figsize=(15,10), dpi= 60)\n",
    "sns.set(font_scale=1.3)\n",
    "sns.heatmap(train.corr(), xticklabels=train.corr().columns, yticklabels=train.corr().columns, cmap='RdYlGn', center=.1, annot=True)\n",
    "\n",
    "plt.title('Correlogram', fontsize=25)\n",
    "plt.xticks(fontsize=20)\n",
    "plt.yticks(fontsize=20)\n",
    "plt.show()"
   ]
  },
  {
   "cell_type": "code",
   "execution_count": 13,
   "metadata": {},
   "outputs": [],
   "source": [
    "# Escolhi a coluna Semanas_Sem_Uso, uma vez que existe uma correlação satisfatória e uma causalidade entre as duas colunas,\n",
    "# uma vez que quanto maior o número de semanas utilizando, menos o número de semanas sem utilizar"
   ]
  },
  {
   "cell_type": "code",
   "execution_count": null,
   "metadata": {},
   "outputs": [],
   "source": []
  },
  {
   "cell_type": "code",
   "execution_count": 14,
   "metadata": {},
   "outputs": [],
   "source": [
    "data_train = train[['Semanas_Sem_Uso','Semanas_Utilizando']]"
   ]
  },
  {
   "cell_type": "code",
   "execution_count": null,
   "metadata": {},
   "outputs": [],
   "source": []
  },
  {
   "cell_type": "code",
   "execution_count": 15,
   "metadata": {},
   "outputs": [
    {
     "data": {
      "text/plain": [
       "<matplotlib.collections.PathCollection at 0x1e4685e1388>"
      ]
     },
     "execution_count": 15,
     "metadata": {},
     "output_type": "execute_result"
    },
    {
     "data": {
      "image/png": "[encoded data removed]",
      "text/plain": [
       "<Figure size 432x288 with 1 Axes>"
      ]
     },
     "metadata": {},
     "output_type": "display_data"
    }
   ],
   "source": [
    "# Utilizei uma gráfico de dispersão para avaliar o comportamento dos dados. Após visualizar os dados, conclui que\n",
    "# uma regressão linear seria uma boa alternativa para prever os dados que estavam faltando.\n",
    "plt.scatter(data_train['Semanas_Sem_Uso'], data_train['Semanas_Utilizando'])"
   ]
  },
  {
   "cell_type": "code",
   "execution_count": 16,
   "metadata": {},
   "outputs": [],
   "source": [
    "# Nota: Também optei por testar a utilização uma média simples dos valores da coluna Semanas_Utilizando, separando-as \n",
    "# pela coluna Categoria_Pesticida, o que me levou a um resultado não muito distante dos valores previstos pela regressão.\n",
    "# A média de valores para agricultores que possuem classificação da coluna Categoria_Pesticida = 2, ou seja, que já utilizaram\n",
    "# pesticidas, foi igual a 26.64 enquanto a dos que possuem classificação da coluna Categoria_Pesticida = 3, ou seja, que utiliza\n",
    "# atualmente, foi igual a 34.83. No final optei pela utilização da regressão."
   ]
  },
  {
   "cell_type": "code",
   "execution_count": null,
   "metadata": {},
   "outputs": [],
   "source": []
  },
  {
   "cell_type": "code",
   "execution_count": 17,
   "metadata": {},
   "outputs": [],
   "source": [
    "# Criei um novo data frame apenas com as duas colunas, filtrando para selecionar apenas os valores não nulos de agricultores\n",
    "# que já utilizaram ou utilizam pesticidas\n",
    "data_train = train[['Semanas_Sem_Uso', 'Semanas_Utilizando']].loc[train['Categoria_Pesticida'] > 1].dropna()"
   ]
  },
  {
   "cell_type": "code",
   "execution_count": null,
   "metadata": {},
   "outputs": [],
   "source": []
  },
  {
   "cell_type": "code",
   "execution_count": 18,
   "metadata": {},
   "outputs": [
    {
     "data": {
      "text/plain": [
       "(71270, 2)"
      ]
     },
     "execution_count": 18,
     "metadata": {},
     "output_type": "execute_result"
    }
   ],
   "source": [
    "# Verifiquei se a filtragem havia ocorrido de maneira certa, verificando o número de linhas do novo data frame\n",
    "data_train.shape"
   ]
  },
  {
   "cell_type": "code",
   "execution_count": null,
   "metadata": {},
   "outputs": [],
   "source": []
  },
  {
   "cell_type": "code",
   "execution_count": 19,
   "metadata": {},
   "outputs": [
    {
     "data": {
      "text/plain": [
       "LinearRegression(copy_X=True, fit_intercept=True, n_jobs=None, normalize=False)"
      ]
     },
     "execution_count": 19,
     "metadata": {},
     "output_type": "execute_result"
    }
   ],
   "source": [
    "# Realizei o reshape das colunas para poder utilizar a regressão e atribui cada uma das colunas as variáveis.\n",
    "# Instanciei o modelo e realizei o treinamento\n",
    "x0 = np.array(data_train['Semanas_Sem_Uso']).reshape(-1, 1)\n",
    "y0 = np.array(data_train['Semanas_Utilizando']).reshape(-1, 1) \n",
    "\n",
    "model_lm0 = lm.LinearRegression()\n",
    "\n",
    "\n",
    "model_lm0.fit(x0, y0)"
   ]
  },
  {
   "cell_type": "code",
   "execution_count": null,
   "metadata": {},
   "outputs": [],
   "source": []
  },
  {
   "cell_type": "code",
   "execution_count": 20,
   "metadata": {},
   "outputs": [
    {
     "name": "stdout",
     "output_type": "stream",
     "text": [
      " b1: [[-0.59272589]]\n",
      " b0: [34.64943356]\n"
     ]
    }
   ],
   "source": [
    "# Utilizei os parametros b0 e b1 para definir o coeficiente linear e angular da reta que melhor classifica meus dados\n",
    "# y = b0 + b1 * x -> (y = 34.64943356 + -0.59272589 * x)\n",
    "print(f\" b1: {model_lm0.coef_}\")\n",
    "print(f\" b0: {model_lm0.intercept_}\")"
   ]
  },
  {
   "cell_type": "code",
   "execution_count": null,
   "metadata": {},
   "outputs": [],
   "source": []
  },
  {
   "cell_type": "code",
   "execution_count": 21,
   "metadata": {},
   "outputs": [],
   "source": [
    "# Realizei a aplicação dos dados da coluna Semanas_Sem_Uso (X0) na minha equação da reta e obtive os valores de Y0\n",
    "X0 = data_train['Semanas_Sem_Uso']\n",
    "Y0 = -0.59272589*X0 + 34.64943356\n"
   ]
  },
  {
   "cell_type": "code",
   "execution_count": null,
   "metadata": {},
   "outputs": [],
   "source": []
  },
  {
   "cell_type": "code",
   "execution_count": 22,
   "metadata": {},
   "outputs": [
    {
     "data": {
      "text/plain": [
       "[<matplotlib.lines.Line2D at 0x1e4681ed3c8>]"
      ]
     },
     "execution_count": 22,
     "metadata": {},
     "output_type": "execute_result"
    },
    {
     "data": {
      "image/png": "[encoded data removed]",
      "text/plain": [
       "<Figure size 432x288 with 1 Axes>"
      ]
     },
     "metadata": {},
     "output_type": "display_data"
    }
   ],
   "source": [
    "# Plotei a reta no meu grafico de disperção para confirmar os valores da reta\n",
    "plt.scatter(data_train['Semanas_Sem_Uso'], data_train['Semanas_Utilizando'])\n",
    "plt.plot(data_train['Semanas_Sem_Uso'], Y0, color = 'red')"
   ]
  },
  {
   "cell_type": "code",
   "execution_count": null,
   "metadata": {},
   "outputs": [],
   "source": []
  },
  {
   "cell_type": "code",
   "execution_count": 23,
   "metadata": {},
   "outputs": [],
   "source": [
    "# Alterei todos os dados nulos para um valor que não existisse préviamente em nenhuma das céluldas da coluna\n",
    "train.fillna(99, inplace = True)"
   ]
  },
  {
   "cell_type": "code",
   "execution_count": null,
   "metadata": {},
   "outputs": [],
   "source": []
  },
  {
   "cell_type": "code",
   "execution_count": 24,
   "metadata": {},
   "outputs": [],
   "source": [
    "# Substituí os dados nulos pelo resultado de seus respectivos valores após a aplicação da equação obtida.\n",
    "for idx, _ in train.iterrows():\n",
    "    if train['Semanas_Utilizando'].at[idx] == 99:\n",
    "        train['Semanas_Utilizando'].at[idx] = (-0.59272589*train['Semanas_Sem_Uso'].at[idx] + 34.64943356)"
   ]
  },
  {
   "cell_type": "code",
   "execution_count": null,
   "metadata": {},
   "outputs": [],
   "source": []
  },
  {
   "cell_type": "code",
   "execution_count": 25,
   "metadata": {},
   "outputs": [
    {
     "data": {
      "text/plain": [
       "Identificador_Agricultor    SCROP00036\n",
       "Estimativa_de_Insetos              257\n",
       "Tipo_de_Cultivo                      0\n",
       "Tipo_de_Solo                         0\n",
       "Categoria_Pesticida                  3\n",
       "Doses_Semana                        30\n",
       "Semanas_Utilizando             34.6494\n",
       "Semanas_Sem_Uso                      0\n",
       "Temporada                            2\n",
       "dano_na_plantacao                    0\n",
       "Name: 35, dtype: object"
      ]
     },
     "execution_count": 25,
     "metadata": {},
     "output_type": "execute_result"
    }
   ],
   "source": [
    "# Verifiquei que o index 35, que possuia um valor nulo, agora foi alterado de acordo com o desejado\n",
    "train.iloc[35]"
   ]
  },
  {
   "cell_type": "code",
   "execution_count": null,
   "metadata": {},
   "outputs": [],
   "source": []
  },
  {
   "cell_type": "code",
   "execution_count": 26,
   "metadata": {},
   "outputs": [],
   "source": [
    "# Realizei os mesmos passos citados acima, desta vez, para preencher os valores nulos dos dados de teste"
   ]
  },
  {
   "cell_type": "code",
   "execution_count": null,
   "metadata": {},
   "outputs": [],
   "source": []
  },
  {
   "cell_type": "code",
   "execution_count": 27,
   "metadata": {},
   "outputs": [
    {
     "data": {
      "text/html": [
       "<div>\n",
       "<style scoped>\n",
       "    .dataframe tbody tr th:only-of-type {\n",
       "        vertical-align: middle;\n",
       "    }\n",
       "\n",
       "    .dataframe tbody tr th {\n",
       "        vertical-align: top;\n",
       "    }\n",
       "\n",
       "    .dataframe thead th {\n",
       "        text-align: right;\n",
       "    }\n",
       "</style>\n",
       "<table border=\"1\" class=\"dataframe\">\n",
       "  <thead>\n",
       "    <tr style=\"text-align: right;\">\n",
       "      <th></th>\n",
       "      <th>Identificador_Agricultor</th>\n",
       "      <th>Estimativa_de_Insetos</th>\n",
       "      <th>Tipo_de_Cultivo</th>\n",
       "      <th>Tipo_de_Solo</th>\n",
       "      <th>Categoria_Pesticida</th>\n",
       "      <th>Doses_Semana</th>\n",
       "      <th>Semanas_Utilizando</th>\n",
       "      <th>Semanas_Sem_Uso</th>\n",
       "      <th>Temporada</th>\n",
       "    </tr>\n",
       "    <tr>\n",
       "      <th>Unnamed: 0</th>\n",
       "      <th></th>\n",
       "      <th></th>\n",
       "      <th></th>\n",
       "      <th></th>\n",
       "      <th></th>\n",
       "      <th></th>\n",
       "      <th></th>\n",
       "      <th></th>\n",
       "      <th></th>\n",
       "    </tr>\n",
       "  </thead>\n",
       "  <tbody>\n",
       "    <tr>\n",
       "      <th>80000</th>\n",
       "      <td>SCROP80001</td>\n",
       "      <td>256</td>\n",
       "      <td>0</td>\n",
       "      <td>1</td>\n",
       "      <td>2</td>\n",
       "      <td>35</td>\n",
       "      <td>11.0</td>\n",
       "      <td>9</td>\n",
       "      <td>1</td>\n",
       "    </tr>\n",
       "    <tr>\n",
       "      <th>80001</th>\n",
       "      <td>SCROP80002</td>\n",
       "      <td>283</td>\n",
       "      <td>0</td>\n",
       "      <td>1</td>\n",
       "      <td>2</td>\n",
       "      <td>5</td>\n",
       "      <td>5.0</td>\n",
       "      <td>6</td>\n",
       "      <td>1</td>\n",
       "    </tr>\n",
       "    <tr>\n",
       "      <th>80002</th>\n",
       "      <td>SCROP80003</td>\n",
       "      <td>283</td>\n",
       "      <td>0</td>\n",
       "      <td>1</td>\n",
       "      <td>2</td>\n",
       "      <td>15</td>\n",
       "      <td>15.0</td>\n",
       "      <td>5</td>\n",
       "      <td>2</td>\n",
       "    </tr>\n",
       "    <tr>\n",
       "      <th>80003</th>\n",
       "      <td>SCROP80004</td>\n",
       "      <td>283</td>\n",
       "      <td>0</td>\n",
       "      <td>1</td>\n",
       "      <td>2</td>\n",
       "      <td>15</td>\n",
       "      <td>NaN</td>\n",
       "      <td>7</td>\n",
       "      <td>2</td>\n",
       "    </tr>\n",
       "    <tr>\n",
       "      <th>80004</th>\n",
       "      <td>SCROP80005</td>\n",
       "      <td>283</td>\n",
       "      <td>0</td>\n",
       "      <td>1</td>\n",
       "      <td>2</td>\n",
       "      <td>15</td>\n",
       "      <td>19.0</td>\n",
       "      <td>2</td>\n",
       "      <td>1</td>\n",
       "    </tr>\n",
       "  </tbody>\n",
       "</table>\n",
       "</div>"
      ],
      "text/plain": [
       "           Identificador_Agricultor  Estimativa_de_Insetos  Tipo_de_Cultivo  \\\n",
       "Unnamed: 0                                                                    \n",
       "80000                    SCROP80001                    256                0   \n",
       "80001                    SCROP80002                    283                0   \n",
       "80002                    SCROP80003                    283                0   \n",
       "80003                    SCROP80004                    283                0   \n",
       "80004                    SCROP80005                    283                0   \n",
       "\n",
       "            Tipo_de_Solo  Categoria_Pesticida  Doses_Semana  \\\n",
       "Unnamed: 0                                                    \n",
       "80000                  1                    2            35   \n",
       "80001                  1                    2             5   \n",
       "80002                  1                    2            15   \n",
       "80003                  1                    2            15   \n",
       "80004                  1                    2            15   \n",
       "\n",
       "            Semanas_Utilizando  Semanas_Sem_Uso  Temporada  \n",
       "Unnamed: 0                                                  \n",
       "80000                     11.0                9          1  \n",
       "80001                      5.0                6          1  \n",
       "80002                     15.0                5          2  \n",
       "80003                      NaN                7          2  \n",
       "80004                     19.0                2          1  "
      ]
     },
     "execution_count": 27,
     "metadata": {},
     "output_type": "execute_result"
    }
   ],
   "source": [
    "test.head()"
   ]
  },
  {
   "cell_type": "code",
   "execution_count": null,
   "metadata": {},
   "outputs": [],
   "source": []
  },
  {
   "cell_type": "code",
   "execution_count": 28,
   "metadata": {},
   "outputs": [
    {
     "data": {
      "text/plain": [
       "Identificador_Agricultor      0\n",
       "Estimativa_de_Insetos         0\n",
       "Tipo_de_Cultivo               0\n",
       "Tipo_de_Solo                  0\n",
       "Categoria_Pesticida           0\n",
       "Doses_Semana                  0\n",
       "Semanas_Utilizando          945\n",
       "Semanas_Sem_Uso               0\n",
       "Temporada                     0\n",
       "dtype: int64"
      ]
     },
     "execution_count": 28,
     "metadata": {},
     "output_type": "execute_result"
    }
   ],
   "source": [
    "test.isnull().sum()"
   ]
  },
  {
   "cell_type": "code",
   "execution_count": null,
   "metadata": {},
   "outputs": [],
   "source": []
  },
  {
   "cell_type": "code",
   "execution_count": 29,
   "metadata": {},
   "outputs": [],
   "source": [
    "for idx, _ in test.iterrows():\n",
    "    if test['Categoria_Pesticida'].at[idx] == 1:\n",
    "        test['Semanas_Utilizando'].at[idx] = 0"
   ]
  },
  {
   "cell_type": "code",
   "execution_count": null,
   "metadata": {},
   "outputs": [],
   "source": []
  },
  {
   "cell_type": "code",
   "execution_count": 30,
   "metadata": {},
   "outputs": [
    {
     "data": {
      "text/plain": [
       "Identificador_Agricultor      0\n",
       "Estimativa_de_Insetos         0\n",
       "Tipo_de_Cultivo               0\n",
       "Tipo_de_Solo                  0\n",
       "Categoria_Pesticida           0\n",
       "Doses_Semana                  0\n",
       "Semanas_Utilizando          936\n",
       "Semanas_Sem_Uso               0\n",
       "Temporada                     0\n",
       "dtype: int64"
      ]
     },
     "execution_count": 30,
     "metadata": {},
     "output_type": "execute_result"
    }
   ],
   "source": [
    "test.isnull().sum()"
   ]
  },
  {
   "cell_type": "code",
   "execution_count": null,
   "metadata": {},
   "outputs": [],
   "source": []
  },
  {
   "cell_type": "code",
   "execution_count": 31,
   "metadata": {},
   "outputs": [],
   "source": [
    "data_test = test[['Semanas_Sem_Uso', 'Semanas_Utilizando']].loc[test['Categoria_Pesticida'] > 1].dropna()"
   ]
  },
  {
   "cell_type": "code",
   "execution_count": null,
   "metadata": {},
   "outputs": [],
   "source": []
  },
  {
   "cell_type": "code",
   "execution_count": 32,
   "metadata": {},
   "outputs": [
    {
     "data": {
      "text/plain": [
       "LinearRegression(copy_X=True, fit_intercept=True, n_jobs=None, normalize=False)"
      ]
     },
     "execution_count": 32,
     "metadata": {},
     "output_type": "execute_result"
    }
   ],
   "source": [
    "x1 = np.array(data_test['Semanas_Sem_Uso']).reshape(-1, 1)\n",
    "y1 = np.array(data_test['Semanas_Utilizando']).reshape(-1, 1) \n",
    "\n",
    "model_lm1 = lm.LinearRegression()\n",
    "\n",
    "model_lm1.fit(x1, y1)"
   ]
  },
  {
   "cell_type": "code",
   "execution_count": 33,
   "metadata": {},
   "outputs": [
    {
     "name": "stdout",
     "output_type": "stream",
     "text": [
      " b1: [[-0.59723425]]\n",
      " b0: [34.49360301]\n"
     ]
    }
   ],
   "source": [
    "print(f\" b1: {model_lm1.coef_}\")\n",
    "print(f\" b0: {model_lm1.intercept_}\")"
   ]
  },
  {
   "cell_type": "code",
   "execution_count": 34,
   "metadata": {},
   "outputs": [],
   "source": [
    "# Nota os coefientes b1 e b0 mantiveram seus valores em relação aos dados de treino. Isso porque se tratam de dados dos mesmos\n",
    "# agricultores com a diferença de que são de anos diferentes. Isso significa que não houve mudanças significativas\n",
    "# nas duas colunas."
   ]
  },
  {
   "cell_type": "code",
   "execution_count": null,
   "metadata": {},
   "outputs": [],
   "source": []
  },
  {
   "cell_type": "code",
   "execution_count": 35,
   "metadata": {},
   "outputs": [],
   "source": [
    "X1 = data_test['Semanas_Sem_Uso']\n",
    "Y1 = -0.59272589*X1 + 34.64943356"
   ]
  },
  {
   "cell_type": "code",
   "execution_count": null,
   "metadata": {},
   "outputs": [],
   "source": []
  },
  {
   "cell_type": "code",
   "execution_count": 36,
   "metadata": {},
   "outputs": [
    {
     "data": {
      "text/plain": [
       "[<matplotlib.lines.Line2D at 0x1e465a6d088>]"
      ]
     },
     "execution_count": 36,
     "metadata": {},
     "output_type": "execute_result"
    },
    {
     "data": {
      "image/png": "[encoded data removed]",
      "text/plain": [
       "<Figure size 432x288 with 1 Axes>"
      ]
     },
     "metadata": {},
     "output_type": "display_data"
    }
   ],
   "source": [
    "plt.scatter(data_test['Semanas_Sem_Uso'], data_test['Semanas_Utilizando'])\n",
    "plt.plot(data_test['Semanas_Sem_Uso'], Y1, color = 'red')"
   ]
  },
  {
   "cell_type": "code",
   "execution_count": 37,
   "metadata": {},
   "outputs": [],
   "source": [
    "test.fillna(99, inplace = True)"
   ]
  },
  {
   "cell_type": "code",
   "execution_count": null,
   "metadata": {},
   "outputs": [],
   "source": []
  },
  {
   "cell_type": "code",
   "execution_count": 38,
   "metadata": {},
   "outputs": [],
   "source": [
    "for idx, _ in test.iterrows():\n",
    "    if test['Semanas_Utilizando'].at[idx] == 99:\n",
    "        test['Semanas_Utilizando'].at[idx] = (-0.59272589*test['Semanas_Sem_Uso'].at[idx] + 34.64943356)"
   ]
  },
  {
   "cell_type": "code",
   "execution_count": null,
   "metadata": {},
   "outputs": [],
   "source": []
  },
  {
   "cell_type": "code",
   "execution_count": 39,
   "metadata": {},
   "outputs": [
    {
     "data": {
      "text/plain": [
       "Identificador_Agricultor    0\n",
       "Estimativa_de_Insetos       0\n",
       "Tipo_de_Cultivo             0\n",
       "Tipo_de_Solo                0\n",
       "Categoria_Pesticida         0\n",
       "Doses_Semana                0\n",
       "Semanas_Utilizando          0\n",
       "Semanas_Sem_Uso             0\n",
       "Temporada                   0\n",
       "dtype: int64"
      ]
     },
     "execution_count": 39,
     "metadata": {},
     "output_type": "execute_result"
    }
   ],
   "source": [
    "test.isnull().sum()"
   ]
  },
  {
   "cell_type": "code",
   "execution_count": null,
   "metadata": {},
   "outputs": [],
   "source": []
  },
  {
   "cell_type": "code",
   "execution_count": 40,
   "metadata": {},
   "outputs": [],
   "source": [
    "#  Por se tratar de um problema de classificação, optei por utilizar uma árvore de decisões."
   ]
  },
  {
   "cell_type": "code",
   "execution_count": 41,
   "metadata": {},
   "outputs": [],
   "source": [
    "X = train.drop(['dano_na_plantacao', 'Identificador_Agricultor'], axis = 1)"
   ]
  },
  {
   "cell_type": "code",
   "execution_count": 42,
   "metadata": {},
   "outputs": [],
   "source": [
    "y = train['dano_na_plantacao']"
   ]
  },
  {
   "cell_type": "code",
   "execution_count": 43,
   "metadata": {},
   "outputs": [],
   "source": [
    "x_train, x_test, y_train, y_test = train_test_split(X, y, test_size = 0.3, random_state = 22)"
   ]
  },
  {
   "cell_type": "code",
   "execution_count": 44,
   "metadata": {},
   "outputs": [
    {
     "data": {
      "text/plain": [
       "((56000, 8), (24000, 8))"
      ]
     },
     "execution_count": 44,
     "metadata": {},
     "output_type": "execute_result"
    }
   ],
   "source": [
    "x_train.shape, x_test.shape"
   ]
  },
  {
   "cell_type": "code",
   "execution_count": 45,
   "metadata": {},
   "outputs": [
    {
     "data": {
      "text/plain": [
       "((56000,), (24000,))"
      ]
     },
     "execution_count": 45,
     "metadata": {},
     "output_type": "execute_result"
    }
   ],
   "source": [
    "y_train.shape, y_test.shape"
   ]
  },
  {
   "cell_type": "code",
   "execution_count": 46,
   "metadata": {},
   "outputs": [],
   "source": [
    "clf = DecisionTreeClassifier()"
   ]
  },
  {
   "cell_type": "code",
   "execution_count": 47,
   "metadata": {},
   "outputs": [
    {
     "data": {
      "text/plain": [
       "DecisionTreeClassifier(ccp_alpha=0.0, class_weight=None, criterion='gini',\n",
       "                       max_depth=None, max_features=None, max_leaf_nodes=None,\n",
       "                       min_impurity_decrease=0.0, min_impurity_split=None,\n",
       "                       min_samples_leaf=1, min_samples_split=2,\n",
       "                       min_weight_fraction_leaf=0.0, presort='deprecated',\n",
       "                       random_state=None, splitter='best')"
      ]
     },
     "execution_count": 47,
     "metadata": {},
     "output_type": "execute_result"
    }
   ],
   "source": [
    "clf.fit(x_train, y_train)"
   ]
  },
  {
   "cell_type": "code",
   "execution_count": 48,
   "metadata": {},
   "outputs": [
    {
     "data": {
      "text/plain": [
       "array([0.26646477, 0.0203864 , 0.05410319, 0.06009842, 0.1182462 ,\n",
       "       0.27082451, 0.11678866, 0.09308786])"
      ]
     },
     "execution_count": 48,
     "metadata": {},
     "output_type": "execute_result"
    }
   ],
   "source": [
    "clf.feature_importances_"
   ]
  },
  {
   "cell_type": "code",
   "execution_count": 49,
   "metadata": {},
   "outputs": [
    {
     "name": "stdout",
     "output_type": "stream",
     "text": [
      " Estimativa_de_Insetos , 0.2664647678194195\n",
      " Tipo_de_Cultivo , 0.020386395619103794\n",
      " Tipo_de_Solo , 0.054103190975700995\n",
      " Categoria_Pesticida , 0.060098420726076476\n",
      " Doses_Semana , 0.11824619930513264\n",
      " Semanas_Utilizando , 0.2708245084023857\n",
      " Semanas_Sem_Uso , 0.11678866196325605\n",
      " Temporada , 0.09308785518892494\n"
     ]
    }
   ],
   "source": [
    "# Através dos resultados, podemos perceber que as variáveis Estimativa_de_Insetos, Doses_Semana e Semanas_Sem_Uso\n",
    "# são as mais relevantes para prever os danos causados ao solo.\n",
    "for feature, importancia in zip(X.columns, clf.feature_importances_):\n",
    "    print(f' {feature} , {importancia}')"
   ]
  },
  {
   "cell_type": "code",
   "execution_count": 50,
   "metadata": {},
   "outputs": [
    {
     "data": {
      "text/plain": [
       "array([0, 0, 0, ..., 0, 1, 0], dtype=int64)"
      ]
     },
     "execution_count": 50,
     "metadata": {},
     "output_type": "execute_result"
    }
   ],
   "source": [
    "resultado = clf.predict(x_test)\n",
    "resultado"
   ]
  },
  {
   "cell_type": "code",
   "execution_count": 51,
   "metadata": {},
   "outputs": [
    {
     "name": "stdout",
     "output_type": "stream",
     "text": [
      "              precision    recall  f1-score   support\n",
      "\n",
      "           0       0.87      0.85      0.86     20029\n",
      "           1       0.24      0.28      0.26      3319\n",
      "           2       0.07      0.08      0.08       652\n",
      "\n",
      "    accuracy                           0.75     24000\n",
      "   macro avg       0.40      0.40      0.40     24000\n",
      "weighted avg       0.76      0.75      0.75     24000\n",
      "\n"
     ]
    }
   ],
   "source": [
    "# O modelo obteve bons resultados nas métricas de avaliação e com uma acurácia de 75%\n",
    "print(metrics.classification_report(y_test, resultado))"
   ]
  },
  {
   "cell_type": "code",
   "execution_count": 52,
   "metadata": {},
   "outputs": [],
   "source": [
    "test = test.drop('Identificador_Agricultor', axis = 1)"
   ]
  },
  {
   "cell_type": "code",
   "execution_count": 53,
   "metadata": {},
   "outputs": [],
   "source": [
    "# Aplicando o modelo aos dados de teste.\n",
    "resultado2 = clf.predict(test)"
   ]
  },
  {
   "cell_type": "code",
   "execution_count": 54,
   "metadata": {},
   "outputs": [
    {
     "data": {
      "text/plain": [
       "(8858,)"
      ]
     },
     "execution_count": 54,
     "metadata": {},
     "output_type": "execute_result"
    }
   ],
   "source": [
    "resultado2.shape"
   ]
  },
  {
   "cell_type": "code",
   "execution_count": 55,
   "metadata": {},
   "outputs": [
    {
     "data": {
      "text/plain": [
       "array([0, 0, 0, ..., 0, 0, 1], dtype=int64)"
      ]
     },
     "execution_count": 55,
     "metadata": {},
     "output_type": "execute_result"
    }
   ],
   "source": [
    "resultado2"
   ]
  },
  {
   "cell_type": "code",
   "execution_count": 56,
   "metadata": {},
   "outputs": [],
   "source": [
    "test['dano_na_plantacao'] = resultado2"
   ]
  },
  {
   "cell_type": "code",
   "execution_count": 57,
   "metadata": {},
   "outputs": [
    {
     "data": {
      "text/plain": [
       "0    7274\n",
       "1    1356\n",
       "2     228\n",
       "Name: dano_na_plantacao, dtype: int64"
      ]
     },
     "execution_count": 57,
     "metadata": {},
     "output_type": "execute_result"
    }
   ],
   "source": [
    "test['dano_na_plantacao'].value_counts()"
   ]
  },
  {
   "cell_type": "code",
   "execution_count": 67,
   "metadata": {},
   "outputs": [
    {
     "data": {
      "text/plain": [
       "Text(0, 0.5, '')"
      ]
     },
     "execution_count": 67,
     "metadata": {},
     "output_type": "execute_result"
    },
    {
     "data": {
      "image/png": "[encoded data removed]",
      "text/plain": [
       "<Figure size 720x360 with 2 Axes>"
      ]
     },
     "metadata": {},
     "output_type": "display_data"
    }
   ],
   "source": [
    "# Gráficos de setores comparando o os anos de 2018-2019 e 2020\n",
    "f,ax=plt.subplots(1,2,figsize=(10,5))\n",
    "train['dano_na_plantacao'].value_counts().plot.pie(explode=[0.02,0.02,0.02],autopct='%0.2f%%',ax=ax[0])\n",
    "ax[0].set_title('Danos a plantação 2018 - 2019')\n",
    "ax[0].set_ylabel('')\n",
    "test['dano_na_plantacao'].value_counts().plot.pie(explode=[0.02,0.02,0.02],autopct='%0.2f%%',ax=ax[1])\n",
    "ax[1].set_title('Danos a plantação 2020')\n",
    "ax[1].set_ylabel('')"
   ]
  },
  {
   "cell_type": "code",
   "execution_count": 68,
   "metadata": {},
   "outputs": [],
   "source": [
    "# Conclusão: Podemos notar um pequeno aumento nos danos causados por outros fatores que não os pesticidas. Podemos concluir que\n",
    "# essa diferença se da por mudanças no tipo de cultivo e nas temporadas de plantação, Mas também existe, neste caso, \n",
    "# a possibilidade de que essa diferença foi causada pelo classificador, como dito anteriormente, ele obteve uma acurácia de \n",
    "# 75%, então é possível que tal diferença tenha sido causada por classificações equivocadas. Em todo caso, teremos a grande \n",
    "# maioria da da colheita(82,12%) sem danos à plantação, um dano considerável(15,31%) causados por outros fátores como o tipo\n",
    "# de cultivo e as temporadas e um dano mínimo(2,57%) causado por pesticidas."
   ]
  },
  {
   "cell_type": "code",
   "execution_count": null,
   "metadata": {},
   "outputs": [],
   "source": []
  }
 ],
 "metadata": {
  "kernelspec": {
   "display_name": "Python 3",
   "language": "python",
   "name": "python3"
  },
  "language_info": {
   "codemirror_mode": {
    "name": "ipython",
    "version": 3
   },
   "file_extension": ".py",
   "mimetype": "text/x-python",
   "name": "python",
   "nbconvert_exporter": "python",
   "pygments_lexer": "ipython3",
   "version": "3.7.6"
  }
 },
 "nbformat": 4,
 "nbformat_minor": 4
}
