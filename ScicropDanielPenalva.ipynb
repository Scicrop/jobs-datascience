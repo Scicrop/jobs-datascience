{
 "cells": [
  {
   "cell_type": "code",
   "execution_count": 106,
   "metadata": {},
   "outputs": [],
   "source": [
    "import pandas as pd\n",
    "import seaborn as sns\n",
    "import matplotlib.pyplot as plt\n",
    "\n",
    "# Modelagem\n",
    "from imblearn.over_sampling import SMOTE\n",
    "from sklearn.ensemble import RandomForestClassifier\n",
    "from sklearn.model_selection import GridSearchCV, StratifiedKFold\n",
    "from sklearn import preprocessing\n",
    "\n",
    "sns.set()"
   ]
  },
  {
   "cell_type": "code",
   "execution_count": 139,
   "metadata": {},
   "outputs": [],
   "source": [
    "safra2018 = pd.read_csv('Safra_2018-2019.csv')\n",
    "safra2020 = pd.read_csv('Safra_2020.csv')"
   ]
  },
  {
   "cell_type": "markdown",
   "metadata": {},
   "source": [
    " # Solução para modelagem do uso de pesticidas nas safras agrícolas"
   ]
  },
  {
   "cell_type": "markdown",
   "metadata": {},
   "source": [
    "# Descrição dos dados e do problema. Análise exploratória."
   ]
  },
  {
   "cell_type": "markdown",
   "metadata": {},
   "source": [
    "O conjunto de dados em questão se refere ao final da safra de 2018 e 2019, onde foram coletadas frequências de manejamento de pesticidas e outros fatores técnicos-agrícolas \n",
    "\n",
    "A questão principal, ignorando fatores climáticos e técnicos-agrícolas, é como o manejamento de pesticidas pode criar danos ou beneficiar a plantação. Além disso a modelagem apresentada deve tornar possível prever danos e benefícios para dados fora do conjunto\n",
    "(referência README do repositório dos dados). "
   ]
  },
  {
   "cell_type": "code",
   "execution_count": 52,
   "metadata": {},
   "outputs": [
    {
     "data": {
      "text/html": [
       "<div>\n",
       "<style scoped>\n",
       "    .dataframe tbody tr th:only-of-type {\n",
       "        vertical-align: middle;\n",
       "    }\n",
       "\n",
       "    .dataframe tbody tr th {\n",
       "        vertical-align: top;\n",
       "    }\n",
       "\n",
       "    .dataframe thead th {\n",
       "        text-align: right;\n",
       "    }\n",
       "</style>\n",
       "<table border=\"1\" class=\"dataframe\">\n",
       "  <thead>\n",
       "    <tr style=\"text-align: right;\">\n",
       "      <th></th>\n",
       "      <th>Unnamed: 0</th>\n",
       "      <th>Identificador_Agricultor</th>\n",
       "      <th>Estimativa_de_Insetos</th>\n",
       "      <th>Tipo_de_Cultivo</th>\n",
       "      <th>Tipo_de_Solo</th>\n",
       "      <th>Categoria_Pesticida</th>\n",
       "      <th>Doses_Semana</th>\n",
       "      <th>Semanas_Utilizando</th>\n",
       "      <th>Semanas_Sem_Uso</th>\n",
       "      <th>Temporada</th>\n",
       "      <th>dano_na_plantacao</th>\n",
       "    </tr>\n",
       "  </thead>\n",
       "  <tbody>\n",
       "    <tr>\n",
       "      <th>0</th>\n",
       "      <td>0</td>\n",
       "      <td>SCROP00001</td>\n",
       "      <td>188</td>\n",
       "      <td>1</td>\n",
       "      <td>0</td>\n",
       "      <td>1</td>\n",
       "      <td>0</td>\n",
       "      <td>0.0</td>\n",
       "      <td>0</td>\n",
       "      <td>1</td>\n",
       "      <td>0</td>\n",
       "    </tr>\n",
       "    <tr>\n",
       "      <th>1</th>\n",
       "      <td>1</td>\n",
       "      <td>SCROP00002</td>\n",
       "      <td>209</td>\n",
       "      <td>1</td>\n",
       "      <td>0</td>\n",
       "      <td>1</td>\n",
       "      <td>0</td>\n",
       "      <td>0.0</td>\n",
       "      <td>0</td>\n",
       "      <td>2</td>\n",
       "      <td>1</td>\n",
       "    </tr>\n",
       "    <tr>\n",
       "      <th>2</th>\n",
       "      <td>2</td>\n",
       "      <td>SCROP00003</td>\n",
       "      <td>257</td>\n",
       "      <td>1</td>\n",
       "      <td>0</td>\n",
       "      <td>1</td>\n",
       "      <td>0</td>\n",
       "      <td>0.0</td>\n",
       "      <td>0</td>\n",
       "      <td>2</td>\n",
       "      <td>1</td>\n",
       "    </tr>\n",
       "    <tr>\n",
       "      <th>3</th>\n",
       "      <td>3</td>\n",
       "      <td>SCROP00004</td>\n",
       "      <td>257</td>\n",
       "      <td>1</td>\n",
       "      <td>1</td>\n",
       "      <td>1</td>\n",
       "      <td>0</td>\n",
       "      <td>0.0</td>\n",
       "      <td>0</td>\n",
       "      <td>2</td>\n",
       "      <td>1</td>\n",
       "    </tr>\n",
       "    <tr>\n",
       "      <th>4</th>\n",
       "      <td>4</td>\n",
       "      <td>SCROP00005</td>\n",
       "      <td>342</td>\n",
       "      <td>1</td>\n",
       "      <td>0</td>\n",
       "      <td>1</td>\n",
       "      <td>0</td>\n",
       "      <td>0.0</td>\n",
       "      <td>0</td>\n",
       "      <td>2</td>\n",
       "      <td>1</td>\n",
       "    </tr>\n",
       "  </tbody>\n",
       "</table>\n",
       "</div>"
      ],
      "text/plain": [
       "   Unnamed: 0 Identificador_Agricultor  Estimativa_de_Insetos  \\\n",
       "0           0               SCROP00001                    188   \n",
       "1           1               SCROP00002                    209   \n",
       "2           2               SCROP00003                    257   \n",
       "3           3               SCROP00004                    257   \n",
       "4           4               SCROP00005                    342   \n",
       "\n",
       "   Tipo_de_Cultivo  Tipo_de_Solo  Categoria_Pesticida  Doses_Semana  \\\n",
       "0                1             0                    1             0   \n",
       "1                1             0                    1             0   \n",
       "2                1             0                    1             0   \n",
       "3                1             1                    1             0   \n",
       "4                1             0                    1             0   \n",
       "\n",
       "   Semanas_Utilizando  Semanas_Sem_Uso  Temporada  dano_na_plantacao  \n",
       "0                 0.0                0          1                  0  \n",
       "1                 0.0                0          2                  1  \n",
       "2                 0.0                0          2                  1  \n",
       "3                 0.0                0          2                  1  \n",
       "4                 0.0                0          2                  1  "
      ]
     },
     "execution_count": 52,
     "metadata": {},
     "output_type": "execute_result"
    }
   ],
   "source": [
    "safra2018.head()"
   ]
  },
  {
   "cell_type": "markdown",
   "metadata": {},
   "source": [
    "Examinando as variáveis características notamos que há uma relação pré-definida entre variáveis que registram o uso de pesticidas. Notamos que é possível verificar erros de registro dos dados entre as seguintes variáveis:\n",
    "\n",
    "  - Registros com 0 'Doses_Semana' não podem ter sofrido danos por uso de pesticida ('dano_na_plantacao' igual a 2).\n",
    "  - Registros com 0.0 'Semanas_Utilizando' não podem ter sofrido danos por uso de pesticida.\n",
    "  - Registros com 'Categoria_Pesticida' igual a 1 (nunca usou pesticida) não podem ter sofrido danos por uso de pesticida.\n",
    "  \n",
    "Podemos ver abaixo que há uma quantidade mínima desses erros de registro."
   ]
  },
  {
   "cell_type": "code",
   "execution_count": 53,
   "metadata": {},
   "outputs": [
    {
     "name": "stdout",
     "output_type": "stream",
     "text": [
      "150\n",
      "126\n",
      "150\n"
     ]
    }
   ],
   "source": [
    "print(len(safra2018[(safra2018['Doses_Semana']==0) & (safra2018['dano_na_plantacao']==2)]))\n",
    "print(len(safra2018[(safra2018['Semanas_Utilizando']==0.0) & (safra2018['dano_na_plantacao']==2)]))\n",
    "print(len(safra2018[(safra2018['Categoria_Pesticida']==1) & (safra2018['dano_na_plantacao']==2)]))"
   ]
  },
  {
   "cell_type": "markdown",
   "metadata": {},
   "source": [
    "## Limpeza do conjunto de dados "
   ]
  },
  {
   "cell_type": "markdown",
   "metadata": {},
   "source": [
    "Contamos o número de registros errados NA:"
   ]
  },
  {
   "cell_type": "code",
   "execution_count": 54,
   "metadata": {},
   "outputs": [
    {
     "data": {
      "text/plain": [
       "Unnamed: 0                     0\n",
       "Identificador_Agricultor       0\n",
       "Estimativa_de_Insetos          0\n",
       "Tipo_de_Cultivo                0\n",
       "Tipo_de_Solo                   0\n",
       "Categoria_Pesticida            0\n",
       "Doses_Semana                   0\n",
       "Semanas_Utilizando          8055\n",
       "Semanas_Sem_Uso                0\n",
       "Temporada                      0\n",
       "dano_na_plantacao              0\n",
       "dtype: int64"
      ]
     },
     "execution_count": 54,
     "metadata": {},
     "output_type": "execute_result"
    }
   ],
   "source": [
    "# Duas formas de verificar a existência de NAs no dataset \n",
    "safra2018.count()\n",
    "safra2018.isna().sum()"
   ]
  },
  {
   "cell_type": "markdown",
   "metadata": {},
   "source": [
    "Retiramos os dados com registros errados e com entradas NaNs (not a number):"
   ]
  },
  {
   "cell_type": "code",
   "execution_count": 55,
   "metadata": {},
   "outputs": [
    {
     "name": "stdout",
     "output_type": "stream",
     "text": [
      "(71945, 11)\n"
     ]
    }
   ],
   "source": [
    "safra2018.dropna(axis=0,inplace=True)\n",
    "print(safra2018.shape)"
   ]
  },
  {
   "cell_type": "markdown",
   "metadata": {},
   "source": [
    "Retiramos os erros de registros devidos aos fatores citados acima sobre os campos 'Doses_Semana', 'Semanas_Utilizando', 'Categoria_Pesticida':"
   ]
  },
  {
   "cell_type": "code",
   "execution_count": 56,
   "metadata": {},
   "outputs": [],
   "source": [
    "safra2018 = safra2018[(safra2018['Doses_Semana']!=0) | (safra2018['dano_na_plantacao']!=2)]\n",
    "safra2018 = safra2018[(safra2018['Semanas_Utilizando']!=0.0) | (safra2018['dano_na_plantacao']!=2)]\n",
    "safra2018 = safra2018[(safra2018['Categoria_Pesticida']!=1) | (safra2018['dano_na_plantacao']!=2)]"
   ]
  },
  {
   "cell_type": "code",
   "execution_count": 57,
   "metadata": {},
   "outputs": [
    {
     "name": "stdout",
     "output_type": "stream",
     "text": [
      "(71819, 11)\n"
     ]
    }
   ],
   "source": [
    "print(safra2018.shape)"
   ]
  },
  {
   "cell_type": "markdown",
   "metadata": {},
   "source": [
    "Retiramos o campo 'Temporada', por ser uma assumpção da modelagem (referência README), retiramos o campo que apenas repete os indices:"
   ]
  },
  {
   "cell_type": "code",
   "execution_count": 58,
   "metadata": {},
   "outputs": [
    {
     "data": {
      "text/html": [
       "<div>\n",
       "<style scoped>\n",
       "    .dataframe tbody tr th:only-of-type {\n",
       "        vertical-align: middle;\n",
       "    }\n",
       "\n",
       "    .dataframe tbody tr th {\n",
       "        vertical-align: top;\n",
       "    }\n",
       "\n",
       "    .dataframe thead th {\n",
       "        text-align: right;\n",
       "    }\n",
       "</style>\n",
       "<table border=\"1\" class=\"dataframe\">\n",
       "  <thead>\n",
       "    <tr style=\"text-align: right;\">\n",
       "      <th></th>\n",
       "      <th>Identificador_Agricultor</th>\n",
       "      <th>Estimativa_de_Insetos</th>\n",
       "      <th>Tipo_de_Cultivo</th>\n",
       "      <th>Tipo_de_Solo</th>\n",
       "      <th>Categoria_Pesticida</th>\n",
       "      <th>Doses_Semana</th>\n",
       "      <th>Semanas_Utilizando</th>\n",
       "      <th>Semanas_Sem_Uso</th>\n",
       "      <th>dano_na_plantacao</th>\n",
       "    </tr>\n",
       "  </thead>\n",
       "  <tbody>\n",
       "    <tr>\n",
       "      <th>0</th>\n",
       "      <td>SCROP00001</td>\n",
       "      <td>188</td>\n",
       "      <td>1</td>\n",
       "      <td>0</td>\n",
       "      <td>1</td>\n",
       "      <td>0</td>\n",
       "      <td>0.0</td>\n",
       "      <td>0</td>\n",
       "      <td>0</td>\n",
       "    </tr>\n",
       "    <tr>\n",
       "      <th>1</th>\n",
       "      <td>SCROP00002</td>\n",
       "      <td>209</td>\n",
       "      <td>1</td>\n",
       "      <td>0</td>\n",
       "      <td>1</td>\n",
       "      <td>0</td>\n",
       "      <td>0.0</td>\n",
       "      <td>0</td>\n",
       "      <td>1</td>\n",
       "    </tr>\n",
       "    <tr>\n",
       "      <th>2</th>\n",
       "      <td>SCROP00003</td>\n",
       "      <td>257</td>\n",
       "      <td>1</td>\n",
       "      <td>0</td>\n",
       "      <td>1</td>\n",
       "      <td>0</td>\n",
       "      <td>0.0</td>\n",
       "      <td>0</td>\n",
       "      <td>1</td>\n",
       "    </tr>\n",
       "    <tr>\n",
       "      <th>3</th>\n",
       "      <td>SCROP00004</td>\n",
       "      <td>257</td>\n",
       "      <td>1</td>\n",
       "      <td>1</td>\n",
       "      <td>1</td>\n",
       "      <td>0</td>\n",
       "      <td>0.0</td>\n",
       "      <td>0</td>\n",
       "      <td>1</td>\n",
       "    </tr>\n",
       "    <tr>\n",
       "      <th>4</th>\n",
       "      <td>SCROP00005</td>\n",
       "      <td>342</td>\n",
       "      <td>1</td>\n",
       "      <td>0</td>\n",
       "      <td>1</td>\n",
       "      <td>0</td>\n",
       "      <td>0.0</td>\n",
       "      <td>0</td>\n",
       "      <td>1</td>\n",
       "    </tr>\n",
       "  </tbody>\n",
       "</table>\n",
       "</div>"
      ],
      "text/plain": [
       "  Identificador_Agricultor  Estimativa_de_Insetos  Tipo_de_Cultivo  \\\n",
       "0               SCROP00001                    188                1   \n",
       "1               SCROP00002                    209                1   \n",
       "2               SCROP00003                    257                1   \n",
       "3               SCROP00004                    257                1   \n",
       "4               SCROP00005                    342                1   \n",
       "\n",
       "   Tipo_de_Solo  Categoria_Pesticida  Doses_Semana  Semanas_Utilizando  \\\n",
       "0             0                    1             0                 0.0   \n",
       "1             0                    1             0                 0.0   \n",
       "2             0                    1             0                 0.0   \n",
       "3             1                    1             0                 0.0   \n",
       "4             0                    1             0                 0.0   \n",
       "\n",
       "   Semanas_Sem_Uso  dano_na_plantacao  \n",
       "0                0                  0  \n",
       "1                0                  1  \n",
       "2                0                  1  \n",
       "3                0                  1  \n",
       "4                0                  1  "
      ]
     },
     "execution_count": 58,
     "metadata": {},
     "output_type": "execute_result"
    }
   ],
   "source": [
    "safra2018 = safra2018.drop(['Unnamed: 0','Temporada'],axis=1)\n",
    "safra2018.head()"
   ]
  },
  {
   "cell_type": "markdown",
   "metadata": {},
   "source": [
    "## Representatividade das categorias de 'dano_na_plantacao'"
   ]
  },
  {
   "cell_type": "code",
   "execution_count": 67,
   "metadata": {},
   "outputs": [
    {
     "data": {
      "text/plain": [
       "<matplotlib.axes._subplots.AxesSubplot at 0x7f9802de9f10>"
      ]
     },
     "execution_count": 67,
     "metadata": {},
     "output_type": "execute_result"
    },
    {
     "data": {
      "image/png": "[encoded data removed]",
      "text/plain": [
       "<Figure size 432x288 with 1 Axes>"
      ]
     },
     "metadata": {
      "needs_background": "light"
     },
     "output_type": "display_data"
    }
   ],
   "source": [
    "sns.countplot(x='dano_na_plantacao',data=safra2018)"
   ]
  },
  {
   "cell_type": "markdown",
   "metadata": {},
   "source": [
    "As categorias que designam os danos na safra não estão igualmente representadas no conjunto de dados. Isso dificulta o uso de alguns classificadores pois irão identificar melhor as características da categoria com maior representatividade. Será necessário usar métodos de balanceamento dos dados e métricas que levem em conta o desbalanceamento."
   ]
  },
  {
   "cell_type": "markdown",
   "metadata": {},
   "source": [
    "## Representatividade do tipo de cultivo e solo em relação aos danos na plantação"
   ]
  },
  {
   "cell_type": "code",
   "execution_count": 59,
   "metadata": {},
   "outputs": [
    {
     "data": {
      "text/plain": [
       "Tipo_de_Cultivo  dano_na_plantacao\n",
       "0                0                    0.829144\n",
       "                 1                    0.146090\n",
       "                 2                    0.024765\n",
       "1                0                    0.851395\n",
       "                 1                    0.125500\n",
       "                 2                    0.023105\n",
       "Name: dano_na_plantacao, dtype: float64"
      ]
     },
     "execution_count": 59,
     "metadata": {},
     "output_type": "execute_result"
    }
   ],
   "source": [
    "safra2018.groupby(['Tipo_de_Cultivo'])['dano_na_plantacao'].value_counts(normalize=True)"
   ]
  },
  {
   "cell_type": "code",
   "execution_count": 60,
   "metadata": {},
   "outputs": [
    {
     "data": {
      "text/plain": [
       "Tipo_de_Solo  dano_na_plantacao\n",
       "0             0                    0.827030\n",
       "              1                    0.147015\n",
       "              2                    0.025954\n",
       "1             0                    0.845405\n",
       "              1                    0.132270\n",
       "              2                    0.022325\n",
       "Name: dano_na_plantacao, dtype: float64"
      ]
     },
     "execution_count": 60,
     "metadata": {},
     "output_type": "execute_result"
    }
   ],
   "source": [
    "safra2018.groupby(['Tipo_de_Solo'])['dano_na_plantacao'].value_counts(normalize=True)"
   ]
  },
  {
   "cell_type": "markdown",
   "metadata": {},
   "source": [
    "É possível verificar que o tipo do cultivo e tipo de solo, características técnicas-agrícolas, possuem uma diferença de menos de 0.5% no dano devido ao uso de pesticidas (2). Sua influência é maior nas plantações sem danos ou com outros danos diversos. Seguimos então a sugestão de não levar em conta esses campos na modelagem e análise (README)"
   ]
  },
  {
   "cell_type": "code",
   "execution_count": 61,
   "metadata": {},
   "outputs": [],
   "source": [
    "safra2018 = safra2018.drop(['Tipo_de_Solo','Tipo_de_Cultivo'],axis=1)"
   ]
  },
  {
   "cell_type": "markdown",
   "metadata": {},
   "source": [
    "## Relevância do uso de pesticidas em relação aos danos na plantação"
   ]
  },
  {
   "cell_type": "markdown",
   "metadata": {},
   "source": [
    "O campo 'Categoria_Pesticida' (1 - Nunca Usou, 2 - Já Usou, 3 - Está Usando) pode nos dar um panorama da relevância do uso de pesticidas e sua influência na safra."
   ]
  },
  {
   "cell_type": "code",
   "execution_count": 62,
   "metadata": {},
   "outputs": [
    {
     "data": {
      "text/plain": [
       "Categoria_Pesticida  dano_na_plantacao\n",
       "1                    1                    0.828780\n",
       "                     0                    0.171220\n",
       "2                    0                    0.892964\n",
       "                     1                    0.096255\n",
       "                     2                    0.010782\n",
       "3                    0                    0.705941\n",
       "                     1                    0.234396\n",
       "                     2                    0.059663\n",
       "Name: dano_na_plantacao, dtype: float64"
      ]
     },
     "execution_count": 62,
     "metadata": {},
     "output_type": "execute_result"
    }
   ],
   "source": [
    "safra2018.groupby(['Categoria_Pesticida'])['dano_na_plantacao'].value_counts(normalize=True)"
   ]
  },
  {
   "cell_type": "markdown",
   "metadata": {},
   "source": [
    "Vemos que, por um lado, quem está usando pesticidas enfrenta mais problemas na plantação do que quem usou no passado. Por outro lado quem nunca usou tem a safra quase inteira prejudicada por outros fatores ('dano_na_plantacao' = 1 tem frequência de 83%).\n",
    "\n",
    "Portanto é racional esperar que quem usa pesticida com alguma frequência irá ter safras melhores do que quem nunca usou."
   ]
  },
  {
   "cell_type": "markdown",
   "metadata": {},
   "source": [
    "## Frequência de uso de pesticidas e os danos na plantação"
   ]
  },
  {
   "cell_type": "markdown",
   "metadata": {},
   "source": [
    "As características **'Doses_Semana'**, **'Semanas_Utilizando'** e **'Semanas_Sem_Uso'** devem possuir diferentes influências no resultado da safra, examinemos suas distribuições."
   ]
  },
  {
   "cell_type": "code",
   "execution_count": 66,
   "metadata": {},
   "outputs": [
    {
     "data": {
      "image/png": "[encoded data removed]",
      "text/plain": [
       "<Figure size 720x504 with 3 Axes>"
      ]
     },
     "metadata": {
      "needs_background": "light"
     },
     "output_type": "display_data"
    }
   ],
   "source": [
    "fields = {'Doses_Semana','Semanas_Utilizando','Semanas_Sem_Uso'}\n",
    "\n",
    "fig, axes = plt.subplots(nrows=1, ncols=3, figsize=(10, 7))\n",
    "\n",
    "for idx, pest_use in enumerate(fields):\n",
    "    ax = axes[idx]\n",
    "    sns.boxplot(x='dano_na_plantacao', y=pest_use, data=safra2018, ax=ax)\n",
    "    ax.set_xlabel('danos')\n",
    "    ax.set_ylabel(pest_use)\n",
    "fig.tight_layout()"
   ]
  },
  {
   "cell_type": "markdown",
   "metadata": {},
   "source": [
    "As distribuições em relações aos diferentes tipos de danos tem clara diferença para as features **'Semanas_Utilizando'** e **'Semanas_Sem_Uso'**."
   ]
  },
  {
   "cell_type": "markdown",
   "metadata": {},
   "source": [
    "# Modelagem, Random Forest com SMOTE"
   ]
  },
  {
   "cell_type": "markdown",
   "metadata": {},
   "source": [
    "Aplico técnica de reamostragem artificial, SMOTE, para balancear o conjunto de dados igualmente entre as classes. "
   ]
  },
  {
   "cell_type": "code",
   "execution_count": 110,
   "metadata": {},
   "outputs": [],
   "source": [
    "oversample = SMOTE()\n",
    "safra = safra2018.drop(['Identificador_Agricultor','dano_na_plantacao'],axis=1)\n",
    "X,y=oversample.fit_resample(safra, safra2018['dano_na_plantacao'])"
   ]
  },
  {
   "cell_type": "code",
   "execution_count": 124,
   "metadata": {},
   "outputs": [
    {
     "name": "stdout",
     "output_type": "stream",
     "text": [
      "Antes do SMOTE (71819, 5)\n",
      "Após aplicação do SMOTE (179997, 5)\n"
     ]
    }
   ],
   "source": [
    "print('Antes do SMOTE {}'.format(safra.shape))\n",
    "print('Após aplicação do SMOTE {}'.format(X.shape))"
   ]
  },
  {
   "cell_type": "markdown",
   "metadata": {},
   "source": [
    "Escolho o classificador de Random Forest devido a possibilidade de interpretabilidade de seus resultados (calcularemos a importância das Features abaixo).\n",
    "\n",
    "A escolha do melhor modelo no espaço de parametros é feita através de cross-validação do dataset e comparação da métrica F1 para modelos multiclasses (F1-macro)."
   ]
  },
  {
   "cell_type": "code",
   "execution_count": 112,
   "metadata": {},
   "outputs": [],
   "source": [
    "rf = RandomForestClassifier(n_estimators=100, n_jobs=-1, random_state=42, class_weight='balanced')"
   ]
  },
  {
   "cell_type": "code",
   "execution_count": 113,
   "metadata": {},
   "outputs": [],
   "source": [
    "parameters = {'max_features': [1, 2, 4], 'min_samples_leaf': [3, 5, 7, 9], 'max_depth': [5,10,15]}"
   ]
  },
  {
   "cell_type": "code",
   "execution_count": 117,
   "metadata": {
    "scrolled": false
   },
   "outputs": [
    {
     "name": "stdout",
     "output_type": "stream",
     "text": [
      "Fitting 5 folds for each of 36 candidates, totalling 180 fits\n"
     ]
    },
    {
     "name": "stderr",
     "output_type": "stream",
     "text": [
      "[Parallel(n_jobs=-1)]: Using backend LokyBackend with 8 concurrent workers.\n",
      "[Parallel(n_jobs=-1)]: Done  34 tasks      | elapsed:   59.2s\n",
      "[Parallel(n_jobs=-1)]: Done 180 out of 180 | elapsed:  8.1min finished\n"
     ]
    },
    {
     "name": "stdout",
     "output_type": "stream",
     "text": [
      "Pontuação Melhor Modelo 0.7473964604876322\n"
     ]
    }
   ],
   "source": [
    "skf = StratifiedKFold(n_splits=5, shuffle=True, random_state=5)\n",
    "rf_grid_search = GridSearchCV(rf, parameters, n_jobs=-1, scoring='f1_macro', cv=skf, verbose=True)\n",
    "rf_grid_search = rf_grid_search.fit(X, y)\n",
    "print('Pontuação Melhor Modelo {}'.format(rf_grid_search.best_score_))"
   ]
  },
  {
   "cell_type": "markdown",
   "metadata": {},
   "source": [
    "## Importância das Features"
   ]
  },
  {
   "cell_type": "markdown",
   "metadata": {},
   "source": [
    "O modelo de Random Forests permite determinar a importância de cada Feature implicada na modelagem."
   ]
  },
  {
   "cell_type": "code",
   "execution_count": 119,
   "metadata": {},
   "outputs": [],
   "source": [
    "nomes_colunas = [x for x in safra]"
   ]
  },
  {
   "cell_type": "code",
   "execution_count": 123,
   "metadata": {},
   "outputs": [
    {
     "data": {
      "text/html": [
       "<div>\n",
       "<style scoped>\n",
       "    .dataframe tbody tr th:only-of-type {\n",
       "        vertical-align: middle;\n",
       "    }\n",
       "\n",
       "    .dataframe tbody tr th {\n",
       "        vertical-align: top;\n",
       "    }\n",
       "\n",
       "    .dataframe thead th {\n",
       "        text-align: right;\n",
       "    }\n",
       "</style>\n",
       "<table border=\"1\" class=\"dataframe\">\n",
       "  <thead>\n",
       "    <tr style=\"text-align: right;\">\n",
       "      <th></th>\n",
       "      <th>features</th>\n",
       "      <th>coef</th>\n",
       "    </tr>\n",
       "  </thead>\n",
       "  <tbody>\n",
       "    <tr>\n",
       "      <th>3</th>\n",
       "      <td>Semanas_Utilizando</td>\n",
       "      <td>0.490314</td>\n",
       "    </tr>\n",
       "    <tr>\n",
       "      <th>0</th>\n",
       "      <td>Estimativa_de_Insetos</td>\n",
       "      <td>0.196292</td>\n",
       "    </tr>\n",
       "    <tr>\n",
       "      <th>2</th>\n",
       "      <td>Doses_Semana</td>\n",
       "      <td>0.165382</td>\n",
       "    </tr>\n",
       "    <tr>\n",
       "      <th>4</th>\n",
       "      <td>Semanas_Sem_Uso</td>\n",
       "      <td>0.105916</td>\n",
       "    </tr>\n",
       "    <tr>\n",
       "      <th>1</th>\n",
       "      <td>Categoria_Pesticida</td>\n",
       "      <td>0.042097</td>\n",
       "    </tr>\n",
       "  </tbody>\n",
       "</table>\n",
       "</div>"
      ],
      "text/plain": [
       "                features      coef\n",
       "3     Semanas_Utilizando  0.490314\n",
       "0  Estimativa_de_Insetos  0.196292\n",
       "2           Doses_Semana  0.165382\n",
       "4        Semanas_Sem_Uso  0.105916\n",
       "1    Categoria_Pesticida  0.042097"
      ]
     },
     "execution_count": 123,
     "metadata": {},
     "output_type": "execute_result"
    }
   ],
   "source": [
    "pd.DataFrame({'features': nomes_colunas,\n",
    "              'coef': rf_grid_search.best_estimator_.feature_importances_}).sort_values(by='coef', ascending=False)\n"
   ]
  },
  {
   "cell_type": "markdown",
   "metadata": {},
   "source": [
    "# Predição das Safras de 2020"
   ]
  },
  {
   "cell_type": "code",
   "execution_count": 140,
   "metadata": {
    "run_control": {
     "marked": true
    }
   },
   "outputs": [],
   "source": [
    "safra2020=safra2020.drop(['Unnamed: 0','Identificador_Agricultor','Temporada','Tipo_de_Cultivo','Tipo_de_Solo'],axis=1)\n",
    "safra2020.dropna(axis=0,inplace=True)"
   ]
  },
  {
   "cell_type": "code",
   "execution_count": 141,
   "metadata": {},
   "outputs": [],
   "source": [
    "y_pred=rf_grid_search.predict(safra2020)"
   ]
  },
  {
   "cell_type": "code",
   "execution_count": 143,
   "metadata": {},
   "outputs": [],
   "source": [
    "safra2020['dano_na_plantacao'] = y_pred"
   ]
  },
  {
   "cell_type": "code",
   "execution_count": 148,
   "metadata": {},
   "outputs": [],
   "source": [
    "safra2020.to_csv('safra2020pred.csv')"
   ]
  },
  {
   "cell_type": "markdown",
   "metadata": {},
   "source": [
    "A predição pode ser comparada através das distribuições das Features nas safras de 2020. Observo que o modelo captura o comportamento das distribuições das Features, através da predição, sendo assim mais uma evidência que o modelo de Random Forest é um bom modelo para os dados."
   ]
  },
  {
   "cell_type": "code",
   "execution_count": 150,
   "metadata": {},
   "outputs": [
    {
     "data": {
      "image/png": "[encoded data removed]",
      "text/plain": [
       "<Figure size 720x504 with 3 Axes>"
      ]
     },
     "metadata": {},
     "output_type": "display_data"
    }
   ],
   "source": [
    "fields = {'Doses_Semana','Semanas_Utilizando','Semanas_Sem_Uso'}\n",
    "\n",
    "fig, axes = plt.subplots(nrows=1, ncols=3, figsize=(10, 7))\n",
    "\n",
    "for idx, pest_use in enumerate(fields):\n",
    "    ax = axes[idx]\n",
    "    sns.boxplot(x='dano_na_plantacao', y=pest_use, data=safra2020, ax=ax)\n",
    "    ax.set_xlabel('danos')\n",
    "    ax.set_ylabel(pest_use)\n",
    "fig.tight_layout()"
   ]
  },
  {
   "cell_type": "markdown",
   "metadata": {},
   "source": [
    "# Conclusões\n",
    "\n",
    " - Através da análise exploratória pudemos conferir que as técnicas de solo, cultivo e climáticas não influenciam no controle de uso dos pesticidas.\n",
    " - O uso dos pesticidas melhoram as safras em relação ao não uso.\n",
    " - Segundo o modelo, o número de semanas utilizando é o fator mais importante para uso de pesticidas. \n",
    " - A visualização das distribuições nos dá uma previsão de ~18-30 semanas de uso de pesticidas para os melhores resultados na safra de 2020. \n",
    " - O modelo ainda nos responde positivimente a intuição que a estimativa do número de insetos é importante, de fato é o segundo fator mais importante. "
   ]
  }
 ],
 "metadata": {
  "kernelspec": {
   "display_name": "Python 3",
   "language": "python",
   "name": "python3"
  },
  "language_info": {
   "codemirror_mode": {
    "name": "ipython",
    "version": 3
   },
   "file_extension": ".py",
   "mimetype": "text/x-python",
   "name": "python",
   "nbconvert_exporter": "python",
   "pygments_lexer": "ipython3",
   "version": "3.7.5"
  },
  "latex_envs": {
   "LaTeX_envs_menu_present": true,
   "autoclose": false,
   "autocomplete": true,
   "bibliofile": "biblio.bib",
   "cite_by": "apalike",
   "current_citInitial": 1,
   "eqLabelWithNumbers": true,
   "eqNumInitial": 1,
   "hotkeys": {
    "equation": "Ctrl-E",
    "itemize": "Ctrl-I"
   },
   "labels_anchors": false,
   "latex_user_defs": false,
   "report_style_numbering": false,
   "user_envs_cfg": false
  },
  "toc": {
   "base_numbering": 1,
   "nav_menu": {},
   "number_sections": true,
   "sideBar": true,
   "skip_h1_title": false,
   "title_cell": "Table of Contents",
   "title_sidebar": "Contents",
   "toc_cell": false,
   "toc_position": {},
   "toc_section_display": true,
   "toc_window_display": false
  }
 },
 "nbformat": 4,
 "nbformat_minor": 4
}
