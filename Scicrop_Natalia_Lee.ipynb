{
  "nbformat": 4,
  "nbformat_minor": 0,
  "metadata": {
    "colab": {
      "name": "Scicrop_Natalia_Lee.ipynb",
      "provenance": [],
      "collapsed_sections": []
    },
    "kernelspec": {
      "name": "python3",
      "display_name": "Python 3"
    }
  },
  "cells": [
    {
      "cell_type": "markdown",
      "metadata": {
        "id": "RFTBerHIQSmC",
        "colab_type": "text"
      },
      "source": [
        "#<h1><center>**SCICROP**</center></h1>\n",
        "##<h1><center>Processo seletivo para Estágio em Data Science</center></h1>\n",
        "<h1><center>Natalia Yin San Lee</center></h1>\n",
        "\n",
        "\n"
      ]
    },
    {
      "cell_type": "markdown",
      "metadata": {
        "id": "OlTDE87XRsd_",
        "colab_type": "text"
      },
      "source": [
        "  Apesar do agro gerar muito lucro, a vida dos agricultores não é fácil, mas sim um verdadeiro teste de resistência e determinação. Uma vez que tenhamos semeado as sementes, o agricultor precisa trabalhar dia e noite para garantir uma boa safra no final da estação. Uma boa colheita depende de diversos fatores, como disponibilidade de água, fertilidade do solo, proteção das culturas, uso oportuno de pesticidas, outros fatores químicos úteis e da natureza.\n",
        "\n",
        "​ Muitos desses dados são quase impossíveis de se controlar, mas a quantidade e a frequência de pesticidas é algo que o agricultor pode administrar. Os pesticidas podem protegem a colheita com a dosagem certa. Mas, se adicionados em quantidade inadequada, podem prejudicar toda a safra.\n",
        "\n",
        "​ Dito isto, abaixo são fornecidos dados baseados em culturas colhidas por vários agricultores no final da safra de 2018-2019. Para simplificar o problema, você pode assumir que todos os fatores relacionados as técnicas agrícolas e climáticas, não influenciaram esses resultados.\n",
        "\n",
        "​ Seu objetivo neste exercício é determinar o resultado desta safra atual de 2020, ou seja, se a colheita será saudável, prejudicada por pesticidas, ou prejudicada por outros motivos."
      ]
    },
    {
      "cell_type": "markdown",
      "metadata": {
        "id": "BJwpkeTDR5V-",
        "colab_type": "text"
      },
      "source": [
        "**Variável**\tDescrição\n",
        "\n",
        "**Identificador_Agricultor**\tIDENTIFICADOR DO CLIENTE\n",
        "\n",
        "**Estimativa_de_Insetos**\tEstimativa de insetos por M²\n",
        "\n",
        "**Tipo_de_Cultivo**\tClassificação do tipo de cultivo (0,1)\n",
        "\n",
        "**Tipo_de_Solo**\tClassificação do tipo de solo (0,1)\n",
        "\n",
        "**Categoria_Pesticida**\tInformação do uso de pesticidas (1- Nunca Usou, 2-Já Usou, 3-Esta usando)\n",
        "\n",
        "**Doses_Semana**\tNúmero de doses por semana\n",
        "\n",
        "**Semanas_Utilizando**\tNúmero de semanas Utilizada\n",
        "\n",
        "**Semanas_Sem_Uso**\tNúmero de semanas sem utilizar\n",
        "\n",
        "**Temporada**\tTemporada Climática (1,2,3)\n",
        "\n",
        "**dano_na_plantacao**\tVariável de Predição - Dano no Cultivo (0=Sem Danos, 1=Danos causados por outros motivos, 2=Danos gerados pelos pesticidas)"
      ]
    },
    {
      "cell_type": "markdown",
      "metadata": {
        "id": "xUHpuwfGHinx",
        "colab_type": "text"
      },
      "source": [
        "#Importando Pacotes Necessários"
      ]
    },
    {
      "cell_type": "code",
      "metadata": {
        "id": "WGmMaTKLHhiN",
        "colab_type": "code",
        "colab": {}
      },
      "source": [
        "import pandas as pd\n",
        "import numpy as np\n",
        "import matplotlib.pyplot as plt\n",
        "\n",
        "from sklearn.tree import DecisionTreeClassifier\n",
        "\n",
        "%matplotlib inline"
      ],
      "execution_count": 310,
      "outputs": []
    },
    {
      "cell_type": "markdown",
      "metadata": {
        "id": "zHOcyd9ASQGK",
        "colab_type": "text"
      },
      "source": [
        "# Conjunto de dados\n",
        "Para acessar o conjunto de dados da Scicrop, é necessário acessar o link abaixo:\n",
        "\n",
        "https://raw.githubusercontent.com/natyslee93/jobs-datascience/master/Safra_2018-2019.csv\n",
        "\n",
        "https://raw.githubusercontent.com/natyslee93/jobs-datascience/master/Safra_2020.csv\n",
        "\n",
        "Os arquivos foram copiados para o Google Drive, no qual serão acessados abaixo."
      ]
    },
    {
      "cell_type": "markdown",
      "metadata": {
        "id": "yXYyNXFEJtYl",
        "colab_type": "text"
      },
      "source": [
        "###Dados do ano 2018_2019"
      ]
    },
    {
      "cell_type": "code",
      "metadata": {
        "id": "15sOgNx2Sx8m",
        "colab_type": "code",
        "colab": {
          "base_uri": "https://localhost:8080/",
          "height": 413
        },
        "outputId": "93253976-5097-42c2-da7a-24be05affad8"
      },
      "source": [
        "\n",
        "#Conjunto de dados da Safra de 2018 e 2019\n",
        "df_2018_2019 = pd.read_csv(\"https://raw.githubusercontent.com/natyslee93/jobs-datascience/master/Safra_2018-2019.csv\", delimiter=\",\")\n",
        "print('2018/2019 - Dataframe dimensions:', df_2018_2019.shape)\n",
        "df_2018_2019.head(10)"
      ],
      "execution_count": 311,
      "outputs": [
        {
          "output_type": "stream",
          "text": [
            "2018/2019 - Dataframe dimensions: (80000, 11)\n"
          ],
          "name": "stdout"
        },
        {
          "output_type": "execute_result",
          "data": {
            "text/html": [
              "<div>\n",
              "<style scoped>\n",
              "    .dataframe tbody tr th:only-of-type {\n",
              "        vertical-align: middle;\n",
              "    }\n",
              "\n",
              "    .dataframe tbody tr th {\n",
              "        vertical-align: top;\n",
              "    }\n",
              "\n",
              "    .dataframe thead th {\n",
              "        text-align: right;\n",
              "    }\n",
              "</style>\n",
              "<table border=\"1\" class=\"dataframe\">\n",
              "  <thead>\n",
              "    <tr style=\"text-align: right;\">\n",
              "      <th></th>\n",
              "      <th>Unnamed: 0</th>\n",
              "      <th>Identificador_Agricultor</th>\n",
              "      <th>Estimativa_de_Insetos</th>\n",
              "      <th>Tipo_de_Cultivo</th>\n",
              "      <th>Tipo_de_Solo</th>\n",
              "      <th>Categoria_Pesticida</th>\n",
              "      <th>Doses_Semana</th>\n",
              "      <th>Semanas_Utilizando</th>\n",
              "      <th>Semanas_Sem_Uso</th>\n",
              "      <th>Temporada</th>\n",
              "      <th>dano_na_plantacao</th>\n",
              "    </tr>\n",
              "  </thead>\n",
              "  <tbody>\n",
              "    <tr>\n",
              "      <th>0</th>\n",
              "      <td>0</td>\n",
              "      <td>SCROP00001</td>\n",
              "      <td>188</td>\n",
              "      <td>1</td>\n",
              "      <td>0</td>\n",
              "      <td>1</td>\n",
              "      <td>0</td>\n",
              "      <td>0.0</td>\n",
              "      <td>0</td>\n",
              "      <td>1</td>\n",
              "      <td>0</td>\n",
              "    </tr>\n",
              "    <tr>\n",
              "      <th>1</th>\n",
              "      <td>1</td>\n",
              "      <td>SCROP00002</td>\n",
              "      <td>209</td>\n",
              "      <td>1</td>\n",
              "      <td>0</td>\n",
              "      <td>1</td>\n",
              "      <td>0</td>\n",
              "      <td>0.0</td>\n",
              "      <td>0</td>\n",
              "      <td>2</td>\n",
              "      <td>1</td>\n",
              "    </tr>\n",
              "    <tr>\n",
              "      <th>2</th>\n",
              "      <td>2</td>\n",
              "      <td>SCROP00003</td>\n",
              "      <td>257</td>\n",
              "      <td>1</td>\n",
              "      <td>0</td>\n",
              "      <td>1</td>\n",
              "      <td>0</td>\n",
              "      <td>0.0</td>\n",
              "      <td>0</td>\n",
              "      <td>2</td>\n",
              "      <td>1</td>\n",
              "    </tr>\n",
              "    <tr>\n",
              "      <th>3</th>\n",
              "      <td>3</td>\n",
              "      <td>SCROP00004</td>\n",
              "      <td>257</td>\n",
              "      <td>1</td>\n",
              "      <td>1</td>\n",
              "      <td>1</td>\n",
              "      <td>0</td>\n",
              "      <td>0.0</td>\n",
              "      <td>0</td>\n",
              "      <td>2</td>\n",
              "      <td>1</td>\n",
              "    </tr>\n",
              "    <tr>\n",
              "      <th>4</th>\n",
              "      <td>4</td>\n",
              "      <td>SCROP00005</td>\n",
              "      <td>342</td>\n",
              "      <td>1</td>\n",
              "      <td>0</td>\n",
              "      <td>1</td>\n",
              "      <td>0</td>\n",
              "      <td>0.0</td>\n",
              "      <td>0</td>\n",
              "      <td>2</td>\n",
              "      <td>1</td>\n",
              "    </tr>\n",
              "    <tr>\n",
              "      <th>5</th>\n",
              "      <td>5</td>\n",
              "      <td>SCROP00006</td>\n",
              "      <td>448</td>\n",
              "      <td>0</td>\n",
              "      <td>1</td>\n",
              "      <td>1</td>\n",
              "      <td>0</td>\n",
              "      <td>NaN</td>\n",
              "      <td>0</td>\n",
              "      <td>2</td>\n",
              "      <td>1</td>\n",
              "    </tr>\n",
              "    <tr>\n",
              "      <th>6</th>\n",
              "      <td>6</td>\n",
              "      <td>SCROP00007</td>\n",
              "      <td>448</td>\n",
              "      <td>0</td>\n",
              "      <td>1</td>\n",
              "      <td>1</td>\n",
              "      <td>0</td>\n",
              "      <td>NaN</td>\n",
              "      <td>0</td>\n",
              "      <td>2</td>\n",
              "      <td>1</td>\n",
              "    </tr>\n",
              "    <tr>\n",
              "      <th>7</th>\n",
              "      <td>7</td>\n",
              "      <td>SCROP00008</td>\n",
              "      <td>577</td>\n",
              "      <td>1</td>\n",
              "      <td>0</td>\n",
              "      <td>1</td>\n",
              "      <td>0</td>\n",
              "      <td>0.0</td>\n",
              "      <td>0</td>\n",
              "      <td>1</td>\n",
              "      <td>2</td>\n",
              "    </tr>\n",
              "    <tr>\n",
              "      <th>8</th>\n",
              "      <td>8</td>\n",
              "      <td>SCROP00009</td>\n",
              "      <td>731</td>\n",
              "      <td>0</td>\n",
              "      <td>0</td>\n",
              "      <td>1</td>\n",
              "      <td>0</td>\n",
              "      <td>0.0</td>\n",
              "      <td>0</td>\n",
              "      <td>2</td>\n",
              "      <td>0</td>\n",
              "    </tr>\n",
              "    <tr>\n",
              "      <th>9</th>\n",
              "      <td>9</td>\n",
              "      <td>SCROP00010</td>\n",
              "      <td>1132</td>\n",
              "      <td>1</td>\n",
              "      <td>0</td>\n",
              "      <td>1</td>\n",
              "      <td>0</td>\n",
              "      <td>0.0</td>\n",
              "      <td>0</td>\n",
              "      <td>1</td>\n",
              "      <td>2</td>\n",
              "    </tr>\n",
              "  </tbody>\n",
              "</table>\n",
              "</div>"
            ],
            "text/plain": [
              "   Unnamed: 0 Identificador_Agricultor  ...  Temporada  dano_na_plantacao\n",
              "0           0               SCROP00001  ...          1                  0\n",
              "1           1               SCROP00002  ...          2                  1\n",
              "2           2               SCROP00003  ...          2                  1\n",
              "3           3               SCROP00004  ...          2                  1\n",
              "4           4               SCROP00005  ...          2                  1\n",
              "5           5               SCROP00006  ...          2                  1\n",
              "6           6               SCROP00007  ...          2                  1\n",
              "7           7               SCROP00008  ...          1                  2\n",
              "8           8               SCROP00009  ...          2                  0\n",
              "9           9               SCROP00010  ...          1                  2\n",
              "\n",
              "[10 rows x 11 columns]"
            ]
          },
          "metadata": {
            "tags": []
          },
          "execution_count": 311
        }
      ]
    },
    {
      "cell_type": "markdown",
      "metadata": {
        "id": "8uBg5ePGJ7SG",
        "colab_type": "text"
      },
      "source": [
        "## Dados do ano 2020"
      ]
    },
    {
      "cell_type": "code",
      "metadata": {
        "id": "V9WwFwOSHWAj",
        "colab_type": "code",
        "colab": {
          "base_uri": "https://localhost:8080/",
          "height": 413
        },
        "outputId": "d4758813-f466-43f9-810d-59a59351a8e5"
      },
      "source": [
        "\n",
        "df_2020 = pd.read_csv(\"https://raw.githubusercontent.com/natyslee93/jobs-datascience/master/Safra_2020.csv\", delimiter=\",\")\n",
        "print('2020 - Dataframe dimensions:', df_2020.shape)\n",
        "df_2020.head(10)"
      ],
      "execution_count": 312,
      "outputs": [
        {
          "output_type": "stream",
          "text": [
            "2020 - Dataframe dimensions: (8858, 10)\n"
          ],
          "name": "stdout"
        },
        {
          "output_type": "execute_result",
          "data": {
            "text/html": [
              "<div>\n",
              "<style scoped>\n",
              "    .dataframe tbody tr th:only-of-type {\n",
              "        vertical-align: middle;\n",
              "    }\n",
              "\n",
              "    .dataframe tbody tr th {\n",
              "        vertical-align: top;\n",
              "    }\n",
              "\n",
              "    .dataframe thead th {\n",
              "        text-align: right;\n",
              "    }\n",
              "</style>\n",
              "<table border=\"1\" class=\"dataframe\">\n",
              "  <thead>\n",
              "    <tr style=\"text-align: right;\">\n",
              "      <th></th>\n",
              "      <th>Unnamed: 0</th>\n",
              "      <th>Identificador_Agricultor</th>\n",
              "      <th>Estimativa_de_Insetos</th>\n",
              "      <th>Tipo_de_Cultivo</th>\n",
              "      <th>Tipo_de_Solo</th>\n",
              "      <th>Categoria_Pesticida</th>\n",
              "      <th>Doses_Semana</th>\n",
              "      <th>Semanas_Utilizando</th>\n",
              "      <th>Semanas_Sem_Uso</th>\n",
              "      <th>Temporada</th>\n",
              "    </tr>\n",
              "  </thead>\n",
              "  <tbody>\n",
              "    <tr>\n",
              "      <th>0</th>\n",
              "      <td>80000</td>\n",
              "      <td>SCROP80001</td>\n",
              "      <td>256</td>\n",
              "      <td>0</td>\n",
              "      <td>1</td>\n",
              "      <td>2</td>\n",
              "      <td>35</td>\n",
              "      <td>11.0</td>\n",
              "      <td>9</td>\n",
              "      <td>1</td>\n",
              "    </tr>\n",
              "    <tr>\n",
              "      <th>1</th>\n",
              "      <td>80001</td>\n",
              "      <td>SCROP80002</td>\n",
              "      <td>283</td>\n",
              "      <td>0</td>\n",
              "      <td>1</td>\n",
              "      <td>2</td>\n",
              "      <td>5</td>\n",
              "      <td>5.0</td>\n",
              "      <td>6</td>\n",
              "      <td>1</td>\n",
              "    </tr>\n",
              "    <tr>\n",
              "      <th>2</th>\n",
              "      <td>80002</td>\n",
              "      <td>SCROP80003</td>\n",
              "      <td>283</td>\n",
              "      <td>0</td>\n",
              "      <td>1</td>\n",
              "      <td>2</td>\n",
              "      <td>15</td>\n",
              "      <td>15.0</td>\n",
              "      <td>5</td>\n",
              "      <td>2</td>\n",
              "    </tr>\n",
              "    <tr>\n",
              "      <th>3</th>\n",
              "      <td>80003</td>\n",
              "      <td>SCROP80004</td>\n",
              "      <td>283</td>\n",
              "      <td>0</td>\n",
              "      <td>1</td>\n",
              "      <td>2</td>\n",
              "      <td>15</td>\n",
              "      <td>NaN</td>\n",
              "      <td>7</td>\n",
              "      <td>2</td>\n",
              "    </tr>\n",
              "    <tr>\n",
              "      <th>4</th>\n",
              "      <td>80004</td>\n",
              "      <td>SCROP80005</td>\n",
              "      <td>283</td>\n",
              "      <td>0</td>\n",
              "      <td>1</td>\n",
              "      <td>2</td>\n",
              "      <td>15</td>\n",
              "      <td>19.0</td>\n",
              "      <td>2</td>\n",
              "      <td>1</td>\n",
              "    </tr>\n",
              "    <tr>\n",
              "      <th>5</th>\n",
              "      <td>80005</td>\n",
              "      <td>SCROP80006</td>\n",
              "      <td>283</td>\n",
              "      <td>0</td>\n",
              "      <td>1</td>\n",
              "      <td>2</td>\n",
              "      <td>30</td>\n",
              "      <td>11.0</td>\n",
              "      <td>7</td>\n",
              "      <td>3</td>\n",
              "    </tr>\n",
              "    <tr>\n",
              "      <th>6</th>\n",
              "      <td>80006</td>\n",
              "      <td>SCROP80007</td>\n",
              "      <td>311</td>\n",
              "      <td>0</td>\n",
              "      <td>1</td>\n",
              "      <td>2</td>\n",
              "      <td>10</td>\n",
              "      <td>7.0</td>\n",
              "      <td>9</td>\n",
              "      <td>1</td>\n",
              "    </tr>\n",
              "    <tr>\n",
              "      <th>7</th>\n",
              "      <td>80007</td>\n",
              "      <td>SCROP80008</td>\n",
              "      <td>311</td>\n",
              "      <td>0</td>\n",
              "      <td>1</td>\n",
              "      <td>2</td>\n",
              "      <td>20</td>\n",
              "      <td>19.0</td>\n",
              "      <td>7</td>\n",
              "      <td>2</td>\n",
              "    </tr>\n",
              "    <tr>\n",
              "      <th>8</th>\n",
              "      <td>80008</td>\n",
              "      <td>SCROP80009</td>\n",
              "      <td>312</td>\n",
              "      <td>0</td>\n",
              "      <td>1</td>\n",
              "      <td>2</td>\n",
              "      <td>25</td>\n",
              "      <td>12.0</td>\n",
              "      <td>12</td>\n",
              "      <td>3</td>\n",
              "    </tr>\n",
              "    <tr>\n",
              "      <th>9</th>\n",
              "      <td>80009</td>\n",
              "      <td>SCROP80010</td>\n",
              "      <td>311</td>\n",
              "      <td>0</td>\n",
              "      <td>1</td>\n",
              "      <td>2</td>\n",
              "      <td>30</td>\n",
              "      <td>18.0</td>\n",
              "      <td>2</td>\n",
              "      <td>3</td>\n",
              "    </tr>\n",
              "  </tbody>\n",
              "</table>\n",
              "</div>"
            ],
            "text/plain": [
              "   Unnamed: 0 Identificador_Agricultor  ...  Semanas_Sem_Uso  Temporada\n",
              "0       80000               SCROP80001  ...                9          1\n",
              "1       80001               SCROP80002  ...                6          1\n",
              "2       80002               SCROP80003  ...                5          2\n",
              "3       80003               SCROP80004  ...                7          2\n",
              "4       80004               SCROP80005  ...                2          1\n",
              "5       80005               SCROP80006  ...                7          3\n",
              "6       80006               SCROP80007  ...                9          1\n",
              "7       80007               SCROP80008  ...                7          2\n",
              "8       80008               SCROP80009  ...               12          3\n",
              "9       80009               SCROP80010  ...                2          3\n",
              "\n",
              "[10 rows x 10 columns]"
            ]
          },
          "metadata": {
            "tags": []
          },
          "execution_count": 312
        }
      ]
    },
    {
      "cell_type": "markdown",
      "metadata": {
        "id": "jrznHRIzBbke",
        "colab_type": "text"
      },
      "source": [
        "#Entendendo os dados\n",
        "Os arquivos obtidos no Github são os seguintes:\n",
        "\n",
        "**Safra_2018_2019.csv**\n",
        "\n",
        "**Safra_2020.csv**\n",
        "\n",
        "Número total de dados:\n",
        "*   Safra_2018_2019.csv: 80.000\n",
        "*   Safra_2020.csv: 8.858\n",
        "\n",
        "Dados encontrados:\n",
        "\n",
        "*   Identificador_Agricultor\n",
        "*   Estimativa_de_Insetos\n",
        "*   Tipo_de_Cultivo\n",
        "*   Tipo_de_Solo\n",
        "*   Categoria_Pesticida\n",
        "*   Doses_Semana\n",
        "*   Semanas_Utilizando\n",
        "*   Semanas_Sem_Uso\n",
        "*   Temporada\n",
        "*   dano_na_plantacao\n",
        "\n",
        "Dos dois grupos de dados, os da Safra de 2018/2019 serão utilizados para o treinamento de uma previsão da Safra de 2020. O método de análise utilizado será o da Árvore de Decisão, no qual os **dados de entrada**(X) serão:\n",
        "\n",
        "Estimativa de insetos, Tipo de Cultivo, Tipo de Solo, Categoria Pesticida, Doses Semana, Semanas utilizando, Semana sem uso e Temporada.\n",
        "\n",
        "E os **dados de saída**(y):\n",
        "\n",
        "Dano na Plantação.\n",
        "\n",
        "\n",
        "Agora, os tipos de dados que foram fornecidos são importantes para o Pré-Processamento e posterior treinamento."
      ]
    },
    {
      "cell_type": "code",
      "metadata": {
        "id": "gkXs47LVrRwr",
        "colab_type": "code",
        "colab": {
          "base_uri": "https://localhost:8080/",
          "height": 221
        },
        "outputId": "524d9c8c-33bc-4185-fda0-908773c23683"
      },
      "source": [
        "df_2018_2019.dtypes"
      ],
      "execution_count": 313,
      "outputs": [
        {
          "output_type": "execute_result",
          "data": {
            "text/plain": [
              "Unnamed: 0                    int64\n",
              "Identificador_Agricultor     object\n",
              "Estimativa_de_Insetos         int64\n",
              "Tipo_de_Cultivo               int64\n",
              "Tipo_de_Solo                  int64\n",
              "Categoria_Pesticida           int64\n",
              "Doses_Semana                  int64\n",
              "Semanas_Utilizando          float64\n",
              "Semanas_Sem_Uso               int64\n",
              "Temporada                     int64\n",
              "dano_na_plantacao             int64\n",
              "dtype: object"
            ]
          },
          "metadata": {
            "tags": []
          },
          "execution_count": 313
        }
      ]
    },
    {
      "cell_type": "code",
      "metadata": {
        "id": "YtFgmMQTrrXE",
        "colab_type": "code",
        "colab": {
          "base_uri": "https://localhost:8080/",
          "height": 204
        },
        "outputId": "a640a2bb-54be-477e-b51f-30f754d0c2c1"
      },
      "source": [
        "df_2020.dtypes"
      ],
      "execution_count": 314,
      "outputs": [
        {
          "output_type": "execute_result",
          "data": {
            "text/plain": [
              "Unnamed: 0                    int64\n",
              "Identificador_Agricultor     object\n",
              "Estimativa_de_Insetos         int64\n",
              "Tipo_de_Cultivo               int64\n",
              "Tipo_de_Solo                  int64\n",
              "Categoria_Pesticida           int64\n",
              "Doses_Semana                  int64\n",
              "Semanas_Utilizando          float64\n",
              "Semanas_Sem_Uso               int64\n",
              "Temporada                     int64\n",
              "dtype: object"
            ]
          },
          "metadata": {
            "tags": []
          },
          "execution_count": 314
        }
      ]
    },
    {
      "cell_type": "markdown",
      "metadata": {
        "id": "dSSn5ijpgVef",
        "colab_type": "text"
      },
      "source": [
        "#Pré-Processamento\n",
        "Primeiro será feito o pré-processamento dos dados para depois criar o vetor X_2019 com os dados de entrada e outro y_2019 com os dados de saída.\n",
        "\n",
        "Como pode ser observado, em algumas linhas da Coluna **Semanas_Utilizando** estavam sem informações, aparecendo escrito **nan**(Not A Number). Por isso, é necessário realizar uma normalização dos dados apresentados, alterando o valor ou eliminando as linhas nas quais **nan** está presente. Como a abrangência de valores que podem ser adotados é grande, caso não sejam muitos dados, as linhas serão eliminadas."
      ]
    },
    {
      "cell_type": "code",
      "metadata": {
        "id": "zkJM5DL_pimq",
        "colab_type": "code",
        "colab": {
          "base_uri": "https://localhost:8080/",
          "height": 396
        },
        "outputId": "a1848ebf-022c-40f0-cd11-977580d873ea"
      },
      "source": [
        "df_2018_2019 = df_2018_2019.drop(['Unnamed: 0'], axis = 1)\n",
        "\n",
        "df_2018_2019 = df_2018_2019.replace('', np.NaN)\n",
        "df_2018_2019 = df_2018_2019.dropna(axis = 0, how='any')\n",
        "print('2018/2019 - Dataframe dimensions:', df_2018_2019.shape)\n",
        "df_2018_2019.head(10)\n"
      ],
      "execution_count": 315,
      "outputs": [
        {
          "output_type": "stream",
          "text": [
            "2018/2019 - Dataframe dimensions: (71945, 10)\n"
          ],
          "name": "stdout"
        },
        {
          "output_type": "execute_result",
          "data": {
            "text/html": [
              "<div>\n",
              "<style scoped>\n",
              "    .dataframe tbody tr th:only-of-type {\n",
              "        vertical-align: middle;\n",
              "    }\n",
              "\n",
              "    .dataframe tbody tr th {\n",
              "        vertical-align: top;\n",
              "    }\n",
              "\n",
              "    .dataframe thead th {\n",
              "        text-align: right;\n",
              "    }\n",
              "</style>\n",
              "<table border=\"1\" class=\"dataframe\">\n",
              "  <thead>\n",
              "    <tr style=\"text-align: right;\">\n",
              "      <th></th>\n",
              "      <th>Identificador_Agricultor</th>\n",
              "      <th>Estimativa_de_Insetos</th>\n",
              "      <th>Tipo_de_Cultivo</th>\n",
              "      <th>Tipo_de_Solo</th>\n",
              "      <th>Categoria_Pesticida</th>\n",
              "      <th>Doses_Semana</th>\n",
              "      <th>Semanas_Utilizando</th>\n",
              "      <th>Semanas_Sem_Uso</th>\n",
              "      <th>Temporada</th>\n",
              "      <th>dano_na_plantacao</th>\n",
              "    </tr>\n",
              "  </thead>\n",
              "  <tbody>\n",
              "    <tr>\n",
              "      <th>0</th>\n",
              "      <td>SCROP00001</td>\n",
              "      <td>188</td>\n",
              "      <td>1</td>\n",
              "      <td>0</td>\n",
              "      <td>1</td>\n",
              "      <td>0</td>\n",
              "      <td>0.0</td>\n",
              "      <td>0</td>\n",
              "      <td>1</td>\n",
              "      <td>0</td>\n",
              "    </tr>\n",
              "    <tr>\n",
              "      <th>1</th>\n",
              "      <td>SCROP00002</td>\n",
              "      <td>209</td>\n",
              "      <td>1</td>\n",
              "      <td>0</td>\n",
              "      <td>1</td>\n",
              "      <td>0</td>\n",
              "      <td>0.0</td>\n",
              "      <td>0</td>\n",
              "      <td>2</td>\n",
              "      <td>1</td>\n",
              "    </tr>\n",
              "    <tr>\n",
              "      <th>2</th>\n",
              "      <td>SCROP00003</td>\n",
              "      <td>257</td>\n",
              "      <td>1</td>\n",
              "      <td>0</td>\n",
              "      <td>1</td>\n",
              "      <td>0</td>\n",
              "      <td>0.0</td>\n",
              "      <td>0</td>\n",
              "      <td>2</td>\n",
              "      <td>1</td>\n",
              "    </tr>\n",
              "    <tr>\n",
              "      <th>3</th>\n",
              "      <td>SCROP00004</td>\n",
              "      <td>257</td>\n",
              "      <td>1</td>\n",
              "      <td>1</td>\n",
              "      <td>1</td>\n",
              "      <td>0</td>\n",
              "      <td>0.0</td>\n",
              "      <td>0</td>\n",
              "      <td>2</td>\n",
              "      <td>1</td>\n",
              "    </tr>\n",
              "    <tr>\n",
              "      <th>4</th>\n",
              "      <td>SCROP00005</td>\n",
              "      <td>342</td>\n",
              "      <td>1</td>\n",
              "      <td>0</td>\n",
              "      <td>1</td>\n",
              "      <td>0</td>\n",
              "      <td>0.0</td>\n",
              "      <td>0</td>\n",
              "      <td>2</td>\n",
              "      <td>1</td>\n",
              "    </tr>\n",
              "    <tr>\n",
              "      <th>7</th>\n",
              "      <td>SCROP00008</td>\n",
              "      <td>577</td>\n",
              "      <td>1</td>\n",
              "      <td>0</td>\n",
              "      <td>1</td>\n",
              "      <td>0</td>\n",
              "      <td>0.0</td>\n",
              "      <td>0</td>\n",
              "      <td>1</td>\n",
              "      <td>2</td>\n",
              "    </tr>\n",
              "    <tr>\n",
              "      <th>8</th>\n",
              "      <td>SCROP00009</td>\n",
              "      <td>731</td>\n",
              "      <td>0</td>\n",
              "      <td>0</td>\n",
              "      <td>1</td>\n",
              "      <td>0</td>\n",
              "      <td>0.0</td>\n",
              "      <td>0</td>\n",
              "      <td>2</td>\n",
              "      <td>0</td>\n",
              "    </tr>\n",
              "    <tr>\n",
              "      <th>9</th>\n",
              "      <td>SCROP00010</td>\n",
              "      <td>1132</td>\n",
              "      <td>1</td>\n",
              "      <td>0</td>\n",
              "      <td>1</td>\n",
              "      <td>0</td>\n",
              "      <td>0.0</td>\n",
              "      <td>0</td>\n",
              "      <td>1</td>\n",
              "      <td>2</td>\n",
              "    </tr>\n",
              "    <tr>\n",
              "      <th>11</th>\n",
              "      <td>SCROP00012</td>\n",
              "      <td>1575</td>\n",
              "      <td>0</td>\n",
              "      <td>0</td>\n",
              "      <td>1</td>\n",
              "      <td>0</td>\n",
              "      <td>0.0</td>\n",
              "      <td>0</td>\n",
              "      <td>1</td>\n",
              "      <td>1</td>\n",
              "    </tr>\n",
              "    <tr>\n",
              "      <th>12</th>\n",
              "      <td>SCROP00013</td>\n",
              "      <td>1575</td>\n",
              "      <td>0</td>\n",
              "      <td>1</td>\n",
              "      <td>1</td>\n",
              "      <td>0</td>\n",
              "      <td>0.0</td>\n",
              "      <td>0</td>\n",
              "      <td>2</td>\n",
              "      <td>1</td>\n",
              "    </tr>\n",
              "  </tbody>\n",
              "</table>\n",
              "</div>"
            ],
            "text/plain": [
              "   Identificador_Agricultor  ...  dano_na_plantacao\n",
              "0                SCROP00001  ...                  0\n",
              "1                SCROP00002  ...                  1\n",
              "2                SCROP00003  ...                  1\n",
              "3                SCROP00004  ...                  1\n",
              "4                SCROP00005  ...                  1\n",
              "7                SCROP00008  ...                  2\n",
              "8                SCROP00009  ...                  0\n",
              "9                SCROP00010  ...                  2\n",
              "11               SCROP00012  ...                  1\n",
              "12               SCROP00013  ...                  1\n",
              "\n",
              "[10 rows x 10 columns]"
            ]
          },
          "metadata": {
            "tags": []
          },
          "execution_count": 315
        }
      ]
    },
    {
      "cell_type": "code",
      "metadata": {
        "id": "jS4eFh9gwMun",
        "colab_type": "code",
        "colab": {
          "base_uri": "https://localhost:8080/",
          "height": 396
        },
        "outputId": "98e81a28-9e80-4e6a-b8ca-276e94a4575d"
      },
      "source": [
        "df_2020 = df_2020.drop(['Unnamed: 0'], axis = 1)\n",
        "\n",
        "df_2020 = df_2020.replace('', np.NaN)\n",
        "df_2020 = df_2020.dropna(axis = 0, how='any')\n",
        "print('2020 - Dataframe dimensions:', df_2020.shape)\n",
        "df_2020.head(10)"
      ],
      "execution_count": 316,
      "outputs": [
        {
          "output_type": "stream",
          "text": [
            "2020 - Dataframe dimensions: (7913, 9)\n"
          ],
          "name": "stdout"
        },
        {
          "output_type": "execute_result",
          "data": {
            "text/html": [
              "<div>\n",
              "<style scoped>\n",
              "    .dataframe tbody tr th:only-of-type {\n",
              "        vertical-align: middle;\n",
              "    }\n",
              "\n",
              "    .dataframe tbody tr th {\n",
              "        vertical-align: top;\n",
              "    }\n",
              "\n",
              "    .dataframe thead th {\n",
              "        text-align: right;\n",
              "    }\n",
              "</style>\n",
              "<table border=\"1\" class=\"dataframe\">\n",
              "  <thead>\n",
              "    <tr style=\"text-align: right;\">\n",
              "      <th></th>\n",
              "      <th>Identificador_Agricultor</th>\n",
              "      <th>Estimativa_de_Insetos</th>\n",
              "      <th>Tipo_de_Cultivo</th>\n",
              "      <th>Tipo_de_Solo</th>\n",
              "      <th>Categoria_Pesticida</th>\n",
              "      <th>Doses_Semana</th>\n",
              "      <th>Semanas_Utilizando</th>\n",
              "      <th>Semanas_Sem_Uso</th>\n",
              "      <th>Temporada</th>\n",
              "    </tr>\n",
              "  </thead>\n",
              "  <tbody>\n",
              "    <tr>\n",
              "      <th>0</th>\n",
              "      <td>SCROP80001</td>\n",
              "      <td>256</td>\n",
              "      <td>0</td>\n",
              "      <td>1</td>\n",
              "      <td>2</td>\n",
              "      <td>35</td>\n",
              "      <td>11.0</td>\n",
              "      <td>9</td>\n",
              "      <td>1</td>\n",
              "    </tr>\n",
              "    <tr>\n",
              "      <th>1</th>\n",
              "      <td>SCROP80002</td>\n",
              "      <td>283</td>\n",
              "      <td>0</td>\n",
              "      <td>1</td>\n",
              "      <td>2</td>\n",
              "      <td>5</td>\n",
              "      <td>5.0</td>\n",
              "      <td>6</td>\n",
              "      <td>1</td>\n",
              "    </tr>\n",
              "    <tr>\n",
              "      <th>2</th>\n",
              "      <td>SCROP80003</td>\n",
              "      <td>283</td>\n",
              "      <td>0</td>\n",
              "      <td>1</td>\n",
              "      <td>2</td>\n",
              "      <td>15</td>\n",
              "      <td>15.0</td>\n",
              "      <td>5</td>\n",
              "      <td>2</td>\n",
              "    </tr>\n",
              "    <tr>\n",
              "      <th>4</th>\n",
              "      <td>SCROP80005</td>\n",
              "      <td>283</td>\n",
              "      <td>0</td>\n",
              "      <td>1</td>\n",
              "      <td>2</td>\n",
              "      <td>15</td>\n",
              "      <td>19.0</td>\n",
              "      <td>2</td>\n",
              "      <td>1</td>\n",
              "    </tr>\n",
              "    <tr>\n",
              "      <th>5</th>\n",
              "      <td>SCROP80006</td>\n",
              "      <td>283</td>\n",
              "      <td>0</td>\n",
              "      <td>1</td>\n",
              "      <td>2</td>\n",
              "      <td>30</td>\n",
              "      <td>11.0</td>\n",
              "      <td>7</td>\n",
              "      <td>3</td>\n",
              "    </tr>\n",
              "    <tr>\n",
              "      <th>6</th>\n",
              "      <td>SCROP80007</td>\n",
              "      <td>311</td>\n",
              "      <td>0</td>\n",
              "      <td>1</td>\n",
              "      <td>2</td>\n",
              "      <td>10</td>\n",
              "      <td>7.0</td>\n",
              "      <td>9</td>\n",
              "      <td>1</td>\n",
              "    </tr>\n",
              "    <tr>\n",
              "      <th>7</th>\n",
              "      <td>SCROP80008</td>\n",
              "      <td>311</td>\n",
              "      <td>0</td>\n",
              "      <td>1</td>\n",
              "      <td>2</td>\n",
              "      <td>20</td>\n",
              "      <td>19.0</td>\n",
              "      <td>7</td>\n",
              "      <td>2</td>\n",
              "    </tr>\n",
              "    <tr>\n",
              "      <th>8</th>\n",
              "      <td>SCROP80009</td>\n",
              "      <td>312</td>\n",
              "      <td>0</td>\n",
              "      <td>1</td>\n",
              "      <td>2</td>\n",
              "      <td>25</td>\n",
              "      <td>12.0</td>\n",
              "      <td>12</td>\n",
              "      <td>3</td>\n",
              "    </tr>\n",
              "    <tr>\n",
              "      <th>9</th>\n",
              "      <td>SCROP80010</td>\n",
              "      <td>311</td>\n",
              "      <td>0</td>\n",
              "      <td>1</td>\n",
              "      <td>2</td>\n",
              "      <td>30</td>\n",
              "      <td>18.0</td>\n",
              "      <td>2</td>\n",
              "      <td>3</td>\n",
              "    </tr>\n",
              "    <tr>\n",
              "      <th>10</th>\n",
              "      <td>SCROP80011</td>\n",
              "      <td>312</td>\n",
              "      <td>0</td>\n",
              "      <td>1</td>\n",
              "      <td>2</td>\n",
              "      <td>30</td>\n",
              "      <td>27.0</td>\n",
              "      <td>3</td>\n",
              "      <td>2</td>\n",
              "    </tr>\n",
              "  </tbody>\n",
              "</table>\n",
              "</div>"
            ],
            "text/plain": [
              "   Identificador_Agricultor  Estimativa_de_Insetos  ...  Semanas_Sem_Uso  Temporada\n",
              "0                SCROP80001                    256  ...                9          1\n",
              "1                SCROP80002                    283  ...                6          1\n",
              "2                SCROP80003                    283  ...                5          2\n",
              "4                SCROP80005                    283  ...                2          1\n",
              "5                SCROP80006                    283  ...                7          3\n",
              "6                SCROP80007                    311  ...                9          1\n",
              "7                SCROP80008                    311  ...                7          2\n",
              "8                SCROP80009                    312  ...               12          3\n",
              "9                SCROP80010                    311  ...                2          3\n",
              "10               SCROP80011                    312  ...                3          2\n",
              "\n",
              "[10 rows x 9 columns]"
            ]
          },
          "metadata": {
            "tags": []
          },
          "execution_count": 316
        }
      ]
    },
    {
      "cell_type": "markdown",
      "metadata": {
        "id": "Y0DC2BH7xJOn",
        "colab_type": "text"
      },
      "source": [
        "O número de linhas que não apresentam valores são de 8.055 e 945 para os dados de 2018/2019 e os dados de 2020, respectivamente.\n",
        "\n",
        "Dimensão dos dados **2018/2019**: 80.000-71.945 = 8.055 -> **10,07%**\n",
        "\n",
        "Dimensão dos dados **2020**: 8.858-7.913 = 945 -> **10,67%**"
      ]
    },
    {
      "cell_type": "code",
      "metadata": {
        "id": "1Qcx4eqevULD",
        "colab_type": "code",
        "colab": {
          "base_uri": "https://localhost:8080/",
          "height": 102
        },
        "outputId": "3d770dc3-ad62-4182-d379-a611ecd9eb21"
      },
      "source": [
        "X_2019 = df_2018_2019[['Estimativa_de_Insetos','Tipo_de_Cultivo','Tipo_de_Solo',\n",
        "                       'Categoria_Pesticida','Doses_Semana','Semanas_Utilizando',\n",
        "                       'Semanas_Sem_Uso','Temporada']].values\n",
        "X_2019[0:5]"
      ],
      "execution_count": 317,
      "outputs": [
        {
          "output_type": "execute_result",
          "data": {
            "text/plain": [
              "array([[188.,   1.,   0.,   1.,   0.,   0.,   0.,   1.],\n",
              "       [209.,   1.,   0.,   1.,   0.,   0.,   0.,   2.],\n",
              "       [257.,   1.,   0.,   1.,   0.,   0.,   0.,   2.],\n",
              "       [257.,   1.,   1.,   1.,   0.,   0.,   0.,   2.],\n",
              "       [342.,   1.,   0.,   1.,   0.,   0.,   0.,   2.]])"
            ]
          },
          "metadata": {
            "tags": []
          },
          "execution_count": 317
        }
      ]
    },
    {
      "cell_type": "code",
      "metadata": {
        "id": "zDUIDgpc17q-",
        "colab_type": "code",
        "colab": {
          "base_uri": "https://localhost:8080/",
          "height": 119
        },
        "outputId": "af23cfe2-363b-40e5-8850-4157143be543"
      },
      "source": [
        "y_2019 = df_2018_2019[\"dano_na_plantacao\"]\n",
        "y_2019[0:5]"
      ],
      "execution_count": 318,
      "outputs": [
        {
          "output_type": "execute_result",
          "data": {
            "text/plain": [
              "0    0\n",
              "1    1\n",
              "2    1\n",
              "3    1\n",
              "4    1\n",
              "Name: dano_na_plantacao, dtype: int64"
            ]
          },
          "metadata": {
            "tags": []
          },
          "execution_count": 318
        }
      ]
    },
    {
      "cell_type": "code",
      "metadata": {
        "id": "7JmraLSQwlEb",
        "colab_type": "code",
        "colab": {
          "base_uri": "https://localhost:8080/",
          "height": 102
        },
        "outputId": "32492bf6-9a5d-4823-8a88-a7c4c9c450de"
      },
      "source": [
        "X_2020 = df_2020[['Estimativa_de_Insetos','Tipo_de_Cultivo','Tipo_de_Solo',\n",
        "                  'Categoria_Pesticida','Doses_Semana','Semanas_Utilizando',\n",
        "                  'Semanas_Sem_Uso','Temporada']].values\n",
        "X_2020[0:5]"
      ],
      "execution_count": 319,
      "outputs": [
        {
          "output_type": "execute_result",
          "data": {
            "text/plain": [
              "array([[256.,   0.,   1.,   2.,  35.,  11.,   9.,   1.],\n",
              "       [283.,   0.,   1.,   2.,   5.,   5.,   6.,   1.],\n",
              "       [283.,   0.,   1.,   2.,  15.,  15.,   5.,   2.],\n",
              "       [283.,   0.,   1.,   2.,  15.,  19.,   2.,   1.],\n",
              "       [283.,   0.,   1.,   2.,  30.,  11.,   7.,   3.]])"
            ]
          },
          "metadata": {
            "tags": []
          },
          "execution_count": 319
        }
      ]
    },
    {
      "cell_type": "markdown",
      "metadata": {
        "id": "3wRF6Kfl2Vyu",
        "colab_type": "text"
      },
      "source": [
        "#Configuração da Árvore de Decisão\n",
        "Agora será utilizado o **train/test split** em nossa **árvore de decisão**."
      ]
    },
    {
      "cell_type": "code",
      "metadata": {
        "id": "_PwlMgsJxDpT",
        "colab_type": "code",
        "colab": {}
      },
      "source": [
        "from sklearn.model_selection import train_test_split\n",
        "X_trainset, X_testset, y_trainset, y_testset = train_test_split(X_2019, y_2019, test_size=0.25, random_state=3)"
      ],
      "execution_count": 320,
      "outputs": []
    },
    {
      "cell_type": "code",
      "metadata": {
        "id": "wiQZWv0K3BM6",
        "colab_type": "code",
        "colab": {
          "base_uri": "https://localhost:8080/",
          "height": 34
        },
        "outputId": "64146145-b2d0-4175-96fc-1ce4304d66a6"
      },
      "source": [
        "X_trainset.shape"
      ],
      "execution_count": 321,
      "outputs": [
        {
          "output_type": "execute_result",
          "data": {
            "text/plain": [
              "(53958, 8)"
            ]
          },
          "metadata": {
            "tags": []
          },
          "execution_count": 321
        }
      ]
    },
    {
      "cell_type": "code",
      "metadata": {
        "id": "0qdutucR3GFi",
        "colab_type": "code",
        "colab": {
          "base_uri": "https://localhost:8080/",
          "height": 34
        },
        "outputId": "4d387946-be39-4a80-8e28-ef497a883a8a"
      },
      "source": [
        "\n",
        "y_trainset.shape"
      ],
      "execution_count": 322,
      "outputs": [
        {
          "output_type": "execute_result",
          "data": {
            "text/plain": [
              "(53958,)"
            ]
          },
          "metadata": {
            "tags": []
          },
          "execution_count": 322
        }
      ]
    },
    {
      "cell_type": "code",
      "metadata": {
        "id": "7pI76v6z3Lk-",
        "colab_type": "code",
        "colab": {
          "base_uri": "https://localhost:8080/",
          "height": 34
        },
        "outputId": "54f7dd59-8b0b-4d95-b07c-b06e922a5c43"
      },
      "source": [
        "X_testset.shape"
      ],
      "execution_count": 323,
      "outputs": [
        {
          "output_type": "execute_result",
          "data": {
            "text/plain": [
              "(17987, 8)"
            ]
          },
          "metadata": {
            "tags": []
          },
          "execution_count": 323
        }
      ]
    },
    {
      "cell_type": "code",
      "metadata": {
        "id": "sJ9msIUg3kcA",
        "colab_type": "code",
        "colab": {
          "base_uri": "https://localhost:8080/",
          "height": 34
        },
        "outputId": "a1d8bd3a-b222-404d-ebc3-aba114d2d672"
      },
      "source": [
        "y_testset.shape"
      ],
      "execution_count": 324,
      "outputs": [
        {
          "output_type": "execute_result",
          "data": {
            "text/plain": [
              "(17987,)"
            ]
          },
          "metadata": {
            "tags": []
          },
          "execution_count": 324
        }
      ]
    },
    {
      "cell_type": "markdown",
      "metadata": {
        "id": "r3PIi4sD306s",
        "colab_type": "text"
      },
      "source": [
        "#Modelagem\n",
        "Primeiro será criada uma instância do **DecisionTreeClassifier** nomeado **danoTree**.\n",
        "Dentro do classificador, especifique criterion = \"entropy\" para que possamos ver o ganho de informação de cada nó."
      ]
    },
    {
      "cell_type": "code",
      "metadata": {
        "id": "BLkbI2Sx3psp",
        "colab_type": "code",
        "colab": {
          "base_uri": "https://localhost:8080/",
          "height": 119
        },
        "outputId": "3b9c3518-29e2-4c8a-939f-20cf0ae9038a"
      },
      "source": [
        "#danoTree = DecisionTreeClassifier(criterion=\"entropy\", max_depth = 4)\n",
        "danoTree = DecisionTreeClassifier(max_depth = 2, random_state = 0)\n",
        "\n",
        "danoTree # exibe os parâmetros default"
      ],
      "execution_count": 325,
      "outputs": [
        {
          "output_type": "execute_result",
          "data": {
            "text/plain": [
              "DecisionTreeClassifier(ccp_alpha=0.0, class_weight=None, criterion='gini',\n",
              "                       max_depth=2, max_features=None, max_leaf_nodes=None,\n",
              "                       min_impurity_decrease=0.0, min_impurity_split=None,\n",
              "                       min_samples_leaf=1, min_samples_split=2,\n",
              "                       min_weight_fraction_leaf=0.0, presort='deprecated',\n",
              "                       random_state=0, splitter='best')"
            ]
          },
          "metadata": {
            "tags": []
          },
          "execution_count": 325
        }
      ]
    },
    {
      "cell_type": "markdown",
      "metadata": {
        "id": "HpfT4oWLdagX",
        "colab_type": "text"
      },
      "source": [
        "Em seguida, vamos ajustar o conjunto de dados com a matriz de características **X_trainset** e o vetor de resposta de treinamento **y_trainset**."
      ]
    },
    {
      "cell_type": "code",
      "metadata": {
        "id": "ObPrRbkHdX_G",
        "colab_type": "code",
        "colab": {
          "base_uri": "https://localhost:8080/",
          "height": 119
        },
        "outputId": "0c0aeb20-b254-47d0-84a9-5ab2a11b9c30"
      },
      "source": [
        "danoTree.fit(X_trainset, y_trainset)"
      ],
      "execution_count": 326,
      "outputs": [
        {
          "output_type": "execute_result",
          "data": {
            "text/plain": [
              "DecisionTreeClassifier(ccp_alpha=0.0, class_weight=None, criterion='gini',\n",
              "                       max_depth=2, max_features=None, max_leaf_nodes=None,\n",
              "                       min_impurity_decrease=0.0, min_impurity_split=None,\n",
              "                       min_samples_leaf=1, min_samples_split=2,\n",
              "                       min_weight_fraction_leaf=0.0, presort='deprecated',\n",
              "                       random_state=0, splitter='best')"
            ]
          },
          "metadata": {
            "tags": []
          },
          "execution_count": 326
        }
      ]
    },
    {
      "cell_type": "markdown",
      "metadata": {
        "id": "w5MCsk31dvm0",
        "colab_type": "text"
      },
      "source": [
        "#Predição para 2019/2018\n",
        "Vamos fazer algumas **predições** usando o conjunto de dados de validação (teste) e salvar na variável chamada **predTree**"
      ]
    },
    {
      "cell_type": "code",
      "metadata": {
        "id": "YhwxhhjGdtQB",
        "colab_type": "code",
        "colab": {
          "base_uri": "https://localhost:8080/",
          "height": 221
        },
        "outputId": "af4b1e17-9abf-482a-e95f-3696d1991540"
      },
      "source": [
        "predTree = danoTree.predict(X_testset)\n",
        "print(predTree[0:10])\n",
        "print(y_testset[0:10])"
      ],
      "execution_count": 327,
      "outputs": [
        {
          "output_type": "stream",
          "text": [
            "[0 0 0 0 0 0 0 0 0 0]\n",
            "11348    0\n",
            "7032     0\n",
            "75845    0\n",
            "19369    0\n",
            "45670    0\n",
            "25368    0\n",
            "6125     0\n",
            "20792    1\n",
            "72162    0\n",
            "54261    0\n",
            "Name: dano_na_plantacao, dtype: int64\n"
          ],
          "name": "stdout"
        }
      ]
    },
    {
      "cell_type": "markdown",
      "metadata": {
        "id": "Evp0UjzdeQRs",
        "colab_type": "text"
      },
      "source": [
        "#Avaliação\n",
        "Em seguida, a **metrics** será importada do sklearn e a precisão do modelo verificada."
      ]
    },
    {
      "cell_type": "code",
      "metadata": {
        "id": "L0G83x8Ad_PE",
        "colab_type": "code",
        "colab": {
          "base_uri": "https://localhost:8080/",
          "height": 34
        },
        "outputId": "a64426ed-daf8-43e6-95cb-b3c323862102"
      },
      "source": [
        "from sklearn import metrics\n",
        "import matplotlib.pyplot as plt\n",
        "print(\"Precisão da Árvore de Decisão: \", metrics.accuracy_score(y_testset, predTree))"
      ],
      "execution_count": 328,
      "outputs": [
        {
          "output_type": "stream",
          "text": [
            "Precisão da Árvore de Decisão:  0.837382554066826\n"
          ],
          "name": "stdout"
        }
      ]
    },
    {
      "cell_type": "markdown",
      "metadata": {
        "id": "9icT8AJHetIi",
        "colab_type": "text"
      },
      "source": [
        "Como pode ser visto a previsão foi feita para os dados de 2018/2019 com 83,73% de precisão. Sendo essa precisão alta, essa previsão será transportada para os dados de 2020 para fazer a previsão para este ano."
      ]
    },
    {
      "cell_type": "markdown",
      "metadata": {
        "id": "bu-mL6zbfHpU",
        "colab_type": "text"
      },
      "source": [
        "#Predição para 2020"
      ]
    },
    {
      "cell_type": "code",
      "metadata": {
        "id": "7apZOiKWffZ9",
        "colab_type": "code",
        "colab": {}
      },
      "source": [
        "X_testset2020 = X_2020"
      ],
      "execution_count": 329,
      "outputs": []
    },
    {
      "cell_type": "code",
      "metadata": {
        "id": "H5SQqySVf4gT",
        "colab_type": "code",
        "colab": {
          "base_uri": "https://localhost:8080/",
          "height": 68
        },
        "outputId": "e520f49e-6247-4497-ceed-76c032bb02d2"
      },
      "source": [
        "predTree2020 = danoTree.predict(X_testset2020)\n",
        "print(predTree2020[1000:1100])"
      ],
      "execution_count": 330,
      "outputs": [
        {
          "output_type": "stream",
          "text": [
            "[0 0 0 0 0 0 0 0 0 0 0 0 0 0 0 0 0 0 0 0 0 0 0 0 0 0 0 0 0 0 0 0 0 0 0 0 0\n",
            " 0 0 0 0 0 0 0 0 0 0 0 0 0 0 0 0 0 0 0 0 0 1 1 1 1 1 1 1 1 1 1 1 1 1 1 1 1\n",
            " 1 1 1 1 1 0 0 0 0 0 0 0 0 0 0 0 0 0 0 0 0 0 0 0 0 0]\n"
          ],
          "name": "stdout"
        }
      ]
    },
    {
      "cell_type": "code",
      "metadata": {
        "id": "UT-xP__ZgzQz",
        "colab_type": "code",
        "colab": {}
      },
      "source": [
        "y_2020 = predTree2020"
      ],
      "execution_count": 331,
      "outputs": []
    },
    {
      "cell_type": "code",
      "metadata": {
        "id": "CMKqBfOKhW3W",
        "colab_type": "code",
        "colab": {
          "base_uri": "https://localhost:8080/",
          "height": 419
        },
        "outputId": "be4198e3-1f3e-4e09-805b-c8710e78d64c"
      },
      "source": [
        "df_y_2020 = pd.DataFrame(predTree2020)\n",
        "df_y_2020"
      ],
      "execution_count": 334,
      "outputs": [
        {
          "output_type": "execute_result",
          "data": {
            "text/html": [
              "<div>\n",
              "<style scoped>\n",
              "    .dataframe tbody tr th:only-of-type {\n",
              "        vertical-align: middle;\n",
              "    }\n",
              "\n",
              "    .dataframe tbody tr th {\n",
              "        vertical-align: top;\n",
              "    }\n",
              "\n",
              "    .dataframe thead th {\n",
              "        text-align: right;\n",
              "    }\n",
              "</style>\n",
              "<table border=\"1\" class=\"dataframe\">\n",
              "  <thead>\n",
              "    <tr style=\"text-align: right;\">\n",
              "      <th></th>\n",
              "      <th>0</th>\n",
              "    </tr>\n",
              "  </thead>\n",
              "  <tbody>\n",
              "    <tr>\n",
              "      <th>0</th>\n",
              "      <td>0</td>\n",
              "    </tr>\n",
              "    <tr>\n",
              "      <th>1</th>\n",
              "      <td>0</td>\n",
              "    </tr>\n",
              "    <tr>\n",
              "      <th>2</th>\n",
              "      <td>0</td>\n",
              "    </tr>\n",
              "    <tr>\n",
              "      <th>3</th>\n",
              "      <td>0</td>\n",
              "    </tr>\n",
              "    <tr>\n",
              "      <th>4</th>\n",
              "      <td>0</td>\n",
              "    </tr>\n",
              "    <tr>\n",
              "      <th>...</th>\n",
              "      <td>...</td>\n",
              "    </tr>\n",
              "    <tr>\n",
              "      <th>7908</th>\n",
              "      <td>0</td>\n",
              "    </tr>\n",
              "    <tr>\n",
              "      <th>7909</th>\n",
              "      <td>0</td>\n",
              "    </tr>\n",
              "    <tr>\n",
              "      <th>7910</th>\n",
              "      <td>0</td>\n",
              "    </tr>\n",
              "    <tr>\n",
              "      <th>7911</th>\n",
              "      <td>0</td>\n",
              "    </tr>\n",
              "    <tr>\n",
              "      <th>7912</th>\n",
              "      <td>0</td>\n",
              "    </tr>\n",
              "  </tbody>\n",
              "</table>\n",
              "<p>7913 rows × 1 columns</p>\n",
              "</div>"
            ],
            "text/plain": [
              "      0\n",
              "0     0\n",
              "1     0\n",
              "2     0\n",
              "3     0\n",
              "4     0\n",
              "...  ..\n",
              "7908  0\n",
              "7909  0\n",
              "7910  0\n",
              "7911  0\n",
              "7912  0\n",
              "\n",
              "[7913 rows x 1 columns]"
            ]
          },
          "metadata": {
            "tags": []
          },
          "execution_count": 334
        }
      ]
    },
    {
      "cell_type": "code",
      "metadata": {
        "id": "PVzAv7FlhZNP",
        "colab_type": "code",
        "colab": {
          "base_uri": "https://localhost:8080/",
          "height": 439
        },
        "outputId": "a2e8ce33-8a5b-43d5-f83c-0dee427203eb"
      },
      "source": [
        "No = np.array(range(7913))\n",
        "df_y_2020['No'] = No\n",
        "df_2020['No'] = No\n",
        "df_2020_pred= pd.DataFrame.merge(df_2020, df_y_2020)\n",
        "df_2020_pred.rename(columns ={0:'dano_na_plantacao '}, inplace = True)\n",
        "df_2020_pred.drop('No', axis = 1, inplace = True)\n",
        "\n",
        "df_2020_pred"
      ],
      "execution_count": 335,
      "outputs": [
        {
          "output_type": "execute_result",
          "data": {
            "text/html": [
              "<div>\n",
              "<style scoped>\n",
              "    .dataframe tbody tr th:only-of-type {\n",
              "        vertical-align: middle;\n",
              "    }\n",
              "\n",
              "    .dataframe tbody tr th {\n",
              "        vertical-align: top;\n",
              "    }\n",
              "\n",
              "    .dataframe thead th {\n",
              "        text-align: right;\n",
              "    }\n",
              "</style>\n",
              "<table border=\"1\" class=\"dataframe\">\n",
              "  <thead>\n",
              "    <tr style=\"text-align: right;\">\n",
              "      <th></th>\n",
              "      <th>Identificador_Agricultor</th>\n",
              "      <th>Estimativa_de_Insetos</th>\n",
              "      <th>Tipo_de_Cultivo</th>\n",
              "      <th>Tipo_de_Solo</th>\n",
              "      <th>Categoria_Pesticida</th>\n",
              "      <th>Doses_Semana</th>\n",
              "      <th>Semanas_Utilizando</th>\n",
              "      <th>Semanas_Sem_Uso</th>\n",
              "      <th>Temporada</th>\n",
              "      <th>dano_na_plantacao</th>\n",
              "    </tr>\n",
              "  </thead>\n",
              "  <tbody>\n",
              "    <tr>\n",
              "      <th>0</th>\n",
              "      <td>SCROP80001</td>\n",
              "      <td>256</td>\n",
              "      <td>0</td>\n",
              "      <td>1</td>\n",
              "      <td>2</td>\n",
              "      <td>35</td>\n",
              "      <td>11.0</td>\n",
              "      <td>9</td>\n",
              "      <td>1</td>\n",
              "      <td>0</td>\n",
              "    </tr>\n",
              "    <tr>\n",
              "      <th>1</th>\n",
              "      <td>SCROP80002</td>\n",
              "      <td>283</td>\n",
              "      <td>0</td>\n",
              "      <td>1</td>\n",
              "      <td>2</td>\n",
              "      <td>5</td>\n",
              "      <td>5.0</td>\n",
              "      <td>6</td>\n",
              "      <td>1</td>\n",
              "      <td>0</td>\n",
              "    </tr>\n",
              "    <tr>\n",
              "      <th>2</th>\n",
              "      <td>SCROP80003</td>\n",
              "      <td>283</td>\n",
              "      <td>0</td>\n",
              "      <td>1</td>\n",
              "      <td>2</td>\n",
              "      <td>15</td>\n",
              "      <td>15.0</td>\n",
              "      <td>5</td>\n",
              "      <td>2</td>\n",
              "      <td>0</td>\n",
              "    </tr>\n",
              "    <tr>\n",
              "      <th>3</th>\n",
              "      <td>SCROP80005</td>\n",
              "      <td>283</td>\n",
              "      <td>0</td>\n",
              "      <td>1</td>\n",
              "      <td>2</td>\n",
              "      <td>15</td>\n",
              "      <td>19.0</td>\n",
              "      <td>2</td>\n",
              "      <td>1</td>\n",
              "      <td>0</td>\n",
              "    </tr>\n",
              "    <tr>\n",
              "      <th>4</th>\n",
              "      <td>SCROP80006</td>\n",
              "      <td>283</td>\n",
              "      <td>0</td>\n",
              "      <td>1</td>\n",
              "      <td>2</td>\n",
              "      <td>30</td>\n",
              "      <td>11.0</td>\n",
              "      <td>7</td>\n",
              "      <td>3</td>\n",
              "      <td>0</td>\n",
              "    </tr>\n",
              "    <tr>\n",
              "      <th>...</th>\n",
              "      <td>...</td>\n",
              "      <td>...</td>\n",
              "      <td>...</td>\n",
              "      <td>...</td>\n",
              "      <td>...</td>\n",
              "      <td>...</td>\n",
              "      <td>...</td>\n",
              "      <td>...</td>\n",
              "      <td>...</td>\n",
              "      <td>...</td>\n",
              "    </tr>\n",
              "    <tr>\n",
              "      <th>7908</th>\n",
              "      <td>SCROP88854</td>\n",
              "      <td>3337</td>\n",
              "      <td>1</td>\n",
              "      <td>0</td>\n",
              "      <td>2</td>\n",
              "      <td>10</td>\n",
              "      <td>12.0</td>\n",
              "      <td>44</td>\n",
              "      <td>3</td>\n",
              "      <td>0</td>\n",
              "    </tr>\n",
              "    <tr>\n",
              "      <th>7909</th>\n",
              "      <td>SCROP88855</td>\n",
              "      <td>3516</td>\n",
              "      <td>1</td>\n",
              "      <td>0</td>\n",
              "      <td>2</td>\n",
              "      <td>10</td>\n",
              "      <td>20.0</td>\n",
              "      <td>38</td>\n",
              "      <td>1</td>\n",
              "      <td>0</td>\n",
              "    </tr>\n",
              "    <tr>\n",
              "      <th>7910</th>\n",
              "      <td>SCROP88856</td>\n",
              "      <td>3516</td>\n",
              "      <td>1</td>\n",
              "      <td>0</td>\n",
              "      <td>2</td>\n",
              "      <td>15</td>\n",
              "      <td>40.0</td>\n",
              "      <td>8</td>\n",
              "      <td>2</td>\n",
              "      <td>0</td>\n",
              "    </tr>\n",
              "    <tr>\n",
              "      <th>7911</th>\n",
              "      <td>SCROP88857</td>\n",
              "      <td>3702</td>\n",
              "      <td>1</td>\n",
              "      <td>0</td>\n",
              "      <td>2</td>\n",
              "      <td>10</td>\n",
              "      <td>25.0</td>\n",
              "      <td>18</td>\n",
              "      <td>3</td>\n",
              "      <td>0</td>\n",
              "    </tr>\n",
              "    <tr>\n",
              "      <th>7912</th>\n",
              "      <td>SCROP88858</td>\n",
              "      <td>3895</td>\n",
              "      <td>1</td>\n",
              "      <td>0</td>\n",
              "      <td>2</td>\n",
              "      <td>20</td>\n",
              "      <td>37.0</td>\n",
              "      <td>7</td>\n",
              "      <td>3</td>\n",
              "      <td>0</td>\n",
              "    </tr>\n",
              "  </tbody>\n",
              "</table>\n",
              "<p>7913 rows × 10 columns</p>\n",
              "</div>"
            ],
            "text/plain": [
              "     Identificador_Agricultor  ...  dano_na_plantacao \n",
              "0                  SCROP80001  ...                   0\n",
              "1                  SCROP80002  ...                   0\n",
              "2                  SCROP80003  ...                   0\n",
              "3                  SCROP80005  ...                   0\n",
              "4                  SCROP80006  ...                   0\n",
              "...                       ...  ...                 ...\n",
              "7908               SCROP88854  ...                   0\n",
              "7909               SCROP88855  ...                   0\n",
              "7910               SCROP88856  ...                   0\n",
              "7911               SCROP88857  ...                   0\n",
              "7912               SCROP88858  ...                   0\n",
              "\n",
              "[7913 rows x 10 columns]"
            ]
          },
          "metadata": {
            "tags": []
          },
          "execution_count": 335
        }
      ]
    },
    {
      "cell_type": "code",
      "metadata": {
        "id": "YDiolBY8Ixv4",
        "colab_type": "code",
        "colab": {}
      },
      "source": [
        "from sklearn.externals.six import StringIO\n",
        "import pydotplus\n",
        "import matplotlib.image as mpimg\n",
        "from sklearn import tree\n",
        "%matplotlib inline\n"
      ],
      "execution_count": 337,
      "outputs": []
    },
    {
      "cell_type": "code",
      "metadata": {
        "id": "8zlNLI3CJt4v",
        "colab_type": "code",
        "colab": {
          "base_uri": "https://localhost:8080/",
          "height": 367
        },
        "outputId": "6dc3078c-f896-48f9-8beb-c9534538de8b"
      },
      "source": [
        "tree.plot_tree(danoTree)"
      ],
      "execution_count": 338,
      "outputs": [
        {
          "output_type": "execute_result",
          "data": {
            "text/plain": [
              "[Text(167.4, 181.2, 'X[5] <= 39.5\\ngini = 0.283\\nsamples = 53958\\nvalue = [45033, 7575, 1350]'),\n",
              " Text(83.7, 108.72, 'X[3] <= 1.5\\ngini = 0.212\\nsamples = 42598\\nvalue = [37536, 4463, 599]'),\n",
              " Text(41.85, 36.23999999999998, 'gini = 0.494\\nsamples = 500\\nvalue = [71, 336, 93]'),\n",
              " Text(125.55000000000001, 36.23999999999998, 'gini = 0.198\\nsamples = 42098\\nvalue = [37465, 4127, 506]'),\n",
              " Text(251.10000000000002, 108.72, 'X[3] <= 2.5\\ngini = 0.485\\nsamples = 11360\\nvalue = [7497, 3112, 751]'),\n",
              " Text(209.25, 36.23999999999998, 'gini = 0.353\\nsamples = 5599\\nvalue = [4381, 1030, 188]'),\n",
              " Text(292.95, 36.23999999999998, 'gini = 0.567\\nsamples = 5761\\nvalue = [3116, 2082, 563]')]"
            ]
          },
          "metadata": {
            "tags": []
          },
          "execution_count": 338
        },
        {
          "output_type": "display_data",
          "data": {
            "image/png": "[encoded data removed]",
            "text/plain": [
              "<Figure size 432x288 with 1 Axes>"
            ]
          },
          "metadata": {
            "tags": [],
            "needs_background": "light"
          }
        }
      ]
    },
    {
      "cell_type": "code",
      "metadata": {
        "id": "qGf7Abv2KAZB",
        "colab_type": "code",
        "colab": {
          "base_uri": "https://localhost:8080/",
          "height": 937
        },
        "outputId": "52813ee4-a847-4ec3-b5b8-09b9c9be03c9"
      },
      "source": [
        "fn=['Estimativa_de_Insetos','Tipo_de_Cultivo','Tipo_de_Solo',\n",
        "                  'Categoria_Pesticida','Doses_Semana','Semanas_Utilizando',\n",
        "                  'Semanas_Sem_Uso','Temporada']\n",
        "cn=['0', '1', '2']\n",
        "fig, axes = plt.subplots(nrows = 1,ncols = 1,figsize = (4,4), dpi=300)\n",
        "tree.plot_tree(danoTree,\n",
        "               feature_names = fn, \n",
        "               class_names=cn,\n",
        "               filled = True);\n",
        "fig.savefig('danoTree.png')"
      ],
      "execution_count": 339,
      "outputs": [
        {
          "output_type": "display_data",
          "data": {
            "image/png": "[encoded data removed]",
            "text/plain": [
              "<Figure size 1200x1200 with 1 Axes>"
            ]
          },
          "metadata": {
            "tags": [],
            "needs_background": "light"
          }
        }
      ]
    },
    {
      "cell_type": "markdown",
      "metadata": {
        "id": "fSiFBu1ELanM",
        "colab_type": "text"
      },
      "source": [
        "#Modelagem 2020"
      ]
    },
    {
      "cell_type": "code",
      "metadata": {
        "id": "74ksHwH6NJSx",
        "colab_type": "code",
        "colab": {
          "base_uri": "https://localhost:8080/",
          "height": 119
        },
        "outputId": "fdd78ab6-a194-485c-98e7-941255b02a52"
      },
      "source": [
        "#danoTree = DecisionTreeClassifier(criterion=\"entropy\", max_depth = 4)\n",
        "danoTree2020 = DecisionTreeClassifier(max_depth = 7, random_state = 0)\n",
        "\n",
        "danoTree2020.fit(X_trainset2020, y_2020)"
      ],
      "execution_count": 344,
      "outputs": [
        {
          "output_type": "execute_result",
          "data": {
            "text/plain": [
              "DecisionTreeClassifier(ccp_alpha=0.0, class_weight=None, criterion='gini',\n",
              "                       max_depth=7, max_features=None, max_leaf_nodes=None,\n",
              "                       min_impurity_decrease=0.0, min_impurity_split=None,\n",
              "                       min_samples_leaf=1, min_samples_split=2,\n",
              "                       min_weight_fraction_leaf=0.0, presort='deprecated',\n",
              "                       random_state=0, splitter='best')"
            ]
          },
          "metadata": {
            "tags": []
          },
          "execution_count": 344
        }
      ]
    },
    {
      "cell_type": "code",
      "metadata": {
        "id": "IHFhkoQQNYQh",
        "colab_type": "code",
        "colab": {
          "base_uri": "https://localhost:8080/",
          "height": 937
        },
        "outputId": "e208c8bf-7af4-49ee-c2d5-38c5ce236430"
      },
      "source": [
        "fn2=['Estimativa_de_Insetos','Tipo_de_Cultivo','Tipo_de_Solo',\n",
        "                  'Categoria_Pesticida','Doses_Semana','Semanas_Utilizando',\n",
        "                  'Semanas_Sem_Uso','Temporada']\n",
        "cn2=['0', '1', '2']\n",
        "fig, axes = plt.subplots(nrows = 1,ncols = 1,figsize = (4,4), dpi=300)\n",
        "tree.plot_tree(danoTree2020,\n",
        "               feature_names = fn2, \n",
        "               class_names=cn2,\n",
        "               filled = True);\n",
        "fig.savefig('danoTree2020.png')"
      ],
      "execution_count": 345,
      "outputs": [
        {
          "output_type": "display_data",
          "data": {
            "image/png": "[encoded data removed]",
            "text/plain": [
              "<Figure size 1200x1200 with 1 Axes>"
            ]
          },
          "metadata": {
            "tags": [],
            "needs_background": "light"
          }
        }
      ]
    },
    {
      "cell_type": "markdown",
      "metadata": {
        "id": "z3qrP2t7PNiT",
        "colab_type": "text"
      },
      "source": [
        "Como pode ser observado, para a previsão de 2020 estima-se que **65** das plantações terão **danos por outros motivos**, enquanto **7848** estarão **sem danos**."
      ]
    }
  ]
}